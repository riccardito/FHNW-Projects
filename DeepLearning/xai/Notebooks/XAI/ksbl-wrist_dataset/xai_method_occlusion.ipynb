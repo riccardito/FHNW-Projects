{
 "cells": [
  {
   "cell_type": "markdown",
   "metadata": {
    "pycharm": {
     "name": "#%% md\n"
    }
   },
   "source": [
    "# Untersuchung von XAI Methoden\n",
    "\n",
    "Hier wird untersucht was Ergebnisse der XAI Methoden mit dem Alexnet sind. Für XAI gibt es eine gute Library namens Captum. Captum bietet eine vielzahl von Methoden an."
   ]
  },
  {
   "cell_type": "markdown",
   "metadata": {
    "pycharm": {
     "name": "#%% md\n"
    }
   },
   "source": [
    "## 0. Model und Libraries laden\n"
   ]
  },
  {
   "cell_type": "code",
   "execution_count": 4,
   "metadata": {
    "pycharm": {
     "name": "#%%\n"
    }
   },
   "outputs": [],
   "source": [
    "import torch\n",
    "import torch.nn.functional as F\n",
    "import numpy as np\n",
    "from matplotlib.colors import LinearSegmentedColormap\n",
    "from torchvision import transforms\n",
    "import pandas as pd\n",
    "from random import randint\n",
    "from PIL import Image, ImageOps\n",
    "import os\n",
    "import scipy\n",
    "from PIL import Image\n",
    "import seaborn as sns\n",
    "import matplotlib.pyplot as plt\n",
    "\n",
    "from captum.attr import IntegratedGradients,\\\n",
    "    GradientShap,Occlusion,NoiseTunnel,visualization as viz\n",
    "\n",
    "from monai.networks.nets import DenseNet121\n",
    "from monai.transforms import (\n",
    "    NormalizeIntensity,\n",
    "    EnsureType,\n",
    ")\n",
    "import torch\n",
    "\n",
    "from torchvision.transforms import transforms\n",
    "\n",
    "torch.manual_seed(0)\n",
    "np.random.seed(0)\n",
    "\n",
    "\n",
    "import warnings\n",
    "warnings.filterwarnings(\"ignore\")\n",
    "\n",
    "\n",
    "import os\n",
    "\n",
    "data_path = \"../../../data/xai/ksbl/\""
   ]
  },
  {
   "cell_type": "code",
   "execution_count": 7,
   "outputs": [
    {
     "data": {
      "text/plain": "338"
     },
     "execution_count": 7,
     "metadata": {},
     "output_type": "execute_result"
    }
   ],
   "source": [
    "_sample = os.listdir(\"../../../data/xai/ksbl/occlusion_heat2\")[0]\n",
    "_sample\n",
    "_im_ = Image.open(\"../../../data/xai/ksbl/occlusion_heat2/\"+_sample)\n",
    "im_size = _im_.size[0]\n",
    "im_size"
   ],
   "metadata": {
    "collapsed": false,
    "pycharm": {
     "name": "#%%\n"
    }
   }
  },
  {
   "cell_type": "code",
   "execution_count": 8,
   "outputs": [],
   "source": [
    "ind = []\n",
    "dfo = pd.DataFrame()\n",
    "dfo_l = []\n",
    "for i in os.listdir(data_path+\"val\"):\n",
    "    if not os.stat(data_path+\"val/\"+i).st_size or i[-3:]==\"jpg\":\n",
    "        continue\n",
    "    else :\n",
    "        ind.append(i)\n",
    "        im_s = data_path+\"val/\" + i[:-3] + \"jpg\"\n",
    "        im = Image.open(im_s)\n",
    "        dft = pd.read_table(data_path+\"val/\"+i, header=None, delimiter=' ',encoding='latin1').iloc[:,1:]\n",
    "        dft = dft.rename(columns={1: \"x\", 2: \"y\",3:\"w\",4:\"h\"})\n",
    "        dft[\"x\"] = dft[\"x\"]*im_size\n",
    "        dft[\"y\"] = dft[\"y\"]*im_size\n",
    "        dft[\"w\"] = dft[\"w\"]*im_size\n",
    "        dft[\"h\"] = dft[\"h\"]*im_size\n",
    "        dft[\"cx\"] = dft[\"x\"]\n",
    "        dft[\"cy\"] = dft[\"y\"]\n",
    "        #edge in left corner\n",
    "        dft[\"x\"] = dft[\"x\"] - dft[\"w\"]/2\n",
    "        dft[\"y\"] = dft[\"y\"] - dft[\"h\"]/2\n",
    "        dft[\"path\"] = i\n",
    "        dfo_l.append(dft)\n",
    "\n",
    "dfoo = pd.concat(dfo_l)\n",
    "dfoo = dfoo.reset_index().iloc[:,1:]\n",
    "dfoo[\"path\"] = dfoo[\"path\"].str.replace(\"txt\",\"jpg\")\n",
    "dfoo[[\"x\",\"y\",\"w\",\"h\",\"cx\",\"cy\"]] = dfoo[[\"x\",\"y\",\"w\",\"h\",\"cx\",\"cy\"]].astype(int)\n"
   ],
   "metadata": {
    "collapsed": false,
    "pycharm": {
     "name": "#%%\n"
    }
   }
  },
  {
   "cell_type": "code",
   "execution_count": 9,
   "outputs": [
    {
     "data": {
      "text/plain": "       x    y    w    h   cx   cy                               path\n0     51   89  100   45  102  111                      AugFx8_dp.jpg\n1    120   93   95   46  167  117                      DezFx4_dp.jpg\n2     53  136  181   80  144  176                      DezFx4_dp.jpg\n3     76   92   91   59  122  121                      DezFx6_dp.jpg\n4     81  132  108   36  135  151                      DezFx6_dp.jpg\n..   ...  ...  ...  ...  ...  ...                                ...\n177  111  153   94  146  159  226   AprilFx33(dia-metaphysar)_dp.jpg\n178  125  292    2    3  126  294   AprilFx33(dia-metaphysar)_dp.jpg\n179  127  293   25   28  139  308   AprilFx33(dia-metaphysar)_dp.jpg\n180   35  172  151   29  110  187  JanFx24(SchraubenMCII,III)_dp.jpg\n181   42  251   99   51   92  277  JuniFx25(Wulst_Fx,Schiene)_dp.jpg\n\n[182 rows x 7 columns]",
      "text/html": "<div>\n<style scoped>\n    .dataframe tbody tr th:only-of-type {\n        vertical-align: middle;\n    }\n\n    .dataframe tbody tr th {\n        vertical-align: top;\n    }\n\n    .dataframe thead th {\n        text-align: right;\n    }\n</style>\n<table border=\"1\" class=\"dataframe\">\n  <thead>\n    <tr style=\"text-align: right;\">\n      <th></th>\n      <th>x</th>\n      <th>y</th>\n      <th>w</th>\n      <th>h</th>\n      <th>cx</th>\n      <th>cy</th>\n      <th>path</th>\n    </tr>\n  </thead>\n  <tbody>\n    <tr>\n      <th>0</th>\n      <td>51</td>\n      <td>89</td>\n      <td>100</td>\n      <td>45</td>\n      <td>102</td>\n      <td>111</td>\n      <td>AugFx8_dp.jpg</td>\n    </tr>\n    <tr>\n      <th>1</th>\n      <td>120</td>\n      <td>93</td>\n      <td>95</td>\n      <td>46</td>\n      <td>167</td>\n      <td>117</td>\n      <td>DezFx4_dp.jpg</td>\n    </tr>\n    <tr>\n      <th>2</th>\n      <td>53</td>\n      <td>136</td>\n      <td>181</td>\n      <td>80</td>\n      <td>144</td>\n      <td>176</td>\n      <td>DezFx4_dp.jpg</td>\n    </tr>\n    <tr>\n      <th>3</th>\n      <td>76</td>\n      <td>92</td>\n      <td>91</td>\n      <td>59</td>\n      <td>122</td>\n      <td>121</td>\n      <td>DezFx6_dp.jpg</td>\n    </tr>\n    <tr>\n      <th>4</th>\n      <td>81</td>\n      <td>132</td>\n      <td>108</td>\n      <td>36</td>\n      <td>135</td>\n      <td>151</td>\n      <td>DezFx6_dp.jpg</td>\n    </tr>\n    <tr>\n      <th>...</th>\n      <td>...</td>\n      <td>...</td>\n      <td>...</td>\n      <td>...</td>\n      <td>...</td>\n      <td>...</td>\n      <td>...</td>\n    </tr>\n    <tr>\n      <th>177</th>\n      <td>111</td>\n      <td>153</td>\n      <td>94</td>\n      <td>146</td>\n      <td>159</td>\n      <td>226</td>\n      <td>AprilFx33(dia-metaphysar)_dp.jpg</td>\n    </tr>\n    <tr>\n      <th>178</th>\n      <td>125</td>\n      <td>292</td>\n      <td>2</td>\n      <td>3</td>\n      <td>126</td>\n      <td>294</td>\n      <td>AprilFx33(dia-metaphysar)_dp.jpg</td>\n    </tr>\n    <tr>\n      <th>179</th>\n      <td>127</td>\n      <td>293</td>\n      <td>25</td>\n      <td>28</td>\n      <td>139</td>\n      <td>308</td>\n      <td>AprilFx33(dia-metaphysar)_dp.jpg</td>\n    </tr>\n    <tr>\n      <th>180</th>\n      <td>35</td>\n      <td>172</td>\n      <td>151</td>\n      <td>29</td>\n      <td>110</td>\n      <td>187</td>\n      <td>JanFx24(SchraubenMCII,III)_dp.jpg</td>\n    </tr>\n    <tr>\n      <th>181</th>\n      <td>42</td>\n      <td>251</td>\n      <td>99</td>\n      <td>51</td>\n      <td>92</td>\n      <td>277</td>\n      <td>JuniFx25(Wulst_Fx,Schiene)_dp.jpg</td>\n    </tr>\n  </tbody>\n</table>\n<p>182 rows × 7 columns</p>\n</div>"
     },
     "execution_count": 9,
     "metadata": {},
     "output_type": "execute_result"
    }
   ],
   "source": [
    "dfoo"
   ],
   "metadata": {
    "collapsed": false,
    "pycharm": {
     "name": "#%%\n"
    }
   }
  },
  {
   "cell_type": "code",
   "execution_count": 10,
   "outputs": [],
   "source": [
    "t = []\n",
    "for i in range(len(dfoo)):\n",
    "    #im_   = Image.open(\"val/\"+dfoo[\"path\"][i])\n",
    "    t_in  = np.ones((im_size,im_size))\n",
    "    x = dfoo[\"x\"][i]\n",
    "    y = dfoo[\"y\"][i]\n",
    "    w = dfoo[\"w\"][i]\n",
    "    h = dfoo[\"h\"][i]\n",
    "    t_in[y:y+h,x:x+w]=np.zeros((h,w))\n",
    "    t.append(t_in)"
   ],
   "metadata": {
    "collapsed": false,
    "pycharm": {
     "name": "#%%\n"
    }
   }
  },
  {
   "cell_type": "code",
   "execution_count": 11,
   "outputs": [],
   "source": [
    "dfoo[\"in\"]  = t"
   ],
   "metadata": {
    "collapsed": false,
    "pycharm": {
     "name": "#%%\n"
    }
   }
  },
  {
   "cell_type": "code",
   "execution_count": 12,
   "outputs": [],
   "source": [
    "li = dfoo[\"path\"].unique().tolist()\n",
    "lis = []\n",
    "for s in li:\n",
    "    arr = dfoo[dfoo[\"path\"]==s][\"in\"].sum()\n",
    "    arr = arr/len(dfoo[dfoo[\"path\"]==s])\n",
    "    arr = np.rint(arr)\n",
    "    lis.append(arr)\n",
    "df_f = pd.DataFrame({\"path\":li})\n",
    "df_f[\"in\"] = lis"
   ],
   "metadata": {
    "collapsed": false,
    "pycharm": {
     "name": "#%%\n"
    }
   }
  },
  {
   "cell_type": "code",
   "execution_count": 13,
   "outputs": [
    {
     "data": {
      "text/plain": "<AxesSubplot:>"
     },
     "execution_count": 13,
     "metadata": {},
     "output_type": "execute_result"
    },
    {
     "data": {
      "text/plain": "<Figure size 432x288 with 2 Axes>",
      "image/png": "[encoded data removed]"
     },
     "metadata": {},
     "output_type": "display_data"
    }
   ],
   "source": [
    "import seaborn as sns\n",
    "sns.heatmap(df_f[\"in\"][7])"
   ],
   "metadata": {
    "collapsed": false,
    "pycharm": {
     "name": "#%%\n"
    }
   }
  },
  {
   "cell_type": "markdown",
   "source": [
    "5 verschiedene Modelle laden, mit verschiedenen Initialisierungsseeds"
   ],
   "metadata": {
    "collapsed": false,
    "pycharm": {
     "name": "#%% md\n"
    }
   }
  },
  {
   "cell_type": "code",
   "execution_count": 8,
   "outputs": [],
   "source": [
    "data_path = \"../../../data/\"\n",
    "models_path = \"model/\"\n",
    "img_path = \"data/flattened_flipped_cropped/\"\n",
    "#file deleted; FebFx32_dp.jpg"
   ],
   "metadata": {
    "collapsed": false,
    "pycharm": {
     "name": "#%%\n"
    }
   }
  },
  {
   "cell_type": "code",
   "execution_count": 9,
   "outputs": [],
   "source": [
    "models_folder = os.listdir(models_path)"
   ],
   "metadata": {
    "collapsed": false,
    "pycharm": {
     "name": "#%%\n"
    }
   }
  },
  {
   "cell_type": "code",
   "execution_count": 10,
   "outputs": [
    {
     "name": "stdout",
     "output_type": "stream",
     "text": [
      "DenseNet121_LR0.0019419338184479603_CRFocal Loss_TRAugment_Normalize_OPAdamW_BS10_EP50__ID_fffbf128-4ac7-4582-9e14-b8dd6de281cf_22.pth\n",
      "DenseNet121_LR0.0019676087078530735_CRFocal Loss_TRAugment_Normalize_OPAdamW_BS12_EP40__ID_02927019-cdb7-4c2e-82c0-4523867cac74.pth\n"
     ]
    }
   ],
   "source": [
    "model_list = []\n",
    "for mo in models_folder:\n",
    "    print(mo)\n",
    "    model = DenseNet121(spatial_dims=2, in_channels=1, out_channels=2, pretrained=False).to(\"cpu\")\n",
    "    try:\n",
    "        model.load_state_dict(torch.load(models_path+ f\"{mo}\",map_location=torch.device('cpu'))['model_state_dict'])\n",
    "    except:\n",
    "        model.load_state_dict(torch.load(models_path+ f\"{mo}\",map_location=torch.device('cpu')))\n",
    "    model.eval()\n",
    "    model_list.append(model)\n",
    "    del model"
   ],
   "metadata": {
    "collapsed": false,
    "pycharm": {
     "name": "#%%\n"
    }
   }
  },
  {
   "cell_type": "code",
   "execution_count": 12,
   "outputs": [],
   "source": [
    "transform2 = transforms.Compose(\n",
    "        [\n",
    "            transforms.PILToTensor(),\n",
    "            NormalizeIntensity(),\n",
    "            EnsureType(),\n",
    "            transforms.Grayscale(num_output_channels=1),\n",
    "            transforms.Resize((512, 512))])"
   ],
   "metadata": {
    "collapsed": false,
    "pycharm": {
     "name": "#%%\n"
    }
   }
  },
  {
   "cell_type": "markdown",
   "source": [
    "## 1.0 Datensatz lesen"
   ],
   "metadata": {
    "collapsed": false,
    "pycharm": {
     "name": "#%% md\n"
    }
   }
  },
  {
   "cell_type": "code",
   "execution_count": 13,
   "metadata": {
    "pycharm": {
     "name": "#%%\n"
    }
   },
   "outputs": [],
   "source": [
    "# load the image from filtered Dataset\n",
    "df = pd.read_csv(\"data/binary_annotations.csv\")\n",
    "sample_0 = df[df['target']==0].sample(1)[\"filenames\"].tolist()[0]\n",
    "sample_1 = df[df['target']==1].sample(1)[\"filenames\"].tolist()[0]"
   ]
  },
  {
   "cell_type": "code",
   "execution_count": 14,
   "outputs": [
    {
     "data": {
      "text/plain": "     Unnamed: 0               filenames  target\n0             0  3DSchienenGes10_dp.jpg       0\n1             1  3DSchienenGes11_dp.jpg       0\n2             2  3DSchienenGes12_dp.jpg       0\n3             3  3DSchienenGes13_dp.jpg       0\n4             4  3DSchienenGes14_dp.jpg       0\n..          ...                     ...     ...\n668         668          SeptFx5_dp.jpg       1\n669         669   SeptFx6(SH-Fx)_dp.jpg       1\n670         670          SeptFx7_dp.jpg       1\n671         671          SeptFx8_dp.jpg       1\n672         672          SeptFx9_dp.jpg       1\n\n[673 rows x 3 columns]",
      "text/html": "<div>\n<style scoped>\n    .dataframe tbody tr th:only-of-type {\n        vertical-align: middle;\n    }\n\n    .dataframe tbody tr th {\n        vertical-align: top;\n    }\n\n    .dataframe thead th {\n        text-align: right;\n    }\n</style>\n<table border=\"1\" class=\"dataframe\">\n  <thead>\n    <tr style=\"text-align: right;\">\n      <th></th>\n      <th>Unnamed: 0</th>\n      <th>filenames</th>\n      <th>target</th>\n    </tr>\n  </thead>\n  <tbody>\n    <tr>\n      <th>0</th>\n      <td>0</td>\n      <td>3DSchienenGes10_dp.jpg</td>\n      <td>0</td>\n    </tr>\n    <tr>\n      <th>1</th>\n      <td>1</td>\n      <td>3DSchienenGes11_dp.jpg</td>\n      <td>0</td>\n    </tr>\n    <tr>\n      <th>2</th>\n      <td>2</td>\n      <td>3DSchienenGes12_dp.jpg</td>\n      <td>0</td>\n    </tr>\n    <tr>\n      <th>3</th>\n      <td>3</td>\n      <td>3DSchienenGes13_dp.jpg</td>\n      <td>0</td>\n    </tr>\n    <tr>\n      <th>4</th>\n      <td>4</td>\n      <td>3DSchienenGes14_dp.jpg</td>\n      <td>0</td>\n    </tr>\n    <tr>\n      <th>...</th>\n      <td>...</td>\n      <td>...</td>\n      <td>...</td>\n    </tr>\n    <tr>\n      <th>668</th>\n      <td>668</td>\n      <td>SeptFx5_dp.jpg</td>\n      <td>1</td>\n    </tr>\n    <tr>\n      <th>669</th>\n      <td>669</td>\n      <td>SeptFx6(SH-Fx)_dp.jpg</td>\n      <td>1</td>\n    </tr>\n    <tr>\n      <th>670</th>\n      <td>670</td>\n      <td>SeptFx7_dp.jpg</td>\n      <td>1</td>\n    </tr>\n    <tr>\n      <th>671</th>\n      <td>671</td>\n      <td>SeptFx8_dp.jpg</td>\n      <td>1</td>\n    </tr>\n    <tr>\n      <th>672</th>\n      <td>672</td>\n      <td>SeptFx9_dp.jpg</td>\n      <td>1</td>\n    </tr>\n  </tbody>\n</table>\n<p>673 rows × 3 columns</p>\n</div>"
     },
     "execution_count": 14,
     "metadata": {},
     "output_type": "execute_result"
    }
   ],
   "source": [
    "df"
   ],
   "metadata": {
    "collapsed": false,
    "pycharm": {
     "name": "#%%\n"
    }
   }
  },
  {
   "cell_type": "markdown",
   "source": [
    "### 1.1 transform images"
   ],
   "metadata": {
    "collapsed": false,
    "pycharm": {
     "name": "#%% md\n"
    }
   }
  },
  {
   "cell_type": "code",
   "execution_count": 15,
   "outputs": [],
   "source": [
    "transform = transforms.Compose(\n",
    "        [\n",
    "         transforms.Grayscale(num_output_channels=1),\n",
    "         transforms.Resize(512),\n",
    "         transforms.ToTensor(),\n",
    "         ]\n",
    "    )\n",
    "\n",
    "transform_normalize = transforms.Normalize(\n",
    "     mean=0.5,\n",
    "     std=0.5\n",
    " )"
   ],
   "metadata": {
    "collapsed": false,
    "pycharm": {
     "name": "#%%\n"
    }
   }
  },
  {
   "cell_type": "code",
   "execution_count": 16,
   "metadata": {
    "pycharm": {
     "name": "#%%\n"
    }
   },
   "outputs": [],
   "source": [
    "def load_image(path,model):\n",
    "    img = Image.open(img_path + path)\n",
    "    transformed_img = transform2(img)\n",
    "\n",
    "    input = transform_normalize(transformed_img)\n",
    "    input = input.unsqueeze(0)\n",
    "\n",
    "    output = model(input)\n",
    "    output = F.softmax(output, dim=1)\n",
    "    prediction_score, pred_label_idx = torch.topk(output, 1)\n",
    "\n",
    "    pred_label_idx.squeeze_()\n",
    "    print(\"path      = \",path)\n",
    "    truth_label_idx  =  df[df['filenames']==path]['target'].tolist()[0]\n",
    "    print(\"Truth     =\",truth_label_idx)\n",
    "    print('Predicted =', pred_label_idx.item(), '(with score of', prediction_score.squeeze().item(), ')')\n",
    "    return {\"input\" :input,\n",
    "             \"output\":output,\n",
    "             \"pred_label_idx\":pred_label_idx.item(),\n",
    "             \"truth_label_idx\":truth_label_idx,\n",
    "             \"transformed_img\":transformed_img\n",
    "             }"
   ]
  },
  {
   "cell_type": "markdown",
   "source": [
    "Testen von load_image"
   ],
   "metadata": {
    "collapsed": false,
    "pycharm": {
     "name": "#%% md\n"
    }
   }
  },
  {
   "cell_type": "code",
   "execution_count": 17,
   "metadata": {
    "pycharm": {
     "name": "#%%\n"
    }
   },
   "outputs": [
    {
     "name": "stdout",
     "output_type": "stream",
     "text": [
      "path      =  DezGes61_dp.jpg\n",
      "Truth     = 0\n",
      "Predicted = 1 (with score of 0.5686640739440918 )\n"
     ]
    }
   ],
   "source": [
    "sample_0_results = load_image(sample_0,model_list[1])"
   ]
  },
  {
   "cell_type": "code",
   "execution_count": 18,
   "metadata": {
    "pycharm": {
     "name": "#%%\n"
    }
   },
   "outputs": [
    {
     "name": "stdout",
     "output_type": "stream",
     "text": [
      "path      =  AprilFx20_dp.jpg\n",
      "Truth     = 1\n",
      "Predicted = 1 (with score of 0.5685049891471863 )\n"
     ]
    }
   ],
   "source": [
    "sample_1_results = load_image(sample_1,model_list[1])"
   ]
  },
  {
   "cell_type": "markdown",
   "source": [
    "## 2.0 Vergleichsmetik"
   ],
   "metadata": {
    "collapsed": false,
    "pycharm": {
     "name": "#%% md\n"
    }
   }
  },
  {
   "cell_type": "code",
   "execution_count": 20,
   "outputs": [],
   "source": [
    "def plot_dist(df,c,h):\n",
    "    df = pd.DataFrame(df)\n",
    "    mx = df.max().max()\n",
    "    mn = df.min().min()\n",
    "    fig = plt.figure(figsize=(20,4))\n",
    "    fig.subplots_adjust(hspace=0.4, wspace=0.4)\n",
    "    for i in range(1,len(model_list)+1):\n",
    "        ax = fig.add_subplot(1, len(model_list), i)\n",
    "        sns.distplot(df[f\"model{i}\"],ax=ax,bins=15,color=c)\n",
    "        ax.set(ylim=(0, h),xlim=(mn,mx))\n",
    "    plt.show()\n"
   ],
   "metadata": {
    "collapsed": false,
    "pycharm": {
     "name": "#%%\n"
    }
   }
  },
  {
   "cell_type": "code",
   "execution_count": 21,
   "outputs": [],
   "source": [
    "def imshow_samples(sample,method):\n",
    "    plt_in = 161\n",
    "    for i in range(1,len(model_list)+1):\n",
    "        igi  = Image.open(data_path + f\"xai/ksbl/{method}/heat_map/model{i}/\" + sample)\n",
    "        plt.subplot(plt_in)\n",
    "        plt.imshow(igi)\n",
    "        plt.axis('off')\n",
    "        plt_in+=1\n",
    "    plt.show()"
   ],
   "metadata": {
    "collapsed": false,
    "pycharm": {
     "name": "#%%\n"
    }
   }
  },
  {
   "cell_type": "markdown",
   "source": [],
   "metadata": {
    "collapsed": false,
    "pycharm": {
     "name": "#%% md\n"
    }
   }
  },
  {
   "cell_type": "markdown",
   "source": [
    "## 5.0 Occlusion SHAP\n",
    "   Okklusion ist ein **störungsbasierter Ansatz** zur Berechnung der Attribution, bei dem jede zusammenhängende rechteckige Region durch eine gegebene Basislinie/Referenz ersetzt wird und die Differenz im Output berechnet wird. Bei Merkmalen, die sich in mehreren Regionen (Hyperrechtecken) befinden, werden die entsprechenden Ausgabedifferenzen gemittelt, um die Attribution für das betreffende Merkmal zu berechnen.\n",
    "   Okklusion ist am nützlichsten in Fällen wie Bildern, wo die Pixel in einer zusammenhängenden rechteckigen Region wahrscheinlich stark korreliert sind.\n"
   ],
   "metadata": {
    "collapsed": false,
    "pycharm": {
     "name": "#%% md\n"
    }
   }
  },
  {
   "cell_type": "markdown",
   "source": [
    "### 5.1 Laden der Captum Funktion"
   ],
   "metadata": {
    "collapsed": false,
    "pycharm": {
     "name": "#%% md\n"
    }
   }
  },
  {
   "cell_type": "code",
   "execution_count": null,
   "outputs": [],
   "source": [
    "def run_occulusion(model,input,pred_label_idx,color,transformed_img,methode = \"heat_map\"):\n",
    "    occlusion = Occlusion(model)\n",
    "    attributions_occ = occlusion.attribute(input,\n",
    "                                           strides = (32),\n",
    "                                           target=pred_label_idx,\n",
    "                                           sliding_window_shapes=(1,60,60),\n",
    "                                           baselines=0)\n",
    "\n",
    "    # create custom colormap for visualizing the result\n",
    "    default_cmap = LinearSegmentedColormap.from_list('custom blue',\n",
    "                                                     [(0, '#ffffff'),\n",
    "                                                      (1, \"red\")], N=256)\n",
    "\n",
    "\n",
    "\n",
    "\n",
    "    p,f = viz.visualize_image_attr_multiple(aaa2,\n",
    "                                          aaa3,\n",
    "                                          methods=[methode],\n",
    "                                          signs=['positive'],\n",
    "                                          cmap=default_cmap,\n",
    "                                          show_colorbar=False,\n",
    "                                          fig_size=(5,5),\n",
    "                                          alpha_overlay=0.5)\n",
    "    return p"
   ],
   "metadata": {
    "collapsed": false,
    "pycharm": {
     "name": "#%%\n"
    }
   }
  },
  {
   "cell_type": "code",
   "execution_count": null,
   "outputs": [],
   "source": [
    "_ = run_occulusion(model_list[0],\n",
    "                        sample_0_results[\"input\"],\n",
    "                        sample_0_results[\"pred_label_idx\"],\n",
    "                        colors[0],\n",
    "                        sample_0_results[\"transformed_img\"],\n",
    "                        methode=\"blended_heat_map\"\n",
    "                        )"
   ],
   "metadata": {
    "collapsed": false,
    "pycharm": {
     "name": "#%%\n"
    }
   }
  },
  {
   "cell_type": "code",
   "execution_count": null,
   "metadata": {
    "pycharm": {
     "name": "#%%\n"
    }
   },
   "outputs": [],
   "source": [
    "#labels = [\"Cardiomaly\", \"Pneomothorax\", ]\n",
    "# load pictures from bbox dataset\n",
    "def save_all_picutures_occlusion(method):\n",
    "    for m in range(len(model_list)):\n",
    "        direcory_xai = f\"../../../data/xai/ksbl/occlusion\"\n",
    "        if not os.path.exists(direcory_xai):\n",
    "            os.makedirs(direcory_xai)\n",
    "        df_results_all    = df.copy()\n",
    "        #results_entropy   = []\n",
    "        results_predicted = []\n",
    "        for i in df[\"filenames\"].tolist():\n",
    "\n",
    "            direcory_method = f\"{direcory_xai}/{method}\"\n",
    "            if not os.path.exists(direcory_method):\n",
    "                os.makedirs(direcory_method)\n",
    "\n",
    "            direcory_model = f\"{direcory_method}/model{m+1}\"\n",
    "            if not os.path.exists(direcory_model):\n",
    "                os.makedirs(direcory_model)\n",
    "\n",
    "            results = load_image(f\"{i}\",model_list[m])\n",
    "            #results_entropy.append(entropy(\"../../../data/Chest/\" + i))\n",
    "            results_predicted.append(results['pred_label_idx'])\n",
    "\n",
    "            p = run_occulusion(model=model_list[m],\n",
    "                                        input=results[\"input\"],\n",
    "                                        pred_label_idx=results[\"pred_label_idx\"],\n",
    "                                        color=colors[results[\"truth_label_idx\"]],\n",
    "                                        transformed_img=results[\"transformed_img\"],\n",
    "                                        methode = method\n",
    "                                        )\n",
    "            p.savefig(f\"{direcory_model}/{i}\", bbox_inches=\"tight\",pad_inches=0)\n",
    "\n",
    "\n",
    "        #df_results_all[\"entropy\"]  = results_entropy\n",
    "        df_results_all[\"predicted\"] = results_predicted\n",
    "        df_results_all.to_csv(f\"../../../data/xai/ksbl/occlusion/heat_map/model{m+1}/results.csv\")"
   ]
  },
  {
   "cell_type": "markdown",
   "source": [
    "### 5.2 Abspeichern der Heatmaps"
   ],
   "metadata": {
    "collapsed": false,
    "pycharm": {
     "name": "#%% md\n"
    }
   }
  },
  {
   "cell_type": "code",
   "execution_count": null,
   "outputs": [],
   "source": [
    "%%capture\n",
    "#save_all_picutures_occlusion(method=\"heat_map\")"
   ],
   "metadata": {
    "collapsed": false,
    "pycharm": {
     "name": "#%%\n"
    }
   }
  },
  {
   "cell_type": "code",
   "execution_count": null,
   "outputs": [],
   "source": [
    "%%capture\n",
    "#save_all_picutures_occlusion(method=\"blended_heat_map\")"
   ],
   "metadata": {
    "collapsed": false,
    "pycharm": {
     "name": "#%%\n"
    }
   }
  },
  {
   "cell_type": "code",
   "execution_count": 14,
   "outputs": [
    {
     "data": {
      "text/plain": "<AxesSubplot:>"
     },
     "execution_count": 14,
     "metadata": {},
     "output_type": "execute_result"
    },
    {
     "data": {
      "text/plain": "<Figure size 432x288 with 2 Axes>",
      "image/png": "[encoded data removed]"
     },
     "metadata": {},
     "output_type": "display_data"
    }
   ],
   "source": [
    "padding = 2\n",
    "\n",
    "\n",
    "def npPadding(a):\n",
    "    a[0:padding] = 0\n",
    "    a[:, 0:padding] = 0\n",
    "    #a[padding * -1:-1] = 0\n",
    "    #a[-1] = 0\n",
    "    #a[:, padding * -1:-1] = 0\n",
    "    #a[:, -1] = 0\n",
    "    return a\n",
    "\n",
    "\n",
    "sns.heatmap(npPadding(np.ones((100, 100))))"
   ],
   "metadata": {
    "collapsed": false,
    "pycharm": {
     "name": "#%%\n"
    }
   }
  },
  {
   "cell_type": "code",
   "execution_count": 23,
   "outputs": [],
   "source": [
    "clist = os.listdir(\"../../../data/xai/ksbl/occlusion_heat2\")\n",
    "#clist = list(filter(lambda x: \"jpg\" in x, clist))"
   ],
   "metadata": {
    "collapsed": false,
    "pycharm": {
     "name": "#%%\n"
    }
   }
  },
  {
   "cell_type": "code",
   "execution_count": 25,
   "outputs": [],
   "source": [
    "def entropy():\n",
    "    entropies = []\n",
    "    for s in clist:\n",
    "        #hier anpassen !!!\n",
    "        img = Image.open(\"../../../data/xai/ksbl/occlusion_heat2/\"+ s)\n",
    "        img = ImageOps.grayscale(img)\n",
    "        img = ImageOps.invert(img)\n",
    "        arr = np.asarray(img)\n",
    "        arr = npPadding(arr)\n",
    "        # Compute normalized histogram -> p(g)\n",
    "        p = np.array([(arr == v).sum() for v in range(256)])\n",
    "        p = p / p.sum()\n",
    "        # Compute e = -sum(p(g)*log2(p(g)))\n",
    "        e = -(p[p > 0] * np.log2(p[p > 0])).sum()\n",
    "        entropies.append(e)\n",
    "    return entropies"
   ],
   "metadata": {
    "collapsed": false,
    "pycharm": {
     "name": "#%%\n"
    }
   }
  },
  {
   "cell_type": "code",
   "execution_count": 26,
   "outputs": [],
   "source": [
    "def weighted_dist_from_COM():\n",
    "    distances_mean = []\n",
    "    for s in clist:\n",
    "        #hier anpassen\n",
    "        img = Image.open(\"../../../data/xai/ksbl/occlusion_heat2/\"+s)\n",
    "        #img = img.resize((244,244))\n",
    "        img = ImageOps.grayscale(img)\n",
    "        img = ImageOps.invert(img)\n",
    "        arr = np.asarray(img)/255\n",
    "        arr = npPadding(arr)\n",
    "        center = scipy.ndimage.center_of_mass(arr)\n",
    "        distances = []\n",
    "        for i in range(arr.shape[0]):\n",
    "            for j in range(arr.shape[1]):\n",
    "                if arr[i,j]==0.0:\n",
    "                    continue\n",
    "                else:\n",
    "                    a = np.abs(center[0]-i)\n",
    "                    b = np.abs(center[1]-j)\n",
    "                    distance = (a+b)**(1/2)\n",
    "                    weighted_distance = distance * arr[i,j]\n",
    "                    distances.append(weighted_distance)\n",
    "        distances_mean.append(sum(distances)/len(distances))\n",
    "    return distances_mean"
   ],
   "metadata": {
    "collapsed": false,
    "pycharm": {
     "name": "#%%\n"
    }
   }
  },
  {
   "cell_type": "code",
   "execution_count": 27,
   "outputs": [],
   "source": [
    "occ_results_entropy = entropy()\n",
    "occ_results = weighted_dist_from_COM()\n",
    "#plot_dist(occ_results_entropy, \"steelblue\", 1.5)"
   ],
   "metadata": {
    "collapsed": false,
    "pycharm": {
     "name": "#%%\n"
    }
   }
  },
  {
   "cell_type": "code",
   "execution_count": 28,
   "outputs": [],
   "source": [
    "from numpy import asarray\n",
    "from PIL import Image,ImageOps\n",
    "\n",
    "##TODO\n",
    "l = os.listdir(\"../../../data/xai/ksbl/occlusion_heat2\")\n",
    "result_hm_l  = []\n",
    "result_hm_mo = []\n",
    "result_hm_mi = []\n",
    "result_hm_i  = []\n",
    "\n",
    "result_hm = df_f[[\"path\"]]\n",
    "\n",
    "for i in l:\n",
    "    if i.endswith(\".csv\") or i.endswith(\".txt\"):\n",
    "        continue\n",
    "    else:\n",
    "        image = Image.open(\"../../../data/xai/ksbl/occlusion_heat2/\"+i)\n",
    "        image = ImageOps.grayscale(image)\n",
    "        image = ImageOps.invert(image)\n",
    "        image = image.resize((im_size,im_size))\n",
    "        # convert image to numpy array\n",
    "        data = asarray(image)\n",
    "        # padding\n",
    "        data = npPadding(data)\n",
    "        result_hm_l.append(data)\n",
    "        result_hm_i.append(i)\n",
    "\n",
    "\n",
    "result_hm = pd.DataFrame({\"path\":result_hm_i,\"hm\":result_hm_l})"
   ],
   "metadata": {
    "collapsed": false,
    "pycharm": {
     "name": "#%%\n"
    }
   }
  },
  {
   "cell_type": "code",
   "execution_count": 29,
   "outputs": [],
   "source": [
    "results = result_hm.merge(df_f, on=\"path\")\n",
    "#results = result_bb_center.merge(results, on=\"path\")\n",
    "results[\"mask_out\"] = results[\"hm\"]*results[\"in\"]\n",
    "results[\"mask_in\"]  = results[\"hm\"]*(1-results[\"in\"])"
   ],
   "metadata": {
    "collapsed": false,
    "pycharm": {
     "name": "#%%\n"
    }
   }
  },
  {
   "cell_type": "code",
   "execution_count": 30,
   "outputs": [
    {
     "data": {
      "text/plain": "<AxesSubplot:>"
     },
     "execution_count": 30,
     "metadata": {},
     "output_type": "execute_result"
    },
    {
     "data": {
      "text/plain": "<Figure size 432x288 with 2 Axes>",
      "image/png": "[encoded data removed]"
     },
     "metadata": {},
     "output_type": "display_data"
    }
   ],
   "source": [
    "sns.heatmap(results[\"mask_in\"][7])"
   ],
   "metadata": {
    "collapsed": false,
    "pycharm": {
     "name": "#%%\n"
    }
   }
  },
  {
   "cell_type": "code",
   "execution_count": 31,
   "outputs": [
    {
     "data": {
      "text/plain": "<AxesSubplot:>"
     },
     "execution_count": 31,
     "metadata": {},
     "output_type": "execute_result"
    },
    {
     "data": {
      "text/plain": "<Figure size 432x288 with 2 Axes>",
      "image/png": "[encoded data removed]"
     },
     "metadata": {},
     "output_type": "display_data"
    }
   ],
   "source": [
    "sns.heatmap(results[\"mask_out\"][1])"
   ],
   "metadata": {
    "collapsed": false,
    "pycharm": {
     "name": "#%%\n"
    }
   }
  },
  {
   "cell_type": "code",
   "execution_count": 32,
   "outputs": [
    {
     "data": {
      "text/plain": "                                 path  \\\n0                      AugFx17_dp.jpg   \n1                     SeptFx34_dp.jpg   \n2                      OktFx17_dp.jpg   \n3           SeptFx31(Wulst-Fx)_dp.jpg   \n4                       DezFx6_dp.jpg   \n..                                ...   \n72                     OktFx15_dp.jpg   \n73  JuniFx25(Wulst_Fx,Schiene)_dp.jpg   \n74                    JuniFx26_dp.jpg   \n75                      MaiFx5_dp.jpg   \n76                    SeptFx26_dp.jpg   \n\n                                                   hm  \\\n0   [[0, 0, 0, 0, 0, 0, 0, 0, 0, 0, 0, 0, 0, 0, 0,...   \n1   [[0, 0, 0, 0, 0, 0, 0, 0, 0, 0, 0, 0, 0, 0, 0,...   \n2   [[0, 0, 0, 0, 0, 0, 0, 0, 0, 0, 0, 0, 0, 0, 0,...   \n3   [[0, 0, 0, 0, 0, 0, 0, 0, 0, 0, 0, 0, 0, 0, 0,...   \n4   [[0, 0, 0, 0, 0, 0, 0, 0, 0, 0, 0, 0, 0, 0, 0,...   \n..                                                ...   \n72  [[0, 0, 0, 0, 0, 0, 0, 0, 0, 0, 0, 0, 0, 0, 0,...   \n73  [[0, 0, 0, 0, 0, 0, 0, 0, 0, 0, 0, 0, 0, 0, 0,...   \n74  [[0, 0, 0, 0, 0, 0, 0, 0, 0, 0, 0, 0, 0, 0, 0,...   \n75  [[0, 0, 0, 0, 0, 0, 0, 0, 0, 0, 0, 0, 0, 0, 0,...   \n76  [[0, 0, 0, 0, 0, 0, 0, 0, 0, 0, 0, 0, 0, 0, 0,...   \n\n                                                   in  \\\n0   [[1.0, 1.0, 1.0, 1.0, 1.0, 1.0, 1.0, 1.0, 1.0,...   \n1   [[1.0, 1.0, 1.0, 1.0, 1.0, 1.0, 1.0, 1.0, 1.0,...   \n2   [[1.0, 1.0, 1.0, 1.0, 1.0, 1.0, 1.0, 1.0, 1.0,...   \n3   [[1.0, 1.0, 1.0, 1.0, 1.0, 1.0, 1.0, 1.0, 1.0,...   \n4   [[1.0, 1.0, 1.0, 1.0, 1.0, 1.0, 1.0, 1.0, 1.0,...   \n..                                                ...   \n72  [[1.0, 1.0, 1.0, 1.0, 1.0, 1.0, 1.0, 1.0, 1.0,...   \n73  [[1.0, 1.0, 1.0, 1.0, 1.0, 1.0, 1.0, 1.0, 1.0,...   \n74  [[1.0, 1.0, 1.0, 1.0, 1.0, 1.0, 1.0, 1.0, 1.0,...   \n75  [[1.0, 1.0, 1.0, 1.0, 1.0, 1.0, 1.0, 1.0, 1.0,...   \n76  [[1.0, 1.0, 1.0, 1.0, 1.0, 1.0, 1.0, 1.0, 1.0,...   \n\n                                             mask_out  \\\n0   [[0.0, 0.0, 0.0, 0.0, 0.0, 0.0, 0.0, 0.0, 0.0,...   \n1   [[0.0, 0.0, 0.0, 0.0, 0.0, 0.0, 0.0, 0.0, 0.0,...   \n2   [[0.0, 0.0, 0.0, 0.0, 0.0, 0.0, 0.0, 0.0, 0.0,...   \n3   [[0.0, 0.0, 0.0, 0.0, 0.0, 0.0, 0.0, 0.0, 0.0,...   \n4   [[0.0, 0.0, 0.0, 0.0, 0.0, 0.0, 0.0, 0.0, 0.0,...   \n..                                                ...   \n72  [[0.0, 0.0, 0.0, 0.0, 0.0, 0.0, 0.0, 0.0, 0.0,...   \n73  [[0.0, 0.0, 0.0, 0.0, 0.0, 0.0, 0.0, 0.0, 0.0,...   \n74  [[0.0, 0.0, 0.0, 0.0, 0.0, 0.0, 0.0, 0.0, 0.0,...   \n75  [[0.0, 0.0, 0.0, 0.0, 0.0, 0.0, 0.0, 0.0, 0.0,...   \n76  [[0.0, 0.0, 0.0, 0.0, 0.0, 0.0, 0.0, 0.0, 0.0,...   \n\n                                              mask_in  \n0   [[0.0, 0.0, 0.0, 0.0, 0.0, 0.0, 0.0, 0.0, 0.0,...  \n1   [[0.0, 0.0, 0.0, 0.0, 0.0, 0.0, 0.0, 0.0, 0.0,...  \n2   [[0.0, 0.0, 0.0, 0.0, 0.0, 0.0, 0.0, 0.0, 0.0,...  \n3   [[0.0, 0.0, 0.0, 0.0, 0.0, 0.0, 0.0, 0.0, 0.0,...  \n4   [[0.0, 0.0, 0.0, 0.0, 0.0, 0.0, 0.0, 0.0, 0.0,...  \n..                                                ...  \n72  [[0.0, 0.0, 0.0, 0.0, 0.0, 0.0, 0.0, 0.0, 0.0,...  \n73  [[0.0, 0.0, 0.0, 0.0, 0.0, 0.0, 0.0, 0.0, 0.0,...  \n74  [[0.0, 0.0, 0.0, 0.0, 0.0, 0.0, 0.0, 0.0, 0.0,...  \n75  [[0.0, 0.0, 0.0, 0.0, 0.0, 0.0, 0.0, 0.0, 0.0,...  \n76  [[0.0, 0.0, 0.0, 0.0, 0.0, 0.0, 0.0, 0.0, 0.0,...  \n\n[77 rows x 5 columns]",
      "text/html": "<div>\n<style scoped>\n    .dataframe tbody tr th:only-of-type {\n        vertical-align: middle;\n    }\n\n    .dataframe tbody tr th {\n        vertical-align: top;\n    }\n\n    .dataframe thead th {\n        text-align: right;\n    }\n</style>\n<table border=\"1\" class=\"dataframe\">\n  <thead>\n    <tr style=\"text-align: right;\">\n      <th></th>\n      <th>path</th>\n      <th>hm</th>\n      <th>in</th>\n      <th>mask_out</th>\n      <th>mask_in</th>\n    </tr>\n  </thead>\n  <tbody>\n    <tr>\n      <th>0</th>\n      <td>AugFx17_dp.jpg</td>\n      <td>[[0, 0, 0, 0, 0, 0, 0, 0, 0, 0, 0, 0, 0, 0, 0,...</td>\n      <td>[[1.0, 1.0, 1.0, 1.0, 1.0, 1.0, 1.0, 1.0, 1.0,...</td>\n      <td>[[0.0, 0.0, 0.0, 0.0, 0.0, 0.0, 0.0, 0.0, 0.0,...</td>\n      <td>[[0.0, 0.0, 0.0, 0.0, 0.0, 0.0, 0.0, 0.0, 0.0,...</td>\n    </tr>\n    <tr>\n      <th>1</th>\n      <td>SeptFx34_dp.jpg</td>\n      <td>[[0, 0, 0, 0, 0, 0, 0, 0, 0, 0, 0, 0, 0, 0, 0,...</td>\n      <td>[[1.0, 1.0, 1.0, 1.0, 1.0, 1.0, 1.0, 1.0, 1.0,...</td>\n      <td>[[0.0, 0.0, 0.0, 0.0, 0.0, 0.0, 0.0, 0.0, 0.0,...</td>\n      <td>[[0.0, 0.0, 0.0, 0.0, 0.0, 0.0, 0.0, 0.0, 0.0,...</td>\n    </tr>\n    <tr>\n      <th>2</th>\n      <td>OktFx17_dp.jpg</td>\n      <td>[[0, 0, 0, 0, 0, 0, 0, 0, 0, 0, 0, 0, 0, 0, 0,...</td>\n      <td>[[1.0, 1.0, 1.0, 1.0, 1.0, 1.0, 1.0, 1.0, 1.0,...</td>\n      <td>[[0.0, 0.0, 0.0, 0.0, 0.0, 0.0, 0.0, 0.0, 0.0,...</td>\n      <td>[[0.0, 0.0, 0.0, 0.0, 0.0, 0.0, 0.0, 0.0, 0.0,...</td>\n    </tr>\n    <tr>\n      <th>3</th>\n      <td>SeptFx31(Wulst-Fx)_dp.jpg</td>\n      <td>[[0, 0, 0, 0, 0, 0, 0, 0, 0, 0, 0, 0, 0, 0, 0,...</td>\n      <td>[[1.0, 1.0, 1.0, 1.0, 1.0, 1.0, 1.0, 1.0, 1.0,...</td>\n      <td>[[0.0, 0.0, 0.0, 0.0, 0.0, 0.0, 0.0, 0.0, 0.0,...</td>\n      <td>[[0.0, 0.0, 0.0, 0.0, 0.0, 0.0, 0.0, 0.0, 0.0,...</td>\n    </tr>\n    <tr>\n      <th>4</th>\n      <td>DezFx6_dp.jpg</td>\n      <td>[[0, 0, 0, 0, 0, 0, 0, 0, 0, 0, 0, 0, 0, 0, 0,...</td>\n      <td>[[1.0, 1.0, 1.0, 1.0, 1.0, 1.0, 1.0, 1.0, 1.0,...</td>\n      <td>[[0.0, 0.0, 0.0, 0.0, 0.0, 0.0, 0.0, 0.0, 0.0,...</td>\n      <td>[[0.0, 0.0, 0.0, 0.0, 0.0, 0.0, 0.0, 0.0, 0.0,...</td>\n    </tr>\n    <tr>\n      <th>...</th>\n      <td>...</td>\n      <td>...</td>\n      <td>...</td>\n      <td>...</td>\n      <td>...</td>\n    </tr>\n    <tr>\n      <th>72</th>\n      <td>OktFx15_dp.jpg</td>\n      <td>[[0, 0, 0, 0, 0, 0, 0, 0, 0, 0, 0, 0, 0, 0, 0,...</td>\n      <td>[[1.0, 1.0, 1.0, 1.0, 1.0, 1.0, 1.0, 1.0, 1.0,...</td>\n      <td>[[0.0, 0.0, 0.0, 0.0, 0.0, 0.0, 0.0, 0.0, 0.0,...</td>\n      <td>[[0.0, 0.0, 0.0, 0.0, 0.0, 0.0, 0.0, 0.0, 0.0,...</td>\n    </tr>\n    <tr>\n      <th>73</th>\n      <td>JuniFx25(Wulst_Fx,Schiene)_dp.jpg</td>\n      <td>[[0, 0, 0, 0, 0, 0, 0, 0, 0, 0, 0, 0, 0, 0, 0,...</td>\n      <td>[[1.0, 1.0, 1.0, 1.0, 1.0, 1.0, 1.0, 1.0, 1.0,...</td>\n      <td>[[0.0, 0.0, 0.0, 0.0, 0.0, 0.0, 0.0, 0.0, 0.0,...</td>\n      <td>[[0.0, 0.0, 0.0, 0.0, 0.0, 0.0, 0.0, 0.0, 0.0,...</td>\n    </tr>\n    <tr>\n      <th>74</th>\n      <td>JuniFx26_dp.jpg</td>\n      <td>[[0, 0, 0, 0, 0, 0, 0, 0, 0, 0, 0, 0, 0, 0, 0,...</td>\n      <td>[[1.0, 1.0, 1.0, 1.0, 1.0, 1.0, 1.0, 1.0, 1.0,...</td>\n      <td>[[0.0, 0.0, 0.0, 0.0, 0.0, 0.0, 0.0, 0.0, 0.0,...</td>\n      <td>[[0.0, 0.0, 0.0, 0.0, 0.0, 0.0, 0.0, 0.0, 0.0,...</td>\n    </tr>\n    <tr>\n      <th>75</th>\n      <td>MaiFx5_dp.jpg</td>\n      <td>[[0, 0, 0, 0, 0, 0, 0, 0, 0, 0, 0, 0, 0, 0, 0,...</td>\n      <td>[[1.0, 1.0, 1.0, 1.0, 1.0, 1.0, 1.0, 1.0, 1.0,...</td>\n      <td>[[0.0, 0.0, 0.0, 0.0, 0.0, 0.0, 0.0, 0.0, 0.0,...</td>\n      <td>[[0.0, 0.0, 0.0, 0.0, 0.0, 0.0, 0.0, 0.0, 0.0,...</td>\n    </tr>\n    <tr>\n      <th>76</th>\n      <td>SeptFx26_dp.jpg</td>\n      <td>[[0, 0, 0, 0, 0, 0, 0, 0, 0, 0, 0, 0, 0, 0, 0,...</td>\n      <td>[[1.0, 1.0, 1.0, 1.0, 1.0, 1.0, 1.0, 1.0, 1.0,...</td>\n      <td>[[0.0, 0.0, 0.0, 0.0, 0.0, 0.0, 0.0, 0.0, 0.0,...</td>\n      <td>[[0.0, 0.0, 0.0, 0.0, 0.0, 0.0, 0.0, 0.0, 0.0,...</td>\n    </tr>\n  </tbody>\n</table>\n<p>77 rows × 5 columns</p>\n</div>"
     },
     "execution_count": 32,
     "metadata": {},
     "output_type": "execute_result"
    }
   ],
   "source": [
    "results"
   ],
   "metadata": {
    "collapsed": false,
    "pycharm": {
     "name": "#%%\n"
    }
   }
  },
  {
   "cell_type": "code",
   "execution_count": 33,
   "outputs": [],
   "source": [
    "# metrik 1\n",
    "def metrik1(df):\n",
    "    metrik1_l = []\n",
    "    for i in range(len(df)):\n",
    "        metrik1_l.append(np.sum(df[\"mask_in\"][i]) / (np.sum(df[\"mask_in\"][i])+ np.sum(df[\"mask_out\"][i])) * 100)\n",
    "    return metrik1_l"
   ],
   "metadata": {
    "collapsed": false,
    "pycharm": {
     "name": "#%%\n"
    }
   }
  },
  {
   "cell_type": "code",
   "execution_count": 34,
   "outputs": [],
   "source": [
    "results2 = dfoo[[\"cx\",\"cy\",\"path\"]].merge(results,on=\"path\")"
   ],
   "metadata": {
    "collapsed": false,
    "pycharm": {
     "name": "#%%\n"
    }
   }
  },
  {
   "cell_type": "code",
   "execution_count": 35,
   "outputs": [
    {
     "data": {
      "text/plain": "0                         AugFx8_dp.jpg\n1                         DezFx4_dp.jpg\n2                         DezFx6_dp.jpg\n3                         FebFx1_dp.jpg\n4                         FebFx3_dp.jpg\n                    ...                \n77           AprilFx39(Wulst_Fx)_dp.jpg\n78        JanFx29(Vakuumschiene)_dp.jpg\n79     AprilFx33(dia-metaphysar)_dp.jpg\n80    JanFx24(SchraubenMCII,III)_dp.jpg\n81    JuniFx25(Wulst_Fx,Schiene)_dp.jpg\nName: path, Length: 82, dtype: object"
     },
     "execution_count": 35,
     "metadata": {},
     "output_type": "execute_result"
    }
   ],
   "source": [
    "df_f[\"path\"]"
   ],
   "metadata": {
    "collapsed": false,
    "pycharm": {
     "name": "#%%\n"
    }
   }
  },
  {
   "cell_type": "code",
   "execution_count": 36,
   "outputs": [
    {
     "data": {
      "text/plain": "0              MaiFx25_dp.jpg\n1              AugFx17_dp.jpg\n2              OktFx35_dp.jpg\n3              AugFx23_dp.jpg\n4         MaiFx6(Impl)_dp.jpg\n                ...          \n235    3DSchienenGes38_dp.jpg\n236             MaiFx5_dp.jpg\n237            NovGes5_dp.jpg\n238           SeptFx26_dp.jpg\n239           DezGes35_dp.jpg\nName: path, Length: 240, dtype: object"
     },
     "execution_count": 36,
     "metadata": {},
     "output_type": "execute_result"
    }
   ],
   "source": [
    "result_hm[\"path\"]"
   ],
   "metadata": {
    "collapsed": false,
    "pycharm": {
     "name": "#%%\n"
    }
   }
  },
  {
   "cell_type": "code",
   "execution_count": 50,
   "outputs": [
    {
     "data": {
      "text/plain": "130"
     },
     "execution_count": 50,
     "metadata": {},
     "output_type": "execute_result"
    }
   ],
   "source": [
    "h = os.listdir(data_path+\"val\")\n",
    "len(list(set(h) & set(os.listdir(\"../../../data/xai/ksbl/occlusion_heat2\"))))"
   ],
   "metadata": {
    "collapsed": false,
    "pycharm": {
     "name": "#%%\n"
    }
   }
  },
  {
   "cell_type": "code",
   "execution_count": 38,
   "outputs": [],
   "source": [
    "occ_m1 = metrik1(results)"
   ],
   "metadata": {
    "collapsed": false,
    "pycharm": {
     "name": "#%%\n"
    }
   }
  },
  {
   "cell_type": "code",
   "execution_count": 41,
   "outputs": [],
   "source": [
    "from scipy import ndimage"
   ],
   "metadata": {
    "collapsed": false,
    "pycharm": {
     "name": "#%%\n"
    }
   }
  },
  {
   "cell_type": "code",
   "execution_count": 42,
   "outputs": [],
   "source": [
    "# metrik 2\n",
    "def metrik2(df):\n",
    "    metrik2_l = []\n",
    "    for l in df[\"path\"].unique().tolist():\n",
    "        _df = df[df[\"path\"]==l]\n",
    "        _df = _df.reset_index().iloc[:,1:]\n",
    "        count = 0\n",
    "        for i in range(len(_df)):\n",
    "            center_hm = ndimage.measurements.center_of_mass(_df[\"hm\"][i])\n",
    "            d_x = center_hm[0]-_df[\"cx\"][i]\n",
    "            d_y = center_hm[1]-_df[\"cy\"][i]\n",
    "            count+=(d_x**2+d_y**2)**(1/2)\n",
    "        metrik2_l.append(count/len(_df))\n",
    "    return metrik2_l"
   ],
   "metadata": {
    "collapsed": false,
    "pycharm": {
     "name": "#%%\n"
    }
   }
  },
  {
   "cell_type": "code",
   "execution_count": 43,
   "outputs": [],
   "source": [
    "occ_m2 = metrik2(results2)"
   ],
   "metadata": {
    "collapsed": false,
    "pycharm": {
     "name": "#%%\n"
    }
   }
  },
  {
   "cell_type": "code",
   "execution_count": 44,
   "outputs": [],
   "source": [
    "df_ksbl_st = pd.DataFrame({\"entropy\":occ_results_entropy,\n",
    "                           \"DOM\": occ_results,\n",
    "})\n",
    "df_ksbl_bb = pd.DataFrame({\"PgB\" : occ_m1,\n",
    "                           \"wDCOM\" : occ_m2\n",
    "\n",
    "})"
   ],
   "metadata": {
    "collapsed": false,
    "pycharm": {
     "name": "#%%\n"
    }
   }
  },
  {
   "cell_type": "code",
   "execution_count": 45,
   "outputs": [
    {
     "data": {
      "text/plain": "['AugFx8_dp.jpg',\n 'DezFx4_dp.jpg',\n 'DezFx6_dp.jpg',\n 'FebFx1_dp.jpg',\n 'FebFx3_dp.jpg',\n 'FebFx7_dp.jpg',\n 'JanFx5_dp.jpg',\n 'MaiFx1_dp.jpg',\n 'MaiFx5_dp.jpg',\n 'MaiFx8_dp.jpg',\n 'OktFx6_dp.jpg',\n 'OktFx8_dp.jpg',\n 'AugFx14_dp.jpg',\n 'AugFx17_dp.jpg',\n 'AugFx19_dp.jpg',\n 'AugFx21_dp.jpg',\n 'AugFx27_dp.jpg',\n 'AugFx34_dp.jpg',\n 'FebFx11_dp.jpg',\n 'FebFx19_dp.jpg',\n 'FebFx22_dp.jpg',\n 'FebFx26_dp.jpg',\n 'JanFx12_dp.jpg',\n 'JanFx16_dp.jpg',\n 'JanFx19_dp.jpg',\n 'JanFx23_dp.jpg',\n 'JanFx30_dp.jpg',\n 'JanFx31_dp.jpg',\n 'JanFx33_dp.jpg',\n 'JanFx39_dp.jpg',\n 'JanFx41_dp.jpg',\n 'JuliFx8_dp.jpg',\n 'JuniFx1_dp.jpg',\n 'JuniFx4_dp.jpg',\n 'MaiFx29_dp.jpg',\n 'MaiFx40_dp.jpg',\n 'NovFx12_dp.jpg',\n 'OktFx15_dp.jpg',\n 'OktFx17_dp.jpg',\n 'OktFx22_dp.jpg',\n 'OktFx30_dp.jpg',\n 'SeptFx7_dp.jpg',\n 'AprilFx2_dp.jpg',\n 'AprilFx5_dp.jpg',\n 'JuliFx20_dp.jpg',\n 'JuliFx22_dp.jpg',\n 'JuliFx23_dp.jpg',\n 'JuniFx26_dp.jpg',\n 'JuniFx29_dp.jpg',\n 'JuniFx31_dp.jpg',\n 'SeptFx11_dp.jpg',\n 'SeptFx19_dp.jpg',\n 'SeptFx25_dp.jpg',\n 'SeptFx26_dp.jpg',\n 'SeptFx30_dp.jpg',\n 'SeptFx32_dp.jpg',\n 'SeptFx33_dp.jpg',\n 'SeptFx34_dp.jpg',\n 'SeptFx37_dp.jpg',\n 'SeptFx40_dp.jpg',\n 'AprilFx11_dp.jpg',\n 'AprilFx13_dp.jpg',\n 'AprilFx15_dp.jpg',\n 'AprilFx18_dp.jpg',\n 'AprilFx25_dp.jpg',\n 'AprilFx41_dp.jpg',\n 'FebFx34(Gips)_dp.jpg',\n 'AprilFx6(SH-Fx)_dp.jpg',\n 'MaiFx9(Wulst_Fx)_dp.jpg',\n 'OktFx5(Wulst-Fx)_dp.jpg',\n 'OktFx25(Implanat)_dp.jpg',\n 'SeptFx31(Wulst-Fx)_dp.jpg',\n 'SeptFx39(Wulst-Fx)_dp.jpg',\n 'AprilFx39(Wulst_Fx)_dp.jpg',\n 'JanFx29(Vakuumschiene)_dp.jpg',\n 'JanFx24(SchraubenMCII,III)_dp.jpg',\n 'JuniFx25(Wulst_Fx,Schiene)_dp.jpg']"
     },
     "execution_count": 45,
     "metadata": {},
     "output_type": "execute_result"
    }
   ],
   "source": [
    "results2[\"path\"].unique().tolist()"
   ],
   "metadata": {
    "collapsed": false,
    "pycharm": {
     "name": "#%%\n"
    }
   }
  },
  {
   "cell_type": "code",
   "execution_count": 46,
   "outputs": [
    {
     "data": {
      "text/plain": "<AxesSubplot:xlabel='entropy', ylabel='Density'>"
     },
     "execution_count": 46,
     "metadata": {},
     "output_type": "execute_result"
    },
    {
     "data": {
      "text/plain": "<Figure size 432x288 with 1 Axes>",
      "image/png": "[encoded data removed]"
     },
     "metadata": {},
     "output_type": "display_data"
    }
   ],
   "source": [
    "sns.distplot(df_ksbl_st[\"entropy\"])"
   ],
   "metadata": {
    "collapsed": false,
    "pycharm": {
     "name": "#%%\n"
    }
   }
  },
  {
   "cell_type": "code",
   "execution_count": 47,
   "outputs": [
    {
     "data": {
      "text/plain": "<AxesSubplot:xlabel='DOM', ylabel='Density'>"
     },
     "execution_count": 47,
     "metadata": {},
     "output_type": "execute_result"
    },
    {
     "data": {
      "text/plain": "<Figure size 432x288 with 1 Axes>",
      "image/png": "[encoded data removed]"
     },
     "metadata": {},
     "output_type": "display_data"
    }
   ],
   "source": [
    "sns.distplot(df_ksbl_st[\"DOM\"])"
   ],
   "metadata": {
    "collapsed": false,
    "pycharm": {
     "name": "#%%\n"
    }
   }
  },
  {
   "cell_type": "code",
   "execution_count": 53,
   "outputs": [
    {
     "data": {
      "text/plain": "(0.0, 56.330386868448876)"
     },
     "execution_count": 53,
     "metadata": {},
     "output_type": "execute_result"
    },
    {
     "data": {
      "text/plain": "<Figure size 500x400 with 1 Axes>",
      "image/png": "[encoded data removed]"
     },
     "metadata": {},
     "output_type": "display_data"
    }
   ],
   "source": [
    "fig, g = plt.subplots(figsize = (5,4), dpi = 100)\n",
    "g = sns.distplot(occ_m1)\n",
    "g.set_xlim(left=0)\n",
    "#g.set_ylim(bottom=0, top=200);"
   ],
   "metadata": {
    "collapsed": false,
    "pycharm": {
     "name": "#%%\n"
    }
   }
  },
  {
   "cell_type": "code",
   "execution_count": 54,
   "outputs": [
    {
     "data": {
      "text/plain": "(0.0, 198.56224118358764)"
     },
     "execution_count": 54,
     "metadata": {},
     "output_type": "execute_result"
    },
    {
     "data": {
      "text/plain": "<Figure size 500x400 with 1 Axes>",
      "image/png": "[encoded data removed]"
     },
     "metadata": {},
     "output_type": "display_data"
    }
   ],
   "source": [
    "fig, g = plt.subplots(figsize = (5,4), dpi = 100)\n",
    "g = sns.distplot(occ_m2)\n",
    "g.set_xlim(left=0)"
   ],
   "metadata": {
    "collapsed": false,
    "pycharm": {
     "name": "#%%\n"
    }
   }
  },
  {
   "cell_type": "markdown",
   "metadata": {
    "pycharm": {
     "name": "#%% md\n"
    }
   },
   "source": [
    "## 7.0 Save Results"
   ]
  },
  {
   "cell_type": "code",
   "execution_count": null,
   "outputs": [],
   "source": [
    "os.makedirs(\"results\",exist_ok=False)"
   ],
   "metadata": {
    "collapsed": false,
    "pycharm": {
     "name": "#%%\n"
    }
   }
  },
  {
   "cell_type": "code",
   "execution_count": null,
   "outputs": [],
   "source": [
    "os.makedirs(\"results/ig\",exist_ok=False)"
   ],
   "metadata": {
    "collapsed": false,
    "pycharm": {
     "name": "#%%\n"
    }
   }
  },
  {
   "cell_type": "code",
   "execution_count": 23,
   "outputs": [
    {
     "ename": "NameError",
     "evalue": "name 'df_ksbl_st' is not defined",
     "output_type": "error",
     "traceback": [
      "\u001B[0;31m---------------------------------------------------------------------------\u001B[0m",
      "\u001B[0;31mNameError\u001B[0m                                 Traceback (most recent call last)",
      "\u001B[0;32m/tmp/ipykernel_26748/3309070002.py\u001B[0m in \u001B[0;36m<module>\u001B[0;34m\u001B[0m\n\u001B[0;32m----> 1\u001B[0;31m \u001B[0mdf_ksbl_st\u001B[0m\u001B[0;34m.\u001B[0m\u001B[0mto_csv\u001B[0m\u001B[0;34m(\u001B[0m\u001B[0;34m\"results/allresults_st.csv\"\u001B[0m\u001B[0;34m)\u001B[0m\u001B[0;34m\u001B[0m\u001B[0;34m\u001B[0m\u001B[0m\n\u001B[0m\u001B[1;32m      2\u001B[0m \u001B[0mdf_ksbl_bb\u001B[0m\u001B[0;34m.\u001B[0m\u001B[0mto_csv\u001B[0m\u001B[0;34m(\u001B[0m\u001B[0;34m\"results/allresults_bb.csv\"\u001B[0m\u001B[0;34m)\u001B[0m\u001B[0;34m\u001B[0m\u001B[0;34m\u001B[0m\u001B[0m\n",
      "\u001B[0;31mNameError\u001B[0m: name 'df_ksbl_st' is not defined"
     ]
    }
   ],
   "source": [
    "df_ksbl_st.to_csv(\"results/allresults_st.csv\")\n",
    "df_ksbl_bb.to_csv(\"results/allresults_bb.csv\")"
   ],
   "metadata": {
    "collapsed": false,
    "pycharm": {
     "name": "#%%\n"
    }
   }
  },
  {
   "cell_type": "code",
   "execution_count": 111,
   "outputs": [
    {
     "ename": "ValueError",
     "evalue": "The truth value of a Series is ambiguous. Use a.empty, a.bool(), a.item(), a.any() or a.all().",
     "output_type": "error",
     "traceback": [
      "\u001B[0;31m---------------------------------------------------------------------------\u001B[0m",
      "\u001B[0;31mValueError\u001B[0m                                Traceback (most recent call last)",
      "\u001B[0;32m/tmp/ipykernel_127083/2044533256.py\u001B[0m in \u001B[0;36m<module>\u001B[0;34m\u001B[0m\n\u001B[0;32m----> 1\u001B[0;31m \u001B[0msns\u001B[0m\u001B[0;34m.\u001B[0m\u001B[0mviolinplot\u001B[0m\u001B[0;34m(\u001B[0m\u001B[0mdf_ksbl\u001B[0m\u001B[0;34m)\u001B[0m\u001B[0;34m\u001B[0m\u001B[0;34m\u001B[0m\u001B[0m\n\u001B[0m",
      "\u001B[0;32m~/anaconda3/envs/DeepLearningLearning/lib/python3.7/site-packages/seaborn/_decorators.py\u001B[0m in \u001B[0;36minner_f\u001B[0;34m(*args, **kwargs)\u001B[0m\n\u001B[1;32m     44\u001B[0m             )\n\u001B[1;32m     45\u001B[0m         \u001B[0mkwargs\u001B[0m\u001B[0;34m.\u001B[0m\u001B[0mupdate\u001B[0m\u001B[0;34m(\u001B[0m\u001B[0;34m{\u001B[0m\u001B[0mk\u001B[0m\u001B[0;34m:\u001B[0m \u001B[0marg\u001B[0m \u001B[0;32mfor\u001B[0m \u001B[0mk\u001B[0m\u001B[0;34m,\u001B[0m \u001B[0marg\u001B[0m \u001B[0;32min\u001B[0m \u001B[0mzip\u001B[0m\u001B[0;34m(\u001B[0m\u001B[0msig\u001B[0m\u001B[0;34m.\u001B[0m\u001B[0mparameters\u001B[0m\u001B[0;34m,\u001B[0m \u001B[0margs\u001B[0m\u001B[0;34m)\u001B[0m\u001B[0;34m}\u001B[0m\u001B[0;34m)\u001B[0m\u001B[0;34m\u001B[0m\u001B[0;34m\u001B[0m\u001B[0m\n\u001B[0;32m---> 46\u001B[0;31m         \u001B[0;32mreturn\u001B[0m \u001B[0mf\u001B[0m\u001B[0;34m(\u001B[0m\u001B[0;34m**\u001B[0m\u001B[0mkwargs\u001B[0m\u001B[0;34m)\u001B[0m\u001B[0;34m\u001B[0m\u001B[0;34m\u001B[0m\u001B[0m\n\u001B[0m\u001B[1;32m     47\u001B[0m     \u001B[0;32mreturn\u001B[0m \u001B[0minner_f\u001B[0m\u001B[0;34m\u001B[0m\u001B[0;34m\u001B[0m\u001B[0m\n\u001B[1;32m     48\u001B[0m \u001B[0;34m\u001B[0m\u001B[0m\n",
      "\u001B[0;32m~/anaconda3/envs/DeepLearningLearning/lib/python3.7/site-packages/seaborn/categorical.py\u001B[0m in \u001B[0;36mviolinplot\u001B[0;34m(x, y, hue, data, order, hue_order, bw, cut, scale, scale_hue, gridsize, width, inner, split, dodge, orient, linewidth, color, palette, saturation, ax, **kwargs)\u001B[0m\n\u001B[1;32m   2401\u001B[0m                              \u001B[0mbw\u001B[0m\u001B[0;34m,\u001B[0m \u001B[0mcut\u001B[0m\u001B[0;34m,\u001B[0m \u001B[0mscale\u001B[0m\u001B[0;34m,\u001B[0m \u001B[0mscale_hue\u001B[0m\u001B[0;34m,\u001B[0m \u001B[0mgridsize\u001B[0m\u001B[0;34m,\u001B[0m\u001B[0;34m\u001B[0m\u001B[0;34m\u001B[0m\u001B[0m\n\u001B[1;32m   2402\u001B[0m                              \u001B[0mwidth\u001B[0m\u001B[0;34m,\u001B[0m \u001B[0minner\u001B[0m\u001B[0;34m,\u001B[0m \u001B[0msplit\u001B[0m\u001B[0;34m,\u001B[0m \u001B[0mdodge\u001B[0m\u001B[0;34m,\u001B[0m \u001B[0morient\u001B[0m\u001B[0;34m,\u001B[0m \u001B[0mlinewidth\u001B[0m\u001B[0;34m,\u001B[0m\u001B[0;34m\u001B[0m\u001B[0;34m\u001B[0m\u001B[0m\n\u001B[0;32m-> 2403\u001B[0;31m                              color, palette, saturation)\n\u001B[0m\u001B[1;32m   2404\u001B[0m \u001B[0;34m\u001B[0m\u001B[0m\n\u001B[1;32m   2405\u001B[0m     \u001B[0;32mif\u001B[0m \u001B[0max\u001B[0m \u001B[0;32mis\u001B[0m \u001B[0;32mNone\u001B[0m\u001B[0;34m:\u001B[0m\u001B[0;34m\u001B[0m\u001B[0;34m\u001B[0m\u001B[0m\n",
      "\u001B[0;32m~/anaconda3/envs/DeepLearningLearning/lib/python3.7/site-packages/seaborn/categorical.py\u001B[0m in \u001B[0;36m__init__\u001B[0;34m(self, x, y, hue, data, order, hue_order, bw, cut, scale, scale_hue, gridsize, width, inner, split, dodge, orient, linewidth, color, palette, saturation)\u001B[0m\n\u001B[1;32m    520\u001B[0m                  color, palette, saturation):\n\u001B[1;32m    521\u001B[0m \u001B[0;34m\u001B[0m\u001B[0m\n\u001B[0;32m--> 522\u001B[0;31m         \u001B[0mself\u001B[0m\u001B[0;34m.\u001B[0m\u001B[0mestablish_variables\u001B[0m\u001B[0;34m(\u001B[0m\u001B[0mx\u001B[0m\u001B[0;34m,\u001B[0m \u001B[0my\u001B[0m\u001B[0;34m,\u001B[0m \u001B[0mhue\u001B[0m\u001B[0;34m,\u001B[0m \u001B[0mdata\u001B[0m\u001B[0;34m,\u001B[0m \u001B[0morient\u001B[0m\u001B[0;34m,\u001B[0m \u001B[0morder\u001B[0m\u001B[0;34m,\u001B[0m \u001B[0mhue_order\u001B[0m\u001B[0;34m)\u001B[0m\u001B[0;34m\u001B[0m\u001B[0;34m\u001B[0m\u001B[0m\n\u001B[0m\u001B[1;32m    523\u001B[0m         \u001B[0mself\u001B[0m\u001B[0;34m.\u001B[0m\u001B[0mestablish_colors\u001B[0m\u001B[0;34m(\u001B[0m\u001B[0mcolor\u001B[0m\u001B[0;34m,\u001B[0m \u001B[0mpalette\u001B[0m\u001B[0;34m,\u001B[0m \u001B[0msaturation\u001B[0m\u001B[0;34m)\u001B[0m\u001B[0;34m\u001B[0m\u001B[0;34m\u001B[0m\u001B[0m\n\u001B[1;32m    524\u001B[0m         \u001B[0mself\u001B[0m\u001B[0;34m.\u001B[0m\u001B[0mestimate_densities\u001B[0m\u001B[0;34m(\u001B[0m\u001B[0mbw\u001B[0m\u001B[0;34m,\u001B[0m \u001B[0mcut\u001B[0m\u001B[0;34m,\u001B[0m \u001B[0mscale\u001B[0m\u001B[0;34m,\u001B[0m \u001B[0mscale_hue\u001B[0m\u001B[0;34m,\u001B[0m \u001B[0mgridsize\u001B[0m\u001B[0;34m)\u001B[0m\u001B[0;34m\u001B[0m\u001B[0;34m\u001B[0m\u001B[0m\n",
      "\u001B[0;32m~/anaconda3/envs/DeepLearningLearning/lib/python3.7/site-packages/seaborn/categorical.py\u001B[0m in \u001B[0;36mestablish_variables\u001B[0;34m(self, x, y, hue, data, orient, order, hue_order, units)\u001B[0m\n\u001B[1;32m    155\u001B[0m             \u001B[0;31m# Figure out the plotting orientation\u001B[0m\u001B[0;34m\u001B[0m\u001B[0;34m\u001B[0m\u001B[0;34m\u001B[0m\u001B[0m\n\u001B[1;32m    156\u001B[0m             orient = infer_orient(\n\u001B[0;32m--> 157\u001B[0;31m                 \u001B[0mx\u001B[0m\u001B[0;34m,\u001B[0m \u001B[0my\u001B[0m\u001B[0;34m,\u001B[0m \u001B[0morient\u001B[0m\u001B[0;34m,\u001B[0m \u001B[0mrequire_numeric\u001B[0m\u001B[0;34m=\u001B[0m\u001B[0mself\u001B[0m\u001B[0;34m.\u001B[0m\u001B[0mrequire_numeric\u001B[0m\u001B[0;34m\u001B[0m\u001B[0;34m\u001B[0m\u001B[0m\n\u001B[0m\u001B[1;32m    158\u001B[0m             )\n\u001B[1;32m    159\u001B[0m \u001B[0;34m\u001B[0m\u001B[0m\n",
      "\u001B[0;32m~/anaconda3/envs/DeepLearningLearning/lib/python3.7/site-packages/seaborn/_core.py\u001B[0m in \u001B[0;36minfer_orient\u001B[0;34m(x, y, orient, require_numeric)\u001B[0m\n\u001B[1;32m   1309\u001B[0m     \"\"\"\n\u001B[1;32m   1310\u001B[0m \u001B[0;34m\u001B[0m\u001B[0m\n\u001B[0;32m-> 1311\u001B[0;31m     \u001B[0mx_type\u001B[0m \u001B[0;34m=\u001B[0m \u001B[0;32mNone\u001B[0m \u001B[0;32mif\u001B[0m \u001B[0mx\u001B[0m \u001B[0;32mis\u001B[0m \u001B[0;32mNone\u001B[0m \u001B[0;32melse\u001B[0m \u001B[0mvariable_type\u001B[0m\u001B[0;34m(\u001B[0m\u001B[0mx\u001B[0m\u001B[0;34m)\u001B[0m\u001B[0;34m\u001B[0m\u001B[0;34m\u001B[0m\u001B[0m\n\u001B[0m\u001B[1;32m   1312\u001B[0m     \u001B[0my_type\u001B[0m \u001B[0;34m=\u001B[0m \u001B[0;32mNone\u001B[0m \u001B[0;32mif\u001B[0m \u001B[0my\u001B[0m \u001B[0;32mis\u001B[0m \u001B[0;32mNone\u001B[0m \u001B[0;32melse\u001B[0m \u001B[0mvariable_type\u001B[0m\u001B[0;34m(\u001B[0m\u001B[0my\u001B[0m\u001B[0;34m)\u001B[0m\u001B[0;34m\u001B[0m\u001B[0;34m\u001B[0m\u001B[0m\n\u001B[1;32m   1313\u001B[0m \u001B[0;34m\u001B[0m\u001B[0m\n",
      "\u001B[0;32m~/anaconda3/envs/DeepLearningLearning/lib/python3.7/site-packages/seaborn/_core.py\u001B[0m in \u001B[0;36mvariable_type\u001B[0;34m(vector, boolean_type)\u001B[0m\n\u001B[1;32m   1227\u001B[0m \u001B[0;34m\u001B[0m\u001B[0m\n\u001B[1;32m   1228\u001B[0m     \u001B[0;31m# Special-case all-na data, which is always \"numeric\"\u001B[0m\u001B[0;34m\u001B[0m\u001B[0;34m\u001B[0m\u001B[0;34m\u001B[0m\u001B[0m\n\u001B[0;32m-> 1229\u001B[0;31m     \u001B[0;32mif\u001B[0m \u001B[0mpd\u001B[0m\u001B[0;34m.\u001B[0m\u001B[0misna\u001B[0m\u001B[0;34m(\u001B[0m\u001B[0mvector\u001B[0m\u001B[0;34m)\u001B[0m\u001B[0;34m.\u001B[0m\u001B[0mall\u001B[0m\u001B[0;34m(\u001B[0m\u001B[0;34m)\u001B[0m\u001B[0;34m:\u001B[0m\u001B[0;34m\u001B[0m\u001B[0;34m\u001B[0m\u001B[0m\n\u001B[0m\u001B[1;32m   1230\u001B[0m         \u001B[0;32mreturn\u001B[0m \u001B[0;34m\"numeric\"\u001B[0m\u001B[0;34m\u001B[0m\u001B[0;34m\u001B[0m\u001B[0m\n\u001B[1;32m   1231\u001B[0m \u001B[0;34m\u001B[0m\u001B[0m\n",
      "\u001B[0;32m~/anaconda3/envs/DeepLearningLearning/lib/python3.7/site-packages/pandas/core/generic.py\u001B[0m in \u001B[0;36m__nonzero__\u001B[0;34m(self)\u001B[0m\n\u001B[1;32m   1536\u001B[0m     \u001B[0;32mdef\u001B[0m \u001B[0m__nonzero__\u001B[0m\u001B[0;34m(\u001B[0m\u001B[0mself\u001B[0m\u001B[0;34m)\u001B[0m\u001B[0;34m:\u001B[0m\u001B[0;34m\u001B[0m\u001B[0;34m\u001B[0m\u001B[0m\n\u001B[1;32m   1537\u001B[0m         raise ValueError(\n\u001B[0;32m-> 1538\u001B[0;31m             \u001B[0;34mf\"The truth value of a {type(self).__name__} is ambiguous. \"\u001B[0m\u001B[0;34m\u001B[0m\u001B[0;34m\u001B[0m\u001B[0m\n\u001B[0m\u001B[1;32m   1539\u001B[0m             \u001B[0;34m\"Use a.empty, a.bool(), a.item(), a.any() or a.all().\"\u001B[0m\u001B[0;34m\u001B[0m\u001B[0;34m\u001B[0m\u001B[0m\n\u001B[1;32m   1540\u001B[0m         )\n",
      "\u001B[0;31mValueError\u001B[0m: The truth value of a Series is ambiguous. Use a.empty, a.bool(), a.item(), a.any() or a.all()."
     ]
    }
   ],
   "source": [],
   "metadata": {
    "collapsed": false,
    "pycharm": {
     "name": "#%%\n"
    }
   }
  }
 ],
 "metadata": {
  "kernelspec": {
   "display_name": "Python 3 (ipykernel)",
   "language": "python",
   "name": "python3"
  },
  "language_info": {
   "codemirror_mode": {
    "name": "ipython",
    "version": 3
   },
   "file_extension": ".py",
   "mimetype": "text/x-python",
   "name": "python",
   "nbconvert_exporter": "python",
   "pygments_lexer": "ipython3",
   "version": "3.7.11"
  }
 },
 "nbformat": 4,
 "nbformat_minor": 1
}