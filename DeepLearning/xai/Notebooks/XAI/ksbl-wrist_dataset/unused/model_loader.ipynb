{
 "cells": [
  {
   "cell_type": "code",
   "execution_count": 1,
   "metadata": {
    "collapsed": true,
    "pycharm": {
     "name": "#%%\n"
    }
   },
   "outputs": [],
   "source": [
    "from monai.networks.nets import DenseNet121\n",
    "import torch"
   ]
  },
  {
   "cell_type": "code",
   "execution_count": 5,
   "metadata": {
    "pycharm": {
     "name": "#%%\n"
    }
   },
   "outputs": [
    {
     "data": {
      "text/plain": "<All keys matched successfully>"
     },
     "execution_count": 5,
     "metadata": {},
     "output_type": "execute_result"
    }
   ],
   "source": [
    "# load state dict of model\n",
    "MODEL_NAME = 'DenseNet121_LR0.0019419338184479603_CRFocal Loss_TRAugment_Normalize_OPAdamW_BS10_EP50__ID_fffbf128-4ac7-4582-9e14-b8dd6de281cf_22.pth'\n",
    "MODEL_PATH = '../model/'\n",
    "\n",
    "model = DenseNet121(spatial_dims=2, in_channels=1, out_channels=2, pretrained=False).to(\"cpu\")\n",
    "model.load_state_dict(torch.load(MODEL_PATH+MODEL_NAME,map_location=torch.device('cpu'))['model_state_dict'])"
   ]
  },
  {
   "cell_type": "code",
   "execution_count": null,
   "metadata": {
    "pycharm": {
     "name": "#%%\n"
    }
   },
   "outputs": [],
   "source": [
    "# transformer used during evaluation\n",
    "from monai.transforms import (\n",
    "    NormalizeIntensity,\n",
    "    EnsureType,\n",
    ")\n",
    "from torchvision.transforms import transforms\n",
    "\n",
    "def _monai_transformer_test():\n",
    "    return transforms.Compose(\n",
    "        [\n",
    "            NormalizeIntensity(),\n",
    "            EnsureType(),\n",
    "            transforms.Grayscale(),\n",
    "            transforms.Resize((512, 512))\n",
    "        ]\n",
    "    )"
   ]
  }
 ],
 "metadata": {
  "kernelspec": {
   "display_name": "Python 3 (ipykernel)",
   "language": "python",
   "name": "python3"
  },
  "language_info": {
   "codemirror_mode": {
    "name": "ipython",
    "version": 3
   },
   "file_extension": ".py",
   "mimetype": "text/x-python",
   "name": "python",
   "nbconvert_exporter": "python",
   "pygments_lexer": "ipython3",
   "version": "3.7.11"
  }
 },
 "nbformat": 4,
 "nbformat_minor": 1
}