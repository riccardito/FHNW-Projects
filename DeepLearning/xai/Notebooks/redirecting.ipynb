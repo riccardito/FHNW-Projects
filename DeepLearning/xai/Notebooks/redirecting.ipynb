{
 "cells": [
  {
   "cell_type": "code",
   "execution_count": 2,
   "metadata": {
    "collapsed": true,
    "pycharm": {
     "name": "#%%\n"
    }
   },
   "outputs": [],
   "source": [
    "from os import listdir\n",
    "from os.path import isfile, join\n",
    "mypath_f = \"../data/Wrist Fracture/Fracture\"\n",
    "fractures = [f for f in listdir(mypath_f) if isfile(join(mypath_f, f))]"
   ]
  },
  {
   "cell_type": "code",
   "execution_count": 3,
   "outputs": [
    {
     "data": {
      "text/plain": "                     path category\n0     1 Male (A View).jpg        1\n1     1 Male (L View).jpg        1\n2    10 Male (A View).jpg        1\n3    10 Male (L View).jpg        1\n4    11 Male (A View).jpg        1\n..                    ...      ...\n106  92 Male (L View).jpg        1\n107     93 F (A View).jpg        1\n108     93 F (L View).jpg        1\n109     94 F (A View).jpg        1\n110     94 F (L View).jpg        1\n\n[111 rows x 2 columns]",
      "text/html": "<div>\n<style scoped>\n    .dataframe tbody tr th:only-of-type {\n        vertical-align: middle;\n    }\n\n    .dataframe tbody tr th {\n        vertical-align: top;\n    }\n\n    .dataframe thead th {\n        text-align: right;\n    }\n</style>\n<table border=\"1\" class=\"dataframe\">\n  <thead>\n    <tr style=\"text-align: right;\">\n      <th></th>\n      <th>path</th>\n      <th>category</th>\n    </tr>\n  </thead>\n  <tbody>\n    <tr>\n      <th>0</th>\n      <td>1 Male (A View).jpg</td>\n      <td>1</td>\n    </tr>\n    <tr>\n      <th>1</th>\n      <td>1 Male (L View).jpg</td>\n      <td>1</td>\n    </tr>\n    <tr>\n      <th>2</th>\n      <td>10 Male (A View).jpg</td>\n      <td>1</td>\n    </tr>\n    <tr>\n      <th>3</th>\n      <td>10 Male (L View).jpg</td>\n      <td>1</td>\n    </tr>\n    <tr>\n      <th>4</th>\n      <td>11 Male (A View).jpg</td>\n      <td>1</td>\n    </tr>\n    <tr>\n      <th>...</th>\n      <td>...</td>\n      <td>...</td>\n    </tr>\n    <tr>\n      <th>106</th>\n      <td>92 Male (L View).jpg</td>\n      <td>1</td>\n    </tr>\n    <tr>\n      <th>107</th>\n      <td>93 F (A View).jpg</td>\n      <td>1</td>\n    </tr>\n    <tr>\n      <th>108</th>\n      <td>93 F (L View).jpg</td>\n      <td>1</td>\n    </tr>\n    <tr>\n      <th>109</th>\n      <td>94 F (A View).jpg</td>\n      <td>1</td>\n    </tr>\n    <tr>\n      <th>110</th>\n      <td>94 F (L View).jpg</td>\n      <td>1</td>\n    </tr>\n  </tbody>\n</table>\n<p>111 rows × 2 columns</p>\n</div>"
     },
     "execution_count": 3,
     "metadata": {},
     "output_type": "execute_result"
    }
   ],
   "source": [
    "import pandas as pd\n",
    "df_f = pd.DataFrame({\"path\":fractures,\"category\":[\"1\"]*len(fractures)})\n",
    "df_f"
   ],
   "metadata": {
    "collapsed": false,
    "pycharm": {
     "name": "#%%\n"
    }
   }
  },
  {
   "cell_type": "code",
   "execution_count": 4,
   "outputs": [
    {
     "data": {
      "text/plain": "      path category\n0    1.jpg        0\n1   10.jpg        0\n2   11.jpg        0\n3   12.jpg        0\n4   13.jpg        0\n..     ...      ...\n77   8.jpg        0\n78  80.jpg        0\n79  81.jpg        0\n80  82.jpg        0\n81   9.jpg        0\n\n[82 rows x 2 columns]",
      "text/html": "<div>\n<style scoped>\n    .dataframe tbody tr th:only-of-type {\n        vertical-align: middle;\n    }\n\n    .dataframe tbody tr th {\n        vertical-align: top;\n    }\n\n    .dataframe thead th {\n        text-align: right;\n    }\n</style>\n<table border=\"1\" class=\"dataframe\">\n  <thead>\n    <tr style=\"text-align: right;\">\n      <th></th>\n      <th>path</th>\n      <th>category</th>\n    </tr>\n  </thead>\n  <tbody>\n    <tr>\n      <th>0</th>\n      <td>1.jpg</td>\n      <td>0</td>\n    </tr>\n    <tr>\n      <th>1</th>\n      <td>10.jpg</td>\n      <td>0</td>\n    </tr>\n    <tr>\n      <th>2</th>\n      <td>11.jpg</td>\n      <td>0</td>\n    </tr>\n    <tr>\n      <th>3</th>\n      <td>12.jpg</td>\n      <td>0</td>\n    </tr>\n    <tr>\n      <th>4</th>\n      <td>13.jpg</td>\n      <td>0</td>\n    </tr>\n    <tr>\n      <th>...</th>\n      <td>...</td>\n      <td>...</td>\n    </tr>\n    <tr>\n      <th>77</th>\n      <td>8.jpg</td>\n      <td>0</td>\n    </tr>\n    <tr>\n      <th>78</th>\n      <td>80.jpg</td>\n      <td>0</td>\n    </tr>\n    <tr>\n      <th>79</th>\n      <td>81.jpg</td>\n      <td>0</td>\n    </tr>\n    <tr>\n      <th>80</th>\n      <td>82.jpg</td>\n      <td>0</td>\n    </tr>\n    <tr>\n      <th>81</th>\n      <td>9.jpg</td>\n      <td>0</td>\n    </tr>\n  </tbody>\n</table>\n<p>82 rows × 2 columns</p>\n</div>"
     },
     "execution_count": 4,
     "metadata": {},
     "output_type": "execute_result"
    }
   ],
   "source": [
    "mypath_n = \"../data/Wrist Fracture/Normal\"\n",
    "normals = [f for f in listdir(mypath_n) if isfile(join(mypath_n, f))]\n",
    "df_n = pd.DataFrame({\"path\":normals,\"category\":[\"0\"]*len(normals)})\n",
    "df_n"
   ],
   "metadata": {
    "collapsed": false,
    "pycharm": {
     "name": "#%%\n"
    }
   }
  },
  {
   "cell_type": "code",
   "execution_count": 5,
   "outputs": [
    {
     "data": {
      "text/plain": "                     path category\n0                   1.jpg        0\n1                  10.jpg        0\n2                  11.jpg        0\n3                  12.jpg        0\n4                  13.jpg        0\n..                    ...      ...\n106  92 Male (L View).jpg        1\n107     93 F (A View).jpg        1\n108     93 F (L View).jpg        1\n109     94 F (A View).jpg        1\n110     94 F (L View).jpg        1\n\n[193 rows x 2 columns]",
      "text/html": "<div>\n<style scoped>\n    .dataframe tbody tr th:only-of-type {\n        vertical-align: middle;\n    }\n\n    .dataframe tbody tr th {\n        vertical-align: top;\n    }\n\n    .dataframe thead th {\n        text-align: right;\n    }\n</style>\n<table border=\"1\" class=\"dataframe\">\n  <thead>\n    <tr style=\"text-align: right;\">\n      <th></th>\n      <th>path</th>\n      <th>category</th>\n    </tr>\n  </thead>\n  <tbody>\n    <tr>\n      <th>0</th>\n      <td>1.jpg</td>\n      <td>0</td>\n    </tr>\n    <tr>\n      <th>1</th>\n      <td>10.jpg</td>\n      <td>0</td>\n    </tr>\n    <tr>\n      <th>2</th>\n      <td>11.jpg</td>\n      <td>0</td>\n    </tr>\n    <tr>\n      <th>3</th>\n      <td>12.jpg</td>\n      <td>0</td>\n    </tr>\n    <tr>\n      <th>4</th>\n      <td>13.jpg</td>\n      <td>0</td>\n    </tr>\n    <tr>\n      <th>...</th>\n      <td>...</td>\n      <td>...</td>\n    </tr>\n    <tr>\n      <th>106</th>\n      <td>92 Male (L View).jpg</td>\n      <td>1</td>\n    </tr>\n    <tr>\n      <th>107</th>\n      <td>93 F (A View).jpg</td>\n      <td>1</td>\n    </tr>\n    <tr>\n      <th>108</th>\n      <td>93 F (L View).jpg</td>\n      <td>1</td>\n    </tr>\n    <tr>\n      <th>109</th>\n      <td>94 F (A View).jpg</td>\n      <td>1</td>\n    </tr>\n    <tr>\n      <th>110</th>\n      <td>94 F (L View).jpg</td>\n      <td>1</td>\n    </tr>\n  </tbody>\n</table>\n<p>193 rows × 2 columns</p>\n</div>"
     },
     "execution_count": 5,
     "metadata": {},
     "output_type": "execute_result"
    }
   ],
   "source": [
    "df = pd.concat([df_n,df_f])\n",
    "df"
   ],
   "metadata": {
    "collapsed": false,
    "pycharm": {
     "name": "#%%\n"
    }
   }
  },
  {
   "cell_type": "code",
   "execution_count": 25,
   "outputs": [],
   "source": [
    "#df.to_csv(\"../data/Wrist Fracture/allLabels.csv\",index=False)"
   ],
   "metadata": {
    "collapsed": false,
    "pycharm": {
     "name": "#%%\n"
    }
   }
  },
  {
   "cell_type": "code",
   "execution_count": 6,
   "outputs": [
    {
     "data": {
      "text/plain": "                     path  category\n0                   1.jpg         0\n1                  10.jpg         0\n2                  11.jpg         0\n3                  12.jpg         0\n4                  13.jpg         0\n..                    ...       ...\n188  92 Male (L View).jpg         1\n189     93 F (A View).jpg         1\n190     93 F (L View).jpg         1\n191     94 F (A View).jpg         1\n192     94 F (L View).jpg         1\n\n[193 rows x 2 columns]",
      "text/html": "<div>\n<style scoped>\n    .dataframe tbody tr th:only-of-type {\n        vertical-align: middle;\n    }\n\n    .dataframe tbody tr th {\n        vertical-align: top;\n    }\n\n    .dataframe thead th {\n        text-align: right;\n    }\n</style>\n<table border=\"1\" class=\"dataframe\">\n  <thead>\n    <tr style=\"text-align: right;\">\n      <th></th>\n      <th>path</th>\n      <th>category</th>\n    </tr>\n  </thead>\n  <tbody>\n    <tr>\n      <th>0</th>\n      <td>1.jpg</td>\n      <td>0</td>\n    </tr>\n    <tr>\n      <th>1</th>\n      <td>10.jpg</td>\n      <td>0</td>\n    </tr>\n    <tr>\n      <th>2</th>\n      <td>11.jpg</td>\n      <td>0</td>\n    </tr>\n    <tr>\n      <th>3</th>\n      <td>12.jpg</td>\n      <td>0</td>\n    </tr>\n    <tr>\n      <th>4</th>\n      <td>13.jpg</td>\n      <td>0</td>\n    </tr>\n    <tr>\n      <th>...</th>\n      <td>...</td>\n      <td>...</td>\n    </tr>\n    <tr>\n      <th>188</th>\n      <td>92 Male (L View).jpg</td>\n      <td>1</td>\n    </tr>\n    <tr>\n      <th>189</th>\n      <td>93 F (A View).jpg</td>\n      <td>1</td>\n    </tr>\n    <tr>\n      <th>190</th>\n      <td>93 F (L View).jpg</td>\n      <td>1</td>\n    </tr>\n    <tr>\n      <th>191</th>\n      <td>94 F (A View).jpg</td>\n      <td>1</td>\n    </tr>\n    <tr>\n      <th>192</th>\n      <td>94 F (L View).jpg</td>\n      <td>1</td>\n    </tr>\n  </tbody>\n</table>\n<p>193 rows × 2 columns</p>\n</div>"
     },
     "execution_count": 6,
     "metadata": {},
     "output_type": "execute_result"
    }
   ],
   "source": [
    "df2 = pd.read_csv(\"../data/Wrist Fracture/allLabels.csv\")\n",
    "df2"
   ],
   "metadata": {
    "collapsed": false,
    "pycharm": {
     "name": "#%%\n"
    }
   }
  },
  {
   "cell_type": "code",
   "execution_count": 31,
   "outputs": [
    {
     "data": {
      "text/plain": "pandas.core.series.Series"
     },
     "execution_count": 31,
     "metadata": {},
     "output_type": "execute_result"
    }
   ],
   "source": [
    "idx = [1,2,3,4,5]\n",
    "img_labels = pd.read_csv(\"../data/Wrist Fracture/allLabels.csv\")\n",
    "label = img_labels.iloc[idx, 1]\n",
    "type(label)"
   ],
   "metadata": {
    "collapsed": false,
    "pycharm": {
     "name": "#%%\n"
    }
   }
  },
  {
   "cell_type": "markdown",
   "source": [
    "## Train Test split\n",
    "This part will split a folder into a stratified Train Test Split. Also, it will take the csv file and split it as well."
   ],
   "metadata": {
    "collapsed": false,
    "pycharm": {
     "name": "#%% md\n"
    }
   }
  },
  {
   "cell_type": "code",
   "execution_count": 16,
   "outputs": [
    {
     "name": "stdout",
     "output_type": "stream",
     "text": [
      "there are a total of 193 files \n",
      "\n",
      "the distribution is 42.487 for normal and 57.513 for fractures\n"
     ]
    }
   ],
   "source": [
    "total_inputs = len(normals) + len(fractures)\n",
    "print(f\"there are a total of {total_inputs} files \\n\")\n",
    "print(f\"the distribution is {len(normals)/total_inputs*100:.3f} for normal and {len(fractures)/total_inputs*100:.3f} for fractures\")"
   ],
   "metadata": {
    "collapsed": false,
    "pycharm": {
     "name": "#%%\n"
    }
   }
  },
  {
   "cell_type": "code",
   "execution_count": null,
   "outputs": [],
   "source": [],
   "metadata": {
    "collapsed": false,
    "pycharm": {
     "name": "#%%\n"
    }
   }
  },
  {
   "cell_type": "code",
   "execution_count": 14,
   "outputs": [],
   "source": [
    "import torch\n",
    "import numpy as np\n",
    "\n",
    "l1 = np.array([1,2,3]).tolist()\n",
    "l2 = np.array([2,3,4,4])\n"
   ],
   "metadata": {
    "collapsed": false,
    "pycharm": {
     "name": "#%%\n"
    }
   }
  },
  {
   "cell_type": "code",
   "execution_count": 15,
   "outputs": [
    {
     "data": {
      "text/plain": "[1, 2, 3]"
     },
     "execution_count": 15,
     "metadata": {},
     "output_type": "execute_result"
    }
   ],
   "source": [
    "l1"
   ],
   "metadata": {
    "collapsed": false,
    "pycharm": {
     "name": "#%%\n"
    }
   }
  },
  {
   "cell_type": "markdown",
   "source": [
    "## Reading Chest Data"
   ],
   "metadata": {
    "collapsed": false,
    "pycharm": {
     "name": "#%% md\n"
    }
   }
  },
  {
   "cell_type": "code",
   "execution_count": null,
   "outputs": [],
   "source": [
    "#remove all data with more than one observation\n",
    "import pandas as pd\n",
    "df_chest = pd.read_csv(\"../data/Chest/Data_Entry_2017.csv\")\n",
    "df_chest[\"labels-count\"] = df_chest[\"Finding Labels\"].str.split(\"|\")\n",
    "df_chest = df_chest[df_chest[\"labels-count\"]==1]"
   ],
   "metadata": {
    "collapsed": false,
    "pycharm": {
     "name": "#%%\n"
    }
   }
  },
  {
   "cell_type": "code",
   "execution_count": null,
   "outputs": [],
   "source": [
    "labels = df_chest[\"Finding Labels\"].unique()\n",
    "labels"
   ],
   "metadata": {
    "collapsed": false,
    "pycharm": {
     "name": "#%%\n"
    }
   }
  },
  {
   "cell_type": "code",
   "execution_count": 76,
   "outputs": [
    {
     "data": {
      "text/plain": "             Image Index Finding Labels  Follow-up #  Patient ID  Patient Age  \\\n0       00000001_000.png   Cardiomegaly            0           1           58   \n3       00000002_000.png     No Finding            0           2           81   \n4       00000003_000.png         Hernia            0           3           81   \n5       00000003_001.png         Hernia            1           3           74   \n6       00000003_002.png         Hernia            2           3           75   \n...                  ...            ...          ...         ...          ...   \n112114  00030801_000.png     No Finding            0       30801           39   \n112116  00030802_000.png     No Finding            0       30802           29   \n112117  00030803_000.png     No Finding            0       30803           42   \n112118  00030804_000.png     No Finding            0       30804           30   \n112119  00030805_000.png     No Finding            0       30805           27   \n\n       Patient Gender View Position  OriginalImage[Width  Height]  \\\n0                   M            PA                 2682     2749   \n3                   M            PA                 2500     2048   \n4                   F            PA                 2582     2991   \n5                   F            PA                 2500     2048   \n6                   F            PA                 2048     2500   \n...               ...           ...                  ...      ...   \n112114              M            PA                 2500     2048   \n112116              M            PA                 2048     2500   \n112117              F            PA                 2048     2500   \n112118              F            PA                 2048     2500   \n112119              M            PA                 2048     2500   \n\n        OriginalImagePixelSpacing[x     y]  Unnamed: 11  labelscount  sick  \\\n0                             0.143  0.143          NaN            1     0   \n3                             0.171  0.171          NaN            1     1   \n4                             0.143  0.143          NaN            1     0   \n5                             0.168  0.168          NaN            1     0   \n6                             0.168  0.168          NaN            1     0   \n...                             ...    ...          ...          ...   ...   \n112114                        0.168  0.168          NaN            1     1   \n112116                        0.168  0.168          NaN            1     1   \n112117                        0.168  0.168          NaN            1     1   \n112118                        0.168  0.168          NaN            1     1   \n112119                        0.171  0.171          NaN            1     1   \n\n        category  \n0              0  \n3              1  \n4              0  \n5              0  \n6              0  \n...          ...  \n112114         1  \n112116         1  \n112117         1  \n112118         1  \n112119         1  \n\n[91324 rows x 15 columns]",
      "text/html": "<div>\n<style scoped>\n    .dataframe tbody tr th:only-of-type {\n        vertical-align: middle;\n    }\n\n    .dataframe tbody tr th {\n        vertical-align: top;\n    }\n\n    .dataframe thead th {\n        text-align: right;\n    }\n</style>\n<table border=\"1\" class=\"dataframe\">\n  <thead>\n    <tr style=\"text-align: right;\">\n      <th></th>\n      <th>Image Index</th>\n      <th>Finding Labels</th>\n      <th>Follow-up #</th>\n      <th>Patient ID</th>\n      <th>Patient Age</th>\n      <th>Patient Gender</th>\n      <th>View Position</th>\n      <th>OriginalImage[Width</th>\n      <th>Height]</th>\n      <th>OriginalImagePixelSpacing[x</th>\n      <th>y]</th>\n      <th>Unnamed: 11</th>\n      <th>labelscount</th>\n      <th>sick</th>\n      <th>category</th>\n    </tr>\n  </thead>\n  <tbody>\n    <tr>\n      <th>0</th>\n      <td>00000001_000.png</td>\n      <td>Cardiomegaly</td>\n      <td>0</td>\n      <td>1</td>\n      <td>58</td>\n      <td>M</td>\n      <td>PA</td>\n      <td>2682</td>\n      <td>2749</td>\n      <td>0.143</td>\n      <td>0.143</td>\n      <td>NaN</td>\n      <td>1</td>\n      <td>0</td>\n      <td>0</td>\n    </tr>\n    <tr>\n      <th>3</th>\n      <td>00000002_000.png</td>\n      <td>No Finding</td>\n      <td>0</td>\n      <td>2</td>\n      <td>81</td>\n      <td>M</td>\n      <td>PA</td>\n      <td>2500</td>\n      <td>2048</td>\n      <td>0.171</td>\n      <td>0.171</td>\n      <td>NaN</td>\n      <td>1</td>\n      <td>1</td>\n      <td>1</td>\n    </tr>\n    <tr>\n      <th>4</th>\n      <td>00000003_000.png</td>\n      <td>Hernia</td>\n      <td>0</td>\n      <td>3</td>\n      <td>81</td>\n      <td>F</td>\n      <td>PA</td>\n      <td>2582</td>\n      <td>2991</td>\n      <td>0.143</td>\n      <td>0.143</td>\n      <td>NaN</td>\n      <td>1</td>\n      <td>0</td>\n      <td>0</td>\n    </tr>\n    <tr>\n      <th>5</th>\n      <td>00000003_001.png</td>\n      <td>Hernia</td>\n      <td>1</td>\n      <td>3</td>\n      <td>74</td>\n      <td>F</td>\n      <td>PA</td>\n      <td>2500</td>\n      <td>2048</td>\n      <td>0.168</td>\n      <td>0.168</td>\n      <td>NaN</td>\n      <td>1</td>\n      <td>0</td>\n      <td>0</td>\n    </tr>\n    <tr>\n      <th>6</th>\n      <td>00000003_002.png</td>\n      <td>Hernia</td>\n      <td>2</td>\n      <td>3</td>\n      <td>75</td>\n      <td>F</td>\n      <td>PA</td>\n      <td>2048</td>\n      <td>2500</td>\n      <td>0.168</td>\n      <td>0.168</td>\n      <td>NaN</td>\n      <td>1</td>\n      <td>0</td>\n      <td>0</td>\n    </tr>\n    <tr>\n      <th>...</th>\n      <td>...</td>\n      <td>...</td>\n      <td>...</td>\n      <td>...</td>\n      <td>...</td>\n      <td>...</td>\n      <td>...</td>\n      <td>...</td>\n      <td>...</td>\n      <td>...</td>\n      <td>...</td>\n      <td>...</td>\n      <td>...</td>\n      <td>...</td>\n      <td>...</td>\n    </tr>\n    <tr>\n      <th>112114</th>\n      <td>00030801_000.png</td>\n      <td>No Finding</td>\n      <td>0</td>\n      <td>30801</td>\n      <td>39</td>\n      <td>M</td>\n      <td>PA</td>\n      <td>2500</td>\n      <td>2048</td>\n      <td>0.168</td>\n      <td>0.168</td>\n      <td>NaN</td>\n      <td>1</td>\n      <td>1</td>\n      <td>1</td>\n    </tr>\n    <tr>\n      <th>112116</th>\n      <td>00030802_000.png</td>\n      <td>No Finding</td>\n      <td>0</td>\n      <td>30802</td>\n      <td>29</td>\n      <td>M</td>\n      <td>PA</td>\n      <td>2048</td>\n      <td>2500</td>\n      <td>0.168</td>\n      <td>0.168</td>\n      <td>NaN</td>\n      <td>1</td>\n      <td>1</td>\n      <td>1</td>\n    </tr>\n    <tr>\n      <th>112117</th>\n      <td>00030803_000.png</td>\n      <td>No Finding</td>\n      <td>0</td>\n      <td>30803</td>\n      <td>42</td>\n      <td>F</td>\n      <td>PA</td>\n      <td>2048</td>\n      <td>2500</td>\n      <td>0.168</td>\n      <td>0.168</td>\n      <td>NaN</td>\n      <td>1</td>\n      <td>1</td>\n      <td>1</td>\n    </tr>\n    <tr>\n      <th>112118</th>\n      <td>00030804_000.png</td>\n      <td>No Finding</td>\n      <td>0</td>\n      <td>30804</td>\n      <td>30</td>\n      <td>F</td>\n      <td>PA</td>\n      <td>2048</td>\n      <td>2500</td>\n      <td>0.168</td>\n      <td>0.168</td>\n      <td>NaN</td>\n      <td>1</td>\n      <td>1</td>\n      <td>1</td>\n    </tr>\n    <tr>\n      <th>112119</th>\n      <td>00030805_000.png</td>\n      <td>No Finding</td>\n      <td>0</td>\n      <td>30805</td>\n      <td>27</td>\n      <td>M</td>\n      <td>PA</td>\n      <td>2048</td>\n      <td>2500</td>\n      <td>0.171</td>\n      <td>0.171</td>\n      <td>NaN</td>\n      <td>1</td>\n      <td>1</td>\n      <td>1</td>\n    </tr>\n  </tbody>\n</table>\n<p>91324 rows × 15 columns</p>\n</div>"
     },
     "execution_count": 76,
     "metadata": {},
     "output_type": "execute_result"
    }
   ],
   "source": [
    "df_chest[\"category\"] = df_chest[\"Finding Labels\"].str.contains(\"No Finding\").map(lambda x:int(x))#.map(lambda x:len(x))\n",
    "df_chest"
   ],
   "metadata": {
    "collapsed": false,
    "pycharm": {
     "name": "#%%\n"
    }
   }
  },
  {
   "cell_type": "code",
   "execution_count": null,
   "outputs": [],
   "source": [
    "# group by the labels\n",
    "df_chest_grouped = df_chest.groupby(\"Finding Labels\")"
   ],
   "metadata": {
    "collapsed": false,
    "pycharm": {
     "name": "#%%\n"
    }
   }
  },
  {
   "cell_type": "code",
   "execution_count": 85,
   "outputs": [],
   "source": [
    "import os\n",
    "\n",
    "df_list = []\n",
    "for i in range(1,13):\n",
    "    dire = \"../data/Chest/images_00\"\n",
    "    if i>=10:\n",
    "        dire = dire[:-1]\n",
    "    path = dire+str(i)+\"/images\"\n",
    "    liste = os.listdir(path)\n",
    "    df_cest_new = df_chest[df_chest[\"Image Index\"].isin(liste)].copy()\n",
    "    df_cest_new[\"path\"] = path[14:]\n",
    "    df_list.append(df_cest_new)\n",
    "\n",
    "\n",
    "df4 = pd.concat(df_list)\n",
    "df4[\"path\"] = df4[\"path\"] + \"/\" + df4[\"Image Index\"]\n",
    "df5 = df4[[\"path\",\"category\"]]\n"
   ],
   "metadata": {
    "collapsed": false,
    "pycharm": {
     "name": "#%%\n"
    }
   }
  },
  {
   "cell_type": "code",
   "execution_count": 89,
   "outputs": [],
   "source": [
    "df5.to_csv(\"../data/Chest/allLabels.csv\",index=False)"
   ],
   "metadata": {
    "collapsed": false,
    "pycharm": {
     "name": "#%%\n"
    }
   }
  },
  {
   "cell_type": "code",
   "execution_count": 3,
   "outputs": [],
   "source": [
    "# read csv file\n",
    "import pandas as pd\n",
    "df_chest = pd.read_csv(\"../data/Chest/allLabels.csv\")"
   ],
   "metadata": {
    "collapsed": false,
    "pycharm": {
     "name": "#%%\n"
    }
   }
  },
  {
   "cell_type": "code",
   "execution_count": 1,
   "outputs": [],
   "source": [
    "import json\n",
    "# importing the module\n",
    "\n",
    "# Opening JSON file\n",
    "with open(\"../modeltraining/modeltemplates/params.json\") as json_file:\n",
    "    data = json.load(json_file)"
   ],
   "metadata": {
    "collapsed": false,
    "pycharm": {
     "name": "#%%\n"
    }
   }
  },
  {
   "cell_type": "code",
   "execution_count": 3,
   "outputs": [
    {
     "data": {
      "text/plain": "dict"
     },
     "execution_count": 3,
     "metadata": {},
     "output_type": "execute_result"
    }
   ],
   "source": [
    "type(data)"
   ],
   "metadata": {
    "collapsed": false,
    "pycharm": {
     "name": "#%%\n"
    }
   }
  },
  {
   "cell_type": "code",
   "execution_count": null,
   "outputs": [],
   "source": [],
   "metadata": {
    "collapsed": false,
    "pycharm": {
     "name": "#%%\n"
    }
   }
  },
  {
   "cell_type": "code",
   "execution_count": 6,
   "outputs": [],
   "source": [
    "import pandas as pd\n",
    "df_hh = pd.read_csv(\"../data/Chest/allLabels.csv\")\n",
    "df_sample = df_hh.groupby('category', group_keys=False).apply(lambda x: x.sample(50))\n",
    "df_sample = df_sample.sample(frac=1).reset_index(drop=True)\n"
   ],
   "metadata": {
    "collapsed": false,
    "pycharm": {
     "name": "#%%\n"
    }
   }
  },
  {
   "cell_type": "code",
   "execution_count": 10,
   "outputs": [],
   "source": [
    "df_sample.to_csv(\"../data/Chest/samples100.csv\",index=False)"
   ],
   "metadata": {
    "collapsed": false,
    "pycharm": {
     "name": "#%%\n"
    }
   }
  },
  {
   "cell_type": "code",
   "execution_count": 13,
   "outputs": [
    {
     "data": {
      "text/plain": "[True, False, True]"
     },
     "execution_count": 13,
     "metadata": {},
     "output_type": "execute_result"
    }
   ],
   "source": [
    "bla = [True,False,True]\n",
    "bla*1"
   ],
   "metadata": {
    "collapsed": false,
    "pycharm": {
     "name": "#%%\n"
    }
   }
  }
 ],
 "metadata": {
  "kernelspec": {
   "display_name": "Python 3",
   "language": "python",
   "name": "python3"
  },
  "language_info": {
   "codemirror_mode": {
    "name": "ipython",
    "version": 2
   },
   "file_extension": ".py",
   "mimetype": "text/x-python",
   "name": "python",
   "nbconvert_exporter": "python",
   "pygments_lexer": "ipython2",
   "version": "2.7.6"
  }
 },
 "nbformat": 4,
 "nbformat_minor": 0
}