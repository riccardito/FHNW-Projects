{
 "cells": [
  {
   "cell_type": "code",
   "execution_count": 34,
   "id": "ddc1237b-3a2d-4663-8b38-58c4f54b0bfb",
   "metadata": {
    "pycharm": {
     "name": "#%%\n"
    }
   },
   "outputs": [],
   "source": [
    "from torchvision.transforms import transforms\n",
    "#from preprocessing import Imageloader, custom_metrics, data_split\n",
    "\n",
    "\n",
    "transform = transforms.Compose(\n",
    "        [transforms.ToPILImage(),\n",
    "         transforms.Grayscale(num_output_channels=3),\n",
    "         transforms.Resize((224, 224)),\n",
    "         transforms.ToTensor(),\n",
    "         transforms.Normalize((0.5), (0.5)),\n",
    "         ]\n",
    "    )\n",
    "annotations_file = \"/scratch/snx3000/rnef/Chest/allLabels.csv\"\n",
    "img_dir = \"/scratch/snx3000/rnef/Chest\"\n",
    "model_dir = \"../models/\"\n",
    "\n",
    "dataset = Imageloader(annotations_file, img_dir, transform)\n"
   ]
  },
  {
   "cell_type": "code",
   "execution_count": 35,
   "id": "8071cdc3-c1e2-4606-8ddb-5b647bd30c93",
   "metadata": {
    "pycharm": {
     "name": "#%%\n"
    }
   },
   "outputs": [],
   "source": [
    "splitter = data_split(dataset)\n",
    "test_set,train_set = splitter.splitter()\n"
   ]
  },
  {
   "cell_type": "code",
   "execution_count": 36,
   "id": "697fb852-19db-4424-9011-8ac2265fd3a6",
   "metadata": {
    "pycharm": {
     "name": "#%%\n"
    }
   },
   "outputs": [
    {
     "data": {
      "text/plain": [
       "73059"
      ]
     },
     "execution_count": 36,
     "metadata": {},
     "output_type": "execute_result"
    }
   ],
   "source": [
    "len(test_set)"
   ]
  },
  {
   "cell_type": "markdown",
   "id": "b14793e9-493a-449e-b86e-dcd01fcd049c",
   "metadata": {
    "pycharm": {
     "name": "#%% md\n"
    }
   },
   "source": [
    "max(test_set)"
   ]
  },
  {
   "cell_type": "code",
   "execution_count": 37,
   "id": "dc7cb2ea-0e46-41f1-8b92-82f44a8e36fd",
   "metadata": {
    "pycharm": {
     "name": "#%%\n"
    }
   },
   "outputs": [
    {
     "data": {
      "text/plain": [
       "91323"
      ]
     },
     "execution_count": 37,
     "metadata": {},
     "output_type": "execute_result"
    }
   ],
   "source": [
    "len(dataset)"
   ]
  },
  {
   "cell_type": "code",
   "execution_count": 38,
   "id": "8a381c73-9eef-4f35-ad11-5b6bd95e4af2",
   "metadata": {
    "pycharm": {
     "name": "#%%\n"
    }
   },
   "outputs": [
    {
     "name": "stdout",
     "output_type": "stream",
     "text": [
      "tensor(1.2414, grad_fn=<BinaryCrossEntropyBackward0>)\n"
     ]
    }
   ],
   "source": [
    "import torch\n",
    "import torch.nn as nn\n",
    "x = nn.Sigmoid()\n",
    "loss = nn.BCELoss()\n",
    "input_prob = torch.randn(4, requires_grad=True)\n",
    "target_prob = torch.empty(4).random_(3)\n",
    "output_prob = loss(x(input_prob), target_prob)\n",
    "output_prob.backward()\n",
    "print(output_prob)"
   ]
  },
  {
   "cell_type": "markdown",
   "id": "f064bcec-2bc6-4f2b-acc4-b43114f4d6ee",
   "metadata": {
    "pycharm": {
     "name": "#%% md\n"
    }
   },
   "source": [
    "### Ciafar testing"
   ]
  },
  {
   "cell_type": "code",
   "execution_count": 39,
   "id": "d95856b5-820a-4f78-ad2a-2208c321af6d",
   "metadata": {
    "pycharm": {
     "name": "#%%\n"
    }
   },
   "outputs": [
    {
     "data": {
      "text/plain": [
       "1    0\n",
       "2    0\n",
       "3    0\n",
       "4    0\n",
       "5    0\n",
       "Name: category, dtype: int64"
      ]
     },
     "execution_count": 39,
     "metadata": {},
     "output_type": "execute_result"
    }
   ],
   "source": [
    "import pandas as pd\n",
    "annotations_file = \"/scratch/snx3000/rnef/Chest/sampleLabels.csv\"\n",
    "df_123 = pd.read_csv(annotations_file).iloc[1:6, 1]\n",
    "df_123"
   ]
  },
  {
   "cell_type": "code",
   "execution_count": 6,
   "id": "6e9388cb-eb60-4dcd-a581-b077e1b13f69",
   "metadata": {
    "pycharm": {
     "name": "#%%\n"
    }
   },
   "outputs": [],
   "source": [
    "from torch.utils.data import DataLoader, SubsetRandomSampler\n",
    "import numpy as np\n",
    "\n",
    "class data_split:\n",
    "    def __init__(self, data):\n",
    "        self.data = data\n",
    "        \n",
    "        \n",
    "    def splitter(self,validation_split = 0.2,shuffle_dataset = True):\n",
    "        # Creating data indices for training and validation splits:\n",
    "        dataset_size = len(self.data)\n",
    "        indices = list(range(dataset_size))\n",
    "        \n",
    "        if shuffle_dataset:\n",
    "            np.random.seed(402)\n",
    "            np.random.shuffle(indices)\n",
    "            \n",
    "        split = int(np.floor(validation_split * dataset_size))\n",
    "        train_indices, val_indices = indices[split:], indices[:split]\n",
    "\n",
    "        # Creating data samplers\n",
    "        train_sampler = SubsetRandomSampler(train_indices)\n",
    "        valid_sampler = SubsetRandomSampler(val_indices)\n",
    "        \n",
    "        return  train_sampler, valid_sampler"
   ]
  },
  {
   "cell_type": "code",
   "execution_count": 7,
   "id": "3d6f93d1-8dde-4eca-a512-4eb76b15020f",
   "metadata": {
    "pycharm": {
     "name": "#%%\n"
    }
   },
   "outputs": [],
   "source": [
    "from torch.utils.data.dataset import Dataset\n",
    "import pandas as pd\n",
    "class Imageloader(Dataset):\n",
    "    def __init__(self, annotations_file, img_dir, transform=None, target_transform=None):\n",
    "        self.img_labels = pd.read_csv(annotations_file)\n",
    "        self.img_dir = img_dir\n",
    "        self.transform = transform\n",
    "        self.target_transform = target_transform\n",
    "\n",
    "    def __len__(self):\n",
    "        return len(self.img_labels)\n",
    "\n",
    "    def __getitem__(self, idx):\n",
    "        img_path = os.path.join(self.img_dir, self.img_labels.iloc[idx, 0]) \n",
    "        image = read_image(img_path)\n",
    "        label = self.img_labels.iloc[idx, 1]\n",
    "        if self.transform:\n",
    "            image = self.transform(image)\n",
    "        if self.target_transform:\n",
    "            label = self.target_transform(label)\n",
    "        return image, int(label)"
   ]
  },
  {
   "cell_type": "code",
   "execution_count": 13,
   "id": "f6e6d2a4-122b-4414-8510-580e4bb0786b",
   "metadata": {
    "pycharm": {
     "name": "#%%\n"
    }
   },
   "outputs": [],
   "source": [
    "from torchvision.transforms import transforms\n",
    "import torch\n",
    "annotations_file = \"../data/Chest/samples100.csv\"\n",
    "img_dir = \"../data/Chest/\"\n",
    "transform = transforms.Compose(\n",
    "    [transforms.ToPILImage(),\n",
    "    transforms.Grayscale(num_output_channels=1),\n",
    "    transforms.Resize((224,224)),\n",
    "    #transforms.CenterCrop(224),\n",
    "    transforms.ToTensor(),\n",
    "    transforms.Normalize((0.5),(0.5)),\n",
    "         ]\n",
    "    )\n",
    "dataset = Imageloader(annotations_file, img_dir, transform)\n",
    "\n",
    "    #Split dataset into train and validation\n",
    "splitt = data_split(dataset)\n",
    "train_sampler, valid_sampler = splitt.splitter()\n",
    "\n",
    "\n",
    "train_loader = torch.utils.data.DataLoader(dataset,\n",
    "                                               batch_size=10,\n",
    "                                               sampler=train_sampler\n",
    "                                               )\n",
    "    \n",
    "test_loader = torch.utils.data.DataLoader(dataset,\n",
    "                                              batch_size=10,\n",
    "                                              sampler=valid_sampler\n",
    "                                              )\n",
    "\n",
    "\n"
   ]
  },
  {
   "cell_type": "code",
   "execution_count": 14,
   "id": "679c5d4c-f2ee-4b6f-affe-648fa4ac1c50",
   "metadata": {
    "pycharm": {
     "name": "#%%\n"
    }
   },
   "outputs": [
    {
     "name": "stdout",
     "output_type": "stream",
     "text": [
      "*************Training*************** \n",
      " epoch 1 from 10\n"
     ]
    },
    {
     "name": "stderr",
     "output_type": "stream",
     "text": [
      " 12%|█▎        | 1/8 [00:00<00:02,  3.50it/s]"
     ]
    },
    {
     "name": "stdout",
     "output_type": "stream",
     "text": [
      "0\n",
      "tensor([0, 0, 1, 0, 1, 0, 0, 0, 0, 1])\n"
     ]
    },
    {
     "name": "stderr",
     "output_type": "stream",
     "text": [
      " 25%|██▌       | 2/8 [00:00<00:01,  3.66it/s]"
     ]
    },
    {
     "name": "stdout",
     "output_type": "stream",
     "text": [
      "1\n",
      "tensor([0, 0, 1, 0, 1, 1, 0, 1, 0, 1])\n"
     ]
    },
    {
     "name": "stderr",
     "output_type": "stream",
     "text": [
      " 38%|███▊      | 3/8 [00:00<00:01,  3.72it/s]"
     ]
    },
    {
     "name": "stdout",
     "output_type": "stream",
     "text": [
      "2\n",
      "tensor([0, 1, 0, 0, 1, 1, 1, 1, 0, 1])\n"
     ]
    },
    {
     "name": "stderr",
     "output_type": "stream",
     "text": [
      " 50%|█████     | 4/8 [00:01<00:01,  3.86it/s]"
     ]
    },
    {
     "name": "stdout",
     "output_type": "stream",
     "text": [
      "3\n",
      "tensor([1, 0, 1, 1, 0, 1, 0, 1, 0, 1])\n"
     ]
    },
    {
     "name": "stderr",
     "output_type": "stream",
     "text": [
      " 62%|██████▎   | 5/8 [00:01<00:00,  4.03it/s]"
     ]
    },
    {
     "name": "stdout",
     "output_type": "stream",
     "text": [
      "4\n",
      "tensor([1, 1, 0, 0, 0, 1, 1, 0, 0, 0])\n"
     ]
    },
    {
     "name": "stderr",
     "output_type": "stream",
     "text": [
      " 75%|███████▌  | 6/8 [00:01<00:00,  4.07it/s]"
     ]
    },
    {
     "name": "stdout",
     "output_type": "stream",
     "text": [
      "5\n",
      "tensor([0, 1, 1, 1, 1, 1, 0, 0, 0, 1])\n"
     ]
    },
    {
     "name": "stderr",
     "output_type": "stream",
     "text": [
      " 88%|████████▊ | 7/8 [00:01<00:00,  4.10it/s]"
     ]
    },
    {
     "name": "stdout",
     "output_type": "stream",
     "text": [
      "6\n",
      "tensor([0, 1, 0, 0, 0, 0, 0, 1, 0, 0])\n"
     ]
    },
    {
     "name": "stderr",
     "output_type": "stream",
     "text": [
      "100%|██████████| 8/8 [00:02<00:00,  3.99it/s]\n"
     ]
    },
    {
     "name": "stdout",
     "output_type": "stream",
     "text": [
      "7\n",
      "tensor([1, 1, 1, 0, 1, 1, 0, 0, 1, 1])\n",
      "*************Training*************** \n",
      " epoch 2 from 10\n"
     ]
    },
    {
     "name": "stderr",
     "output_type": "stream",
     "text": [
      " 12%|█▎        | 1/8 [00:00<00:01,  4.06it/s]"
     ]
    },
    {
     "name": "stdout",
     "output_type": "stream",
     "text": [
      "0\n",
      "tensor([0, 1, 1, 1, 0, 0, 0, 0, 1, 1])\n"
     ]
    },
    {
     "name": "stderr",
     "output_type": "stream",
     "text": [
      " 25%|██▌       | 2/8 [00:00<00:01,  4.03it/s]"
     ]
    },
    {
     "name": "stdout",
     "output_type": "stream",
     "text": [
      "1\n",
      "tensor([0, 0, 1, 1, 0, 1, 0, 1, 0, 0])\n"
     ]
    },
    {
     "name": "stderr",
     "output_type": "stream",
     "text": [
      " 38%|███▊      | 3/8 [00:00<00:01,  3.91it/s]"
     ]
    },
    {
     "name": "stdout",
     "output_type": "stream",
     "text": [
      "2\n",
      "tensor([0, 0, 1, 0, 1, 0, 1, 0, 1, 1])\n"
     ]
    },
    {
     "name": "stderr",
     "output_type": "stream",
     "text": [
      " 50%|█████     | 4/8 [00:01<00:01,  3.97it/s]"
     ]
    },
    {
     "name": "stdout",
     "output_type": "stream",
     "text": [
      "3\n",
      "tensor([0, 0, 0, 1, 1, 0, 0, 1, 1, 0])\n"
     ]
    },
    {
     "name": "stderr",
     "output_type": "stream",
     "text": [
      " 62%|██████▎   | 5/8 [00:01<00:00,  3.81it/s]"
     ]
    },
    {
     "name": "stdout",
     "output_type": "stream",
     "text": [
      "4\n",
      "tensor([1, 1, 1, 0, 1, 0, 1, 0, 0, 1])\n"
     ]
    },
    {
     "name": "stderr",
     "output_type": "stream",
     "text": [
      " 75%|███████▌  | 6/8 [00:01<00:00,  3.73it/s]"
     ]
    },
    {
     "name": "stdout",
     "output_type": "stream",
     "text": [
      "5\n",
      "tensor([0, 0, 0, 0, 1, 0, 0, 0, 1, 1])\n"
     ]
    },
    {
     "name": "stderr",
     "output_type": "stream",
     "text": [
      " 88%|████████▊ | 7/8 [00:01<00:00,  3.73it/s]"
     ]
    },
    {
     "name": "stdout",
     "output_type": "stream",
     "text": [
      "6\n",
      "tensor([1, 0, 0, 0, 1, 1, 0, 1, 1, 1])\n"
     ]
    },
    {
     "name": "stderr",
     "output_type": "stream",
     "text": [
      "100%|██████████| 8/8 [00:02<00:00,  3.79it/s]"
     ]
    },
    {
     "name": "stdout",
     "output_type": "stream",
     "text": [
      "7\n",
      "tensor([1, 1, 0, 1, 1, 0, 1, 0, 1, 0])\n"
     ]
    },
    {
     "name": "stderr",
     "output_type": "stream",
     "text": [
      "\n"
     ]
    }
   ],
   "source": [
    "#from abc import ABC\n",
    "from PIL import Image\n",
    "import torch\n",
    "from torch.utils.data.dataset import Dataset\n",
    "from tqdm import tqdm\n",
    "\n",
    "import os\n",
    "import pandas as pd\n",
    "from torchvision.io import read_image\n",
    "import numpy as np\n",
    "from torch.utils.data import DataLoader, SubsetRandomSampler\n",
    "device = torch.device(\"cuda\" if torch.cuda.is_available() else \"cpu\")\n",
    "\n",
    "for epoch in range(2):\n",
    "        print(f\"*************Training*************** \\n epoch {epoch + 1} from 10\")\n",
    "        total_train = 0.0\n",
    "        correct_train = 0.0\n",
    "        # training\n",
    "        \n",
    "        #batch_index, (faces, labels) in enumerate(train_loader)\n",
    "        for i, data in enumerate(tqdm(train_loader, 0)):\n",
    "\n",
    "            # get the inputs; data is a list of [inputs, labels]\n",
    "            inputs, labels = data\n",
    "            inputs, labels = inputs.to(device), labels.to(device)\n",
    "            print(i)\n",
    "            print(labels)\n",
    "\n",
    "            # zero the parameter gradients\n",
    "            #optimizer.zero_grad()\n",
    "\n",
    "            # forward + backward + optimize\n",
    "            \n",
    "            #outputs = model(inputs)\n",
    "            #print(outputs)\n",
    "            #loss = criterion(outputs, labels)\n",
    "            #loss.backward()\n",
    "            #optimizer.step()"
   ]
  },
  {
   "cell_type": "code",
   "execution_count": 15,
   "id": "5f7a1fcb-cc86-423c-a9b1-38037e1e3216",
   "metadata": {
    "pycharm": {
     "name": "#%%\n"
    }
   },
   "outputs": [
    {
     "name": "stderr",
     "output_type": "stream",
     "text": [
      " 50%|█████     | 1/2 [00:00<00:00,  3.70it/s]"
     ]
    },
    {
     "name": "stdout",
     "output_type": "stream",
     "text": [
      "tensor([1, 0, 1, 0, 1, 1, 0, 0, 1, 1])\n"
     ]
    },
    {
     "name": "stderr",
     "output_type": "stream",
     "text": [
      "100%|██████████| 2/2 [00:00<00:00,  3.50it/s]\n"
     ]
    },
    {
     "name": "stdout",
     "output_type": "stream",
     "text": [
      "tensor([1, 0, 0, 1, 1, 1, 0, 0, 0, 1])\n"
     ]
    },
    {
     "name": "stderr",
     "output_type": "stream",
     "text": [
      " 50%|█████     | 1/2 [00:00<00:00,  3.75it/s]"
     ]
    },
    {
     "name": "stdout",
     "output_type": "stream",
     "text": [
      "tensor([0, 1, 0, 1, 1, 0, 1, 0, 0, 1])\n"
     ]
    },
    {
     "name": "stderr",
     "output_type": "stream",
     "text": [
      "100%|██████████| 2/2 [00:00<00:00,  4.17it/s]\n"
     ]
    },
    {
     "name": "stdout",
     "output_type": "stream",
     "text": [
      "tensor([1, 1, 1, 1, 0, 0, 0, 1, 0, 1])\n"
     ]
    },
    {
     "name": "stderr",
     "output_type": "stream",
     "text": [
      " 50%|█████     | 1/2 [00:00<00:00,  4.04it/s]"
     ]
    },
    {
     "name": "stdout",
     "output_type": "stream",
     "text": [
      "tensor([1, 0, 1, 1, 1, 1, 0, 0, 0, 0])\n"
     ]
    },
    {
     "name": "stderr",
     "output_type": "stream",
     "text": [
      "100%|██████████| 2/2 [00:00<00:00,  4.19it/s]\n"
     ]
    },
    {
     "name": "stdout",
     "output_type": "stream",
     "text": [
      "tensor([0, 1, 0, 1, 1, 0, 1, 1, 1, 0])\n"
     ]
    },
    {
     "name": "stderr",
     "output_type": "stream",
     "text": [
      " 50%|█████     | 1/2 [00:00<00:00,  4.34it/s]"
     ]
    },
    {
     "name": "stdout",
     "output_type": "stream",
     "text": [
      "tensor([1, 1, 0, 1, 1, 1, 0, 1, 0, 1])\n"
     ]
    },
    {
     "name": "stderr",
     "output_type": "stream",
     "text": [
      "100%|██████████| 2/2 [00:00<00:00,  4.34it/s]\n"
     ]
    },
    {
     "name": "stdout",
     "output_type": "stream",
     "text": [
      "tensor([0, 0, 0, 0, 1, 0, 0, 1, 1, 1])\n"
     ]
    },
    {
     "name": "stderr",
     "output_type": "stream",
     "text": [
      " 50%|█████     | 1/2 [00:00<00:00,  4.62it/s]"
     ]
    },
    {
     "name": "stdout",
     "output_type": "stream",
     "text": [
      "tensor([1, 0, 1, 0, 0, 0, 1, 1, 1, 1])\n"
     ]
    },
    {
     "name": "stderr",
     "output_type": "stream",
     "text": [
      "100%|██████████| 2/2 [00:00<00:00,  4.34it/s]\n"
     ]
    },
    {
     "name": "stdout",
     "output_type": "stream",
     "text": [
      "tensor([1, 0, 0, 0, 1, 0, 1, 0, 1, 1])\n"
     ]
    },
    {
     "name": "stderr",
     "output_type": "stream",
     "text": [
      " 50%|█████     | 1/2 [00:00<00:00,  4.39it/s]"
     ]
    },
    {
     "name": "stdout",
     "output_type": "stream",
     "text": [
      "tensor([1, 0, 1, 1, 0, 0, 0, 0, 1, 1])\n"
     ]
    },
    {
     "name": "stderr",
     "output_type": "stream",
     "text": [
      "100%|██████████| 2/2 [00:00<00:00,  4.20it/s]\n"
     ]
    },
    {
     "name": "stdout",
     "output_type": "stream",
     "text": [
      "tensor([1, 0, 1, 1, 0, 1, 1, 1, 0, 0])\n"
     ]
    },
    {
     "name": "stderr",
     "output_type": "stream",
     "text": [
      " 50%|█████     | 1/2 [00:00<00:00,  4.29it/s]"
     ]
    },
    {
     "name": "stdout",
     "output_type": "stream",
     "text": [
      "tensor([1, 1, 0, 0, 0, 1, 0, 1, 0, 0])\n"
     ]
    },
    {
     "name": "stderr",
     "output_type": "stream",
     "text": [
      "100%|██████████| 2/2 [00:00<00:00,  4.01it/s]\n"
     ]
    },
    {
     "name": "stdout",
     "output_type": "stream",
     "text": [
      "tensor([1, 1, 0, 1, 1, 0, 1, 0, 1, 1])\n"
     ]
    },
    {
     "name": "stderr",
     "output_type": "stream",
     "text": [
      " 50%|█████     | 1/2 [00:00<00:00,  4.03it/s]"
     ]
    },
    {
     "name": "stdout",
     "output_type": "stream",
     "text": [
      "tensor([1, 0, 0, 1, 1, 0, 0, 1, 1, 1])\n"
     ]
    },
    {
     "name": "stderr",
     "output_type": "stream",
     "text": [
      "100%|██████████| 2/2 [00:00<00:00,  4.03it/s]\n"
     ]
    },
    {
     "name": "stdout",
     "output_type": "stream",
     "text": [
      "tensor([1, 1, 0, 1, 0, 0, 1, 0, 1, 0])\n"
     ]
    },
    {
     "name": "stderr",
     "output_type": "stream",
     "text": [
      " 50%|█████     | 1/2 [00:00<00:00,  4.20it/s]"
     ]
    },
    {
     "name": "stdout",
     "output_type": "stream",
     "text": [
      "tensor([0, 0, 1, 1, 0, 0, 0, 1, 0, 1])\n"
     ]
    },
    {
     "name": "stderr",
     "output_type": "stream",
     "text": [
      "100%|██████████| 2/2 [00:00<00:00,  4.03it/s]\n"
     ]
    },
    {
     "name": "stdout",
     "output_type": "stream",
     "text": [
      "tensor([1, 1, 0, 0, 1, 1, 0, 1, 1, 1])\n"
     ]
    },
    {
     "name": "stderr",
     "output_type": "stream",
     "text": [
      " 50%|█████     | 1/2 [00:00<00:00,  4.36it/s]"
     ]
    },
    {
     "name": "stdout",
     "output_type": "stream",
     "text": [
      "tensor([1, 1, 1, 0, 0, 1, 0, 1, 1, 0])\n"
     ]
    },
    {
     "name": "stderr",
     "output_type": "stream",
     "text": [
      "100%|██████████| 2/2 [00:00<00:00,  4.10it/s]"
     ]
    },
    {
     "name": "stdout",
     "output_type": "stream",
     "text": [
      "tensor([0, 0, 1, 1, 1, 0, 0, 0, 1, 1])\n"
     ]
    },
    {
     "name": "stderr",
     "output_type": "stream",
     "text": [
      "\n"
     ]
    }
   ],
   "source": [
    "for b in range(10):\n",
    "    for i, data in enumerate(tqdm(test_loader, 0)):\n",
    "            images_test, labels_test = data\n",
    "            images_test, labels_test = images_test.to(device), labels_test.to(device)\n",
    "            print(labels_test)\n",
    "\n",
    "                "
   ]
  },
  {
   "cell_type": "code",
   "execution_count": 32,
   "id": "0f9e23f4-9a2f-4ba6-8778-ef8e5c8b3d94",
   "metadata": {
    "pycharm": {
     "name": "#%%\n"
    }
   },
   "outputs": [
    {
     "data": {
      "text/plain": [
       "[64,\n",
       " 61,\n",
       " 24,\n",
       " 78,\n",
       " 128,\n",
       " 46,\n",
       " 111,\n",
       " 32,\n",
       " 28,\n",
       " 156,\n",
       " 25,\n",
       " 189,\n",
       " 63,\n",
       " 196,\n",
       " 138,\n",
       " 97,\n",
       " 81,\n",
       " 22,\n",
       " 37,\n",
       " 17,\n",
       " 175,\n",
       " 104,\n",
       " 90,\n",
       " 73,\n",
       " 139,\n",
       " 4,\n",
       " 16,\n",
       " 56,\n",
       " 126,\n",
       " 180,\n",
       " 181,\n",
       " 33,\n",
       " 71,\n",
       " 95,\n",
       " 173,\n",
       " 160,\n",
       " 50,\n",
       " 36,\n",
       " 166,\n",
       " 43,\n",
       " 1,\n",
       " 178,\n",
       " 142,\n",
       " 39,\n",
       " 69,\n",
       " 199,\n",
       " 94,\n",
       " 190,\n",
       " 185,\n",
       " 54,\n",
       " 53,\n",
       " 119,\n",
       " 176,\n",
       " 109,\n",
       " 89,\n",
       " 12,\n",
       " 118,\n",
       " 113,\n",
       " 179,\n",
       " 93,\n",
       " 155,\n",
       " 49,\n",
       " 3,\n",
       " 72,\n",
       " 130,\n",
       " 135,\n",
       " 20,\n",
       " 184,\n",
       " 87,\n",
       " 75,\n",
       " 38,\n",
       " 67,\n",
       " 124,\n",
       " 57,\n",
       " 157,\n",
       " 44,\n",
       " 127,\n",
       " 30,\n",
       " 162,\n",
       " 103,\n",
       " 194,\n",
       " 140,\n",
       " 167,\n",
       " 136,\n",
       " 14,\n",
       " 77,\n",
       " 0,\n",
       " 168,\n",
       " 195,\n",
       " 158,\n",
       " 68,\n",
       " 105,\n",
       " 183,\n",
       " 74,\n",
       " 182,\n",
       " 26,\n",
       " 35,\n",
       " 40,\n",
       " 148,\n",
       " 146,\n",
       " 115,\n",
       " 145,\n",
       " 51,\n",
       " 144,\n",
       " 80,\n",
       " 161,\n",
       " 100,\n",
       " 110,\n",
       " 191,\n",
       " 101,\n",
       " 11,\n",
       " 153,\n",
       " 106,\n",
       " 121,\n",
       " 42,\n",
       " 177,\n",
       " 88,\n",
       " 18,\n",
       " 41,\n",
       " 137,\n",
       " 171,\n",
       " 164,\n",
       " 98,\n",
       " 48,\n",
       " 123,\n",
       " 83,\n",
       " 45,\n",
       " 5,\n",
       " 92,\n",
       " 152,\n",
       " 197,\n",
       " 96,\n",
       " 82,\n",
       " 143,\n",
       " 102,\n",
       " 114,\n",
       " 60,\n",
       " 147,\n",
       " 65,\n",
       " 66,\n",
       " 117,\n",
       " 122,\n",
       " 34,\n",
       " 107,\n",
       " 13,\n",
       " 31,\n",
       " 108,\n",
       " 134,\n",
       " 59,\n",
       " 29,\n",
       " 125,\n",
       " 141,\n",
       " 159,\n",
       " 19,\n",
       " 198,\n",
       " 84,\n",
       " 52,\n",
       " 76,\n",
       " 27,\n",
       " 163,\n",
       " 91,\n",
       " 120,\n",
       " 186,\n",
       " 21,\n",
       " 58,\n",
       " 47,\n",
       " 170,\n",
       " 2,\n",
       " 149,\n",
       " 132,\n",
       " 172,\n",
       " 151,\n",
       " 193,\n",
       " 86,\n",
       " 116,\n",
       " 85,\n",
       " 112,\n",
       " 187,\n",
       " 23,\n",
       " 169,\n",
       " 131,\n",
       " 192,\n",
       " 174,\n",
       " 150,\n",
       " 10,\n",
       " 129,\n",
       " 62,\n",
       " 7,\n",
       " 55,\n",
       " 9,\n",
       " 188,\n",
       " 8,\n",
       " 154,\n",
       " 79,\n",
       " 99,\n",
       " 165,\n",
       " 15,\n",
       " 70,\n",
       " 6,\n",
       " 133]"
      ]
     },
     "execution_count": 32,
     "metadata": {},
     "output_type": "execute_result"
    }
   ],
   "source": [
    "shuffle_dataset = True\n",
    "dataset_size = len(dataset)\n",
    "indices = list(range(dataset_size))\n",
    "        \n",
    "if shuffle_dataset:\n",
    "    np.random.seed(402)\n",
    "    np.random.shuffle(indices)\n",
    "    \n",
    "    \n",
    "split = int(np.floor(0.2 * dataset_size))\n",
    "         \n",
    "train_indices, val_indices = indices[split:], indices[:split]\n",
    "\n",
    "        # Creating data samplers\n",
    "#train_sampler = SubsetRandomSampler(train_indices)\n",
    "#valid_sampler = SubsetRandomSampler(val_indices)\n",
    "indices"
   ]
  },
  {
   "cell_type": "code",
   "execution_count": 34,
   "id": "a8cdf2ad-e7bf-4edf-9076-a6c32dc07521",
   "metadata": {
    "pycharm": {
     "name": "#%%\n"
    }
   },
   "outputs": [
    {
     "data": {
      "text/plain": [
       "40"
      ]
     },
     "execution_count": 34,
     "metadata": {},
     "output_type": "execute_result"
    }
   ],
   "source": [
    "len(val_indices)"
   ]
  },
  {
   "cell_type": "code",
   "execution_count": null,
   "id": "176272c8-0441-4c72-9689-7db92802477a",
   "metadata": {
    "pycharm": {
     "name": "#%%\n"
    }
   },
   "outputs": [],
   "source": []
  }
 ],
 "metadata": {
  "kernelspec": {
   "display_name": "Python 3 (ipykernel)",
   "language": "python",
   "name": "python3"
  },
  "language_info": {
   "codemirror_mode": {
    "name": "ipython",
    "version": 3
   },
   "file_extension": ".py",
   "mimetype": "text/x-python",
   "name": "python",
   "nbconvert_exporter": "python",
   "pygments_lexer": "ipython3",
   "version": "3.9.4"
  }
 },
 "nbformat": 4,
 "nbformat_minor": 5
}