{
 "cells": [
  {
   "cell_type": "code",
   "execution_count": 3,
   "metadata": {
    "collapsed": true,
    "pycharm": {
     "name": "#%%\n"
    }
   },
   "outputs": [],
   "source": [
    "import requests\n",
    "url = \"https://community-open-weather-map.p.rapidapi.com/forecast/daily\"\n",
    "querystring = {\"q\": \"davos,ch\"}\n",
    "headers = {\n",
    "            \"X-RapidAPI-Host\": \"community-open-weather-map.p.rapidapi.com\",\n",
    "            \"X-RapidAPI-Key\": \"486cc459f5mshc19884992659bdap1a2c40jsn26162820f766\"\n",
    "        }\n",
    "response = requests.request(\"GET\", url, headers=headers, params=querystring)"
   ]
  },
  {
   "cell_type": "code",
   "execution_count": 7,
   "outputs": [],
   "source": [
    "def google_translate(word):\n",
    "    from google_trans_new import google_translator\n",
    "    translator = google_translator()\n",
    "    return translator.translate(word, lang_src='en', lang_tgt='de')"
   ],
   "metadata": {
    "collapsed": false,
    "pycharm": {
     "name": "#%%\n"
    }
   }
  },
  {
   "cell_type": "code",
   "execution_count": 10,
   "outputs": [
    {
     "data": {
      "text/plain": "'Mein deutsches Urteil'"
     },
     "execution_count": 10,
     "metadata": {},
     "output_type": "execute_result"
    }
   ],
   "source": [
    "weather_data = {\"temp\": response.json()[\"list\"][0][\"temp\"][\"day\"],\n",
    "                \"main\": response.json()[\"list\"][0][\"weather\"][0][\"main\"]}"
   ],
   "metadata": {
    "collapsed": false,
    "pycharm": {
     "name": "#%%\n"
    }
   }
  },
  {
   "cell_type": "code",
   "execution_count": 18,
   "outputs": [],
   "source": [
    "def goTrans(word):\n",
    "    from translate import Translator\n",
    "    translator= Translator(to_lang=\"German\")\n",
    "    translation = translator.translate(word)\n",
    "    return translation"
   ],
   "metadata": {
    "collapsed": false,
    "pycharm": {
     "name": "#%%\n"
    }
   }
  },
  {
   "cell_type": "code",
   "execution_count": 19,
   "outputs": [
    {
     "data": {
      "text/plain": "'Guten Morgen!'"
     },
     "execution_count": 19,
     "metadata": {},
     "output_type": "execute_result"
    }
   ],
   "source": [
    "goTrans(\"Good Morning!\")"
   ],
   "metadata": {
    "collapsed": false,
    "pycharm": {
     "name": "#%%\n"
    }
   }
  },
  {
   "cell_type": "code",
   "execution_count": 21,
   "outputs": [
    {
     "data": {
      "text/plain": "'Mittwoch'"
     },
     "execution_count": 21,
     "metadata": {},
     "output_type": "execute_result"
    }
   ],
   "source": [
    "from datetime import date\n",
    "import calendar\n",
    "my_date = date.today()\n",
    "goTrans(calendar.day_name[my_date.weekday()])"
   ],
   "metadata": {
    "collapsed": false,
    "pycharm": {
     "name": "#%%\n"
    }
   }
  },
  {
   "cell_type": "code",
   "execution_count": 26,
   "outputs": [],
   "source": [
    "allpisten = {\n",
    "  \"Jakobshorn\": 10,\n",
    "  \"Madrisa\": 8,\n",
    "  \"Parsenn_Davos\": 13,\n",
    "  \"Parsenn_Klosters\": 5,\n",
    "  \"Pischa\": 1,\n",
    "  \"Rinerhorn\": 5,\n",
    "  \"Schatzalp\": 4,\n",
    "  \"Tallifte_Davos\": 4,\n",
    "  \"Tallifte_Klosters\": 4\n",
    "}\n",
    "pistenbericht= {\n",
    "  \"Jakobshorn\": 0,\n",
    "  \"Madrisa\": 0,\n",
    "  \"Parsenn_Davos\": 0,\n",
    "  \"Parsenn_Klosters\": 0,\n",
    "  \"Pischa\": 0,\n",
    "  \"Rinerhorn\": 0,\n",
    "  \"Schatzalp\": 1,\n",
    "  \"Tallifte_Davos\": 0,\n",
    "  \"Tallifte_Klosters\": 0\n",
    "}\n",
    "percentperlift = [pistenbericht[item]/allpisten[item] for item in pistenbericht]"
   ],
   "metadata": {
    "collapsed": false,
    "pycharm": {
     "name": "#%%\n"
    }
   }
  },
  {
   "cell_type": "code",
   "execution_count": 31,
   "outputs": [
    {
     "data": {
      "text/plain": "0.0"
     },
     "execution_count": 31,
     "metadata": {},
     "output_type": "execute_result"
    }
   ],
   "source": [
    "min(list(set(percentperlift)))"
   ],
   "metadata": {
    "collapsed": false,
    "pycharm": {
     "name": "#%%\n"
    }
   }
  },
  {
   "cell_type": "code",
   "execution_count": 44,
   "outputs": [
    {
     "data": {
      "text/plain": "         id                                        name  regular  \\\n0      molk                      Besuch Molkerei Davos      True   \n1    ebikeT                        E-Mountainbike-Tour      True   \n2    SunnBr                    Führung Sunnibergbrücke      True   \n3     LamaT                              Lama-Trekking      True   \n4  Jodel800  800 Jahre Klosters 2022: Bündner Jodlertag    False   \n\n                                             program        date        start  \\\n0  Sie können den Käsern direkt bei der täglichen...  2022-05-12  10:00:00 AM   \n1  Geniessen Sie eine geführte E-Mountainbike Tou...  2022-05-12  09:30:00 AM   \n2  Die feingliedrige Sunnibergbrücke birgt einige...  2022-05-12  02:00:00 PM   \n3  Geführte Wanderung mit Lamas. Geniessen Sie di...  2022-05-13  02:00:00 PM   \n4  Der Bündner Jodlertag ist der Jahreshöhepunkt ...  2022-05-14  11:30:00 AM   \n\n   duration_h  subscription  \\\n0         2.0          True   \n1         2.5          True   \n2         1.5          True   \n3         2.0          True   \n4        -1.0         False   \n\n                                              adress  \\\n0                                      info@davos.ch   \n1        Bike Academy, Bahnhofstrasse 8, Davos Dorf    \n2                             Bahnhof Klosters Platz   \n3           Arvenhof, Clavanuovweg 12, 7249 Serneus    \n4  Arena Klosters, Doggilochstrasse 51, 7250 Klos...   \n\n                                                link  price_p  \n0                                                NaN        5  \n1  https://ferienshop.davos.ch/de/guest-programme...        5  \n2  https://ferienshop.davos.ch/de/guest-programme...        5  \n3  https://ferienshop.davos.ch/de//guest-programm...        5  \n4      https://www.klosters800.ch/buendner-jodlertag        0  ",
      "text/html": "<div>\n<style scoped>\n    .dataframe tbody tr th:only-of-type {\n        vertical-align: middle;\n    }\n\n    .dataframe tbody tr th {\n        vertical-align: top;\n    }\n\n    .dataframe thead th {\n        text-align: right;\n    }\n</style>\n<table border=\"1\" class=\"dataframe\">\n  <thead>\n    <tr style=\"text-align: right;\">\n      <th></th>\n      <th>id</th>\n      <th>name</th>\n      <th>regular</th>\n      <th>program</th>\n      <th>date</th>\n      <th>start</th>\n      <th>duration_h</th>\n      <th>subscription</th>\n      <th>adress</th>\n      <th>link</th>\n      <th>price_p</th>\n    </tr>\n  </thead>\n  <tbody>\n    <tr>\n      <th>0</th>\n      <td>molk</td>\n      <td>Besuch Molkerei Davos</td>\n      <td>True</td>\n      <td>Sie können den Käsern direkt bei der täglichen...</td>\n      <td>2022-05-12</td>\n      <td>10:00:00 AM</td>\n      <td>2.0</td>\n      <td>True</td>\n      <td>info@davos.ch</td>\n      <td>NaN</td>\n      <td>5</td>\n    </tr>\n    <tr>\n      <th>1</th>\n      <td>ebikeT</td>\n      <td>E-Mountainbike-Tour</td>\n      <td>True</td>\n      <td>Geniessen Sie eine geführte E-Mountainbike Tou...</td>\n      <td>2022-05-12</td>\n      <td>09:30:00 AM</td>\n      <td>2.5</td>\n      <td>True</td>\n      <td>Bike Academy, Bahnhofstrasse 8, Davos Dorf</td>\n      <td>https://ferienshop.davos.ch/de/guest-programme...</td>\n      <td>5</td>\n    </tr>\n    <tr>\n      <th>2</th>\n      <td>SunnBr</td>\n      <td>Führung Sunnibergbrücke</td>\n      <td>True</td>\n      <td>Die feingliedrige Sunnibergbrücke birgt einige...</td>\n      <td>2022-05-12</td>\n      <td>02:00:00 PM</td>\n      <td>1.5</td>\n      <td>True</td>\n      <td>Bahnhof Klosters Platz</td>\n      <td>https://ferienshop.davos.ch/de/guest-programme...</td>\n      <td>5</td>\n    </tr>\n    <tr>\n      <th>3</th>\n      <td>LamaT</td>\n      <td>Lama-Trekking</td>\n      <td>True</td>\n      <td>Geführte Wanderung mit Lamas. Geniessen Sie di...</td>\n      <td>2022-05-13</td>\n      <td>02:00:00 PM</td>\n      <td>2.0</td>\n      <td>True</td>\n      <td>Arvenhof, Clavanuovweg 12, 7249 Serneus</td>\n      <td>https://ferienshop.davos.ch/de//guest-programm...</td>\n      <td>5</td>\n    </tr>\n    <tr>\n      <th>4</th>\n      <td>Jodel800</td>\n      <td>800 Jahre Klosters 2022: Bündner Jodlertag</td>\n      <td>False</td>\n      <td>Der Bündner Jodlertag ist der Jahreshöhepunkt ...</td>\n      <td>2022-05-14</td>\n      <td>11:30:00 AM</td>\n      <td>-1.0</td>\n      <td>False</td>\n      <td>Arena Klosters, Doggilochstrasse 51, 7250 Klos...</td>\n      <td>https://www.klosters800.ch/buendner-jodlertag</td>\n      <td>0</td>\n    </tr>\n  </tbody>\n</table>\n</div>"
     },
     "execution_count": 44,
     "metadata": {},
     "output_type": "execute_result"
    }
   ],
   "source": [
    "import pandas as pd\n",
    "\n",
    "df = pd.read_csv(\"src/events.csv\")\n",
    "df"
   ],
   "metadata": {
    "collapsed": false,
    "pycharm": {
     "name": "#%%\n"
    }
   }
  },
  {
   "cell_type": "code",
   "execution_count": 38,
   "outputs": [
    {
     "name": "stdout",
     "output_type": "stream",
     "text": [
      "2022-05-12\n"
     ]
    }
   ],
   "source": [
    "from datetime import date\n",
    "print(date.today())"
   ],
   "metadata": {
    "collapsed": false,
    "pycharm": {
     "name": "#%%\n"
    }
   }
  },
  {
   "cell_type": "code",
   "execution_count": 63,
   "outputs": [
    {
     "name": "stdout",
     "output_type": "stream",
     "text": [
      "Heute gibt es folgende Events:\n",
      "Besuch Molkerei Davos \n",
      "E-Mountainbike-Tour \n",
      "Führung Sunnibergbrücke \n",
      "\n"
     ]
    }
   ],
   "source": [
    "day = list(set(list([\"heute\"])))[0]\n",
    "df = pd.read_csv(\"src/events.csv\")\n",
    "today = date.today()\n",
    "\n",
    "if day == \"heute\":\n",
    "    answer = \"Heute gibt es folgende Events:\\n\"\n",
    "    df = df[df[\"date\"] == str(today)]\n",
    "    for index, row in df.iterrows():\n",
    "        answer += row[\"name\"] + \"\\n\"\n",
    "print(answer)"
   ],
   "metadata": {
    "collapsed": false,
    "pycharm": {
     "name": "#%%\n"
    }
   }
  },
  {
   "cell_type": "code",
   "execution_count": 66,
   "outputs": [],
   "source": [
    "from datetime import datetime, timedelta\n",
    "tomorrow = datetime.today() + timedelta(days=1)"
   ],
   "metadata": {
    "collapsed": false,
    "pycharm": {
     "name": "#%%\n"
    }
   }
  },
  {
   "cell_type": "code",
   "execution_count": 70,
   "outputs": [
    {
     "data": {
      "text/plain": "'2022-05-13'"
     },
     "execution_count": 70,
     "metadata": {},
     "output_type": "execute_result"
    }
   ],
   "source": [
    "tomorrow.strftime(\"%Y-%m-%d\")"
   ],
   "metadata": {
    "collapsed": false,
    "pycharm": {
     "name": "#%%\n"
    }
   }
  },
  {
   "cell_type": "code",
   "execution_count": 71,
   "outputs": [
    {
     "data": {
      "text/plain": "'Asdfasdjflksad'"
     },
     "execution_count": 71,
     "metadata": {},
     "output_type": "execute_result"
    }
   ],
   "source": [
    "\"asdfasdjflksad\".title()"
   ],
   "metadata": {
    "collapsed": false,
    "pycharm": {
     "name": "#%%\n"
    }
   }
  }
 ],
 "metadata": {
  "kernelspec": {
   "display_name": "Python 3",
   "language": "python",
   "name": "python3"
  },
  "language_info": {
   "codemirror_mode": {
    "name": "ipython",
    "version": 2
   },
   "file_extension": ".py",
   "mimetype": "text/x-python",
   "name": "python",
   "nbconvert_exporter": "python",
   "pygments_lexer": "ipython2",
   "version": "2.7.6"
  }
 },
 "nbformat": 4,
 "nbformat_minor": 0
}