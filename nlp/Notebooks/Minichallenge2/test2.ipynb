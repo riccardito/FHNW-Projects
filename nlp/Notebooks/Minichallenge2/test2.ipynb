{
 "cells": [
  {
   "cell_type": "code",
   "execution_count": 2,
   "outputs": [
    {
     "name": "stdout",
     "output_type": "stream",
     "text": [
      "Hallo wie geht es dir?\n",
      "Hallo PROPN ROOT\n",
      "wie CCONJ mo\n",
      "geht VERB ROOT\n",
      "es PRON ep\n",
      "dir PRON da\n",
      "? PUNCT punct\n"
     ]
    }
   ],
   "source": [
    "import spacy\n",
    "from spacy.lang.de.examples import sentences\n",
    "\n",
    "nlp = spacy.load(\"de_core_news_sm\")\n",
    "doc = nlp(\"Hallo wie geht es dir?\")\n",
    "print(doc.text)\n",
    "for token in doc:\n",
    "    print(token.text, token.pos_, token.dep_)"
   ],
   "metadata": {
    "collapsed": false,
    "pycharm": {
     "name": "#%%\n"
    }
   }
  },
  {
   "cell_type": "code",
   "execution_count": null,
   "outputs": [],
   "source": [],
   "metadata": {
    "collapsed": false,
    "pycharm": {
     "name": "#%%\n"
    }
   }
  },
  {
   "cell_type": "code",
   "execution_count": 2,
   "outputs": [
    {
     "data": {
      "text/plain": "{1: 'one', 2: 'two', 3: ('öasldkf', 'aöskdgh')}"
     },
     "execution_count": 2,
     "metadata": {},
     "output_type": "execute_result"
    }
   ],
   "source": [
    "d = {1: \"one\", 2: \"three\"}\n",
    "print(d)\n",
    "d1 = {2: \"two\"}\n",
    "d.update(d1)\n",
    "print(d)\n",
    "d2 = {3:(\"öasldkf\",\"aöskdgh\")}\n",
    "d.update(d2)\n",
    "d"
   ],
   "metadata": {
    "collapsed": false,
    "pycharm": {
     "name": "#%%\n"
    }
   }
  },
  {
   "cell_type": "code",
   "execution_count": null,
   "outputs": [],
   "source": [
    "import json\n",
    "import openai\n",
    "text = \"Halleluja, wie bin ich den hier her gekommen?\"\n",
    "with open(\"/home/riccardnef/PycharmProjects/nlp-projects/Notebooks/Minichallenge2/bot-Gian/actions/src/keys.json\") as json_file:\n",
    "    gptkey = json.load(json_file)[\"key\"]\n",
    "    openai.api_key = gptkey\n",
    "    response = openai.Completion.create(engine=\"text-davinci-002\", prompt=text, temperature=0.1,max_tokens=60)\n"
   ],
   "metadata": {
    "collapsed": false,
    "pycharm": {
     "name": "#%%\n"
    }
   }
  },
  {
   "cell_type": "code",
   "execution_count": null,
   "outputs": [],
   "source": [
    "response.choices[0].text.replace(\"\\n\", \"\")"
   ],
   "metadata": {
    "collapsed": false,
    "pycharm": {
     "name": "#%%\n"
    }
   }
  }
 ],
 "metadata": {
  "kernelspec": {
   "display_name": "Python 3",
   "language": "python",
   "name": "python3"
  },
  "language_info": {
   "codemirror_mode": {
    "name": "ipython",
    "version": 2
   },
   "file_extension": ".py",
   "mimetype": "text/x-python",
   "name": "python",
   "nbconvert_exporter": "python",
   "pygments_lexer": "ipython2",
   "version": "2.7.6"
  }
 },
 "nbformat": 4,
 "nbformat_minor": 0
}