{
 "cells": [
  {
   "cell_type": "code",
   "execution_count": null,
   "metadata": {
    "collapsed": true,
    "pycharm": {
     "name": "#%%\n"
    }
   },
   "outputs": [],
   "source": [
    "import requests\n",
    "from datetime import datetime"
   ]
  },
  {
   "cell_type": "code",
   "execution_count": 3,
   "outputs": [
    {
     "name": "stdout",
     "output_type": "stream",
     "text": [
      "{\"city\":{\"id\":2661039,\"name\":\"Davos\",\"coord\":{\"lon\":9.8372,\"lat\":46.8043},\"country\":\"CH\",\"population\":11024,\"timezone\":7200},\"cod\":\"200\",\"message\":10.4765807,\"cnt\":7,\"list\":[{\"dt\":1651489200,\"sunrise\":1651464256,\"sunset\":1651516252,\"temp\":{\"day\":282.2,\"min\":270.31,\"max\":283.94,\"night\":275.53,\"eve\":281.34,\"morn\":271.72},\"feels_like\":{\"day\":282.2,\"night\":275.53,\"eve\":280.07,\"morn\":268.9},\"pressure\":1013,\"humidity\":53,\"weather\":[{\"id\":500,\"main\":\"Rain\",\"description\":\"light rain\",\"icon\":\"10d\"}],\"speed\":2.22,\"deg\":337,\"gust\":2.11,\"clouds\":61,\"pop\":0.64,\"rain\":1.24},{\"dt\":1651575600,\"sunrise\":1651550564,\"sunset\":1651602733,\"temp\":{\"day\":282.39,\"min\":275.56,\"max\":282.77,\"night\":278.5,\"eve\":279.15,\"morn\":276.72},\"feels_like\":{\"day\":282.39,\"night\":278.5,\"eve\":279.15,\"morn\":275.7},\"pressure\":1013,\"humidity\":62,\"weather\":[{\"id\":501,\"main\":\"Rain\",\"description\":\"moderate rain\",\"icon\":\"10d\"}],\"speed\":1.89,\"deg\":148,\"gust\":1.92,\"clouds\":99,\"pop\":0.98,\"rain\":14.6},{\"dt\":1651662000,\"sunrise\":1651636873,\"sunset\":1651689214,\"temp\":{\"day\":281.08,\"min\":275.66,\"max\":281.79,\"night\":278.75,\"eve\":280.33,\"morn\":278.52},\"feels_like\":{\"day\":281.08,\"night\":278.75,\"eve\":280.33,\"morn\":278.52},\"pressure\":1017,\"humidity\":81,\"weather\":[{\"id\":500,\"main\":\"Rain\",\"description\":\"light rain\",\"icon\":\"10d\"}],\"speed\":2.03,\"deg\":166,\"gust\":2.1,\"clouds\":100,\"pop\":1,\"rain\":5.81},{\"dt\":1651748400,\"sunrise\":1651723184,\"sunset\":1651775694,\"temp\":{\"day\":282.09,\"min\":277.03,\"max\":282.09,\"night\":277.86,\"eve\":279.94,\"morn\":278.52},\"feels_like\":{\"day\":281.21,\"night\":276.92,\"eve\":278.15,\"morn\":278.52},\"pressure\":1021,\"humidity\":75,\"weather\":[{\"id\":500,\"main\":\"Rain\",\"description\":\"light rain\",\"icon\":\"10d\"}],\"speed\":2.53,\"deg\":350,\"gust\":2.55,\"clouds\":98,\"pop\":0.75,\"rain\":3.02},{\"dt\":1651834800,\"sunrise\":1651809496,\"sunset\":1651862174,\"temp\":{\"day\":284.07,\"min\":276.52,\"max\":284.07,\"night\":278.51,\"eve\":281.26,\"morn\":278.96},\"feels_like\":{\"day\":282.76,\"night\":278.51,\"eve\":280.04,\"morn\":278.96},\"pressure\":1021,\"humidity\":59,\"weather\":[{\"id\":500,\"main\":\"Rain\",\"description\":\"light rain\",\"icon\":\"10d\"}],\"speed\":3.08,\"deg\":344,\"gust\":2.9,\"clouds\":96,\"pop\":0.9,\"rain\":1.77},{\"dt\":1651921200,\"sunrise\":1651895810,\"sunset\":1651948654,\"temp\":{\"day\":281.93,\"min\":277.82,\"max\":281.99,\"night\":277.82,\"eve\":278.13,\"morn\":279.9},\"feels_like\":{\"day\":280.21,\"night\":277.82,\"eve\":278.13,\"morn\":279.9},\"pressure\":1018,\"humidity\":83,\"weather\":[{\"id\":501,\"main\":\"Rain\",\"description\":\"moderate rain\",\"icon\":\"10d\"}],\"speed\":2.98,\"deg\":337,\"gust\":2.96,\"clouds\":100,\"pop\":1,\"rain\":13.78},{\"dt\":1652007600,\"sunrise\":1651982125,\"sunset\":1652035133,\"temp\":{\"day\":284.95,\"min\":278.37,\"max\":285.02,\"night\":280.55,\"eve\":282.6,\"morn\":279.7},\"feels_like\":{\"day\":283.8,\"night\":279.97,\"eve\":282.6,\"morn\":278.91},\"pressure\":1021,\"humidity\":62,\"weather\":[{\"id\":500,\"main\":\"Rain\",\"description\":\"light rain\",\"icon\":\"10d\"}],\"speed\":1.66,\"deg\":137,\"gust\":1.63,\"clouds\":60,\"pop\":0.9,\"rain\":5.16}]}\n"
     ]
    }
   ],
   "source": [
    "import requests\n",
    "\n",
    "url = \"https://community-open-weather-map.p.rapidapi.com/forecast/daily\"\n",
    "\n",
    "querystring = {\"q\":\"davos,ch\"\"units\"}\n",
    "\n",
    "headers = {\n",
    "\t\"X-RapidAPI-Host\": \"community-open-weather-map.p.rapidapi.com\",\n",
    "\t\"X-RapidAPI-Key\": \"486cc459f5mshc19884992659bdap1a2c40jsn26162820f766\"\n",
    "}\n",
    "\n",
    "response = requests.request(\"GET\", url, headers=headers, params=querystring)\n",
    "\n",
    "print(response.text)"
   ],
   "metadata": {
    "collapsed": false,
    "pycharm": {
     "name": "#%%\n"
    }
   }
  },
  {
   "cell_type": "markdown",
   "source": [],
   "metadata": {
    "collapsed": false,
    "pycharm": {
     "name": "#%% md\n"
    }
   }
  },
  {
   "cell_type": "code",
   "execution_count": 22,
   "outputs": [
    {
     "data": {
      "text/plain": "{'temp': 284.95, 'main': 'Rain', 'speed': 1.66}"
     },
     "execution_count": 22,
     "metadata": {},
     "output_type": "execute_result"
    }
   ],
   "source": [
    "weather_data = {}\n",
    "for day in range(len(response.json()['list'])):\n",
    "\tweather_data[\"temp\"] = response.json()[\"list\"][day][\"temp\"][\"day\"]\n",
    "\tweather_data[\"main\"] = response.json()[\"list\"][day][\"weather\"][0][\"main\"]\n",
    "\n",
    "weather_data\n",
    "#for i in response.json():\n",
    "#\tprint(i)"
   ],
   "metadata": {
    "collapsed": false,
    "pycharm": {
     "name": "#%%\n"
    }
   }
  },
  {
   "cell_type": "code",
   "execution_count": null,
   "outputs": [],
   "source": [],
   "metadata": {
    "collapsed": false,
    "pycharm": {
     "name": "#%%\n"
    }
   }
  }
 ],
 "metadata": {
  "kernelspec": {
   "display_name": "Python 3",
   "language": "python",
   "name": "python3"
  },
  "language_info": {
   "codemirror_mode": {
    "name": "ipython",
    "version": 2
   },
   "file_extension": ".py",
   "mimetype": "text/x-python",
   "name": "python",
   "nbconvert_exporter": "python",
   "pygments_lexer": "ipython2",
   "version": "2.7.6"
  }
 },
 "nbformat": 4,
 "nbformat_minor": 0
}