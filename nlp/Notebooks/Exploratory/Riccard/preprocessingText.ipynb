{
 "cells": [
  {
   "cell_type": "code",
   "execution_count": 60,
   "metadata": {
    "collapsed": true
   },
   "outputs": [
    {
     "name": "stdout",
     "output_type": "stream",
     "text": [
      "showing info https://raw.githubusercontent.com/nltk/nltk_data/gh-pages/index.xml\n"
     ]
    },
    {
     "data": {
      "text/plain": "True"
     },
     "execution_count": 60,
     "metadata": {},
     "output_type": "execute_result"
    }
   ],
   "source": [
    "import nltk, re, pprint\n",
    "from nltk import word_tokenize\n",
    "import nltk\n",
    "nltk.download()"
   ]
  },
  {
   "cell_type": "code",
   "execution_count": 2,
   "outputs": [
    {
     "data": {
      "text/plain": "'\\ufeffThe Project Gutenberg eBook of Crime and Punishment, by Fyodor Dostoevsky\\r'"
     },
     "execution_count": 2,
     "metadata": {},
     "output_type": "execute_result"
    }
   ],
   "source": [
    "from urllib import request\n",
    "url = \"http://www.gutenberg.org/files/2554/2554-0.txt\"\n",
    "response = request.urlopen(url)\n",
    "raw = response.read().decode('utf8')\n",
    "type(raw)\n",
    "len(raw)\n",
    "raw[:75]"
   ],
   "metadata": {
    "collapsed": false,
    "pycharm": {
     "name": "#%%\n"
    }
   }
  },
  {
   "cell_type": "code",
   "execution_count": 3,
   "outputs": [
    {
     "data": {
      "text/plain": "<urllib.request.ProxyHandler at 0x2259fe91cd0>"
     },
     "execution_count": 3,
     "metadata": {},
     "output_type": "execute_result"
    }
   ],
   "source": [
    "proxies = {'http': 'http://www.someproxy.com:3128'}\n",
    "request.ProxyHandler(proxies)"
   ],
   "metadata": {
    "collapsed": false,
    "pycharm": {
     "name": "#%%\n"
    }
   }
  },
  {
   "cell_type": "code",
   "execution_count": 6,
   "outputs": [
    {
     "data": {
      "text/plain": "['\\ufeffThe',\n 'Project',\n 'Gutenberg',\n 'eBook',\n 'of',\n 'Crime',\n 'and',\n 'Punishment',\n ',',\n 'by']"
     },
     "execution_count": 6,
     "metadata": {},
     "output_type": "execute_result"
    }
   ],
   "source": [
    "tokens = word_tokenize(raw)\n",
    "type(tokens)\n",
    "len(tokens)\n",
    "tokens[:10]"
   ],
   "metadata": {
    "collapsed": false,
    "pycharm": {
     "name": "#%%\n"
    }
   }
  },
  {
   "cell_type": "code",
   "execution_count": 8,
   "outputs": [
    {
     "data": {
      "text/plain": "-1"
     },
     "execution_count": 8,
     "metadata": {},
     "output_type": "execute_result"
    }
   ],
   "source": [
    "raw.find(\"PART I\")\n",
    "raw.rfind(\"End of Project Gutenberg's Crime\")"
   ],
   "metadata": {
    "collapsed": false,
    "pycharm": {
     "name": "#%%\n"
    }
   }
  },
  {
   "cell_type": "code",
   "execution_count": 9,
   "outputs": [
    {
     "data": {
      "text/plain": "190670"
     },
     "execution_count": 9,
     "metadata": {},
     "output_type": "execute_result"
    }
   ],
   "source": [
    "raw = raw[5338:1157743]\n",
    "raw.find(\"PART I\")"
   ],
   "metadata": {
    "collapsed": false,
    "pycharm": {
     "name": "#%%\n"
    }
   }
  },
  {
   "cell_type": "markdown",
   "source": [
    "## HTML's"
   ],
   "metadata": {
    "collapsed": false,
    "pycharm": {
     "name": "#%% md\n"
    }
   }
  },
  {
   "cell_type": "code",
   "execution_count": 14,
   "outputs": [
    {
     "data": {
      "text/plain": "'<!doctype html public \"-//W3C//DTD HTML 4.0 Transitional//EN'"
     },
     "execution_count": 14,
     "metadata": {},
     "output_type": "execute_result"
    }
   ],
   "source": [
    "url = \"http://news.bbc.co.uk/2/hi/health/2284783.stm\"\n",
    "html = request.urlopen(url).read().decode('utf8')\n",
    "html[:60]"
   ],
   "metadata": {
    "collapsed": false,
    "pycharm": {
     "name": "#%%\n"
    }
   }
  },
  {
   "cell_type": "code",
   "execution_count": 15,
   "outputs": [
    {
     "data": {
      "text/plain": "['BBC',\n 'NEWS',\n '|',\n 'Health',\n '|',\n 'Blondes',\n \"'to\",\n 'die',\n 'out',\n 'in',\n '200',\n \"years'\",\n 'NEWS',\n 'SPORT',\n 'WEATHER',\n 'WORLD',\n 'SERVICE',\n 'A-Z',\n 'INDEX',\n 'SEARCH',\n 'You',\n 'are',\n 'in',\n ':',\n 'Health',\n 'News',\n 'Front',\n 'Page',\n 'Africa',\n 'Americas',\n 'Asia-Pacific',\n 'Europe',\n 'Middle',\n 'East',\n 'South',\n 'Asia',\n 'UK',\n 'Business',\n 'Entertainment',\n 'Science/Nature',\n 'Technology',\n 'Health',\n 'Medical',\n 'notes',\n '--',\n '--',\n '--',\n '--',\n '--',\n '--',\n '-',\n 'Talking',\n 'Point',\n '--',\n '--',\n '--',\n '--',\n '--',\n '--',\n '-',\n 'Country',\n 'Profiles',\n 'In',\n 'Depth',\n '--',\n '--',\n '--',\n '--',\n '--',\n '--',\n '-',\n 'Programmes',\n '--',\n '--',\n '--',\n '--',\n '--',\n '--',\n '-',\n 'SERVICES',\n 'Daily',\n 'E-mail',\n 'News',\n 'Ticker',\n 'Mobile/PDAs',\n '--',\n '--',\n '--',\n '--',\n '--',\n '--',\n '-',\n 'Text',\n 'Only',\n 'Feedback',\n 'Help',\n 'EDITIONS',\n 'Change',\n 'to',\n 'UK',\n 'Friday',\n ',',\n '27',\n 'September',\n ',',\n '2002',\n ',',\n '11:51',\n 'GMT',\n '12:51',\n 'UK',\n 'Blondes',\n \"'to\",\n 'die',\n 'out',\n 'in',\n '200',\n \"years'\",\n 'Scientists',\n 'believe',\n 'the',\n 'last',\n 'blondes',\n 'will',\n 'be',\n 'in',\n 'Finland',\n 'The',\n 'last',\n 'natural',\n 'blondes',\n 'will',\n 'die',\n 'out',\n 'within',\n '200',\n 'years',\n ',',\n 'scientists',\n 'believe',\n '.',\n 'A',\n 'study',\n 'by',\n 'experts',\n 'in',\n 'Germany',\n 'suggests',\n 'people',\n 'with',\n 'blonde',\n 'hair',\n 'are',\n 'an',\n 'endangered',\n 'species',\n 'and',\n 'will',\n 'become',\n 'extinct',\n 'by',\n '2202',\n '.',\n 'Researchers',\n 'predict',\n 'the',\n 'last',\n 'truly',\n 'natural',\n 'blonde',\n 'will',\n 'be',\n 'born',\n 'in',\n 'Finland',\n '-',\n 'the',\n 'country',\n 'with',\n 'the',\n 'highest',\n 'proportion',\n 'of',\n 'blondes',\n '.',\n 'The',\n 'frequency',\n 'of',\n 'blondes',\n 'may',\n 'drop',\n 'but',\n 'they',\n 'wo',\n \"n't\",\n 'disappear',\n 'Prof',\n 'Jonathan',\n 'Rees',\n ',',\n 'University',\n 'of',\n 'Edinburgh',\n 'But',\n 'they',\n 'say',\n 'too',\n 'few',\n 'people',\n 'now',\n 'carry',\n 'the',\n 'gene',\n 'for',\n 'blondes',\n 'to',\n 'last',\n 'beyond',\n 'the',\n 'next',\n 'two',\n 'centuries',\n '.',\n 'The',\n 'problem',\n 'is',\n 'that',\n 'blonde',\n 'hair',\n 'is',\n 'caused',\n 'by',\n 'a',\n 'recessive',\n 'gene',\n '.',\n 'In',\n 'order',\n 'for',\n 'a',\n 'child',\n 'to',\n 'have',\n 'blonde',\n 'hair',\n ',',\n 'it',\n 'must',\n 'have',\n 'the',\n 'gene',\n 'on',\n 'both',\n 'sides',\n 'of',\n 'the',\n 'family',\n 'in',\n 'the',\n 'grandparents',\n \"'\",\n 'generation',\n '.',\n 'Dyed',\n 'rivals',\n 'The',\n 'researchers',\n 'also',\n 'believe',\n 'that',\n 'so-called',\n 'bottle',\n 'blondes',\n 'may',\n 'be',\n 'to',\n 'blame',\n 'for',\n 'the',\n 'demise',\n 'of',\n 'their',\n 'natural',\n 'rivals',\n '.',\n 'They',\n 'suggest',\n 'that',\n 'dyed-blondes',\n 'are',\n 'more',\n 'attractive',\n 'to',\n 'men',\n 'who',\n 'choose',\n 'them',\n 'as',\n 'partners',\n 'over',\n 'true',\n 'blondes',\n '.',\n 'Bottle-blondes',\n 'like',\n 'Ann',\n 'Widdecombe',\n 'may',\n 'be',\n 'to',\n 'blame',\n 'But',\n 'Jonathan',\n 'Rees',\n ',',\n 'professor',\n 'of',\n 'dermatology',\n 'at',\n 'the',\n 'University',\n 'of',\n 'Edinburgh',\n 'said',\n 'it',\n 'was',\n 'unlikely',\n 'blondes',\n 'would',\n 'die',\n 'out',\n 'completely',\n '.',\n '``',\n 'Genes',\n 'do',\n \"n't\",\n 'die',\n 'out',\n 'unless',\n 'there',\n 'is',\n 'a',\n 'disadvantage',\n 'of',\n 'having',\n 'that',\n 'gene',\n 'or',\n 'by',\n 'chance',\n '.',\n 'They',\n 'do',\n \"n't\",\n 'disappear',\n ',',\n \"''\",\n 'he',\n 'told',\n 'BBC',\n 'News',\n 'Online',\n '.',\n '``',\n 'The',\n 'only',\n 'reason',\n 'blondes',\n 'would',\n 'disappear',\n 'is',\n 'if',\n 'having',\n 'the',\n 'gene',\n 'was',\n 'a',\n 'disadvantage',\n 'and',\n 'I',\n 'do',\n 'not',\n 'think',\n 'that',\n 'is',\n 'the',\n 'case',\n '.',\n '``',\n 'The',\n 'frequency',\n 'of',\n 'blondes',\n 'may',\n 'drop',\n 'but',\n 'they',\n 'wo',\n \"n't\",\n 'disappear',\n '.',\n \"''\",\n 'See',\n 'also',\n ':',\n '28',\n 'Mar',\n '01',\n '|',\n 'Education',\n 'What',\n 'is',\n 'it',\n 'about',\n 'blondes',\n '?',\n '09',\n 'Apr',\n '99',\n '|',\n 'Health',\n 'Platinum',\n 'blondes',\n 'are',\n 'labelled',\n 'as',\n 'dumb',\n '17',\n 'Apr',\n '02',\n '|',\n 'Health',\n 'Hair',\n 'dye',\n 'cancer',\n 'alert',\n 'Internet',\n 'links',\n ':',\n 'University',\n 'of',\n 'Edinburgh',\n 'The',\n 'BBC',\n 'is',\n 'not',\n 'responsible',\n 'for',\n 'the',\n 'content',\n 'of',\n 'external',\n 'internet',\n 'sites',\n 'Top',\n 'Health',\n 'stories',\n 'now',\n ':',\n 'Heart',\n 'risk',\n 'link',\n 'to',\n 'big',\n 'families',\n 'Back',\n 'pain',\n 'drug',\n \"'may\",\n 'aid',\n \"diabetics'\",\n 'Congo',\n 'Ebola',\n 'outbreak',\n 'confirmed',\n 'Vegetables',\n 'ward',\n 'off',\n \"Alzheimer's\",\n 'Polio',\n 'campaign',\n 'launched',\n 'in',\n 'Iraq',\n 'Gene',\n 'defect',\n 'explains',\n 'high',\n 'blood',\n 'pressure',\n 'Botox',\n \"'may\",\n 'cause',\n 'new',\n \"wrinkles'\",\n 'Alien',\n \"'abductees\",\n \"'\",\n 'show',\n 'real',\n 'symptoms',\n 'Links',\n 'to',\n 'more',\n 'Health',\n 'stories',\n 'are',\n 'at',\n 'the',\n 'foot',\n 'of',\n 'the',\n 'page',\n '.',\n 'E-mail',\n 'this',\n 'story',\n 'to',\n 'a',\n 'friend',\n 'Links',\n 'to',\n 'more',\n 'Health',\n 'stories',\n 'In',\n 'This',\n 'Section',\n 'Heart',\n 'risk',\n 'link',\n 'to',\n 'big',\n 'families',\n 'Back',\n 'pain',\n 'drug',\n \"'may\",\n 'aid',\n \"diabetics'\",\n 'Congo',\n 'Ebola',\n 'outbreak',\n 'confirmed',\n 'Vegetables',\n 'ward',\n 'off',\n \"Alzheimer's\",\n 'Polio',\n 'campaign',\n 'launched',\n 'in',\n 'Iraq',\n 'Gene',\n 'defect',\n 'explains',\n 'high',\n 'blood',\n 'pressure',\n 'Botox',\n \"'may\",\n 'cause',\n 'new',\n \"wrinkles'\",\n 'Alien',\n \"'abductees\",\n \"'\",\n 'show',\n 'real',\n 'symptoms',\n 'How',\n 'sperm',\n 'wriggle',\n 'Bollywood',\n 'told',\n 'to',\n 'stub',\n 'it',\n 'out',\n 'Fears',\n 'over',\n 'tuna',\n 'health',\n 'risk',\n 'to',\n 'babies',\n 'Public',\n 'can',\n 'be',\n 'taught',\n 'to',\n 'spot',\n 'strokes',\n '^^',\n 'Back',\n 'to',\n 'top',\n 'News',\n 'Front',\n 'Page',\n '|',\n 'Africa',\n '|',\n 'Americas',\n '|',\n 'Asia-Pacific',\n '|',\n 'Europe',\n '|',\n 'Middle',\n 'East',\n '|',\n 'South',\n 'Asia',\n '|',\n 'UK',\n '|',\n 'Business',\n '|',\n 'Entertainment',\n '|',\n 'Science/Nature',\n '|',\n 'Technology',\n '|',\n 'Health',\n '|',\n 'Talking',\n 'Point',\n '|',\n 'Country',\n 'Profiles',\n '|',\n 'In',\n 'Depth',\n '|',\n 'Programmes',\n '--',\n '--',\n '--',\n '--',\n '--',\n '--',\n '--',\n '--',\n '--',\n '--',\n '--',\n '--',\n '--',\n '--',\n '--',\n '--',\n '--',\n '--',\n '--',\n '--',\n '--',\n '--',\n '--',\n '--',\n '--',\n '--',\n '--',\n '--',\n '--',\n '--',\n '--',\n '--',\n '--',\n '--',\n '--',\n '--',\n '--',\n '--',\n '--',\n '--',\n '--',\n 'To',\n 'BBC',\n 'Sport',\n '>',\n '>',\n '|',\n 'To',\n 'BBC',\n 'Weather',\n '>',\n '>',\n '|',\n 'To',\n 'BBC',\n 'World',\n 'Service',\n '>',\n '>',\n '--',\n '--',\n '--',\n '--',\n '--',\n '--',\n '--',\n '--',\n '--',\n '--',\n '--',\n '--',\n '--',\n '--',\n '--',\n '--',\n '--',\n '--',\n '--',\n '--',\n '--',\n '--',\n '--',\n '--',\n '--',\n '--',\n '--',\n '--',\n '--',\n '--',\n '--',\n '--',\n '--',\n '--',\n '--',\n '--',\n '--',\n '--',\n '--',\n '--',\n '--',\n '©',\n 'MMIII',\n '|',\n 'News',\n 'Sources',\n '|',\n 'Privacy']"
     },
     "execution_count": 15,
     "metadata": {},
     "output_type": "execute_result"
    }
   ],
   "source": [
    "from bs4 import BeautifulSoup\n",
    "raw = BeautifulSoup(html, 'html.parser').get_text()\n",
    "tokens = word_tokenize(raw)\n",
    "tokens"
   ],
   "metadata": {
    "collapsed": false,
    "pycharm": {
     "name": "#%%\n"
    }
   }
  },
  {
   "cell_type": "code",
   "execution_count": 19,
   "outputs": [
    {
     "name": "stdout",
     "output_type": "stream",
     "text": [
      "blonde hair; n't disappear; Alien 'abductees; Alzheimer's Polio;\n",
      "Blondes 'to; Congo Ebola; Country Profiles; Ebola outbreak; Front\n",
      "Page; Gene defect; Iraq Gene; Jonathan Rees; Middle East; Polio\n",
      "campaign; South Asia; Talking Point; Vegetables ward; aid diabetics';\n",
      "big families; blood pressure\n"
     ]
    }
   ],
   "source": [
    "text = nltk.Text(tokens)\n",
    "type(text)\n",
    "text[1024:1062]\n",
    "text.collocations()"
   ],
   "metadata": {
    "collapsed": false,
    "pycharm": {
     "name": "#%%\n"
    }
   }
  },
  {
   "cell_type": "code",
   "execution_count": null,
   "outputs": [],
   "source": [],
   "metadata": {
    "collapsed": false,
    "pycharm": {
     "name": "#%%\n"
    }
   }
  },
  {
   "cell_type": "code",
   "execution_count": null,
   "outputs": [],
   "source": [],
   "metadata": {
    "collapsed": false,
    "pycharm": {
     "name": "#%%\n"
    }
   }
  },
  {
   "cell_type": "code",
   "execution_count": 16,
   "outputs": [
    {
     "name": "stdout",
     "output_type": "stream",
     "text": [
      "You typed 8 words.\n"
     ]
    }
   ],
   "source": [
    "s = input(\"Enter some text: \")\n",
    "print(\"You typed\", len(word_tokenize(s)), \"words.\")"
   ],
   "metadata": {
    "collapsed": false,
    "pycharm": {
     "name": "#%%\n"
    }
   }
  },
  {
   "cell_type": "code",
   "execution_count": 20,
   "outputs": [
    {
     "name": "stdout",
     "output_type": "stream",
     "text": [
      "            very\n",
      "          veryvery\n",
      "        veryveryvery\n",
      "      veryveryveryvery\n",
      "    veryveryveryveryvery\n",
      "  veryveryveryveryveryvery\n",
      "veryveryveryveryveryveryvery\n",
      "  veryveryveryveryveryvery\n",
      "    veryveryveryveryvery\n",
      "      veryveryveryvery\n",
      "        veryveryvery\n",
      "          veryvery\n",
      "            very\n"
     ]
    }
   ],
   "source": [
    "a = [1, 2, 3, 4, 5, 6, 7, 6, 5, 4, 3, 2, 1]\n",
    "b = [' ' * 2 * (7 - i) + 'very' * i for i in a]\n",
    "for line in b:\n",
    "    print(line)"
   ],
   "metadata": {
    "collapsed": false,
    "pycharm": {
     "name": "#%%\n"
    }
   }
  },
  {
   "cell_type": "code",
   "execution_count": 21,
   "outputs": [
    {
     "data": {
      "text/plain": "'Language Log'"
     },
     "execution_count": 21,
     "metadata": {},
     "output_type": "execute_result"
    }
   ],
   "source": [
    "import feedparser\n",
    "llog = feedparser.parse(\"http://languagelog.ldc.upenn.edu/nll/?feed=atom\")\n",
    "llog['feed']['title']"
   ],
   "metadata": {
    "collapsed": false,
    "pycharm": {
     "name": "#%%\n"
    }
   }
  },
  {
   "cell_type": "code",
   "execution_count": 22,
   "outputs": [
    {
     "data": {
      "text/plain": "13"
     },
     "execution_count": 22,
     "metadata": {},
     "output_type": "execute_result"
    }
   ],
   "source": [
    "len(llog.entries)"
   ],
   "metadata": {
    "collapsed": false,
    "pycharm": {
     "name": "#%%\n"
    }
   }
  },
  {
   "cell_type": "code",
   "execution_count": 23,
   "outputs": [
    {
     "data": {
      "text/plain": "'Keyboard config'"
     },
     "execution_count": 23,
     "metadata": {},
     "output_type": "execute_result"
    }
   ],
   "source": [
    "post = llog.entries[2]\n",
    "post.title"
   ],
   "metadata": {
    "collapsed": false,
    "pycharm": {
     "name": "#%%\n"
    }
   }
  },
  {
   "cell_type": "code",
   "execution_count": 24,
   "outputs": [
    {
     "data": {
      "text/plain": "'<p>The <a href=\"https://xkcd.com/2583\" rel=\"noopener\" target=\"_blank\">'"
     },
     "execution_count": 24,
     "metadata": {},
     "output_type": "execute_result"
    }
   ],
   "source": [
    "content = post.content[0].value\n",
    "content[:70]"
   ],
   "metadata": {
    "collapsed": false,
    "pycharm": {
     "name": "#%%\n"
    }
   }
  },
  {
   "cell_type": "code",
   "execution_count": 25,
   "outputs": [
    {
     "data": {
      "text/plain": "['The',\n 'current',\n 'xkcd',\n ',',\n 'title',\n '``',\n 'Chorded',\n 'Keyboard',\n \"''\",\n ':',\n 'The',\n 'mouseover',\n 'title',\n ':',\n \"''\",\n 'And',\n 'even',\n 'though',\n 'it',\n 'all',\n 'went',\n 'wrong',\n '/',\n 'I',\n \"'ll\",\n 'stand',\n 'before',\n 'the',\n 'lord',\n 'of',\n 'song',\n '/',\n 'with',\n 'nothing',\n 'on',\n 'my',\n 'tongue',\n 'but',\n \"'\",\n 'I',\n 'do',\n \"n't\",\n 'understand',\n ',',\n 'I',\n 'swear',\n 'I',\n 'backed',\n 'up',\n 'my',\n 'keyboard',\n 'config',\n 'before',\n 'messing',\n 'with',\n 'it',\n \"'\",\n \"''\",\n 'For',\n 'those',\n 'who',\n 'do',\n \"n't\",\n 'get',\n 'the',\n 'reference',\n ',',\n 'or',\n 'have',\n 'forgotten',\n 'the',\n 'details',\n ',',\n 'a',\n 'version',\n 'of',\n 'the',\n 'lyrics',\n 'for',\n 'Leonard',\n 'Cohen',\n \"'s\",\n 'song',\n 'is',\n 'here',\n '.',\n 'A',\n 'bit',\n 'of',\n 'lyrical',\n 'context',\n ':',\n 'Now',\n 'I',\n \"'ve\",\n 'heard',\n 'there',\n 'was',\n 'a',\n 'secret',\n 'chord',\n 'That',\n 'David',\n 'played',\n ',',\n 'and',\n 'it',\n 'pleased',\n 'the',\n 'Lord',\n 'But',\n 'you',\n 'do',\n \"n't\",\n 'really',\n 'care',\n 'for',\n 'music',\n ',',\n 'do',\n 'ya',\n '?',\n 'It',\n 'goes',\n 'like',\n 'this',\n ',',\n 'the',\n 'fourth',\n ',',\n 'the',\n 'fifth',\n 'The',\n 'minor',\n 'fall',\n ',',\n 'the',\n 'major',\n 'lift',\n 'The',\n 'baffled',\n 'king',\n 'composing',\n '``',\n 'Hallelujah',\n \"''\",\n '[',\n '…',\n ']',\n 'I',\n 'did',\n 'my',\n 'best',\n ',',\n 'it',\n 'was',\n \"n't\",\n 'much',\n 'I',\n 'could',\n \"n't\",\n 'feel',\n ',',\n 'so',\n 'I',\n 'tried',\n 'to',\n 'touch',\n 'I',\n \"'ve\",\n 'told',\n 'the',\n 'truth',\n ',',\n 'I',\n 'did',\n \"n't\",\n 'come',\n 'to',\n 'fool',\n 'ya',\n 'And',\n 'even',\n 'though',\n 'it',\n 'all',\n 'went',\n 'wrong',\n 'I',\n \"'ll\",\n 'stand',\n 'before',\n 'the',\n 'lord',\n 'of',\n 'song',\n 'With',\n 'nothing',\n 'on',\n 'my',\n 'tongue',\n 'but',\n 'hallelujah',\n 'Some',\n 'additional',\n 'background',\n ',',\n 'from',\n 'the',\n 'same',\n 'page',\n ':',\n 'By',\n 'some',\n 'interpretations',\n ',',\n 'Cohen',\n 'is',\n 'in',\n 'an',\n 'argument',\n 'with',\n 'God',\n '.',\n 'King',\n 'David',\n '’',\n 's',\n '“',\n 'hallelujah',\n ',',\n '”',\n 'in',\n 'the',\n 'book',\n 'of',\n 'Psalms',\n ',',\n 'is',\n 'said',\n 'to',\n 'have',\n 'pleased',\n 'the',\n 'Lord',\n '.',\n 'Cohen',\n 'addresses',\n 'God',\n ':',\n '“',\n 'But',\n 'you',\n 'don',\n '’',\n 't',\n 'really',\n 'care',\n 'for',\n 'music',\n ',',\n 'do',\n 'you',\n '?',\n '”',\n 'For',\n 'others',\n ',',\n 'we',\n 'talk',\n 'about',\n 'the',\n 'evolution',\n 'of',\n 'a',\n 'relationship',\n 'through',\n 'a',\n 'metaphor',\n 'that',\n 'mixes',\n 'sex',\n 'and',\n 'religion',\n '.',\n 'Cohen',\n 'originally',\n 'wrote',\n 'around',\n '80',\n 'verses',\n 'of',\n 'the',\n 'song',\n ',',\n 'and',\n 'used',\n 'a',\n 'different',\n 'selection',\n 'of',\n 'the',\n 'verses',\n 'in',\n 'the',\n 'original',\n 'recording',\n 'and',\n 'in',\n 'a',\n '1988',\n 'live',\n 'performance',\n '.',\n 'The',\n 'song',\n 'wasn',\n '’',\n 't',\n 'all',\n 'that',\n 'popular',\n 'when',\n 'it',\n 'first',\n 'came',\n 'out',\n '.',\n 'However',\n ',',\n 'it',\n 'was',\n 'covered',\n 'by',\n 'John',\n 'Cale',\n ',',\n 'in',\n '1991',\n ',',\n 'for',\n 'a',\n 'tribute',\n 'album',\n '.',\n 'He',\n 'used',\n 'the',\n 'modified',\n 'lyrics',\n ',',\n 'based',\n 'on',\n 'Cohen',\n '’',\n 's',\n '1988',\n 'live',\n 'version',\n '.',\n 'Jeff',\n 'Buckley',\n 'heard',\n 'Cale',\n '’',\n 's',\n 'version',\n 'and',\n 'did',\n 'his',\n 'own',\n 'cover',\n 'on',\n 'his',\n '1994',\n 'album',\n 'Grace',\n '.',\n 'Buckley',\n '’',\n 's',\n 'version',\n 'went',\n 'on',\n 'to',\n 'become',\n 'the',\n 'most',\n 'well-known',\n 'recording',\n 'of',\n 'the',\n 'song',\n '.',\n 'Since',\n 'then',\n ',',\n 'the',\n 'song',\n 'was',\n 'covered',\n 'over',\n '300',\n 'times',\n '.',\n 'It',\n 'is',\n 'today',\n 'emblematic',\n 'and',\n 'figures',\n 'among',\n 'a',\n 'multitude',\n 'of',\n 'film',\n 'soundtracks',\n 'and',\n 'television',\n 'shows',\n '.',\n 'It',\n 'became',\n 'a',\n 'contemporary',\n 'standard',\n '.',\n 'Many',\n 'versions',\n 'change',\n 'the',\n 'lyrics',\n ',',\n 'especially',\n 'Christian',\n 'versions',\n 'that',\n 'tone',\n 'down',\n 'all',\n 'the',\n 'ambiguities',\n 'of',\n 'the',\n 'song',\n '.',\n 'You',\n 'can',\n 'sample',\n 'many',\n 'of',\n 'Cohen',\n \"'s\",\n 'varied',\n 'performances',\n 'here',\n '.',\n 'There',\n \"'s\",\n 'a',\n 'discussion',\n 'of',\n 'the',\n '``',\n 'chorded',\n 'keyboard',\n \"''\",\n 'and',\n '``',\n 'keyboard',\n 'config',\n \"''\",\n 'references',\n 'on',\n 'the',\n 'explainxkcd',\n 'wiki',\n '.']"
     },
     "execution_count": 25,
     "metadata": {},
     "output_type": "execute_result"
    }
   ],
   "source": [
    "raw = BeautifulSoup(content, 'html.parser').get_text()\n",
    "word_tokenize(raw)"
   ],
   "metadata": {
    "collapsed": false,
    "pycharm": {
     "name": "#%%\n"
    }
   }
  },
  {
   "cell_type": "code",
   "execution_count": 28,
   "outputs": [
    {
     "name": "stdout",
     "output_type": "stream",
     "text": [
      "speed and other activities; water and other liquids; tomb and other\n",
      "landmarks; Statues and other monuments; pearls and other jewels;\n",
      "charts and other items; roads and other features; figures and other\n",
      "objects; military and other areas; demands and other factors;\n",
      "abstracts and other compilations; iron and other metals\n"
     ]
    }
   ],
   "source": [
    "from nltk.corpus import brown\n",
    "hobbies_learned = nltk.Text(brown.words(categories=['hobbies', 'learned']))\n",
    "hobbies_learned.findall(r\"<\\w*> <and> <other> <\\w*s>\")"
   ],
   "metadata": {
    "collapsed": false,
    "pycharm": {
     "name": "#%%\n"
    }
   }
  },
  {
   "cell_type": "code",
   "execution_count": 29,
   "outputs": [
    {
     "data": {
      "text/plain": "['DENNIS',\n ':',\n 'Listen',\n ',',\n 'strange',\n 'women',\n 'lying',\n 'in',\n 'ponds',\n 'distributing',\n 'swords',\n 'is',\n 'no',\n 'basis',\n 'for',\n 'a',\n 'system',\n 'of',\n 'government',\n '.',\n 'Supreme',\n 'executive',\n 'power',\n 'derives',\n 'from',\n 'a',\n 'mandate',\n 'from',\n 'the',\n 'masses',\n ',',\n 'not',\n 'from',\n 'some',\n 'farcical',\n 'aquatic',\n 'ceremony',\n '.']"
     },
     "execution_count": 29,
     "metadata": {},
     "output_type": "execute_result"
    }
   ],
   "source": [
    "\n",
    "\n",
    "raw = \"\"\"DENNIS: Listen, strange women lying in ponds distributing swords\n",
    "... is no basis for a system of government.  Supreme executive power derives from\n",
    "... a mandate from the masses, not from some farcical aquatic ceremony.\"\"\"\n",
    "word_tokenize(raw)"
   ],
   "metadata": {
    "collapsed": false,
    "pycharm": {
     "name": "#%%\n"
    }
   }
  },
  {
   "cell_type": "code",
   "execution_count": 32,
   "outputs": [
    {
     "data": {
      "text/plain": "['bbc',\n 'new',\n '|',\n 'health',\n '|',\n 'blond',\n \"'to\",\n 'die',\n 'out',\n 'in',\n '200',\n \"years'\",\n 'new',\n 'sport',\n 'weather',\n 'world',\n 'servic',\n 'a-z',\n 'index',\n 'search',\n 'you',\n 'are',\n 'in',\n ':',\n 'health',\n 'new',\n 'front',\n 'page',\n 'africa',\n 'america',\n 'asia-pacif',\n 'europ',\n 'middl',\n 'east',\n 'south',\n 'asia',\n 'uk',\n 'busi',\n 'entertain',\n 'science/natur',\n 'technolog',\n 'health',\n 'medic',\n 'note',\n '--',\n '--',\n '--',\n '--',\n '--',\n '--',\n '-',\n 'talk',\n 'point',\n '--',\n '--',\n '--',\n '--',\n '--',\n '--',\n '-',\n 'countri',\n 'profil',\n 'in',\n 'depth',\n '--',\n '--',\n '--',\n '--',\n '--',\n '--',\n '-',\n 'programm',\n '--',\n '--',\n '--',\n '--',\n '--',\n '--',\n '-',\n 'servic',\n 'daili',\n 'e-mail',\n 'new',\n 'ticker',\n 'mobile/pda',\n '--',\n '--',\n '--',\n '--',\n '--',\n '--',\n '-',\n 'text',\n 'onli',\n 'feedback',\n 'help',\n 'edit',\n 'chang',\n 'to',\n 'uk',\n 'friday',\n ',',\n '27',\n 'septemb',\n ',',\n '2002',\n ',',\n '11:51',\n 'gmt',\n '12:51',\n 'uk',\n 'blond',\n \"'to\",\n 'die',\n 'out',\n 'in',\n '200',\n \"years'\",\n 'scientist',\n 'believ',\n 'the',\n 'last',\n 'blond',\n 'will',\n 'be',\n 'in',\n 'finland',\n 'the',\n 'last',\n 'natur',\n 'blond',\n 'will',\n 'die',\n 'out',\n 'within',\n '200',\n 'year',\n ',',\n 'scientist',\n 'believ',\n '.',\n 'a',\n 'studi',\n 'by',\n 'expert',\n 'in',\n 'germani',\n 'suggest',\n 'peopl',\n 'with',\n 'blond',\n 'hair',\n 'are',\n 'an',\n 'endang',\n 'speci',\n 'and',\n 'will',\n 'becom',\n 'extinct',\n 'by',\n '2202',\n '.',\n 'research',\n 'predict',\n 'the',\n 'last',\n 'truli',\n 'natur',\n 'blond',\n 'will',\n 'be',\n 'born',\n 'in',\n 'finland',\n '-',\n 'the',\n 'countri',\n 'with',\n 'the',\n 'highest',\n 'proport',\n 'of',\n 'blond',\n '.',\n 'the',\n 'frequenc',\n 'of',\n 'blond',\n 'may',\n 'drop',\n 'but',\n 'they',\n 'wo',\n \"n't\",\n 'disappear',\n 'prof',\n 'jonathan',\n 'ree',\n ',',\n 'univers',\n 'of',\n 'edinburgh',\n 'but',\n 'they',\n 'say',\n 'too',\n 'few',\n 'peopl',\n 'now',\n 'carri',\n 'the',\n 'gene',\n 'for',\n 'blond',\n 'to',\n 'last',\n 'beyond',\n 'the',\n 'next',\n 'two',\n 'centuri',\n '.',\n 'the',\n 'problem',\n 'is',\n 'that',\n 'blond',\n 'hair',\n 'is',\n 'caus',\n 'by',\n 'a',\n 'recess',\n 'gene',\n '.',\n 'in',\n 'order',\n 'for',\n 'a',\n 'child',\n 'to',\n 'have',\n 'blond',\n 'hair',\n ',',\n 'it',\n 'must',\n 'have',\n 'the',\n 'gene',\n 'on',\n 'both',\n 'side',\n 'of',\n 'the',\n 'famili',\n 'in',\n 'the',\n 'grandpar',\n \"'\",\n 'gener',\n '.',\n 'dy',\n 'rival',\n 'the',\n 'research',\n 'also',\n 'believ',\n 'that',\n 'so-cal',\n 'bottl',\n 'blond',\n 'may',\n 'be',\n 'to',\n 'blame',\n 'for',\n 'the',\n 'demis',\n 'of',\n 'their',\n 'natur',\n 'rival',\n '.',\n 'they',\n 'suggest',\n 'that',\n 'dyed-blond',\n 'are',\n 'more',\n 'attract',\n 'to',\n 'men',\n 'who',\n 'choos',\n 'them',\n 'as',\n 'partner',\n 'over',\n 'true',\n 'blond',\n '.',\n 'bottle-blond',\n 'like',\n 'ann',\n 'widdecomb',\n 'may',\n 'be',\n 'to',\n 'blame',\n 'but',\n 'jonathan',\n 'ree',\n ',',\n 'professor',\n 'of',\n 'dermatolog',\n 'at',\n 'the',\n 'univers',\n 'of',\n 'edinburgh',\n 'said',\n 'it',\n 'wa',\n 'unlik',\n 'blond',\n 'would',\n 'die',\n 'out',\n 'complet',\n '.',\n '``',\n 'gene',\n 'do',\n \"n't\",\n 'die',\n 'out',\n 'unless',\n 'there',\n 'is',\n 'a',\n 'disadvantag',\n 'of',\n 'have',\n 'that',\n 'gene',\n 'or',\n 'by',\n 'chanc',\n '.',\n 'they',\n 'do',\n \"n't\",\n 'disappear',\n ',',\n \"''\",\n 'he',\n 'told',\n 'bbc',\n 'new',\n 'onlin',\n '.',\n '``',\n 'the',\n 'onli',\n 'reason',\n 'blond',\n 'would',\n 'disappear',\n 'is',\n 'if',\n 'have',\n 'the',\n 'gene',\n 'wa',\n 'a',\n 'disadvantag',\n 'and',\n 'i',\n 'do',\n 'not',\n 'think',\n 'that',\n 'is',\n 'the',\n 'case',\n '.',\n '``',\n 'the',\n 'frequenc',\n 'of',\n 'blond',\n 'may',\n 'drop',\n 'but',\n 'they',\n 'wo',\n \"n't\",\n 'disappear',\n '.',\n \"''\",\n 'see',\n 'also',\n ':',\n '28',\n 'mar',\n '01',\n '|',\n 'educ',\n 'what',\n 'is',\n 'it',\n 'about',\n 'blond',\n '?',\n '09',\n 'apr',\n '99',\n '|',\n 'health',\n 'platinum',\n 'blond',\n 'are',\n 'label',\n 'as',\n 'dumb',\n '17',\n 'apr',\n '02',\n '|',\n 'health',\n 'hair',\n 'dye',\n 'cancer',\n 'alert',\n 'internet',\n 'link',\n ':',\n 'univers',\n 'of',\n 'edinburgh',\n 'the',\n 'bbc',\n 'is',\n 'not',\n 'respons',\n 'for',\n 'the',\n 'content',\n 'of',\n 'extern',\n 'internet',\n 'site',\n 'top',\n 'health',\n 'stori',\n 'now',\n ':',\n 'heart',\n 'risk',\n 'link',\n 'to',\n 'big',\n 'famili',\n 'back',\n 'pain',\n 'drug',\n \"'may\",\n 'aid',\n \"diabetics'\",\n 'congo',\n 'ebola',\n 'outbreak',\n 'confirm',\n 'veget',\n 'ward',\n 'off',\n \"alzheimer'\",\n 'polio',\n 'campaign',\n 'launch',\n 'in',\n 'iraq',\n 'gene',\n 'defect',\n 'explain',\n 'high',\n 'blood',\n 'pressur',\n 'botox',\n \"'may\",\n 'caus',\n 'new',\n \"wrinkles'\",\n 'alien',\n \"'abducte\",\n \"'\",\n 'show',\n 'real',\n 'symptom',\n 'link',\n 'to',\n 'more',\n 'health',\n 'stori',\n 'are',\n 'at',\n 'the',\n 'foot',\n 'of',\n 'the',\n 'page',\n '.',\n 'e-mail',\n 'thi',\n 'stori',\n 'to',\n 'a',\n 'friend',\n 'link',\n 'to',\n 'more',\n 'health',\n 'stori',\n 'in',\n 'thi',\n 'section',\n 'heart',\n 'risk',\n 'link',\n 'to',\n 'big',\n 'famili',\n 'back',\n 'pain',\n 'drug',\n \"'may\",\n 'aid',\n \"diabetics'\",\n 'congo',\n 'ebola',\n 'outbreak',\n 'confirm',\n 'veget',\n 'ward',\n 'off',\n \"alzheimer'\",\n 'polio',\n 'campaign',\n 'launch',\n 'in',\n 'iraq',\n 'gene',\n 'defect',\n 'explain',\n 'high',\n 'blood',\n 'pressur',\n 'botox',\n \"'may\",\n 'caus',\n 'new',\n \"wrinkles'\",\n 'alien',\n \"'abducte\",\n \"'\",\n 'show',\n 'real',\n 'symptom',\n 'how',\n 'sperm',\n 'wriggl',\n 'bollywood',\n 'told',\n 'to',\n 'stub',\n 'it',\n 'out',\n 'fear',\n 'over',\n 'tuna',\n 'health',\n 'risk',\n 'to',\n 'babi',\n 'public',\n 'can',\n 'be',\n 'taught',\n 'to',\n 'spot',\n 'stroke',\n '^^',\n 'back',\n 'to',\n 'top',\n 'new',\n 'front',\n 'page',\n '|',\n 'africa',\n '|',\n 'america',\n '|',\n 'asia-pacif',\n '|',\n 'europ',\n '|',\n 'middl',\n 'east',\n '|',\n 'south',\n 'asia',\n '|',\n 'uk',\n '|',\n 'busi',\n '|',\n 'entertain',\n '|',\n 'science/natur',\n '|',\n 'technolog',\n '|',\n 'health',\n '|',\n 'talk',\n 'point',\n '|',\n 'countri',\n 'profil',\n '|',\n 'in',\n 'depth',\n '|',\n 'programm',\n '--',\n '--',\n '--',\n '--',\n '--',\n '--',\n '--',\n '--',\n '--',\n '--',\n '--',\n '--',\n '--',\n '--',\n '--',\n '--',\n '--',\n '--',\n '--',\n '--',\n '--',\n '--',\n '--',\n '--',\n '--',\n '--',\n '--',\n '--',\n '--',\n '--',\n '--',\n '--',\n '--',\n '--',\n '--',\n '--',\n '--',\n '--',\n '--',\n '--',\n '--',\n 'to',\n 'bbc',\n 'sport',\n '>',\n '>',\n '|',\n 'to',\n 'bbc',\n 'weather',\n '>',\n '>',\n '|',\n 'to',\n 'bbc',\n 'world',\n 'servic',\n '>',\n '>',\n '--',\n '--',\n '--',\n '--',\n '--',\n '--',\n '--',\n '--',\n '--',\n '--',\n '--',\n '--',\n '--',\n '--',\n '--',\n '--',\n '--',\n '--',\n '--',\n '--',\n '--',\n '--',\n '--',\n '--',\n '--',\n '--',\n '--',\n '--',\n '--',\n '--',\n '--',\n '--',\n '--',\n '--',\n '--',\n '--',\n '--',\n '--',\n '--',\n '--',\n '--',\n '©',\n 'mmiii',\n '|',\n 'new',\n 'sourc',\n '|',\n 'privaci']"
     },
     "execution_count": 32,
     "metadata": {},
     "output_type": "execute_result"
    }
   ],
   "source": [
    "porter = nltk.PorterStemmer()\n",
    "lancaster = nltk.LancasterStemmer()\n",
    "[porter.stem(t) for t in tokens]"
   ],
   "metadata": {
    "collapsed": false,
    "pycharm": {
     "name": "#%%\n"
    }
   }
  },
  {
   "cell_type": "code",
   "execution_count": 31,
   "outputs": [
    {
     "data": {
      "text/plain": "['bbc',\n 'new',\n '|',\n 'heal',\n '|',\n 'blond',\n \"'to\",\n 'die',\n 'out',\n 'in',\n '200',\n \"years'\",\n 'new',\n 'sport',\n 'weath',\n 'world',\n 'serv',\n 'a-z',\n 'index',\n 'search',\n 'you',\n 'ar',\n 'in',\n ':',\n 'heal',\n 'new',\n 'front',\n 'pag',\n 'afric',\n 'america',\n 'asia-pacific',\n 'europ',\n 'middl',\n 'east',\n 'sou',\n 'as',\n 'uk',\n 'busy',\n 'entertain',\n 'science/natur',\n 'technolog',\n 'heal',\n 'med',\n 'not',\n '--',\n '--',\n '--',\n '--',\n '--',\n '--',\n '-',\n 'talk',\n 'point',\n '--',\n '--',\n '--',\n '--',\n '--',\n '--',\n '-',\n 'country',\n 'profil',\n 'in',\n 'dep',\n '--',\n '--',\n '--',\n '--',\n '--',\n '--',\n '-',\n 'program',\n '--',\n '--',\n '--',\n '--',\n '--',\n '--',\n '-',\n 'serv',\n 'dai',\n 'e-mail',\n 'new',\n 'tick',\n 'mobile/pdas',\n '--',\n '--',\n '--',\n '--',\n '--',\n '--',\n '-',\n 'text',\n 'on',\n 'feedback',\n 'help',\n 'edit',\n 'chang',\n 'to',\n 'uk',\n 'friday',\n ',',\n '27',\n 'septemb',\n ',',\n '2002',\n ',',\n '11:51',\n 'gmt',\n '12:51',\n 'uk',\n 'blond',\n \"'to\",\n 'die',\n 'out',\n 'in',\n '200',\n \"years'\",\n 'sci',\n 'believ',\n 'the',\n 'last',\n 'blond',\n 'wil',\n 'be',\n 'in',\n 'finland',\n 'the',\n 'last',\n 'nat',\n 'blond',\n 'wil',\n 'die',\n 'out',\n 'within',\n '200',\n 'year',\n ',',\n 'sci',\n 'believ',\n '.',\n 'a',\n 'study',\n 'by',\n 'expert',\n 'in',\n 'germany',\n 'suggest',\n 'peopl',\n 'with',\n 'blond',\n 'hair',\n 'ar',\n 'an',\n 'endang',\n 'specy',\n 'and',\n 'wil',\n 'becom',\n 'extinct',\n 'by',\n '2202',\n '.',\n 'research',\n 'predict',\n 'the',\n 'last',\n 'tru',\n 'nat',\n 'blond',\n 'wil',\n 'be',\n 'born',\n 'in',\n 'finland',\n '-',\n 'the',\n 'country',\n 'with',\n 'the',\n 'highest',\n 'proport',\n 'of',\n 'blond',\n '.',\n 'the',\n 'frequ',\n 'of',\n 'blond',\n 'may',\n 'drop',\n 'but',\n 'they',\n 'wo',\n \"n't\",\n 'disappear',\n 'prof',\n 'jonath',\n 'ree',\n ',',\n 'univers',\n 'of',\n 'edinburgh',\n 'but',\n 'they',\n 'say',\n 'too',\n 'few',\n 'peopl',\n 'now',\n 'carry',\n 'the',\n 'gen',\n 'for',\n 'blond',\n 'to',\n 'last',\n 'beyond',\n 'the',\n 'next',\n 'two',\n 'century',\n '.',\n 'the',\n 'problem',\n 'is',\n 'that',\n 'blond',\n 'hair',\n 'is',\n 'caus',\n 'by',\n 'a',\n 'recess',\n 'gen',\n '.',\n 'in',\n 'ord',\n 'for',\n 'a',\n 'child',\n 'to',\n 'hav',\n 'blond',\n 'hair',\n ',',\n 'it',\n 'must',\n 'hav',\n 'the',\n 'gen',\n 'on',\n 'both',\n 'sid',\n 'of',\n 'the',\n 'famy',\n 'in',\n 'the',\n 'grandp',\n \"'\",\n 'gen',\n '.',\n 'dyed',\n 'riv',\n 'the',\n 'research',\n 'also',\n 'believ',\n 'that',\n 'so-called',\n 'bottl',\n 'blond',\n 'may',\n 'be',\n 'to',\n 'blam',\n 'for',\n 'the',\n 'dem',\n 'of',\n 'their',\n 'nat',\n 'riv',\n '.',\n 'they',\n 'suggest',\n 'that',\n 'dyed-blondes',\n 'ar',\n 'mor',\n 'attract',\n 'to',\n 'men',\n 'who',\n 'choos',\n 'them',\n 'as',\n 'partn',\n 'ov',\n 'tru',\n 'blond',\n '.',\n 'bottle-blondes',\n 'lik',\n 'an',\n 'widdecomb',\n 'may',\n 'be',\n 'to',\n 'blam',\n 'but',\n 'jonath',\n 'ree',\n ',',\n 'profess',\n 'of',\n 'dermatolog',\n 'at',\n 'the',\n 'univers',\n 'of',\n 'edinburgh',\n 'said',\n 'it',\n 'was',\n 'unlik',\n 'blond',\n 'would',\n 'die',\n 'out',\n 'complet',\n '.',\n '``',\n 'gen',\n 'do',\n \"n't\",\n 'die',\n 'out',\n 'unless',\n 'ther',\n 'is',\n 'a',\n 'disadv',\n 'of',\n 'hav',\n 'that',\n 'gen',\n 'or',\n 'by',\n 'chant',\n '.',\n 'they',\n 'do',\n \"n't\",\n 'disappear',\n ',',\n \"''\",\n 'he',\n 'told',\n 'bbc',\n 'new',\n 'onlin',\n '.',\n '``',\n 'the',\n 'on',\n 'reason',\n 'blond',\n 'would',\n 'disappear',\n 'is',\n 'if',\n 'hav',\n 'the',\n 'gen',\n 'was',\n 'a',\n 'disadv',\n 'and',\n 'i',\n 'do',\n 'not',\n 'think',\n 'that',\n 'is',\n 'the',\n 'cas',\n '.',\n '``',\n 'the',\n 'frequ',\n 'of',\n 'blond',\n 'may',\n 'drop',\n 'but',\n 'they',\n 'wo',\n \"n't\",\n 'disappear',\n '.',\n \"''\",\n 'see',\n 'also',\n ':',\n '28',\n 'mar',\n '01',\n '|',\n 'educ',\n 'what',\n 'is',\n 'it',\n 'about',\n 'blond',\n '?',\n '09',\n 'apr',\n '99',\n '|',\n 'heal',\n 'platin',\n 'blond',\n 'ar',\n 'label',\n 'as',\n 'dumb',\n '17',\n 'apr',\n '02',\n '|',\n 'heal',\n 'hair',\n 'dye',\n 'cant',\n 'alert',\n 'internet',\n 'link',\n ':',\n 'univers',\n 'of',\n 'edinburgh',\n 'the',\n 'bbc',\n 'is',\n 'not',\n 'respons',\n 'for',\n 'the',\n 'cont',\n 'of',\n 'extern',\n 'internet',\n 'sit',\n 'top',\n 'heal',\n 'story',\n 'now',\n ':',\n 'heart',\n 'risk',\n 'link',\n 'to',\n 'big',\n 'famy',\n 'back',\n 'pain',\n 'drug',\n \"'may\",\n 'aid',\n \"diabetics'\",\n 'congo',\n 'ebol',\n 'outbreak',\n 'confirm',\n 'veget',\n 'ward',\n 'off',\n \"alzheimer's\",\n 'polio',\n 'campaign',\n 'launch',\n 'in',\n 'iraq',\n 'gen',\n 'defect',\n 'explain',\n 'high',\n 'blood',\n 'press',\n 'botox',\n \"'may\",\n 'caus',\n 'new',\n \"wrinkles'\",\n 'aly',\n \"'abductees\",\n \"'\",\n 'show',\n 'real',\n 'symptom',\n 'link',\n 'to',\n 'mor',\n 'heal',\n 'story',\n 'ar',\n 'at',\n 'the',\n 'foot',\n 'of',\n 'the',\n 'pag',\n '.',\n 'e-mail',\n 'thi',\n 'story',\n 'to',\n 'a',\n 'friend',\n 'link',\n 'to',\n 'mor',\n 'heal',\n 'story',\n 'in',\n 'thi',\n 'sect',\n 'heart',\n 'risk',\n 'link',\n 'to',\n 'big',\n 'famy',\n 'back',\n 'pain',\n 'drug',\n \"'may\",\n 'aid',\n \"diabetics'\",\n 'congo',\n 'ebol',\n 'outbreak',\n 'confirm',\n 'veget',\n 'ward',\n 'off',\n \"alzheimer's\",\n 'polio',\n 'campaign',\n 'launch',\n 'in',\n 'iraq',\n 'gen',\n 'defect',\n 'explain',\n 'high',\n 'blood',\n 'press',\n 'botox',\n \"'may\",\n 'caus',\n 'new',\n \"wrinkles'\",\n 'aly',\n \"'abductees\",\n \"'\",\n 'show',\n 'real',\n 'symptom',\n 'how',\n 'sperm',\n 'wriggl',\n 'bollywood',\n 'told',\n 'to',\n 'stub',\n 'it',\n 'out',\n 'fear',\n 'ov',\n 'tun',\n 'heal',\n 'risk',\n 'to',\n 'baby',\n 'publ',\n 'can',\n 'be',\n 'taught',\n 'to',\n 'spot',\n 'strokes',\n '^^',\n 'back',\n 'to',\n 'top',\n 'new',\n 'front',\n 'pag',\n '|',\n 'afric',\n '|',\n 'america',\n '|',\n 'asia-pacific',\n '|',\n 'europ',\n '|',\n 'middl',\n 'east',\n '|',\n 'sou',\n 'as',\n '|',\n 'uk',\n '|',\n 'busy',\n '|',\n 'entertain',\n '|',\n 'science/natur',\n '|',\n 'technolog',\n '|',\n 'heal',\n '|',\n 'talk',\n 'point',\n '|',\n 'country',\n 'profil',\n '|',\n 'in',\n 'dep',\n '|',\n 'program',\n '--',\n '--',\n '--',\n '--',\n '--',\n '--',\n '--',\n '--',\n '--',\n '--',\n '--',\n '--',\n '--',\n '--',\n '--',\n '--',\n '--',\n '--',\n '--',\n '--',\n '--',\n '--',\n '--',\n '--',\n '--',\n '--',\n '--',\n '--',\n '--',\n '--',\n '--',\n '--',\n '--',\n '--',\n '--',\n '--',\n '--',\n '--',\n '--',\n '--',\n '--',\n 'to',\n 'bbc',\n 'sport',\n '>',\n '>',\n '|',\n 'to',\n 'bbc',\n 'weath',\n '>',\n '>',\n '|',\n 'to',\n 'bbc',\n 'world',\n 'serv',\n '>',\n '>',\n '--',\n '--',\n '--',\n '--',\n '--',\n '--',\n '--',\n '--',\n '--',\n '--',\n '--',\n '--',\n '--',\n '--',\n '--',\n '--',\n '--',\n '--',\n '--',\n '--',\n '--',\n '--',\n '--',\n '--',\n '--',\n '--',\n '--',\n '--',\n '--',\n '--',\n '--',\n '--',\n '--',\n '--',\n '--',\n '--',\n '--',\n '--',\n '--',\n '--',\n '--',\n '©',\n 'mmii',\n '|',\n 'new',\n 'sourc',\n '|',\n 'priv']"
     },
     "execution_count": 31,
     "metadata": {},
     "output_type": "execute_result"
    }
   ],
   "source": [
    "[lancaster.stem(t) for t in tokens]"
   ],
   "metadata": {
    "collapsed": false,
    "pycharm": {
     "name": "#%%\n"
    }
   }
  },
  {
   "cell_type": "markdown",
   "source": [],
   "metadata": {
    "collapsed": false,
    "pycharm": {
     "name": "#%% md\n"
    }
   }
  },
  {
   "cell_type": "markdown",
   "source": [
    "## 3.12   Exercises"
   ],
   "metadata": {
    "collapsed": false,
    "pycharm": {
     "name": "#%% md\n"
    }
   }
  },
  {
   "cell_type": "code",
   "execution_count": 36,
   "outputs": [
    {
     "name": "stdout",
     "output_type": "stream",
     "text": [
      "colourless\n"
     ]
    }
   ],
   "source": [
    "#1\n",
    "s = 'colorless'\n",
    "print(s[:4]+\"u\"+s[-5:])"
   ],
   "metadata": {
    "collapsed": false,
    "pycharm": {
     "name": "#%%\n"
    }
   }
  },
  {
   "cell_type": "code",
   "execution_count": 43,
   "outputs": [
    {
     "data": {
      "text/plain": "['dish', 'run', 'nation', 'un', 'pre']"
     },
     "execution_count": 43,
     "metadata": {},
     "output_type": "execute_result"
    }
   ],
   "source": [
    "#2\n",
    "s1,s2,s3,s4,s5 = \"dish-es\", \"run-ning\", \"nation-ality\", \"un-do\", \"pre-heat\"\n",
    "slist = [s1,s2,s3,s4,s5]\n",
    "for ind,el in enumerate(slist):\n",
    "    el = el[:el.find(\"-\")]\n",
    "    slist[ind]= el\n",
    "slist"
   ],
   "metadata": {
    "collapsed": false,
    "pycharm": {
     "name": "#%%\n"
    }
   }
  },
  {
   "cell_type": "code",
   "execution_count": 52,
   "outputs": [
    {
     "data": {
      "text/plain": "'nohtyP yhtnom'"
     },
     "execution_count": 52,
     "metadata": {},
     "output_type": "execute_result"
    }
   ],
   "source": [
    "#3\n",
    "monty = \"monthy Python\"\n",
    "monty[::-1]"
   ],
   "metadata": {
    "collapsed": false,
    "pycharm": {
     "name": "#%%\n"
    }
   }
  },
  {
   "cell_type": "code",
   "execution_count": null,
   "outputs": [],
   "source": [],
   "metadata": {
    "collapsed": false,
    "pycharm": {
     "name": "#%%\n"
    }
   }
  },
  {
   "cell_type": "code",
   "execution_count": 57,
   "outputs": [
    {
     "data": {
      "text/plain": "[('The', 3),\n ('dog', 3),\n ('gave', 4),\n ('John', 4),\n ('the', 3),\n ('newspaper', 9)]"
     },
     "execution_count": 57,
     "metadata": {},
     "output_type": "execute_result"
    }
   ],
   "source": [
    "sent = ['The', 'dog', 'gave', 'John', 'the', 'newspaper']\n",
    "result = []\n",
    "[result.append((word, len(word))) for word in sent]\n",
    "result"
   ],
   "metadata": {
    "collapsed": false,
    "pycharm": {
     "name": "#%%\n"
    }
   }
  },
  {
   "cell_type": "code",
   "execution_count": 59,
   "outputs": [
    {
     "data": {
      "text/plain": "'newspaper'"
     },
     "execution_count": 59,
     "metadata": {},
     "output_type": "execute_result"
    }
   ],
   "source": [
    "sent[-1]"
   ],
   "metadata": {
    "collapsed": false,
    "pycharm": {
     "name": "#%%\n"
    }
   }
  }
 ],
 "metadata": {
  "kernelspec": {
   "display_name": "Python 3",
   "language": "python",
   "name": "python3"
  },
  "language_info": {
   "codemirror_mode": {
    "name": "ipython",
    "version": 2
   },
   "file_extension": ".py",
   "mimetype": "text/x-python",
   "name": "python",
   "nbconvert_exporter": "python",
   "pygments_lexer": "ipython2",
   "version": "2.7.6"
  }
 },
 "nbformat": 4,
 "nbformat_minor": 0
}