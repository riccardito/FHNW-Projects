{
 "metadata": {
  "kernelspec": {
   "language": "python",
   "display_name": "Python 3",
   "name": "python3"
  },
  "language_info": {
   "name": "python",
   "version": "3.7.6",
   "mimetype": "text/x-python",
   "codemirror_mode": {
    "name": "ipython",
    "version": 3
   },
   "pygments_lexer": "ipython3",
   "nbconvert_exporter": "python",
   "file_extension": ".py"
  }
 },
 "nbformat_minor": 4,
 "nbformat": 4,
 "cells": [
  {
   "cell_type": "markdown",
   "source": [
    "# This is Notebook-1 of NLP(Zero-To-Hero) series."
   ],
   "metadata": {}
  },
  {
   "cell_type": "markdown",
   "source": [
    "I have started a series of NLP for beginners and for those who want to understand behind the scenes and Maths of NLP.<br>\n",
    "Currently I am doing Course of Natural Language Procesing on Coursera i.e. best course for understanding basics and to strong your foundation so I thought who is on this kaggle platform can also get knowledge about basics and maths of NLP. So I have started this.<br>\n",
    "There are more to come. <br>\n",
    "                           "
   ],
   "metadata": {}
  },
  {
   "cell_type": "markdown",
   "source": [
    "# Table Of Contents\n",
    "<br>\n",
    "1. Intro to preprocesssing and twitter dataset<br>\n",
    "2. Tokenizing the string<br>\n",
    "3. Lowercasing<br>\n",
    "4. Removing stop words and punctuation<br>\n",
    "5. Stemming<br>"
   ],
   "metadata": {}
  },
  {
   "cell_type": "markdown",
   "source": [
    "# Audience\n",
    "This tutorial uses NLTK to preprocess text. It is absolute beginner friendly. So if you have no backgroud of NLP then there is no problem. Only the basic python programming understanding is required for this tutorial."
   ],
   "metadata": {}
  },
  {
   "cell_type": "markdown",
   "source": [
    "# Preprocessing\n",
    "\n",
    "we will be exploring how to preprocess tweets for sentiment analysis. You will see how to use the [NLTK](http://www.nltk.org) package to perform a preprocessing pipeline for Twitter datasets."
   ],
   "metadata": {}
  },
  {
   "cell_type": "markdown",
   "source": [
    "## Setup\n",
    "\n",
    "You will be doing sentiment analysis on tweets in the first two weeks of this course. To help with that, we will be using the [Natural Language Toolkit (NLTK)](http://www.nltk.org/howto/twitter.html) package, an open-source Python library for natural language processing. It has modules for collecting, handling, and processing Twitter data, and you will be acquainted with them as we move along the course.\n",
    "\n",
    "For this exercise, we will use a Twitter dataset that comes with NLTK. This dataset has been manually annotated and serves to establish baselines for models quickly. Let us import them now as well as a few other libraries we will be using."
   ],
   "metadata": {}
  },
  {
   "cell_type": "code",
   "source": [
    "import nltk                                # Python library for NLP\n",
    "from nltk.corpus import twitter_samples    # sample Twitter dataset from NLTK\n",
    "import matplotlib.pyplot as plt            # library for visualization\n",
    "import random                              # pseudo-random number generator"
   ],
   "metadata": {
    "execution": {
     "iopub.status.busy": "2022-02-23T12:24:20.960828Z",
     "iopub.execute_input": "2022-02-23T12:24:20.961688Z",
     "iopub.status.idle": "2022-02-23T12:24:22.871464Z",
     "shell.execute_reply.started": "2022-02-23T12:24:20.961638Z",
     "shell.execute_reply": "2022-02-23T12:24:22.870178Z"
    },
    "trusted": true
   },
   "execution_count": 1,
   "outputs": []
  },
  {
   "cell_type": "markdown",
   "source": [
    "## About the Twitter dataset\n",
    "\n",
    "The sample dataset from NLTK is separated into positive and negative tweets. It contains 5000 positive tweets and 5000 negative tweets exactly. The exact match between these classes is not a coincidence. The intention is to have a balanced dataset. That does not reflect the real distributions of positive and negative classes in live Twitter streams. It is just because balanced datasets simplify the design of most computational methods that are required for sentiment analysis. However, it is better to be aware that this balance of classes is artificial. \n"
   ],
   "metadata": {}
  },
  {
   "cell_type": "code",
   "source": [
    "# downloads sample twitter dataset. uncomment the line below if running on a local machine.\n",
    "nltk.download('twitter_samples')"
   ],
   "metadata": {
    "execution": {
     "iopub.status.busy": "2022-02-23T12:24:22.874570Z",
     "iopub.execute_input": "2022-02-23T12:24:22.875293Z",
     "iopub.status.idle": "2022-02-23T12:24:42.932186Z",
     "shell.execute_reply.started": "2022-02-23T12:24:22.875238Z",
     "shell.execute_reply": "2022-02-23T12:24:42.931230Z"
    },
    "trusted": true
   },
   "execution_count": 2,
   "outputs": []
  },
  {
   "cell_type": "markdown",
   "source": [
    "We can load the text fields of the positive and negative tweets by using the module's `strings()` method like this:"
   ],
   "metadata": {}
  },
  {
   "cell_type": "code",
   "source": [
    "# select the set of positive and negative tweets\n",
    "all_positive_tweets = twitter_samples.strings('positive_tweets.json')\n",
    "all_negative_tweets = twitter_samples.strings('negative_tweets.json')"
   ],
   "metadata": {
    "execution": {
     "iopub.status.busy": "2022-02-23T12:24:42.933965Z",
     "iopub.execute_input": "2022-02-23T12:24:42.934310Z",
     "iopub.status.idle": "2022-02-23T12:24:43.950246Z",
     "shell.execute_reply.started": "2022-02-23T12:24:42.934270Z",
     "shell.execute_reply": "2022-02-23T12:24:43.948900Z"
    },
    "trusted": true
   },
   "execution_count": 3,
   "outputs": []
  },
  {
   "cell_type": "markdown",
   "source": [
    "Next, we'll print a report with the number of positive and negative tweets. It is also essential to know the data structure of the datasets"
   ],
   "metadata": {}
  },
  {
   "cell_type": "code",
   "source": [
    "print('Number of positive tweets: ', len(all_positive_tweets))\n",
    "print('Number of negative tweets: ', len(all_negative_tweets))\n",
    "\n",
    "print('\\nThe type of all_positive_tweets is: ', type(all_positive_tweets))\n",
    "print('The type of a tweet entry is: ', type(all_negative_tweets[0]))"
   ],
   "metadata": {
    "execution": {
     "iopub.status.busy": "2022-02-23T12:24:43.951534Z",
     "iopub.execute_input": "2022-02-23T12:24:43.951889Z",
     "iopub.status.idle": "2022-02-23T12:24:43.959266Z",
     "shell.execute_reply.started": "2022-02-23T12:24:43.951856Z",
     "shell.execute_reply": "2022-02-23T12:24:43.958176Z"
    },
    "trusted": true
   },
   "execution_count": 4,
   "outputs": []
  },
  {
   "cell_type": "markdown",
   "source": [
    "We can see that the data is stored in a list and as you might expect, individual tweets are stored as strings.\n",
    "\n",
    "You can make a more visually appealing report by using Matplotlib's [pyplot](https://matplotlib.org/tutorials/introductory/pyplot.html) library. Let us see how to create a [pie chart](https://matplotlib.org/3.2.1/gallery/pie_and_polar_charts/pie_features.html#sphx-glr-gallery-pie-and-polar-charts-pie-features-py) to show the same information as above. This simple snippet will serve you in future visualizations of this kind of data."
   ],
   "metadata": {}
  },
  {
   "cell_type": "code",
   "source": [
    "# Declare a figure with a custom size\n",
    "fig = plt.figure(figsize=(5, 5))\n",
    "\n",
    "# labels for the two classes\n",
    "labels = 'Positives', 'Negative'\n",
    "\n",
    "# Sizes for each slide\n",
    "sizes = [len(all_positive_tweets), len(all_negative_tweets)] \n",
    "\n",
    "# Declare pie chart, where the slices will be ordered and plotted counter-clockwise:\n",
    "plt.pie(sizes, labels=labels, autopct='%1.1f%%',\n",
    "        shadow=True, startangle=90)\n",
    "\n",
    "# Equal aspect ratio ensures that pie is drawn as a circle.\n",
    "plt.axis('equal')  \n",
    "\n",
    "# Display the chart\n",
    "plt.show()"
   ],
   "metadata": {
    "execution": {
     "iopub.status.busy": "2022-02-23T12:24:43.964886Z",
     "iopub.execute_input": "2022-02-23T12:24:43.965261Z",
     "iopub.status.idle": "2022-02-23T12:24:44.090025Z",
     "shell.execute_reply.started": "2022-02-23T12:24:43.965227Z",
     "shell.execute_reply": "2022-02-23T12:24:44.088865Z"
    },
    "trusted": true
   },
   "execution_count": 5,
   "outputs": []
  },
  {
   "cell_type": "markdown",
   "source": [
    "## Looking at raw texts\n",
    "\n",
    "Before anything else, we can print a couple of tweets from the dataset to see how they look. Understanding the data is responsible for 80% of the success or failure in data science projects. We can use this time to observe aspects we'd like to consider when preprocessing our data.\n",
    "\n",
    "Below, you will print one random positive and one random negative tweet. We have added a color mark at the beginning of the string to further distinguish the two. (Warning: This is taken from a public dataset of real tweets and a very small portion has explicit content.)"
   ],
   "metadata": {}
  },
  {
   "cell_type": "code",
   "source": [
    "# print positive in greeen\n",
    "print('\\033[92m' + all_positive_tweets[random.randint(0,5000)])\n",
    "\n",
    "# print negative in red\n",
    "print('\\033[91m' + all_negative_tweets[random.randint(0,5000)])"
   ],
   "metadata": {
    "execution": {
     "iopub.status.busy": "2022-02-23T12:24:44.092041Z",
     "iopub.execute_input": "2022-02-23T12:24:44.092461Z",
     "iopub.status.idle": "2022-02-23T12:24:44.099656Z",
     "shell.execute_reply.started": "2022-02-23T12:24:44.092413Z",
     "shell.execute_reply": "2022-02-23T12:24:44.098756Z"
    },
    "trusted": true
   },
   "execution_count": 6,
   "outputs": []
  },
  {
   "cell_type": "markdown",
   "source": [
    "One observation you may have is the presence of [emoticons](https://en.wikipedia.org/wiki/Emoticon) and URLs in many of the tweets. This info will come in handy in the next steps."
   ],
   "metadata": {}
  },
  {
   "cell_type": "markdown",
   "source": [
    "## Preprocess raw text for Sentiment analysis"
   ],
   "metadata": {}
  },
  {
   "cell_type": "markdown",
   "source": [
    "Data preprocessing is one of the critical steps in any machine learning project. It includes cleaning and formatting the data before feeding into a machine learning algorithm. For NLP, the preprocessing steps are comprised of the following tasks:\n",
    "\n",
    "* Tokenizing the string\n",
    "* Lowercasing\n",
    "* Removing stop words and punctuation\n",
    "* Stemming\n",
    "\n",
    "Let's see how we can do these to a given tweet. We will choose just one and see how this is transformed by each preprocessing step."
   ],
   "metadata": {}
  },
  {
   "cell_type": "code",
   "source": [
    "# Our selected sample. Complex enough to exemplify each step\n",
    "tweet = all_positive_tweets[2277]\n",
    "print(tweet)"
   ],
   "metadata": {
    "execution": {
     "iopub.status.busy": "2022-02-23T12:24:44.101152Z",
     "iopub.execute_input": "2022-02-23T12:24:44.101500Z",
     "iopub.status.idle": "2022-02-23T12:24:44.112934Z",
     "shell.execute_reply.started": "2022-02-23T12:24:44.101467Z",
     "shell.execute_reply": "2022-02-23T12:24:44.111792Z"
    },
    "trusted": true
   },
   "execution_count": 7,
   "outputs": []
  },
  {
   "cell_type": "markdown",
   "source": [
    "Let's import a few more libraries for this purpose."
   ],
   "metadata": {}
  },
  {
   "cell_type": "code",
   "source": [
    "# download the stopwords from NLTK\n",
    "nltk.download('stopwords')"
   ],
   "metadata": {
    "execution": {
     "iopub.status.busy": "2022-02-23T12:24:44.113965Z",
     "iopub.execute_input": "2022-02-23T12:24:44.114274Z",
     "iopub.status.idle": "2022-02-23T12:25:04.160358Z",
     "shell.execute_reply.started": "2022-02-23T12:24:44.114232Z",
     "shell.execute_reply": "2022-02-23T12:25:04.159251Z"
    },
    "trusted": true
   },
   "execution_count": 8,
   "outputs": []
  },
  {
   "cell_type": "code",
   "source": [
    "import re                                  # library for regular expression operations\n",
    "import string                              # for string operations\n",
    "\n",
    "from nltk.corpus import stopwords          # module for stop words that come with NLTK\n",
    "from nltk.stem import PorterStemmer        # module for stemming\n",
    "from nltk.tokenize import TweetTokenizer   # module for tokenizing strings"
   ],
   "metadata": {
    "execution": {
     "iopub.status.busy": "2022-02-23T12:25:04.161961Z",
     "iopub.execute_input": "2022-02-23T12:25:04.162602Z",
     "iopub.status.idle": "2022-02-23T12:25:04.169929Z",
     "shell.execute_reply.started": "2022-02-23T12:25:04.162550Z",
     "shell.execute_reply": "2022-02-23T12:25:04.168439Z"
    },
    "trusted": true
   },
   "execution_count": 9,
   "outputs": []
  },
  {
   "cell_type": "markdown",
   "source": [
    "### Remove hyperlinks,  Twitter marks and styles\n",
    "\n",
    "Since we have a Twitter dataset, we'd like to remove some substrings commonly used on the platform like the hashtag, retweet marks, and hyperlinks. We'll use the [re](https://docs.python.org/3/library/re.html) library to perform regular expression operations on our tweet. We'll define our search pattern and use the `sub()` method to remove matches by substituting with an empty character (i.e. `''`)"
   ],
   "metadata": {}
  },
  {
   "cell_type": "code",
   "source": [
    "print('\\033[92m' + tweet)\n",
    "print('\\033[94m')\n",
    "\n",
    "# remove old style retweet text \"RT\"\n",
    "tweet2 = re.sub(r'^RT[\\s]+', '', tweet)\n",
    "\n",
    "# remove hyperlinks\n",
    "tweet2 = re.sub(r'https?:\\/\\/.*[\\r\\n]*', '', tweet2)\n",
    "\n",
    "# remove hashtags\n",
    "# only removing the hash # sign from the word\n",
    "tweet2 = re.sub(r'#', '', tweet2)\n",
    "\n",
    "print(tweet2)"
   ],
   "metadata": {
    "execution": {
     "iopub.status.busy": "2022-02-23T12:25:04.171549Z",
     "iopub.execute_input": "2022-02-23T12:25:04.172152Z",
     "iopub.status.idle": "2022-02-23T12:25:04.194264Z",
     "shell.execute_reply.started": "2022-02-23T12:25:04.172111Z",
     "shell.execute_reply": "2022-02-23T12:25:04.192936Z"
    },
    "trusted": true
   },
   "execution_count": 10,
   "outputs": []
  },
  {
   "cell_type": "markdown",
   "source": [
    "### Tokenize the string\n",
    "\n",
    "To tokenize means to split the strings into individual words without blanks or tabs. In this same step, we will also convert each word in the string to lower case. The [tokenize](https://www.nltk.org/api/nltk.tokenize.html#module-nltk.tokenize.casual) module from NLTK allows us to do these easily:"
   ],
   "metadata": {}
  },
  {
   "cell_type": "code",
   "source": [
    "print()\n",
    "print('\\033[92m' + tweet2)\n",
    "print('\\033[94m')\n",
    "\n",
    "# instantiate tokenizer class\n",
    "tokenizer = TweetTokenizer(preserve_case=False, strip_handles=True,\n",
    "                               reduce_len=True)\n",
    "\n",
    "# tokenize tweets\n",
    "tweet_tokens = tokenizer.tokenize(tweet2)\n",
    "\n",
    "print()\n",
    "print('Tokenized string:')\n",
    "print(tweet_tokens)"
   ],
   "metadata": {
    "execution": {
     "iopub.status.busy": "2022-02-23T12:25:04.195632Z",
     "iopub.execute_input": "2022-02-23T12:25:04.196350Z",
     "iopub.status.idle": "2022-02-23T12:25:04.212427Z",
     "shell.execute_reply.started": "2022-02-23T12:25:04.196145Z",
     "shell.execute_reply": "2022-02-23T12:25:04.210986Z"
    },
    "trusted": true
   },
   "execution_count": 11,
   "outputs": []
  },
  {
   "cell_type": "markdown",
   "source": [
    "### Remove stop words and punctuations\n",
    "\n",
    "The next step is to remove stop words and punctuation. Stop words are words that don't add significant meaning to the text. You'll see the list provided by NLTK when you run the cells below."
   ],
   "metadata": {}
  },
  {
   "cell_type": "code",
   "source": [
    "#Import the english stop words list from NLTK\n",
    "stopwords_english = stopwords.words('english') \n",
    "\n",
    "print('Stop words\\n')\n",
    "print(stopwords_english)\n",
    "\n",
    "print('\\nPunctuation\\n')\n",
    "print(string.punctuation)"
   ],
   "metadata": {
    "execution": {
     "iopub.status.busy": "2022-02-23T12:25:04.214849Z",
     "iopub.execute_input": "2022-02-23T12:25:04.215672Z",
     "iopub.status.idle": "2022-02-23T12:25:04.230022Z",
     "shell.execute_reply.started": "2022-02-23T12:25:04.215618Z",
     "shell.execute_reply": "2022-02-23T12:25:04.228709Z"
    },
    "trusted": true
   },
   "execution_count": 12,
   "outputs": []
  },
  {
   "cell_type": "markdown",
   "source": [
    "We can see that the stop words list above contains some words that could be important in some contexts. \n",
    "These could be words like _i, not, between, because, won, against_. You might need to customize the stop words list for some applications. For our exercise, we will use the entire list.\n",
    "\n",
    "For the punctuation, we saw earlier that certain groupings like ':)' and '...'  should be retained when dealing with tweets because they are used to express emotions. In other contexts, like medical analysis, these should also be removed.\n",
    "\n",
    "Time to clean up our tokenized tweet!"
   ],
   "metadata": {}
  },
  {
   "cell_type": "code",
   "source": [
    "print()\n",
    "print('\\033[92m')\n",
    "print(tweet_tokens)\n",
    "print('\\033[94m')\n",
    "\n",
    "tweets_clean = []\n",
    "\n",
    "for word in tweet_tokens: # Go through every word in your tokens list\n",
    "    if (word not in stopwords_english and  # remove stopwords\n",
    "        word not in string.punctuation):  # remove punctuation\n",
    "        tweets_clean.append(word)\n",
    "\n",
    "print('removed stop words and punctuation:')\n",
    "print(tweets_clean)"
   ],
   "metadata": {
    "execution": {
     "iopub.status.busy": "2022-02-23T12:25:04.233211Z",
     "iopub.execute_input": "2022-02-23T12:25:04.234176Z",
     "iopub.status.idle": "2022-02-23T12:25:04.246603Z",
     "shell.execute_reply.started": "2022-02-23T12:25:04.234118Z",
     "shell.execute_reply": "2022-02-23T12:25:04.245306Z"
    },
    "trusted": true
   },
   "execution_count": 13,
   "outputs": []
  },
  {
   "cell_type": "markdown",
   "source": [
    "Please note that the words **happy** and **sunny** in this list are correctly spelled. "
   ],
   "metadata": {}
  },
  {
   "cell_type": "markdown",
   "source": [
    "### Stemming\n",
    "\n",
    "Stemming is the process of converting a word to its most general form, or stem. This helps in reducing the size of our vocabulary.\n",
    "\n",
    "Consider the words: \n",
    " * **learn**\n",
    " * **learn**ing\n",
    " * **learn**ed\n",
    " * **learn**t\n",
    " \n",
    "All these words are stemmed from its common root **learn**. However, in some cases, the stemming process produces words that are not correct spellings of the root word. For example, **happi** and **sunni**. That's because it chooses the most common stem for related words. For example, we can look at the set of words that comprises the different forms of happy:\n",
    "\n",
    " * **happ**y\n",
    " * **happi**ness\n",
    " * **happi**er\n",
    " \n",
    "We can see that the prefix **happi** is more commonly used. We cannot choose **happ** because it is the stem of unrelated words like **happen**.\n",
    " \n",
    "NLTK has different modules for stemming and we will be using the [PorterStemmer](https://www.nltk.org/api/nltk.stem.html#module-nltk.stem.porter) module which uses the [Porter Stemming Algorithm](https://tartarus.org/martin/PorterStemmer/). Let's see how we can use it in the cell below."
   ],
   "metadata": {}
  },
  {
   "cell_type": "code",
   "source": [
    "print()\n",
    "print('\\033[92m')\n",
    "print(tweets_clean)\n",
    "print('\\033[94m')\n",
    "\n",
    "# Instantiate stemming class\n",
    "stemmer = PorterStemmer() \n",
    "\n",
    "# Create an empty list to store the stems\n",
    "tweets_stem = [] \n",
    "\n",
    "for word in tweets_clean:\n",
    "    stem_word = stemmer.stem(word)  # stemming word\n",
    "    tweets_stem.append(stem_word)  # append to the list\n",
    "\n",
    "print('stemmed words:')\n",
    "print(tweets_stem)"
   ],
   "metadata": {
    "execution": {
     "iopub.status.busy": "2022-02-23T12:25:04.248460Z",
     "iopub.execute_input": "2022-02-23T12:25:04.249264Z",
     "iopub.status.idle": "2022-02-23T12:25:04.262688Z",
     "shell.execute_reply.started": "2022-02-23T12:25:04.249211Z",
     "shell.execute_reply": "2022-02-23T12:25:04.260926Z"
    },
    "trusted": true
   },
   "execution_count": 14,
   "outputs": []
  },
  {
   "cell_type": "markdown",
   "source": [
    "That's it! Now we have a set of words we can feed into to the next stage of our machine learning project."
   ],
   "metadata": {}
  },
  {
   "cell_type": "markdown",
   "source": [
    "That's it for this lab! You now know what is going on when you call the preprocessing helper function in this week's assignment. Hopefully, this exercise has also given you some insights on how to tweak this for other types of text datasets."
   ],
   "metadata": {}
  },
  {
   "cell_type": "markdown",
   "source": [
    "# What Next\n",
    "I have thought to list all notebooks that I used to learn NLP so that one can understand the basics of NLP and can enhance himself from ZERO-to-HERO in NLP.<br>\n",
    "**So if you want to read more notebooks stay tuned with me**.\n"
   ],
   "metadata": {}
  },
  {
   "cell_type": "code",
   "execution_count": null,
   "outputs": [],
   "source": [],
   "metadata": {
    "collapsed": false,
    "pycharm": {
     "name": "#%%\n"
    }
   }
  },
  {
   "cell_type": "markdown",
   "source": [
    "# Future Work\n",
    "All concepts from Basic To Advanced with research Papers is aimed to write here."
   ],
   "metadata": {}
  },
  {
   "cell_type": "markdown",
   "source": "# Reference \nThis Noteboook is based on Coursera Course “Natural Language Processing Specialization” by Deeplearning.ai . Instructors of this specialization are Younes Bensouda Mourri , Łukasz Kaiser and Eddy Shyu",
   "metadata": {}
  }
 ]
}