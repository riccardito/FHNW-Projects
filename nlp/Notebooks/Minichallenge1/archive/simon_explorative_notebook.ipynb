{
 "cells": [
  {
   "cell_type": "code",
   "execution_count": 1,
   "metadata": {},
   "outputs": [],
   "source": [
    "import nltk\n",
    "from nltk.corpus import stopwords           # list of stopwords\n",
    "from nltk.corpus import twitter_samples     # test dataset of 10000 twitter samples\n",
    "from nltk.stem import PorterStemmer         # module for stemming\n",
    "from nltk.tokenize import  word_tokenize, RegexpTokenizer   # module for tokenizing strings\n",
    "import matplotlib.pyplot as plt\n",
    "import seaborn as sns\n",
    "import re                                  # library for regular expression operations\n",
    "import string                              # for string operations"
   ]
  },
  {
   "cell_type": "markdown",
   "metadata": {},
   "source": [
    "python -m nltk.downloader stopwords"
   ]
  },
  {
   "cell_type": "code",
   "execution_count": 2,
   "metadata": {},
   "outputs": [],
   "source": [
    "# stopwords.words(\"english\")\n",
    "all_positive_tweets = twitter_samples.strings('positive_tweets.json')\n",
    "all_negative_tweets = twitter_samples.strings('negative_tweets.json')"
   ]
  },
  {
   "cell_type": "code",
   "execution_count": 3,
   "metadata": {},
   "outputs": [
    {
     "data": {
      "image/png": "[encoded data removed]",
      "text/plain": [
       "<Figure size 360x360 with 1 Axes>"
      ]
     },
     "metadata": {},
     "output_type": "display_data"
    }
   ],
   "source": [
    "fig = plt.figure(figsize=(5, 5))\n",
    "\n",
    "labels = 'Positives', 'Negative'\n",
    "colors = '#55BB66', '#BB5566'\n",
    "\n",
    "sizes = [len(all_positive_tweets), len(all_negative_tweets)] \n",
    "\n",
    "plt.pie(sizes, labels=labels, autopct='%1.1f%%', startangle=90, colors=colors)\n",
    "plt.title(\"Proportion of positive and negative tweets\")\n",
    "plt.show()"
   ]
  },
  {
   "cell_type": "markdown",
   "metadata": {},
   "source": [
    "Removing special characters"
   ]
  },
  {
   "cell_type": "code",
   "execution_count": 4,
   "metadata": {},
   "outputs": [
    {
     "data": {
      "text/plain": [
       "'#FollowFriday @France_Inte @PKuchly57 @Milipol_Paris for being top engaged members in my community this week :)'"
      ]
     },
     "execution_count": 4,
     "metadata": {},
     "output_type": "execute_result"
    }
   ],
   "source": [
    "\n",
    "\n",
    "s = all_positive_tweets[0]\n",
    "s"
   ]
  },
  {
   "cell_type": "code",
   "execution_count": 5,
   "metadata": {},
   "outputs": [
    {
     "name": "stdout",
     "output_type": "stream",
     "text": [
      "Hello, my name is Simon234. /*😊\n",
      "hello my name is simon \n",
      "['hello', 'my', 'name', 'is', 'simon']\n",
      "['hello', 'name', 'simon']\n"
     ]
    }
   ],
   "source": [
    "def remove_punctuation(sentence, p=None):\n",
    "    '''Removes digits from a single sentence or a list of strings if words are in stop_words'''\n",
    "    punctuations = '!\"#$%&\\'()*+,-./:;<=>?@[\\\\]^_`{|}~'\n",
    "    if p:\n",
    "        punctuations = p\n",
    "    if isinstance(sentence, str):\n",
    "        return sentence.translate(str.maketrans('', '', punctuations))\n",
    "    if isinstance(sentence, list):\n",
    "        sentence = [word for word in sentence if word not in punctuations]\n",
    "    return sentence\n",
    "\n",
    "def remove_digits(sentence):\n",
    "    '''Removes digits from a single sentence or a list of strings'''\n",
    "    if isinstance(sentence, str):\n",
    "        return re.sub(r'[0-9]', '', sentence)\n",
    "    if isinstance(sentence, list):\n",
    "        return [re.sub(r'[0-9]', '', word) for word in sentence]\n",
    "\n",
    "def remove_emojis(sentence):\n",
    "    '''Removes emojis from a single sentence'''\n",
    "    emoji_pattern = re.compile(\"[\"\n",
    "    u\"\\U0001F600-\\U0001F64F\"  # emoticons\n",
    "    u\"\\U0001F300-\\U0001F5FF\"  # symbols & pictographs\n",
    "    u\"\\U0001F680-\\U0001F6FF\"  # transport & map symbols\n",
    "    u\"\\U0001F1E0-\\U0001F1FF\"  # flags (iOS)\n",
    "    \"]+\", flags=re.UNICODE)\n",
    "    return emoji_pattern.sub(r'', sentence)\n",
    "\n",
    "def remove_stop_words(sentence, stop_words):\n",
    "    '''Removes stopwords from a list of strings sentence if words are in stop_words'''\n",
    "    sentence = [word for word in sentence if word not in stop_words]\n",
    "    return sentence\n",
    "\n",
    "def preprocess(sentence):\n",
    "    '''\n",
    "    Preprocess a single sentence by applying:\n",
    "    - lover case words\n",
    "    remove digits\n",
    "    \n",
    "    '''\n",
    "    # input to string\n",
    "    sentence=str(sentence)\n",
    "    # lowercase all words\n",
    "    sentence = sentence.lower()\n",
    "    # remove digits\n",
    "    sentence = remove_digits(sentence)\n",
    "    # filter punctuation\n",
    "    sentence = remove_punctuation(sentence)\n",
    "    # remove emojis\n",
    "    sentence = remove_emojis(sentence)\n",
    "    return sentence\n",
    "\n",
    "\n",
    "s = \"Hello, my name is Simon234. /*😊\"\n",
    "print(s)\n",
    "\n",
    "# preprocess sencence\n",
    "s = preprocess(s)\n",
    "print(s)\n",
    "\n",
    "# tokenize sentence\n",
    "s = word_tokenize(s)\n",
    "print(s)\n",
    "\n",
    "# remove stopwords\n",
    "english_stopwords = stopwords.words(\"english\")\n",
    "s = remove_stop_words(s, english_stopwords)\n",
    "print(s)\n",
    "\n",
    "\n"
   ]
  },
  {
   "cell_type": "code",
   "execution_count": null,
   "metadata": {},
   "outputs": [],
   "source": []
  }
 ],
 "metadata": {
  "interpreter": {
   "hash": "0c5cc28ade0012d32eefe2b8c821f39142f0005986bc66e640054e4bdc70c1ad"
  },
  "kernelspec": {
   "display_name": "Python 3 (ipykernel)",
   "language": "python",
   "name": "python3"
  },
  "language_info": {
   "codemirror_mode": {
    "name": "ipython",
    "version": 3
   },
   "file_extension": ".py",
   "mimetype": "text/x-python",
   "name": "python",
   "nbconvert_exporter": "python",
   "pygments_lexer": "ipython3",
   "version": "3.9.7"
  }
 },
 "nbformat": 4,
 "nbformat_minor": 2
}
