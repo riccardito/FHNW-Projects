{
 "cells": [
  {
   "cell_type": "markdown",
   "metadata": {
    "collapsed": true,
    "pycharm": {
     "name": "#%% md\n"
    }
   },
   "source": [
    "# Minichallenge 1 NPR\n",
    "from Riccard Nef and Simon Luder\n"
   ]
  },
  {
   "cell_type": "markdown",
   "metadata": {
    "pycharm": {
     "name": "#%% md\n"
    }
   },
   "source": [
    "**Intro:** Ziel dieser Mini-Challenge ist es zwei  unterschiedliche Ansätze bei einem Text klassifikations Task auf ihre Performanz zu untersuchen und zu vergleichen. \n",
    "Wir wollen uns hierbei auf den Task der Sentimentanalyse bei Produktbewertungen konzentrieren. Bei einer Sensimentanalyse ist es das Ziel die Empfindung eines Textes zu erkennen, also ob der Verfasser eines entsprechenden Textes oder Aussage eine positive oder negative Haltung hervorbringt. \n",
    "\n",
    "Bei unserem ersten Ansatz nutzen wir mit tf-idf und anschliessendem Support-Vector-Machine Klassifizierer (SVM) ein herkömmliches Machine Learning Modell. \n",
    "Der zweite Ansatz fokussiert sich auf die Anwendung von Convolutional Neuronal Networks (CNN's) und somit auf ein deep Learning Modell.\n",
    "\n",
    "**Zielmetriken:** Um die Güte der Klassifikation unserer Modelle zu evaluieren nutzen wir ein Set an Metriken, insbesondere Accuracy, Precision, Recall und F1-Score. \n",
    "\n",
    "<p>&nbsp;</p>\n",
    "\n",
    "$$\\text{Accuracy: } \\displaystyle  \\frac{\\text{True Positive}+\\text{True Negative}}{\\text{True Positive}+\\text{True Negative}+\\text{False Positive}+\\text{False Negative}}$$\n",
    "\n",
    "<p>&nbsp;</p>\n",
    "\n",
    "$$\\text{Precision: } \\displaystyle  \\frac{\\text{True Positive}}{\\text{True Positive}+\\text{False Positive}}$$\n",
    "\n",
    "<p>&nbsp;</p>\n",
    "\n",
    "$$\\text{Recall: } \\displaystyle \\frac{\\text{True Positive}}{\\text{True Positive}+\\text{False Negative}}$$\n",
    "\n",
    "<p>&nbsp;</p>\n",
    "\n",
    "$$\\text{F1-Score: } \\displaystyle \\text{2} * \\frac{\\text{Precision}*\\text{Recall}}{\\text{Precision}+\\text{Recall}}$$\n",
    "\n",
    "<p>&nbsp;</p>\n",
    "\n",
    "Das beste Modell wird anhand von Macro Accuracy und Macro F1-Score ermittelt. Hierbei handelt es sich um das arithmetische Mittel des jeweiligen Scores über alle Klassen.\n",
    "\n"
   ]
  },
  {
   "cell_type": "markdown",
   "metadata": {
    "pycharm": {
     "name": "#%% md\n"
    }
   },
   "source": [
    "**Dependencies:**"
   ]
  },
  {
   "cell_type": "code",
   "execution_count": 1,
   "metadata": {
    "pycharm": {
     "name": "#%%\n"
    }
   },
   "outputs": [],
   "source": [
    "# import dependencies\n",
    "import os\n",
    "import gzip\n",
    "import shutil\n",
    "import requests\n",
    "\n",
    "import seaborn as sns\n",
    "import matplotlib.pyplot as plt\n",
    "\n",
    "import numpy as np \n",
    "import pandas as pd\n",
    "import dask.dataframe as dd\n",
    "\n",
    "import re \n",
    "import string\n",
    "import nltk\n",
    "from nltk.corpus import stopwords\n",
    "from nltk.tokenize import RegexpTokenizer\n",
    "from nltk.stem import WordNetLemmatizer\n",
    "\n",
    "import tensorflow as tf\n",
    "from keras import layers\n",
    "from sklearn.model_selection import train_test_split\n",
    "\n",
    "# set seed\n",
    "mc1seed = 42\n",
    "import random\n",
    "random.seed(mc1seed)\n",
    "\n",
    "# ignore warnings\n",
    "from warnings import simplefilter\n",
    "simplefilter(action='ignore')\n",
    "\n",
    "run_gridsearch = False"
   ]
  },
  {
   "cell_type": "markdown",
   "metadata": {
    "pycharm": {
     "name": "#%% md\n"
    }
   },
   "source": [
    "## 1.0 Datensatz\n",
    "\n",
    "**Beschreibung der Daten:**\n",
    "Die Daten stammen von Professor Julian McAuley und sind unter http://jmcauley.ucsd.edu/data/amazon/ verfügbar. Der komplette Datensatz beinhaltet gut 142.8 Millionen Produktbewertungen, welche zwischen dem Zeitraum von Mai 1996 bis Juli 2014 auf Amazon abgegeben wurden. Wir beschränken uns für diese Mini-Challenge auf das Subset `Toys and Games` welches im originalen Zustand gut 167,597 Bewertungen beinhaltet. \n",
    "\n",
    "**Werteskala:** Kunden können bei der Bewertung eines Produktes zwischen ein (1) und fünf (5) Sterne vergeben. Diese diskrete Sterne-Skala dient uns als Grundlage, um im weiteren Verlauf die Bewertungen in Positiv oder Negativ einzuteilen.\n",
    "\n",
    "**Setup:** Für eine korrekte Ausführung des Notebooks muss der `reviews_Toys_and_Games_5.json.gz` Datensatz heruntergeladen werden, entpackt und anschliessend das `Toys_and_Games_5.json` im `src` Folder hinterlegt werden. Durch das Ausführen des Notebooks werden diese Schritte automatische durchgeführt.\n",
    "\n"
   ]
  },
  {
   "cell_type": "code",
   "execution_count": 2,
   "metadata": {
    "pycharm": {
     "name": "#%%\n"
    }
   },
   "outputs": [],
   "source": [
    "source_url = \"http://snap.stanford.edu/data/amazon/productGraph/categoryFiles/reviews_Toys_and_Games_5.json.gz\"\n",
    "gz_file = \"reviews_Toys_and_Games_5.json.gz\"\n",
    "\n",
    "path = \"../../src/\"\n",
    "json_file = \"Toys_and_Games_5.json\"\n",
    "\n",
    "\n",
    "# create src folder if doesn't exist\n",
    "if not os.path.exists(path):\n",
    "    os.makedirs(path)\n",
    "\n",
    "# Downlod file if it doesnt exist\n",
    "if not os.path.isfile(path + json_file):\n",
    "    print(\"Download file...\")\n",
    "    response = requests.get(source_url, stream=True)\n",
    "    if response.status_code == 200:\n",
    "        with open(path + gz_file, 'wb') as f:\n",
    "            f.write(response.raw.read())\n",
    "            print(\"File download complete.\")\n",
    "\n",
    "    # unzip the file\n",
    "    print(\"Unzip file...\")\n",
    "    with gzip.open(path + gz_file, 'rb') as f_in:\n",
    "        with open(path + json_file, 'wb') as f_out:\n",
    "            shutil.copyfileobj(f_in, f_out)\n",
    "    print(\"File unzip complete.\")"
   ]
  },
  {
   "cell_type": "markdown",
   "metadata": {
    "pycharm": {
     "name": "#%% md\n"
    }
   },
   "source": [
    "### 1.1.1 Installing ntlk data"
   ]
  },
  {
   "cell_type": "code",
   "execution_count": 3,
   "metadata": {
    "pycharm": {
     "name": "#%%\n"
    }
   },
   "outputs": [],
   "source": [
    "# nltk.download()"
   ]
  },
  {
   "cell_type": "markdown",
   "metadata": {
    "pycharm": {
     "name": "#%% md\n"
    }
   },
   "source": [
    "### 1.1.2 Data import\n",
    "\n",
    "Wir laden nun unseren Datensatz als pandas Dataframe."
   ]
  },
  {
   "cell_type": "code",
   "execution_count": 4,
   "metadata": {
    "pycharm": {
     "name": "#%%\n"
    }
   },
   "outputs": [],
   "source": [
    "try:\n",
    "    df = pd.read_json(\"../../src/Toys_and_Games_5.json\", lines=True)\n",
    "except:\n",
    "    print(\"Ups, something went wrong! Please make sure the Toys_and_Games_5.json dataset is in the src folder.\")"
   ]
  },
  {
   "cell_type": "code",
   "execution_count": 5,
   "metadata": {
    "pycharm": {
     "name": "#%%\n"
    }
   },
   "outputs": [
    {
     "name": "stdout",
     "output_type": "stream",
     "text": [
      "Dataset contains 167597 entries\n",
      "Name of Attributes: ['reviewerID', 'asin', 'reviewerName', 'helpful', 'reviewText', 'overall', 'summary', 'unixReviewTime', 'reviewTime']\n"
     ]
    }
   ],
   "source": [
    "print(f\"Dataset contains {df.shape[0]} entries\")\n",
    "print(f\"Name of Attributes: {df.columns.tolist()}\")"
   ]
  },
  {
   "cell_type": "markdown",
   "metadata": {
    "pycharm": {
     "name": "#%% md\n"
    }
   },
   "source": [
    "### 1.1.3 Rating Proportions "
   ]
  },
  {
   "cell_type": "code",
   "execution_count": 6,
   "metadata": {
    "pycharm": {
     "name": "#%%\n"
    }
   },
   "outputs": [
    {
     "data": {
      "image/png": "[encoded data removed]",
      "text/plain": [
       "<Figure size 432x288 with 1 Axes>"
      ]
     },
     "metadata": {
      "needs_background": "light"
     },
     "output_type": "display_data"
    }
   ],
   "source": [
    "rating_count = df[\"overall\"].value_counts()\n",
    "plt.bar(rating_count.index, rating_count.values, color=\"#3B7EE7\")\n",
    "plt.title(\"Number of Ratings\")\n",
    "plt.xlabel(\"ratings [n]\")\n",
    "plt.ylabel(\"count [n]\")\n",
    "plt.show()"
   ]
  },
  {
   "cell_type": "markdown",
   "metadata": {
    "pycharm": {
     "name": "#%% md\n"
    }
   },
   "source": [
    "**Beschreibung:** Wir sehen um Barplot, dass sich überproportional viele Ratings mit einer 4 oder 5 im Datensatz befinden. Das muss in unseren Modellen entsprechend berücksichtigt werden. \n",
    "\n",
    "Wir möchten die Ratings nun in Positiv und Negativ einteilen. Dafür sehen wir Ratings von 1 bis 2 als schlecht, 3 als neutral und 4 bis 5 als gut an. In einem nächsten Schritt werden die neutralen Bewertungen entfernt und die restlichen binär eingeteilt. \n",
    "\n",
    "Dabei gilt: \n",
    "- 1 -> Gut\n",
    "- 0 -> Schlecht"
   ]
  },
  {
   "cell_type": "code",
   "execution_count": 7,
   "metadata": {
    "pycharm": {
     "name": "#%%\n"
    }
   },
   "outputs": [
    {
     "data": {
      "text/html": [
       "<div>\n",
       "<style scoped>\n",
       "    .dataframe tbody tr th:only-of-type {\n",
       "        vertical-align: middle;\n",
       "    }\n",
       "\n",
       "    .dataframe tbody tr th {\n",
       "        vertical-align: top;\n",
       "    }\n",
       "\n",
       "    .dataframe thead th {\n",
       "        text-align: right;\n",
       "    }\n",
       "</style>\n",
       "<table border=\"1\" class=\"dataframe\">\n",
       "  <thead>\n",
       "    <tr style=\"text-align: right;\">\n",
       "      <th></th>\n",
       "      <th>reviewText</th>\n",
       "      <th>overall</th>\n",
       "      <th>category_binary</th>\n",
       "      <th>category</th>\n",
       "    </tr>\n",
       "  </thead>\n",
       "  <tbody>\n",
       "    <tr>\n",
       "      <th>0</th>\n",
       "      <td>I like the item pricing. My granddaughter want...</td>\n",
       "      <td>5</td>\n",
       "      <td>1</td>\n",
       "      <td>Positive</td>\n",
       "    </tr>\n",
       "    <tr>\n",
       "      <th>1</th>\n",
       "      <td>Love the magnet easel... great for moving to d...</td>\n",
       "      <td>4</td>\n",
       "      <td>1</td>\n",
       "      <td>Positive</td>\n",
       "    </tr>\n",
       "    <tr>\n",
       "      <th>2</th>\n",
       "      <td>Both sides are magnetic.  A real plus when you...</td>\n",
       "      <td>5</td>\n",
       "      <td>1</td>\n",
       "      <td>Positive</td>\n",
       "    </tr>\n",
       "    <tr>\n",
       "      <th>3</th>\n",
       "      <td>Bought one a few years ago for my daughter and...</td>\n",
       "      <td>5</td>\n",
       "      <td>1</td>\n",
       "      <td>Positive</td>\n",
       "    </tr>\n",
       "    <tr>\n",
       "      <th>4</th>\n",
       "      <td>I have a stainless steel refrigerator therefor...</td>\n",
       "      <td>4</td>\n",
       "      <td>1</td>\n",
       "      <td>Positive</td>\n",
       "    </tr>\n",
       "    <tr>\n",
       "      <th>...</th>\n",
       "      <td>...</td>\n",
       "      <td>...</td>\n",
       "      <td>...</td>\n",
       "      <td>...</td>\n",
       "    </tr>\n",
       "    <tr>\n",
       "      <th>167592</th>\n",
       "      <td>This drone is very fun and super duarable. Its...</td>\n",
       "      <td>5</td>\n",
       "      <td>1</td>\n",
       "      <td>Positive</td>\n",
       "    </tr>\n",
       "    <tr>\n",
       "      <th>167593</th>\n",
       "      <td>This is my brother's most prized toy. It's ext...</td>\n",
       "      <td>5</td>\n",
       "      <td>1</td>\n",
       "      <td>Positive</td>\n",
       "    </tr>\n",
       "    <tr>\n",
       "      <th>167594</th>\n",
       "      <td>This Panther Drone toy is awesome. I definitel...</td>\n",
       "      <td>5</td>\n",
       "      <td>1</td>\n",
       "      <td>Positive</td>\n",
       "    </tr>\n",
       "    <tr>\n",
       "      <th>167595</th>\n",
       "      <td>This is my first drone and it has proven to be...</td>\n",
       "      <td>5</td>\n",
       "      <td>1</td>\n",
       "      <td>Positive</td>\n",
       "    </tr>\n",
       "    <tr>\n",
       "      <th>167596</th>\n",
       "      <td>This is a super fun toy to have around. In our...</td>\n",
       "      <td>4</td>\n",
       "      <td>1</td>\n",
       "      <td>Positive</td>\n",
       "    </tr>\n",
       "  </tbody>\n",
       "</table>\n",
       "<p>151240 rows × 4 columns</p>\n",
       "</div>"
      ],
      "text/plain": [
       "                                               reviewText  overall  \\\n",
       "0       I like the item pricing. My granddaughter want...        5   \n",
       "1       Love the magnet easel... great for moving to d...        4   \n",
       "2       Both sides are magnetic.  A real plus when you...        5   \n",
       "3       Bought one a few years ago for my daughter and...        5   \n",
       "4       I have a stainless steel refrigerator therefor...        4   \n",
       "...                                                   ...      ...   \n",
       "167592  This drone is very fun and super duarable. Its...        5   \n",
       "167593  This is my brother's most prized toy. It's ext...        5   \n",
       "167594  This Panther Drone toy is awesome. I definitel...        5   \n",
       "167595  This is my first drone and it has proven to be...        5   \n",
       "167596  This is a super fun toy to have around. In our...        4   \n",
       "\n",
       "       category_binary  category  \n",
       "0                    1  Positive  \n",
       "1                    1  Positive  \n",
       "2                    1  Positive  \n",
       "3                    1  Positive  \n",
       "4                    1  Positive  \n",
       "...                ...       ...  \n",
       "167592               1  Positive  \n",
       "167593               1  Positive  \n",
       "167594               1  Positive  \n",
       "167595               1  Positive  \n",
       "167596               1  Positive  \n",
       "\n",
       "[151240 rows x 4 columns]"
      ]
     },
     "execution_count": 7,
     "metadata": {},
     "output_type": "execute_result"
    }
   ],
   "source": [
    "df_rating = df[[\"reviewText\",\"overall\"]].copy()\n",
    "df_rating = df_rating[df_rating[\"overall\"]!=3]\n",
    "df_rating[\"category_binary\"] = pd.cut(df_rating[\"overall\"], 2, labels=[0, 1])\n",
    "df_rating[\"category\"] = pd.cut(df_rating[\"overall\"], 2, labels=[\"Negative\", \"Positive\"])\n",
    "df_rating"
   ]
  },
  {
   "cell_type": "code",
   "execution_count": 8,
   "metadata": {
    "pycharm": {
     "name": "#%%\n"
    }
   },
   "outputs": [
    {
     "data": {
      "image/png": "[encoded data removed]",
      "text/plain": [
       "<Figure size 360x360 with 1 Axes>"
      ]
     },
     "metadata": {},
     "output_type": "display_data"
    },
    {
     "name": "stdout",
     "output_type": "stream",
     "text": [
      "Nr of binary ratings:\n",
      "Positive    140235\n",
      "Negative     11005\n",
      "Name: category, dtype: int64\n"
     ]
    }
   ],
   "source": [
    "sizes = df_rating['category'].value_counts()\n",
    "labels = ['1 (Positives)', '0 (Negatives)']\n",
    "colors = '#55BB66', '#BB5566'\n",
    "\n",
    "# visualization\n",
    "fig = plt.figure(figsize=(5, 5))\n",
    "plt.pie(sizes, labels=labels, autopct='%1.1f%%', startangle=90, colors=colors)\n",
    "plt.title(\"Proportion of positive and negative tweets\")\n",
    "plt.show()\n",
    "\n",
    "print(\"Nr of binary ratings:\")\n",
    "print(sizes)"
   ]
  },
  {
   "cell_type": "markdown",
   "metadata": {
    "pycharm": {
     "name": "#%% md\n"
    }
   },
   "source": [
    "Wir sehen nun die Verhältnisse nach der binären Einteilung der Ratings. Wir haben nun 140235 positive Ratings, was 92.3 Prozent aller Ratings entspricht und 11005 negative Ratings, was 7.3 Prozent aller Ratings entspricht. Für ein gutes Ergebnis unserer Klassifikation ist es wichtig, dass dieses Missverhältnis im Training der Modelle entsprechend berücksichtigt wird."
   ]
  },
  {
   "cell_type": "markdown",
   "metadata": {
    "pycharm": {
     "name": "#%% md\n"
    }
   },
   "source": [
    "### 1.1.4 Document Lengths\n",
    "\n",
    "Wir wollen nun einen Überblick über die Anzahl an Wörtern pro Dokument erhalten."
   ]
  },
  {
   "cell_type": "code",
   "execution_count": 9,
   "metadata": {
    "pycharm": {
     "name": "#%%\n"
    }
   },
   "outputs": [
    {
     "data": {
      "image/png": "[encoded data removed]",
      "text/plain": [
       "<Figure size 1080x360 with 2 Axes>"
      ]
     },
     "metadata": {
      "needs_background": "light"
     },
     "output_type": "display_data"
    },
    {
     "name": "stdout",
     "output_type": "stream",
     "text": [
      "Quantiles of nr of words per rating:\n",
      "0.00       0.0\n",
      "0.25      32.0\n",
      "0.50      60.0\n",
      "0.75     119.0\n",
      "1.00    5508.0\n",
      "Name: reviewText, dtype: float64\n",
      "\n",
      "Mean word count per rating:\n",
      "97.27398836286697\n"
     ]
    }
   ],
   "source": [
    "sentence_length = df_rating[\"reviewText\"].apply(str.split).apply(len)\n",
    "filtered_sentence_length = sentence_length[(sentence_length >= 0) & (sentence_length < 500)]\n",
    "\n",
    "fig, axes = plt.subplots(1, 2, figsize=(15, 5))\n",
    "sns.histplot(sentence_length, kde=True, ax=axes[0])\n",
    "sns.ecdfplot(sentence_length, ax=axes[1])\n",
    "fig.suptitle(\"Distribution of nr of words per rating\")\n",
    "axes[0].set_title(\"pdf\")\n",
    "axes[1].set_title(\"cdf\")\n",
    "axes[0].set_xlabel(\"nr of words [n]\")\n",
    "axes[1].set_xlabel(\"nr of words [n]\")\n",
    "axes[0].set_ylabel(\"proportion\")\n",
    "axes[1].set_ylabel(\"proportion\")\n",
    "plt.show()\n",
    "\n",
    "print(\"Quantiles of nr of words per rating:\")\n",
    "print(sentence_length.quantile([0, .25, .5, .75, 1]))\n",
    "\n",
    "print(\"\\nMean word count per rating:\")\n",
    "print(sentence_length.mean())"
   ]
  },
  {
   "cell_type": "markdown",
   "metadata": {
    "pycharm": {
     "name": "#%% md\n"
    }
   },
   "source": [
    "**Beschreibung:** Wir sehen in der Visualisierung und der Verteilung, dass es Bewertungen mit sehr vielen Wörtern gibt. So haben 75 Prozent aller Bewertungen eine Länge 32 oder mehr Wörtern. Die Anzahl an Wörtern alleine ist jedoch nicht aussagekräftig über die Qualität der Trainingsdaten. So gibt es viele Wörter, die keine explizite positive oder negative Assoziation besitzen. Wir wollen deshalb in einem nächsten Abschnitt die Bewertungen so bereinigen, dass wir damit eine gute Datengrundlage für das Training unserer Modelle erreichen."
   ]
  },
  {
   "cell_type": "markdown",
   "metadata": {
    "pycharm": {
     "name": "#%% md\n"
    }
   },
   "source": [
    "## 2.0 DataPipeline\n"
   ]
  },
  {
   "cell_type": "markdown",
   "metadata": {
    "pycharm": {
     "name": "#%% md\n"
    }
   },
   "source": [
    "### 2.1 Preprocessing\n",
    "\n",
    "In diesem Abschnitt geht es darum, die Daten zu bereinigen. Da Tasks, bei denen es um die Verarbeitung natürlicher Sprache geht, normalerweise eine hohe Dimensionalität in den Daten vorherrscht, ist dieser Schritt essenziell, um relevante Features zu erhalten, die Feature Anzahl zu verringern. Dadurch kann die Effizienz und Qualität in unserer Klassifikation erhöht werden."
   ]
  },
  {
   "cell_type": "code",
   "execution_count": 10,
   "metadata": {
    "pycharm": {
     "name": "#%%\n"
    }
   },
   "outputs": [],
   "source": [
    "def remove_punctuation(sentence, p=None):\n",
    "    '''Removes digits from a single sentence or a list of strings if words are in stop_words'''\n",
    "    punctuations = '!\"#$%&\\'()*+,-./:;<=>?@[\\\\]^_`{|}~'\n",
    "    if p:\n",
    "        punctuations = p\n",
    "    if isinstance(sentence, str):\n",
    "        return sentence.translate(str.maketrans('', '', punctuations))\n",
    "    if isinstance(sentence, list):\n",
    "        sentence = [word for word in sentence if word not in punctuations]\n",
    "    return sentence\n",
    "\n",
    "def remove_digits(sentence):\n",
    "    '''Removes digits from a single sentence or a list of strings'''\n",
    "    if isinstance(sentence, str):\n",
    "        return re.sub(r'[0-9]', '', sentence)\n",
    "    if isinstance(sentence, list):\n",
    "        return [re.sub(r'[0-9]', '', word) for word in sentence]\n",
    "\n",
    "def remove_emojis(sentence):\n",
    "    '''Removes emojis from a single sentence'''\n",
    "    emoji_pattern = re.compile(\"[\"\n",
    "    u\"\\U0001F600-\\U0001F64F\"  # emoticons\n",
    "    u\"\\U0001F300-\\U0001F5FF\"  # symbols & pictographs\n",
    "    u\"\\U0001F680-\\U0001F6FF\"  # transport & map symbols\n",
    "    u\"\\U0001F1E0-\\U0001F1FF\"  # flags (iOS)\n",
    "    \"]+\", flags=re.UNICODE)\n",
    "    return emoji_pattern.sub(r'', sentence)\n",
    "\n",
    "def remove_stop_words(sentence, stop_words):\n",
    "    '''Removes stopwords from a list of strings sentence if words are in stop_words'''\n",
    "    sentence = [word for word in sentence if word not in stop_words]\n",
    "    return sentence\n",
    "\n",
    "def print_sammples(series, idx):\n",
    "    '''Prints samples from pandas series by a list of indices'''\n",
    "    for i, sample in enumerate(data.iloc[check_samples]):\n",
    "        print(\"'\\033[1m' Sample {}: '\\033[0m' {}\\n\".format(i+1, sample))\n",
    "\n",
    "def lemmatize(sentence):\n",
    "    \"Lemmatizes a list of strings and returns as a list\"\n",
    "    return [WordNetLemmatizer().lemmatize(word) for word in sentence]"
   ]
  },
  {
   "cell_type": "markdown",
   "metadata": {
    "pycharm": {
     "name": "#%% md\n"
    }
   },
   "source": [
    "In einem ersten Schritt unserer Preprocessing Pipeline werden die Sätze aus unserem Dataframe mit `str.lower()` ausschliesslich zu Kleinbuchstaben transformiert. \n",
    "Danach werden mit der Funktion `remove_digits()` alle nummerischen Werte und mit `remove_punctuation()` alle Satzzeichen entfernt.\n",
    "\n",
    "Nachfolgend werden zur Überprüfung drei Zufallssätze ausgegeben. Diese beinhalten nun keine Grossbuchstaben, Zahlen oder Satzzeichen mehr."
   ]
  },
  {
   "cell_type": "code",
   "execution_count": 11,
   "metadata": {
    "pycharm": {
     "name": "#%%\n"
    }
   },
   "outputs": [
    {
     "name": "stdout",
     "output_type": "stream",
     "text": [
      "'\u001b[1m' Sample 1: '\u001b[0m' lots of dragons to choose from  this one is just the right size and sturdy so should hold up with lots of play\n",
      "\n",
      "'\u001b[1m' Sample 2: '\u001b[0m' my daughters loved this toy and frequently played with it  once however they left it outside all night in the rain we had to throw it out because it had a cushion bottom underneath but thats asking a lot of a toy to survive a rainstorm  hopefully if we get this again well all be a little better about bringing it inside at the end of the day and hopefully the girls learned a valuable lesson about taking care of their toys  nevertheless i highly recommend this toy if you like to hear the soft or bubbly giggles from your children  no educational value here except to teach them about dizzyness but what fun\n",
      "\n",
      "'\u001b[1m' Sample 3: '\u001b[0m' considering the price on these they are a great buy the swords are sturdy i thought i would be lucky if they held up but weeks after the party my kids have a few this is wonderful considering i have a very destructive yr old\n",
      "\n"
     ]
    }
   ],
   "source": [
    "#set seed \n",
    "random.seed(mc1seed)\n",
    "\n",
    "data = df_rating[\"reviewText\"]\n",
    "\n",
    "# convert everything to string\n",
    "data = data.apply(str)\n",
    "\n",
    "# convert to lowercase\n",
    "data = data.apply(str.lower)\n",
    "\n",
    "# remove digits\n",
    "data = data.apply(remove_digits)\n",
    "\n",
    "# remove punctuations\n",
    "data = data.apply(remove_punctuation)\n",
    "\n",
    "# print samples\n",
    "check_samples = random.sample(range(1, len(df_rating)), 3)\n",
    "print_sammples(data, check_samples)"
   ]
  },
  {
   "cell_type": "markdown",
   "metadata": {
    "pycharm": {
     "name": "#%% md\n"
    }
   },
   "source": [
    "### 2.2 Tokenisation"
   ]
  },
  {
   "cell_type": "markdown",
   "metadata": {
    "pycharm": {
     "name": "#%% md\n"
    }
   },
   "source": [
    "In diesem Abschnitt werden die Bewertungen tokenisiert. Dabei handelt es sich um die Zerlegung des Satzes in kleinere Einheiten wie Wörter, Zahlen und je nach Anwendung auch in Satzzeichen. Die Tokenisierung geschieht bei uns mittels ntkl's `RegexpTokenizer()`. Dieser erhält als Argument ein Regex String. Diesem geben wir als String \"\\w+\", was dazu führt, dass alle jeweils zusammenhängenden Wortzeichen: [a-zA-Z0-9_] zu einem Token werden.\n",
    "\n",
    "Nachfolgend werden wieder unsere drei Zufallssätze ausgegeben. Die Sätze sind nun Tokenisiert als Listen vorhanden."
   ]
  },
  {
   "cell_type": "code",
   "execution_count": 12,
   "metadata": {
    "pycharm": {
     "name": "#%%\n"
    }
   },
   "outputs": [
    {
     "name": "stdout",
     "output_type": "stream",
     "text": [
      "'\u001b[1m' Sample 1: '\u001b[0m' ['lots', 'of', 'dragons', 'to', 'choose', 'from', 'this', 'one', 'is', 'just', 'the', 'right', 'size', 'and', 'sturdy', 'so', 'should', 'hold', 'up', 'with', 'lots', 'of', 'play']\n",
      "\n",
      "'\u001b[1m' Sample 2: '\u001b[0m' ['my', 'daughters', 'loved', 'this', 'toy', 'and', 'frequently', 'played', 'with', 'it', 'once', 'however', 'they', 'left', 'it', 'outside', 'all', 'night', 'in', 'the', 'rain', 'we', 'had', 'to', 'throw', 'it', 'out', 'because', 'it', 'had', 'a', 'cushion', 'bottom', 'underneath', 'but', 'thats', 'asking', 'a', 'lot', 'of', 'a', 'toy', 'to', 'survive', 'a', 'rainstorm', 'hopefully', 'if', 'we', 'get', 'this', 'again', 'well', 'all', 'be', 'a', 'little', 'better', 'about', 'bringing', 'it', 'inside', 'at', 'the', 'end', 'of', 'the', 'day', 'and', 'hopefully', 'the', 'girls', 'learned', 'a', 'valuable', 'lesson', 'about', 'taking', 'care', 'of', 'their', 'toys', 'nevertheless', 'i', 'highly', 'recommend', 'this', 'toy', 'if', 'you', 'like', 'to', 'hear', 'the', 'soft', 'or', 'bubbly', 'giggles', 'from', 'your', 'children', 'no', 'educational', 'value', 'here', 'except', 'to', 'teach', 'them', 'about', 'dizzyness', 'but', 'what', 'fun']\n",
      "\n",
      "'\u001b[1m' Sample 3: '\u001b[0m' ['considering', 'the', 'price', 'on', 'these', 'they', 'are', 'a', 'great', 'buy', 'the', 'swords', 'are', 'sturdy', 'i', 'thought', 'i', 'would', 'be', 'lucky', 'if', 'they', 'held', 'up', 'but', 'weeks', 'after', 'the', 'party', 'my', 'kids', 'have', 'a', 'few', 'this', 'is', 'wonderful', 'considering', 'i', 'have', 'a', 'very', 'destructive', 'yr', 'old']\n",
      "\n"
     ]
    }
   ],
   "source": [
    "# tokenize sentences\n",
    "regexp = RegexpTokenizer('\\w+')\n",
    "data = data.apply(regexp.tokenize)\n",
    "\n",
    "# print samples\n",
    "print_sammples(data, check_samples)"
   ]
  },
  {
   "cell_type": "markdown",
   "metadata": {
    "pycharm": {
     "name": "#%% md\n"
    }
   },
   "source": [
    "### 2.3 Stopwords"
   ]
  },
  {
   "cell_type": "markdown",
   "metadata": {
    "pycharm": {
     "name": "#%% md\n"
    }
   },
   "source": [
    "Hier werden sogenannte Stopwörter entfernt. Dabei handelt es sich um Wörter, welche kontextunabhängig und oft in Sätzen werden, weshalb sie für unser Modell in der Sentiment-Analyse keine Relevanz als Feature darstellen. Beispiele für Stopwörter wären: \"and\", \"or\", \"i\", oder \"to\". Das Entfernen geschieht mit ntkl's `remove_stop_words()`.\n",
    "\n",
    "Nachfolgend sind wieder unsere drei Zufallssätze aufgeführt. Wir sehen, dass die Satzlisten durch die Entfernung der Stopwörter nun deutlich kürzer sind."
   ]
  },
  {
   "cell_type": "code",
   "execution_count": 13,
   "metadata": {
    "pycharm": {
     "name": "#%%\n"
    }
   },
   "outputs": [
    {
     "name": "stdout",
     "output_type": "stream",
     "text": [
      "'\u001b[1m' Sample 1: '\u001b[0m' ['lots', 'dragons', 'choose', 'one', 'right', 'size', 'sturdy', 'hold', 'lots', 'play']\n",
      "\n",
      "'\u001b[1m' Sample 2: '\u001b[0m' ['daughters', 'loved', 'toy', 'frequently', 'played', 'however', 'left', 'outside', 'night', 'rain', 'throw', 'cushion', 'bottom', 'underneath', 'thats', 'asking', 'lot', 'toy', 'survive', 'rainstorm', 'hopefully', 'get', 'well', 'little', 'better', 'bringing', 'inside', 'end', 'day', 'hopefully', 'girls', 'learned', 'valuable', 'lesson', 'taking', 'care', 'toys', 'nevertheless', 'highly', 'recommend', 'toy', 'like', 'hear', 'soft', 'bubbly', 'giggles', 'children', 'educational', 'value', 'except', 'teach', 'dizzyness', 'fun']\n",
      "\n",
      "'\u001b[1m' Sample 3: '\u001b[0m' ['considering', 'price', 'great', 'buy', 'swords', 'sturdy', 'thought', 'would', 'lucky', 'held', 'weeks', 'party', 'kids', 'wonderful', 'considering', 'destructive', 'yr', 'old']\n",
      "\n"
     ]
    }
   ],
   "source": [
    "# remove english stopwords\n",
    "english_stopwords = stopwords.words(\"english\")\n",
    "data = data.apply(remove_stop_words, args=([english_stopwords]))\n",
    "\n",
    "# save strings to dataframe\n",
    "df_rating[\"word_tokens_not_lemmatized\"] = data.apply(' '.join)\n",
    "\n",
    "# print samples\n",
    "print_sammples(data, check_samples)"
   ]
  },
  {
   "cell_type": "markdown",
   "metadata": {
    "pycharm": {
     "name": "#%% md\n"
    }
   },
   "source": [
    "### 2.4 Lemmatisation\n",
    "Nun werden die Satzlisten noch lemmatisiert. Bei der Lemmatisierung geht es darum, die Flexionsformen einzelner Wörter auf ihren Wortstamm zurückzuführen. \n",
    "\n",
    "Vorteile der Lemmatisierung gegenüber von Stemming ist, dass die Lemmatisierung den Wortstamm Kontextbasiert heranführt. Die Implementierung geschieht häufig mittels der Verwendung von Dictionaries. Lemmatisierung wird präferiert, wenn die Bedeutung des Wortstammes auch relevant ist.\n",
    "Stemming auf der anderen Seite nutzt generalisierte Regeln, um Wörter zu kürzen, was zwar einfacher implementiert ist, jedoch auch nicht grammatisch korrekte Wortstämme zur Folge haben kann. \n",
    "\n",
    "Unten aufgeführt sind wieder die drei zufällig ausgewählten Sätze nach der Lemmatisierung der darin enthaltenen Wörter."
   ]
  },
  {
   "cell_type": "code",
   "execution_count": 14,
   "metadata": {
    "pycharm": {
     "name": "#%%\n"
    }
   },
   "outputs": [
    {
     "name": "stdout",
     "output_type": "stream",
     "text": [
      "'\u001b[1m' Sample 1: '\u001b[0m' ['lot', 'dragon', 'choose', 'one', 'right', 'size', 'sturdy', 'hold', 'lot', 'play']\n",
      "\n",
      "'\u001b[1m' Sample 2: '\u001b[0m' ['daughter', 'loved', 'toy', 'frequently', 'played', 'however', 'left', 'outside', 'night', 'rain', 'throw', 'cushion', 'bottom', 'underneath', 'thats', 'asking', 'lot', 'toy', 'survive', 'rainstorm', 'hopefully', 'get', 'well', 'little', 'better', 'bringing', 'inside', 'end', 'day', 'hopefully', 'girl', 'learned', 'valuable', 'lesson', 'taking', 'care', 'toy', 'nevertheless', 'highly', 'recommend', 'toy', 'like', 'hear', 'soft', 'bubbly', 'giggle', 'child', 'educational', 'value', 'except', 'teach', 'dizzyness', 'fun']\n",
      "\n",
      "'\u001b[1m' Sample 3: '\u001b[0m' ['considering', 'price', 'great', 'buy', 'sword', 'sturdy', 'thought', 'would', 'lucky', 'held', 'week', 'party', 'kid', 'wonderful', 'considering', 'destructive', 'yr', 'old']\n",
      "\n"
     ]
    }
   ],
   "source": [
    "data = data.apply(lemmatize)\n",
    "\n",
    "# save strings to dataframe\n",
    "df_rating[\"word_tokens\"] = data.apply(' '.join)\n",
    "\n",
    "# print samples\n",
    "print_sammples(data, check_samples)"
   ]
  },
  {
   "cell_type": "markdown",
   "metadata": {
    "pycharm": {
     "name": "#%% md\n"
    }
   },
   "source": [
    "### 2.5 Comparison of Cleaned and Original Dataset\n",
    "Wir wollen nun untersuchen, wie sehr sich die Längen unsere gefilterten Bewertungen von denen im ursprünglichem Datensatz unterscheiden."
   ]
  },
  {
   "cell_type": "code",
   "execution_count": 15,
   "metadata": {
    "pycharm": {
     "name": "#%%\n"
    }
   },
   "outputs": [
    {
     "data": {
      "image/png": "[encoded data removed]",
      "text/plain": [
       "<Figure size 1080x360 with 2 Axes>"
      ]
     },
     "metadata": {
      "needs_background": "light"
     },
     "output_type": "display_data"
    },
    {
     "name": "stdout",
     "output_type": "stream",
     "text": [
      "Quantiles of nr of words per rating:\n",
      "      Original  Filtered\n",
      "0.00       0.0       0.0\n",
      "0.25      32.0      16.0\n",
      "0.50      60.0      29.0\n",
      "0.75     119.0      58.0\n",
      "1.00    5508.0    3058.0\n",
      "\n",
      "Mean word count per rating:\n",
      "Original    97.273988\n",
      "Filtered    47.808014\n",
      "dtype: float64\n"
     ]
    }
   ],
   "source": [
    "\n",
    "sentence_length = df_rating[[\"reviewText\", \"word_tokens\"]]\n",
    "sentence_length[\"word_tokens\"] = sentence_length[\"word_tokens\"].apply(str.split).apply(len)\n",
    "sentence_length[\"reviewText\"] = sentence_length[\"reviewText\"].apply(str.split).apply(len)\n",
    "sentence_length = sentence_length.rename(columns={\"reviewText\":\"Original\", \"word_tokens\":\"Filtered\"})\n",
    "\n",
    "fig, axes = plt.subplots(1, 2, figsize=(15, 5))\n",
    "sns.histplot(sentence_length, kde=True, ax=axes[0])\n",
    "sns.ecdfplot(sentence_length, ax=axes[1])\n",
    "fig.suptitle(\"Distribution of nr of words per rating\")\n",
    "axes[0].set_title(\"pdf\")\n",
    "axes[1].set_title(\"cdf\")\n",
    "axes[0].set_xlabel(\"nr of words [n]\")\n",
    "axes[1].set_xlabel(\"nr of words [n]\")\n",
    "axes[0].set_ylabel(\"proportion\")\n",
    "axes[1].set_ylabel(\"proportion\")\n",
    "plt.show()\n",
    "\n",
    "print(\"Quantiles of nr of words per rating:\")\n",
    "print(sentence_length.quantile([0, .25, .5, .75, 1]))\n",
    "print(\"\\nMean word count per rating:\")\n",
    "print(sentence_length.mean())"
   ]
  },
  {
   "cell_type": "markdown",
   "metadata": {
    "pycharm": {
     "name": "#%% md\n"
    }
   },
   "source": [
    "**Beschreibung:** Die Visualisierungen beschreiben die Länge der Bewertungen vor und nach der Bereinigung bis und mit Lemmatisierung. Beim Betrachten der Visualisierung und der Quantile wird erkennbar, dass  die Anzahl an Wörtern pro Bewertung durch das Preprocessing deutlich reduziert wurde. So konnten wir die durchschnittliche Wortanzahl pro Bewertung halbieren. Auch die Quantile der Satzlängen sind nun jeweils bei ca. 50 Prozent des jeweils vorherigen Wertes."
   ]
  },
  {
   "cell_type": "markdown",
   "metadata": {
    "pycharm": {
     "name": "#%% md\n"
    }
   },
   "source": [
    "### 2.6 Train Test Split\n",
    "\n",
    "Nach dem bereinigen der Daten werden diese nun in ein Trainings und Testset untertilt."
   ]
  },
  {
   "cell_type": "code",
   "execution_count": 16,
   "metadata": {
    "pycharm": {
     "name": "#%%\n"
    }
   },
   "outputs": [
    {
     "name": "stdout",
     "output_type": "stream",
     "text": [
      "Train: (113430,) (113430,) Test:  ((37810,), (37810,))\n"
     ]
    }
   ],
   "source": [
    "random.seed(mc1seed)\n",
    "\n",
    "# lemmatized dataset split\n",
    "X_train, X_test, y_train, y_test = train_test_split(df_rating[\"word_tokens\"], df_rating[\"category_binary\"], test_size=0.25, random_state=30)\n",
    "print(\"Train:\", X_train.shape, y_train.shape,\"Test: \",(X_test.shape,y_test.shape))\n",
    "\n",
    "# not lemmatized dataset split\n",
    "X_train_nl, X_test_nl, y_train_nl, y_test_nl = train_test_split(df_rating[\"word_tokens_not_lemmatized\"], df_rating[\"category_binary\"], test_size=0.25, random_state=30)"
   ]
  },
  {
   "cell_type": "code",
   "execution_count": 17,
   "metadata": {
    "pycharm": {
     "name": "#%%\n"
    }
   },
   "outputs": [],
   "source": [
    "#balanced testset\n",
    "y_test_balanced = y_test.groupby(y_test.values, group_keys=False).apply(lambda x: x.sample(min(y_test.value_counts())))\n",
    "X_test_balanced = X_test.loc[y_test_balanced.index]"
   ]
  },
  {
   "cell_type": "markdown",
   "metadata": {
    "pycharm": {
     "name": "#%% md\n"
    }
   },
   "source": [
    "### 2.7 TF-IDF with N-gramm\n",
    "\n",
    "Für uns ist es relevant zu wissen, wie relevant einzelne Wörter innerhalb unserer Bewertungen sind, um dadurch bessere Klassifikationen zu erreichen. Eine Möglichkeit das zu erreichen ist mittels TF-IDF oder term frequency-inverse document frequency. Die Term Frequenz (TF) beschreibt dabei die Proportion eines Terms `t` gegenüber allen Wörtern in einem Dokument `d`. Wörter werden also relevanter, je öfters sie in einem Dokument vorkommen. Die Inverse Dokument Frequenz (IDF) beschreibt dagegen die Proportion der Dokumente, welche den Term `t` beinhalten. Wörter, die in vielen Dokumenten vorkommen, werden dadurch im Score abgeschwächt gegenüber Wörtern, welche nur in wenigen anderen Bewertungen verwendet werden.\n",
    "\n",
    "Die Formel lautet :    $$tf-idf(t, d) = tf(t, d) * \\log{\\frac{N}{df(t) + 1}}$$\n",
    "\n",
    "\n",
    "\n",
    "Legende\n",
    "- `t`: Term\n",
    "- `d`: Dokument \n",
    "- `N`: Anzahl Dokumente\n",
    "- `df(t)`: Dokument Frequenz"
   ]
  },
  {
   "cell_type": "markdown",
   "metadata": {
    "pycharm": {
     "name": "#%% md\n"
    }
   },
   "source": [
    "**Sklearn spezifische Parameter:**\n",
    "Mit sklearn's `TfidfVectorizer` können wir aus einem Pandas DataFrame eine tf-idf Matrix zu erstellen. Die Methode bietet zusätzlich noch weitere nützliche Argumente. Die Verwendeten sind nachträglich kurz erklärt:\n",
    "\n",
    "- `ngram_range` erlaubt es zusätzlich noch die Kombination von N-Gramms zu bestimmen. Dadurch können auch Wortkombinationen berücksichtigt werden. Mit einem grösseren N-Gramm Umfang wächst jedoch auch die Anzahl an Features stark an.\n",
    "- `min_df` erlaubt es Wörter, welche nicht in einer minimalen Anzahl an Dokumenten vorkommen, zu ignorieren. Dadurch kann die Anzahl Features/Dimensionen in der tf-idf Matrix nochmals deutlich verringert werden."
   ]
  },
  {
   "cell_type": "code",
   "execution_count": 18,
   "metadata": {
    "pycharm": {
     "name": "#%%\n"
    }
   },
   "outputs": [
    {
     "name": "stdout",
     "output_type": "stream",
     "text": [
      "Nr. of features with 1-gramm: 15751\n",
      "Nr. of features with 2-gramm: 75736\n",
      "Nr. of features with 3-gramm: 85575\n"
     ]
    }
   ],
   "source": [
    "from sklearn.feature_extraction.text import TfidfVectorizer\n",
    "\n",
    "#set seed \n",
    "random.seed(mc1seed)\n",
    "\n",
    "# Monogramm not lemmatised\n",
    "vectorizer= TfidfVectorizer(ngram_range=(1, 1), min_df=10)\n",
    "tfidf_X_train_mono = vectorizer.fit_transform(X_train_nl)\n",
    "tfidf_X_test_mono = vectorizer.transform(X_test_nl)\n",
    "\n",
    "# Bigramm not lemmatised\n",
    "vectorizer= TfidfVectorizer(ngram_range=(1, 2), min_df=10)\n",
    "tfidf_X_train_bi = vectorizer.fit_transform(X_train_nl)\n",
    "tfidf_X_test_bi = vectorizer.transform(X_test_nl)\n",
    "\n",
    "# Trigramm  not lemmatised\n",
    "vectorizer= TfidfVectorizer(ngram_range=(1, 3), min_df=10)\n",
    "tfidf_X_train_tri = vectorizer.fit_transform(X_train_nl)\n",
    "tfidf_X_test_tri = vectorizer.transform(X_test_nl)\n",
    "\n",
    "# Monogramm lemmatized\n",
    "vectorizer= TfidfVectorizer(ngram_range=(1, 1), min_df=10)\n",
    "tfidf_X_train_mono_l = vectorizer.fit_transform(X_train)\n",
    "tfidf_X_test_mono_l = vectorizer.transform(X_test)\n",
    "\n",
    "# Bigramm lemmatized\n",
    "vectorizer= TfidfVectorizer(ngram_range=(1, 2), min_df=10)\n",
    "tfidf_X_train_bi_l = vectorizer.fit_transform(X_train)\n",
    "tfidf_X_test_bi_l = vectorizer.transform(X_test)\n",
    "\n",
    "# Trigramm lemmatized\n",
    "vectorizer= TfidfVectorizer(ngram_range=(1, 3), min_df=10)\n",
    "tfidf_X_train_tri_l = vectorizer.fit_transform(X_train)\n",
    "tfidf_X_test_tri_l = vectorizer.transform(X_test)\n",
    "\n",
    "print(\"Nr. of features with 1-gramm:\", tfidf_X_train_mono.shape[1])\n",
    "print(\"Nr. of features with 2-gramm:\", tfidf_X_train_bi.shape[1])\n",
    "print(\"Nr. of features with 3-gramm:\", tfidf_X_train_tri.shape[1])"
   ]
  },
  {
   "cell_type": "markdown",
   "metadata": {
    "pycharm": {
     "name": "#%% md\n"
    }
   },
   "source": [
    "Wir haben nun sechs verschiedene Feature-Matrizen erhalten. Diese bestehen aus den N-Gramm Kombinationen (1),  (1 & 2) und (1 & 2 & 3) für jeweils den lemmatisierten und nicht lemmatisierten Datensatz."
   ]
  },
  {
   "cell_type": "markdown",
   "metadata": {
    "pycharm": {
     "name": "#%% md\n"
    }
   },
   "source": [
    "## 3.0 Model 1 : Support Vector Machine\n",
    "\n",
    "Als Nächstes nutzen wir unsere Feature-Matrizen, um mittels Support-Vector-Machine eine binäre Klassifikation der Bewertungen zu trainieren."
   ]
  },
  {
   "cell_type": "code",
   "execution_count": 19,
   "metadata": {
    "pycharm": {
     "name": "#%%\n"
    }
   },
   "outputs": [],
   "source": [
    "from sklearn.svm import LinearSVC\n",
    "from sklearn.metrics import classification_report, ConfusionMatrixDisplay\n",
    "\n",
    "def show_confusion_matrix(y_train, y_test, y_train_pred, y_test_pred, title):\n",
    "    '''Visualizes the Confusion matrix for a train and testset'''\n",
    "    fig, ax = plt.subplots(1, 2, figsize=(14,5))\n",
    "    fig.suptitle(title)\n",
    "    ConfusionMatrixDisplay.from_predictions(y_train, y_train_pred, ax=ax[0])\n",
    "    ax[0].set_title(\"Confusion matrix of training set\")\n",
    "    ConfusionMatrixDisplay.from_predictions(y_test, y_test_pred, ax=ax[1])\n",
    "    ax[1].set_title(\"Confusion matrix of training set\")\n",
    "    plt.show()"
   ]
  },
  {
   "cell_type": "markdown",
   "metadata": {
    "pycharm": {
     "name": "#%% md\n"
    }
   },
   "source": [
    "### 3.1 Model Training & Classification\n",
    "\n",
    "Nachfolgend werden die Modelle Trainiert. Um das Missverhältnis von positiven und negativen Bewertungen zu berücksichtigen, geschieht das Training mit balancierten Klassengewichten."
   ]
  },
  {
   "cell_type": "code",
   "execution_count": 20,
   "metadata": {
    "pycharm": {
     "name": "#%%\n"
    }
   },
   "outputs": [],
   "source": [
    "random.seed(mc1seed)\n",
    "\n",
    "# Change target labels to strings since LinearSVC can work with strings, and it is easier for interpretation\n",
    "# not lemmatized dataset\n",
    "y_train_svm = y_train_nl.apply(lambda x: \"Positive\" if x==1 else \"Negative\")\n",
    "y_test_svm = y_test_nl.apply(lambda x: \"Positive\" if x==1 else \"Negative\")\n",
    "# lematized dataset\n",
    "y_train_svm_l = y_train.apply(lambda x: \"Positive\" if x==1 else \"Negative\")\n",
    "y_test_svm_l = y_test.apply(lambda x: \"Positive\" if x==1 else \"Negative\")\n",
    "\n",
    "clf_ = dict()\n",
    "\n",
    "# train models with monogramm on not lemmatized dataset\n",
    "clf_[\"mono\"] = LinearSVC(random_state=0, class_weight=\"balanced\") # balanced class weights\n",
    "clf_[\"mono\"].fit(tfidf_X_train_mono, y_train_svm)\n",
    "\n",
    "# train models with bigramm on not lemmatized dataset\n",
    "clf_[\"bi\"] = LinearSVC(random_state=0, class_weight=\"balanced\") # balanced class weights\n",
    "clf_[\"bi\"].fit(tfidf_X_train_bi, y_train_svm)\n",
    "\n",
    "# train models with trigramm on not lemmatized dataset\n",
    "clf_[\"tri\"] = LinearSVC(random_state=0, class_weight=\"balanced\") # balanced class weights\n",
    "clf_[\"tri\"].fit(tfidf_X_train_tri, y_train_svm)\n",
    "\n",
    "\n",
    "# train models with monogramm on lemmatized dataset\n",
    "clf_[\"mono_lem\"] = LinearSVC(random_state=0, class_weight=\"balanced\") # balanced class weights\n",
    "clf_[\"mono_lem\"].fit(tfidf_X_train_mono_l, y_train_svm_l)\n",
    "\n",
    "# train models with bigramm on lemmatized dataset\n",
    "clf_[\"bi_lem\"] = LinearSVC(random_state=0, class_weight=\"balanced\") # balanced class weights\n",
    "clf_[\"bi_lem\"].fit(tfidf_X_train_bi_l, y_train_svm_l)\n",
    "\n",
    "# train models with trigramm on lemmatized dataset\n",
    "clf_[\"tri_lem\"] = LinearSVC(random_state=0, class_weight=\"balanced\") # balanced class weights\n",
    "clf_[\"tri_lem\"].fit(tfidf_X_train_tri_l, y_train_svm_l)\n",
    "\n",
    "\n",
    "# predict on trainset\n",
    "# not lemmatized\n",
    "y_train_pred_mono = clf_[\"mono\"].predict(tfidf_X_train_mono)\n",
    "y_train_pred_bi = clf_[\"bi\"].predict(tfidf_X_train_bi)\n",
    "y_train_pred_tri = clf_[\"tri\"].predict(tfidf_X_train_tri)\n",
    "\n",
    "# lemmatized\n",
    "y_train_pred_mono_l = clf_[\"mono_lem\"].predict(tfidf_X_train_mono_l)\n",
    "y_train_pred_bi_l = clf_[\"bi_lem\"].predict(tfidf_X_train_bi_l)\n",
    "y_train_pred_tri_l = clf_[\"tri_lem\"].predict(tfidf_X_train_tri_l)\n",
    "\n",
    "\n",
    "# prediction on testset\n",
    "# lemmatized\n",
    "y_test_pred_mono = clf_[\"mono\"].predict(tfidf_X_test_mono)\n",
    "y_test_pred_bi = clf_[\"bi\"].predict(tfidf_X_test_bi)\n",
    "y_test_pred_tri = clf_[\"tri\"].predict(tfidf_X_test_tri)\n",
    "\n",
    "# lemmatized\n",
    "y_test_pred_mono_l = clf_[\"mono_lem\"].predict(tfidf_X_test_mono_l)\n",
    "y_test_pred_bi_l = clf_[\"bi_lem\"].predict(tfidf_X_test_bi_l)\n",
    "y_test_pred_tri_l = clf_[\"tri_lem\"].predict(tfidf_X_test_tri_l)"
   ]
  },
  {
   "cell_type": "markdown",
   "metadata": {
    "pycharm": {
     "name": "#%% md\n"
    }
   },
   "source": [
    "### 3.2 Model Interpretation"
   ]
  },
  {
   "cell_type": "markdown",
   "metadata": {
    "pycharm": {
     "name": "#%% md\n"
    }
   },
   "source": [
    "#### 3.2.1 Interpretation SVM-Classifier with tf_idf and Monogramm on not lemmatized dataset."
   ]
  },
  {
   "cell_type": "code",
   "execution_count": 21,
   "metadata": {
    "pycharm": {
     "name": "#%%\n"
    }
   },
   "outputs": [
    {
     "data": {
      "image/png": "[encoded data removed]",
      "text/plain": [
       "<Figure size 1008x360 with 4 Axes>"
      ]
     },
     "metadata": {
      "needs_background": "light"
     },
     "output_type": "display_data"
    },
    {
     "name": "stdout",
     "output_type": "stream",
     "text": [
      "Classification report for SVM classifier with tf-idf and monogramm\n",
      "              precision    recall  f1-score   support\n",
      "\n",
      "    Negative       0.49      0.80      0.61      2755\n",
      "    Positive       0.98      0.94      0.96     35055\n",
      "\n",
      "    accuracy                           0.93     37810\n",
      "   macro avg       0.74      0.87      0.78     37810\n",
      "weighted avg       0.95      0.93      0.93     37810\n",
      "\n"
     ]
    }
   ],
   "source": [
    "show_confusion_matrix(y_train_svm, y_test_svm, y_train_pred_mono, y_test_pred_mono, \"SVM with tf-idf & monogramm\")\n",
    "print(\"Classification report for SVM classifier with tf-idf and monogramm\")\n",
    "print(classification_report(y_test_svm, y_test_pred_mono))"
   ]
  },
  {
   "cell_type": "markdown",
   "metadata": {
    "pycharm": {
     "name": "#%% md\n"
    }
   },
   "source": [
    "**Beschreibung:** Mit der Klassifikation mittels Monogrammen auf dem nicht lemmatisierten Datensatz erhalten wir einen balancierten F1-Score: `macro avg` von 0.78 im Testset. Dabei fällt auf, dass die Precision für die negativen Bewertungen nur bei 0.49 liegt. Das ist einerseits auf die Unausgewogenheit des Testsets zurückzuführen, da durch die vielen positiven Labels auch die fälschlich negativ klassifizierten Samples steigen. Andererseits ist auch der Recall bei den negativen Bewertungen auf nur 0.8, was darauf hindeutet, dass unser Modell trotz balanciertem Training die negativen Bewertungen schlechter klassifizieren kann."
   ]
  },
  {
   "cell_type": "markdown",
   "metadata": {
    "pycharm": {
     "name": "#%% md\n"
    }
   },
   "source": [
    "#### 3.2.2 Interpretation SVM-Classifier with tf_idf and Bigramm on not lemmatized dataset."
   ]
  },
  {
   "cell_type": "code",
   "execution_count": 22,
   "metadata": {
    "pycharm": {
     "name": "#%%\n"
    }
   },
   "outputs": [
    {
     "data": {
      "image/png": "[encoded data removed]",
      "text/plain": [
       "<Figure size 1008x360 with 4 Axes>"
      ]
     },
     "metadata": {
      "needs_background": "light"
     },
     "output_type": "display_data"
    },
    {
     "name": "stdout",
     "output_type": "stream",
     "text": [
      "Classification report for SVM classifier with tf-idf and bigramm\n",
      "              precision    recall  f1-score   support\n",
      "\n",
      "    Negative       0.68      0.76      0.71      2755\n",
      "    Positive       0.98      0.97      0.98     35055\n",
      "\n",
      "    accuracy                           0.96     37810\n",
      "   macro avg       0.83      0.86      0.85     37810\n",
      "weighted avg       0.96      0.96      0.96     37810\n",
      "\n"
     ]
    }
   ],
   "source": [
    "show_confusion_matrix(y_train_svm, y_test_svm, y_train_pred_bi, y_test_pred_bi, \"SVM with tf-idf & bigramm\")\n",
    "print(\"Classification report for SVM classifier with tf-idf and bigramm\")\n",
    "print(classification_report(y_test_svm, y_test_pred_bi))"
   ]
  },
  {
   "cell_type": "markdown",
   "metadata": {
    "pycharm": {
     "name": "#%% md\n"
    }
   },
   "source": [
    "**Beschreibung:** Mit der Klassifikation mittels der Inklusion von Bigramm verbessert sich unser balancierter F1-Score: `macro avg` von um 0.07 auf 0.85. Das liegt daran, dass vom Modell nun weniger positive Bewertungen als negativ eingestuft werden, was zu einer deutlichen Verbesserung der Precision auf 0.68 und des F1-Scores auf 0.71 für die Klassifizierung der negativen Bewertungen führt. Auch der F1-Score für die positiven Bewertungen hat sich verbessert und liegt nun bei 0.98. "
   ]
  },
  {
   "cell_type": "markdown",
   "metadata": {
    "pycharm": {
     "name": "#%% md\n"
    }
   },
   "source": [
    "#### 3.2.3 Interpretation SVM-Classifier with tf_idf and Trigramm on not lemmatized dataset."
   ]
  },
  {
   "cell_type": "code",
   "execution_count": 23,
   "metadata": {
    "pycharm": {
     "name": "#%%\n"
    }
   },
   "outputs": [
    {
     "data": {
      "image/png": "[encoded data removed]",
      "text/plain": [
       "<Figure size 1008x360 with 4 Axes>"
      ]
     },
     "metadata": {
      "needs_background": "light"
     },
     "output_type": "display_data"
    },
    {
     "name": "stdout",
     "output_type": "stream",
     "text": [
      "Classification report for SVM classifier with tf-idf and trigramm\n",
      "              precision    recall  f1-score   support\n",
      "\n",
      "    Negative       0.68      0.76      0.72      2755\n",
      "    Positive       0.98      0.97      0.98     35055\n",
      "\n",
      "    accuracy                           0.96     37810\n",
      "   macro avg       0.83      0.86      0.85     37810\n",
      "weighted avg       0.96      0.96      0.96     37810\n",
      "\n"
     ]
    }
   ],
   "source": [
    "show_confusion_matrix(y_train_svm, y_test_svm, y_train_pred_tri, y_test_pred_tri, \"SVM with tf-idf & trigramm\")\n",
    "print(\"Classification report for SVM classifier with tf-idf and trigramm\")\n",
    "print(classification_report(y_test_svm, y_test_pred_tri))"
   ]
  },
  {
   "cell_type": "markdown",
   "metadata": {
    "pycharm": {
     "name": "#%% md\n"
    }
   },
   "source": [
    "**Beschreibung:** Wir sehen, dass die zusätzliche Inklusion von Trigrammen keine signifikante Verbesserung des balancierten F1-Scores: `macro avg` mehr erbringt. Entsprechend sehen wir die Inklusion von Trigrammen zur Klassifikation unserer Daten als nicht notwendig an."
   ]
  },
  {
   "cell_type": "markdown",
   "metadata": {
    "pycharm": {
     "name": "#%% md\n"
    }
   },
   "source": [
    "#### 3.2.4 Interpretation SVM-Classifier with tf_idf and Monogramm on lemmatized dataset."
   ]
  },
  {
   "cell_type": "code",
   "execution_count": 24,
   "metadata": {
    "pycharm": {
     "name": "#%%\n"
    }
   },
   "outputs": [
    {
     "data": {
      "image/png": "[encoded data removed]",
      "text/plain": [
       "<Figure size 1008x360 with 4 Axes>"
      ]
     },
     "metadata": {
      "needs_background": "light"
     },
     "output_type": "display_data"
    },
    {
     "name": "stdout",
     "output_type": "stream",
     "text": [
      "Classification report for SVM classifier with tf-idf and monogramm\n",
      "              precision    recall  f1-score   support\n",
      "\n",
      "    Negative       0.48      0.81      0.60      2755\n",
      "    Positive       0.98      0.93      0.96     35055\n",
      "\n",
      "    accuracy                           0.92     37810\n",
      "   macro avg       0.73      0.87      0.78     37810\n",
      "weighted avg       0.95      0.92      0.93     37810\n",
      "\n"
     ]
    }
   ],
   "source": [
    "show_confusion_matrix(y_train_svm_l, y_test_svm_l, y_train_pred_mono_l, y_test_pred_mono_l, \"SVM with tf-idf & monogramm\")\n",
    "print(\"Classification report for SVM classifier with tf-idf and monogramm\")\n",
    "print(classification_report(y_test_svm_l, y_test_pred_mono_l))"
   ]
  },
  {
   "cell_type": "markdown",
   "metadata": {
    "pycharm": {
     "name": "#%% md\n"
    }
   },
   "source": [
    "**Beschreibung:** Mit der Klassifikation mittels Monogrammen auf dem lemmatisierten Datensatz erhalten wir einen balancierten F1-Score: `macro avg` von 0.78 im Testset und ist identisch zum Wert, welcher mit der nicht lemmatisierten Variante erreicht wurde. Generell scheint der Klassifikationsreport beim Vergleich der beiden Modelle (Monogramm mit und ohne Lemmatisierung) relativ ähnlich, sodass wir keine eindeutige Verbesserung oder Verschlechterung der Klassifikation feststellen können. "
   ]
  },
  {
   "cell_type": "markdown",
   "metadata": {
    "pycharm": {
     "name": "#%% md\n"
    }
   },
   "source": [
    "#### 3.2.5 Interpretation SVM-Classifier with tf_idf and Bigramm on lemmatized dataset."
   ]
  },
  {
   "cell_type": "code",
   "execution_count": 25,
   "metadata": {
    "pycharm": {
     "name": "#%%\n"
    }
   },
   "outputs": [
    {
     "data": {
      "image/png": "[encoded data removed]",
      "text/plain": [
       "<Figure size 1008x360 with 4 Axes>"
      ]
     },
     "metadata": {
      "needs_background": "light"
     },
     "output_type": "display_data"
    },
    {
     "name": "stdout",
     "output_type": "stream",
     "text": [
      "Classification report for SVM classifier with tf-idf and bigramm\n",
      "              precision    recall  f1-score   support\n",
      "\n",
      "    Negative       0.67      0.75      0.71      2755\n",
      "    Positive       0.98      0.97      0.98     35055\n",
      "\n",
      "    accuracy                           0.96     37810\n",
      "   macro avg       0.83      0.86      0.84     37810\n",
      "weighted avg       0.96      0.96      0.96     37810\n",
      "\n"
     ]
    }
   ],
   "source": [
    "show_confusion_matrix(y_train_svm_l, y_test_svm_l, y_train_pred_bi_l, y_test_pred_bi_l, \"SVM with tf-idf & bigramm\")\n",
    "print(\"Classification report for SVM classifier with tf-idf and bigramm\")\n",
    "print(classification_report(y_test_svm_l, y_test_pred_bi_l))"
   ]
  },
  {
   "cell_type": "markdown",
   "metadata": {
    "pycharm": {
     "name": "#%% md\n"
    }
   },
   "source": [
    "**Beschreibung:** Mit der Klassifikation mittels Bigrammen auf dem lemmatisierten Datensatz erhalten wir wieder dasselbe Verhalten wie beim nicht lemmatisierten Datensatz. Auch hier erhalten wir eine Verbesserung von 0.06 beim F1-Score im Vergleich zur Version, welche nur Monogramme verwendet. Beim Vergleich mit dem nicht lemmatisierten Datensatz sehen wir nur minimale Unterschiede in der Klassifikationsgüte, so hat sich der macro avg F1-Score um 1 Prozent verschlechtert. Somit ist keine Verbesserung erkennbar."
   ]
  },
  {
   "cell_type": "markdown",
   "metadata": {
    "pycharm": {
     "name": "#%% md\n"
    }
   },
   "source": [
    "#### 3.2.6 Interpretation SVM-Classifier with tf_idf and Trigramm on lemmatized dataset."
   ]
  },
  {
   "cell_type": "code",
   "execution_count": 26,
   "metadata": {
    "pycharm": {
     "name": "#%%\n"
    }
   },
   "outputs": [
    {
     "data": {
      "image/png": "[encoded data removed]",
      "text/plain": [
       "<Figure size 1008x360 with 4 Axes>"
      ]
     },
     "metadata": {
      "needs_background": "light"
     },
     "output_type": "display_data"
    },
    {
     "name": "stdout",
     "output_type": "stream",
     "text": [
      "Classification report for SVM classifier with tf-idf and trigramm\n",
      "              precision    recall  f1-score   support\n",
      "\n",
      "    Negative       0.68      0.75      0.71      2755\n",
      "    Positive       0.98      0.97      0.98     35055\n",
      "\n",
      "    accuracy                           0.96     37810\n",
      "   macro avg       0.83      0.86      0.84     37810\n",
      "weighted avg       0.96      0.96      0.96     37810\n",
      "\n"
     ]
    }
   ],
   "source": [
    "show_confusion_matrix(y_train_svm_l, y_test_svm_l, y_train_pred_tri_l, y_test_pred_tri_l, \"SVM with tf-idf & trigramm\")\n",
    "print(\"Classification report for SVM classifier with tf-idf and trigramm\")\n",
    "print(classification_report(y_test_svm_l, y_test_pred_tri_l))"
   ]
  },
  {
   "cell_type": "markdown",
   "metadata": {
    "pycharm": {
     "name": "#%% md\n"
    }
   },
   "source": [
    "**Beschreibung:** Und zuletzt erhalten wir mit der Klassifikation mittels Inklusion von Trigrammen auf dem lemmatisierten Datensatz einen macro avg F1-Score von 0.84. Somit bringt auch beim lemmatisierten Datensatz die Inklusion von Trigrammen verglichen mit Bigrammen keine Verbesserung mehr."
   ]
  },
  {
   "cell_type": "markdown",
   "metadata": {
    "pycharm": {
     "name": "#%% md\n"
    }
   },
   "source": [
    "### 3.3 Balkendiagramm mit Modelvergleich"
   ]
  },
  {
   "cell_type": "code",
   "execution_count": 27,
   "metadata": {
    "pycharm": {
     "name": "#%%\n"
    }
   },
   "outputs": [
    {
     "data": {
      "image/png": "[encoded data removed]",
      "text/plain": [
       "<Figure size 432x288 with 1 Axes>"
      ]
     },
     "metadata": {
      "needs_background": "light"
     },
     "output_type": "display_data"
    }
   ],
   "source": [
    "from sklearn.metrics import balanced_accuracy_score, accuracy_score, f1_score\n",
    "\n",
    "score_df = pd.DataFrame()\n",
    "\n",
    "predictions = {\n",
    "    \"mono\":y_test_pred_mono,\n",
    "    \"bi\":y_test_pred_bi,\n",
    "    \"tri\":y_test_pred_tri,\n",
    "    \"mono_l\":y_test_pred_mono_l,\n",
    "    \"bi_l\":y_test_pred_bi_l,\n",
    "    \"tri_l\":y_test_pred_tri_l\n",
    "    }\n",
    "\n",
    "for k in predictions:\n",
    "    score_df.loc[k, \"balanced_accuracy_score\"] = balanced_accuracy_score(y_test_svm, predictions[k])\n",
    "    score_df.loc[k, \"accuracy_score\"] = accuracy_score(y_test_svm, predictions[k])\n",
    "    score_df.loc[k, \"macro_f1_score\"] = f1_score(y_test_svm, predictions[k], average=\"macro\")\n",
    "\n",
    "\n",
    "plt.bar(score_df.index, score_df[\"macro_f1_score\"])\n",
    "plt.ylim(0.75,0.85)\n",
    "plt.title(\"macro f1 score model comparison\")\n",
    "plt.ylabel(\"f1-score\")\n",
    "plt.xlabel(\"model\")\n",
    "plt.show()"
   ]
  },
  {
   "cell_type": "markdown",
   "metadata": {
    "pycharm": {
     "name": "#%% md\n"
    }
   },
   "source": [
    "**Beschreibung:** \n",
    "\n",
    "`_l` bezeichnet die lemmatisierten Datensätze.\n",
    "\n",
    "Die Visualisierung zeigt den macro F1-Score für unsere sechs Modelle. Es fällt auf, dass die Lemmatisierung des Datensatzes keinen deutlichen Unterschied im F1-Score herbeigeführt hat. (vgl. `mono` und `mono_l`). Mit der Erhöhung der N-Gramm Range ist hingegen eine Verbesserung erkennbar. So bringt die Inklusion von Bigramms (`bi` und `bi_l`) beim lemmatisierten Datensatz als auch beim nicht lemmatisierten Datensatz eine Verbesserung von ca. 6 Prozentpunkten. Die Erweiterung mit Trigramms (`bi` und `bi_l`) bringt hingegen nur noch eine minimale Verbesserung unter 0.5 Prozent. Die Verbesserung des F1-Scores ist hier generell darauf zurückzuführen, dass die Erhöhung der N-Gramm Range dazu führt, dass die Modelle die negativen Labels besser klassifizieren."
   ]
  },
  {
   "cell_type": "code",
   "execution_count": 28,
   "metadata": {
    "pycharm": {
     "name": "#%%\n"
    }
   },
   "outputs": [
    {
     "data": {
      "image/png": "[encoded data removed]",
      "text/plain": [
       "<Figure size 432x288 with 1 Axes>"
      ]
     },
     "metadata": {
      "needs_background": "light"
     },
     "output_type": "display_data"
    }
   ],
   "source": [
    "plt.bar(score_df.index, score_df[\"balanced_accuracy_score\"], )\n",
    "plt.ylim(0.8,0.9)\n",
    "plt.title(\"macro accuracy score model comparison\")\n",
    "plt.ylabel(\"accuracy-score\")\n",
    "plt.xlabel(\"model\")\n",
    "plt.show()"
   ]
  },
  {
   "cell_type": "markdown",
   "metadata": {
    "pycharm": {
     "name": "#%% md\n"
    }
   },
   "source": [
    "**Beschreibung:** Der macro Accuracy-Score schwankt über die einzelnen Modelle deutlich weniger. So befindet dieser sich immer zwischen 0.86 und 0.87. Interessanterweise scheint die inklusion von Bi- und Trigramms die Accuracy hier sogar leicht zu verschlechtern. "
   ]
  },
  {
   "cell_type": "markdown",
   "metadata": {
    "pycharm": {
     "name": "#%% md\n"
    }
   },
   "source": [
    "## 4.0 CNN for Sentinentanals\n",
    "\n",
    "Ein Covolutional Neuronal Network (CNN) ist eine Erweiterung des Deep Neural Networks (DNN). Es ist in der Lage, Muster  in den Features zu erkennen. Dies geschieht mittels sogenannten Convolutionale Layer, welche dem Netz seinen Namen geben, und anschliessenden Pooling Layer. Diese Konstellation aus Convolutional Layer und Pooling Layer kann mehrfach wiederholt werden, um auch komplexere Muster zu erkennen. Der output wird anschliessend in einen eindimensionalen Vektor umgewandelt und durch das DNN in eine Wahrscheinlichkeit für die Zugehörigkeit einer Klasse umgewandelt. Der Input für unser Embedding Layer wird durch eine one-hot encodiere 2 dimensionale Matrix erzeugt. Bei CNN's ist es ausserdem relevant, dass unser Input jeweils identische Dimensionen aufweist. Dies geschieht mittels Padding. Beim Padding kann eine fixe Inputdimensionen definiert werden, wobei Sätze mit weniger Featuredimensionen einfach mit Nullen erweitert werden.\n",
    "\n",
    "In unserem Fall wählen wir dafür die durchschnittliche Anzahl von Wörtern, die in einem Satz vorkommen.\n",
    "Da diese Berechnung bei vielen Daten lange dauert, wird dies mit einem Dask Dataframe berechnet, weil so das arithmetische Mittel von mehreren CPU Cores parallel berechnet werden kann. `max_lengt` ist hier unser erster Hyperparameter.\n",
    "\n",
    "Ein weiterer Hyperparameter ist die `vocab_size`, welche auch als Input Parameter für das Embedding benötigt wird. Wir haben hier den Wert von 21'000 von der n-gramm Analyse abgeleitet."
   ]
  },
  {
   "cell_type": "code",
   "execution_count": 29,
   "metadata": {
    "pycharm": {
     "name": "#%%\n"
    }
   },
   "outputs": [
    {
     "name": "stdout",
     "output_type": "stream",
     "text": [
      "Num GPUs Available:  1\n"
     ]
    }
   ],
   "source": [
    "print(\"Num GPUs Available: \", len(tf.config.list_physical_devices('GPU')))"
   ]
  },
  {
   "cell_type": "markdown",
   "metadata": {
    "pycharm": {
     "name": "#%% md\n"
    }
   },
   "source": [
    "### 4.1 Preprocessing"
   ]
  },
  {
   "cell_type": "code",
   "execution_count": 30,
   "metadata": {
    "pycharm": {
     "name": "#%%\n"
    }
   },
   "outputs": [],
   "source": [
    "df_fast = dd.from_pandas(df_rating[[\"word_tokens\"]],npartitions=4)\n",
    "max_length = int(df_fast[\"word_tokens\"].str.split().map(lambda x:len(x)).compute().mean())\n",
    "hyper = {\"num_epochs\":10,\n",
    "         \"vocab_size\":21000,\n",
    "         \"emb_dim\" : 100,\n",
    "         \"max_length\": max_length,\n",
    "         \"filter_conv1\":32,\n",
    "         \"kernelsize_conv1\":4,\n",
    "         \"aktiv_conv1\":\"relu\",\n",
    "         \"kernelsize_maxP1\":4,\n",
    "         \"dropout1\": 0.4,\n",
    "         \"dropout2\": 0.4,\n",
    "         \"dnn1_output\": 100,\n",
    "         \"dnn1_aktiv\":\"relu\",\n",
    "         \"dnn2_output\":10,\n",
    "         \"dnn2_aktiv\":\"relu\",\n",
    "         \"output\":1,\n",
    "         \"output_aktiv\":\"sigmoid\",\n",
    "         }"
   ]
  },
  {
   "cell_type": "code",
   "execution_count": 31,
   "metadata": {
    "pycharm": {
     "name": "#%%\n"
    }
   },
   "outputs": [],
   "source": [
    "# Preprocessing\n",
    "#lenght for Embedding\n",
    "from keras.preprocessing.sequence import pad_sequences\n",
    "from keras.preprocessing.text import one_hot\n",
    "\n",
    "#padding\n",
    "docs = X_train.to_list()\n",
    "encoded_docs = [one_hot(d, hyper[\"vocab_size\"]) for d in docs]\n",
    "X_train_p = pad_sequences(encoded_docs, maxlen=max_length)\n",
    "\n",
    "docs = X_test.to_list()\n",
    "encoded_docs_test = [one_hot(d, hyper[\"vocab_size\"]) for d in docs]\n",
    "X_test_p = pad_sequences(encoded_docs_test, maxlen=max_length)"
   ]
  },
  {
   "cell_type": "markdown",
   "metadata": {
    "pycharm": {
     "name": "#%% md\n"
    }
   },
   "source": [
    "#### 4.1.1 Plot CNN-Model Funktion\n",
    "Als Metrik für den fit des CNN-Models verwenden wir die Accuracy. TODO"
   ]
  },
  {
   "cell_type": "code",
   "execution_count": 32,
   "metadata": {
    "pycharm": {
     "name": "#%%\n"
    }
   },
   "outputs": [],
   "source": [
    "plt.style.use('ggplot')\n",
    "\n",
    "def plot_history(history):\n",
    "    acc = history.history['accuracy']\n",
    "    val_acc = history.history['val_accuracy']\n",
    "    loss = history.history['loss']\n",
    "    val_loss = history.history['val_accuracy']\n",
    "    x = range(1, len(acc) + 1)\n",
    "\n",
    "    plt.figure(figsize=(12, 5))\n",
    "    plt.subplot(1, 2, 1)\n",
    "    plt.plot(x, acc, 'b', label='Training acc')\n",
    "    plt.plot(x, val_acc, 'r', label='Validation acc')\n",
    "    plt.title('Training and validation accuracy')\n",
    "    plt.legend()\n",
    "    plt.subplot(1, 2, 2)\n",
    "    plt.plot(x, loss, 'b', label='Training loss')\n",
    "    plt.plot(x, val_loss, 'r', label='Validation loss')\n",
    "    plt.title('Training and validation loss')\n",
    "    plt.legend()"
   ]
  },
  {
   "cell_type": "markdown",
   "metadata": {
    "pycharm": {
     "name": "#%% md\n"
    }
   },
   "source": [
    "### 4.2 Model mit Keras\n",
    "Als Framework für das CNN benutzen wir Keras. Mit Keras kann man sehr einfach CNN erstellen, trainieren und evaluieren.\n",
    "Die Struktur unseres CNN sieht wie folgt aus:\n",
    "1. Embedding der die Input daten möglichst gut auf 100 Dimensionen fitten kann.\n",
    "2. Convolution Layer mit einer Kernel Grösse von 4, Anzahl Filter 32 und einer Aktivierungsfunktion Relu.\n",
    "3. 1D MaxPooling für die Komprimierung Filter, es wird der durchschnittliche Wert von einem 4*4 Grid genommen.\n",
    "4. Dropout mit einer Wahrscheinlichkeit von P = 0.5; in einem Dropout Layer wird während des Trainings in jedem Step zufällige Neuron \"stumm geschalten\". So ist das Netzwerk gezwungen, zu generalisieren.\n",
    "5. Nun wird der n-dimensional Vektor auf eine Dimension herunter-konkateniert, sodass er als Input für das DNN genutzt werden kann.\n",
    "6. Der erste Layer des DNN hat 100 Output-Dimensionen, die Input-Dimension wird von Keras automatisch berechnet.\n",
    "7. Der Hidden Layer des DNN ist nicht unbedingt notwendig, er bildet den Zwischenschritt, zwischen Input und Output im DNN. Beide DNN Layer werden mit einer Relu Aktivierungsfunktion implementiert.\n",
    "8. Der Output-layer ist ein einzelnes Neuron, welches mit einer Sigmoidfunktion aktiviert wird. Das heisst, der Output ist ein Wert zwischen 0 und 1 und gibt eine Art Wahrscheinlichkeit wieder. Das Ergebnis des Output-Layers kann wie das Ergebnis einer logistischen Regression verstanden werden.\n"
   ]
  },
  {
   "cell_type": "markdown",
   "metadata": {
    "pycharm": {
     "name": "#%% md\n"
    }
   },
   "source": [
    "Aus diesem Aufbau ergeben sich einige Hyperparameter, die für Qualität des Ergebnisses alle einen Einfluss haben.\n",
    "1. Embedding: `vocab_size`,`max_lenght`, `emb_dim`\n",
    "2. Conv1D : `filter_conv1`,`kernelsize_conv1`,`aktiv_conv1`\n",
    "3. MaxPool : `kernelsize_maxP1`\n",
    "4. Dropout : `dropout1`,`dropout2`\n",
    "5. DNN : `dnn1_output`, `dnn2_output`, `output`"
   ]
  },
  {
   "cell_type": "code",
   "execution_count": 33,
   "metadata": {
    "pycharm": {
     "name": "#%%\n"
    }
   },
   "outputs": [],
   "source": [
    "import keras\n",
    "class convnet:\n",
    "    @staticmethod\n",
    "    def create_convnet(hyper):\n",
    "        tf.random.set_seed(mc1seed)\n",
    "        input_shape = layers.Input(shape=(hyper[\"max_length\"],))\n",
    "        emb = layers.Embedding(hyper[\"vocab_size\"], hyper[\"emb_dim\"],)(input_shape)\n",
    "        conv = layers.Conv1D(filters=hyper[\"filter_conv1\"], kernel_size=hyper[\"kernelsize_conv1\"],activation=hyper[\"aktiv_conv1\"])(emb)\n",
    "        maxpool = layers.MaxPooling1D(pool_size=hyper[\"kernelsize_maxP1\"])(conv)\n",
    "        dropout = layers.Dropout(hyper[\"dropout1\"])(maxpool)\n",
    "        flat = layers.Flatten()(dropout)\n",
    "        out1 = layers.Dense(hyper[\"dnn1_output\"],activation=hyper[\"dnn1_aktiv\"])(flat)\n",
    "        out2 = layers.Dropout(hyper[\"dropout2\"])(out1)\n",
    "        out3 = layers.Dense(hyper[\"dnn2_output\"],activation=hyper[\"dnn2_aktiv\"])(out2)\n",
    "        out4= layers.Dense(hyper[\"output\"],activation=hyper[\"output_aktiv\"])(out3)\n",
    "        return keras.Model(input_shape, out4)"
   ]
  },
  {
   "cell_type": "code",
   "execution_count": 34,
   "metadata": {
    "pycharm": {
     "name": "#%%\n"
    }
   },
   "outputs": [
    {
     "name": "stdout",
     "output_type": "stream",
     "text": [
      "Model: \"model\"\n",
      "_________________________________________________________________\n",
      "Layer (type)                 Output Shape              Param #   \n",
      "=================================================================\n",
      "input_1 (InputLayer)         [(None, 47)]              0         \n",
      "_________________________________________________________________\n",
      "embedding (Embedding)        (None, 47, 100)           2100000   \n",
      "_________________________________________________________________\n",
      "conv1d (Conv1D)              (None, 44, 32)            12832     \n",
      "_________________________________________________________________\n",
      "max_pooling1d (MaxPooling1D) (None, 11, 32)            0         \n",
      "_________________________________________________________________\n",
      "dropout (Dropout)            (None, 11, 32)            0         \n",
      "_________________________________________________________________\n",
      "flatten (Flatten)            (None, 352)               0         \n",
      "_________________________________________________________________\n",
      "dense (Dense)                (None, 100)               35300     \n",
      "_________________________________________________________________\n",
      "dropout_1 (Dropout)          (None, 100)               0         \n",
      "_________________________________________________________________\n",
      "dense_1 (Dense)              (None, 10)                1010      \n",
      "_________________________________________________________________\n",
      "dense_2 (Dense)              (None, 1)                 11        \n",
      "=================================================================\n",
      "Total params: 2,149,153\n",
      "Trainable params: 2,149,153\n",
      "Non-trainable params: 0\n",
      "_________________________________________________________________\n",
      "None\n"
     ]
    }
   ],
   "source": [
    "con_cnn = convnet()\n",
    "model_cnn = con_cnn.create_convnet(hyper)\n",
    "print(model_cnn.summary())"
   ]
  },
  {
   "cell_type": "markdown",
   "metadata": {
    "pycharm": {
     "name": "#%% md\n"
    }
   },
   "source": [
    "Die Anzahl Layer des CNN, als auch des DNN, sind selbst auch ein Hyperparameter. Dies überschreitet allerdings den Scope dieser Arbeit, da wir nicht alle möglichen CNN Architekturen ausprobieren können. Die Zusammenfassung des Netzwerkes zeigt, dass das Netzwerk aus c.a 2,1 Millionen Parametern besteht. Die zufällig initialisiert werden und im Training optimiert werden. Auch in diesem Abschnitt gibt es wieder Hyperparameter, jedoch nicht so viele. Die Anzahl Trainingsepochen ist im eigentlichen kein Hyperparameter, allerdings sollte man das Modell nehmen, dass einen möglichst kleinen Validations besitzt. Das Model wird nach dem Erreichen des besten Validierung-Loss nur noch schlechter werden, es overfitted. Also wollen wir das Modell mit vielen Epochen trainieren, um zu sehen, ab wann es overfitted. Für Overfitting haben wir die Dropoutlayer eingefügt, es ist allerdings unabdingbar, dass das Modell ab einem bestimmten Zeitpunkt nur noch overfitted. Ein weiterer wichtiger Hyperparameter beim Training ist die Batch-size. Die Batch-size hat einen direkten Einfluss auf die Effektivität der Lerninserate.\n",
    "Als Lossfuktion verwenden wir die binäre-Crossentropy und als optimizer verwenden wir den Adam Optimizer."
   ]
  },
  {
   "cell_type": "code",
   "execution_count": 35,
   "metadata": {
    "pycharm": {
     "name": "#%%\n"
    }
   },
   "outputs": [],
   "source": [
    "hyper[\"batch_size\"]=128\n",
    "hyper[\"loss\"]= \"binary_crossentropy\"\n",
    "hyper[\"opt\"] = \"adam\""
   ]
  },
  {
   "cell_type": "code",
   "execution_count": 36,
   "metadata": {
    "pycharm": {
     "name": "#%%\n"
    }
   },
   "outputs": [],
   "source": [
    "# https://aakashgoel12.medium.com/how-to-add-user-defined-function-get-f1-score-in-keras-metrics-3013f979ce0d\n",
    "import keras.backend as K\n",
    "def get_f1(y_true, y_pred): #taken from old keras source code\n",
    "    true_positives = K.sum(K.round(K.clip(y_true * y_pred, 0, 1)))\n",
    "    possible_positives = K.sum(K.round(K.clip(y_true, 0, 1)))\n",
    "    predicted_positives = K.sum(K.round(K.clip(y_pred, 0, 1)))\n",
    "    precision = true_positives / (predicted_positives + K.epsilon())\n",
    "    recall = true_positives / (possible_positives + K.epsilon())\n",
    "    f1_val = 2*(precision*recall)/(precision+recall+K.epsilon())\n",
    "    return f1_val"
   ]
  },
  {
   "cell_type": "code",
   "execution_count": 37,
   "metadata": {
    "pycharm": {
     "name": "#%%\n"
    }
   },
   "outputs": [
    {
     "name": "stdout",
     "output_type": "stream",
     "text": [
      "Epoch 1/10\n",
      "887/887 [==============================] - 22s 14ms/step - loss: 0.1786 - accuracy: 0.9379 - precision: 0.9434 - recall: 0.9926 - get_f1: 0.9673 - val_loss: 0.1479 - val_accuracy: 0.9464 - val_precision: 0.9483 - val_recall: 0.9966 - val_get_f1: 0.9717\n",
      "Epoch 2/10\n",
      "887/887 [==============================] - 11s 13ms/step - loss: 0.1203 - accuracy: 0.9556 - precision: 0.9653 - recall: 0.9876 - get_f1: 0.9763 - val_loss: 0.1388 - val_accuracy: 0.9499 - val_precision: 0.9566 - val_recall: 0.9908 - val_get_f1: 0.9733\n",
      "Epoch 3/10\n",
      "887/887 [==============================] - 12s 13ms/step - loss: 0.0910 - accuracy: 0.9666 - precision: 0.9752 - recall: 0.9891 - get_f1: 0.9820 - val_loss: 0.1507 - val_accuracy: 0.9482 - val_precision: 0.9583 - val_recall: 0.9871 - val_get_f1: 0.9724\n",
      "Epoch 4/10\n",
      "887/887 [==============================] - 12s 13ms/step - loss: 0.0636 - accuracy: 0.9773 - precision: 0.9841 - recall: 0.9916 - get_f1: 0.9878 - val_loss: 0.1801 - val_accuracy: 0.9468 - val_precision: 0.9604 - val_recall: 0.9832 - val_get_f1: 0.9715\n",
      "Epoch 5/10\n",
      "887/887 [==============================] - 13s 14ms/step - loss: 0.0450 - accuracy: 0.9837 - precision: 0.9889 - recall: 0.9936 - get_f1: 0.9912 - val_loss: 0.2033 - val_accuracy: 0.9452 - val_precision: 0.9582 - val_recall: 0.9838 - val_get_f1: 0.9707\n",
      "Epoch 6/10\n",
      "887/887 [==============================] - 14s 16ms/step - loss: 0.0336 - accuracy: 0.9880 - precision: 0.9921 - recall: 0.9950 - get_f1: 0.9935 - val_loss: 0.2324 - val_accuracy: 0.9404 - val_precision: 0.9618 - val_recall: 0.9744 - val_get_f1: 0.9679\n",
      "Epoch 7/10\n",
      "887/887 [==============================] - 14s 16ms/step - loss: 0.0278 - accuracy: 0.9902 - precision: 0.9936 - recall: 0.9959 - get_f1: 0.9947 - val_loss: 0.2617 - val_accuracy: 0.9440 - val_precision: 0.9574 - val_recall: 0.9834 - val_get_f1: 0.9700\n",
      "Epoch 8/10\n",
      "887/887 [==============================] - 14s 16ms/step - loss: 0.0233 - accuracy: 0.9917 - precision: 0.9946 - recall: 0.9965 - get_f1: 0.9955 - val_loss: 0.2863 - val_accuracy: 0.9431 - val_precision: 0.9578 - val_recall: 0.9819 - val_get_f1: 0.9696\n",
      "Epoch 9/10\n",
      "887/887 [==============================] - 14s 16ms/step - loss: 0.0196 - accuracy: 0.9928 - precision: 0.9953 - recall: 0.9969 - get_f1: 0.9961 - val_loss: 0.3254 - val_accuracy: 0.9406 - val_precision: 0.9588 - val_recall: 0.9780 - val_get_f1: 0.9681\n",
      "Epoch 10/10\n",
      "887/887 [==============================] - 14s 16ms/step - loss: 0.0182 - accuracy: 0.9935 - precision: 0.9959 - recall: 0.9971 - get_f1: 0.9965 - val_loss: 0.3287 - val_accuracy: 0.9434 - val_precision: 0.9584 - val_recall: 0.9816 - val_get_f1: 0.9697\n"
     ]
    }
   ],
   "source": [
    "model_cnn.compile(loss = hyper[\"loss\"],\n",
    "                  optimizer = hyper[\"opt\"],\n",
    "                  metrics = [\"accuracy\",\n",
    "                             tf.keras.metrics.Precision(),\n",
    "                             tf.keras.metrics.Recall(),\n",
    "                             get_f1])\n",
    "\n",
    "history_cnn = model_cnn.fit(X_train_p, y_train,\n",
    "                        epochs=hyper[\"num_epochs\"],\n",
    "                        verbose=True,\n",
    "                        validation_data=(X_test_p, y_test),\n",
    "                        batch_size=hyper[\"batch_size\"],\n",
    "                        )"
   ]
  },
  {
   "cell_type": "code",
   "execution_count": 38,
   "metadata": {
    "pycharm": {
     "name": "#%%\n"
    }
   },
   "outputs": [
    {
     "name": "stdout",
     "output_type": "stream",
     "text": [
      "Test Accuracy: 94.9881 % \n",
      "In Epoch Nr.2\n"
     ]
    }
   ],
   "source": [
    "import operator\n",
    "max_index, max_value = max(enumerate(history_cnn.history[\"val_accuracy\"]), key=operator.itemgetter(1))\n",
    "print(f'Test Accuracy: {round((max_value*100),4)} % \\nIn Epoch Nr.{max_index+1}')"
   ]
  },
  {
   "cell_type": "code",
   "execution_count": 39,
   "metadata": {
    "pycharm": {
     "name": "#%%\n"
    }
   },
   "outputs": [
    {
     "data": {
      "image/png": "[encoded data removed]",
      "text/plain": [
       "<Figure size 864x360 with 2 Axes>"
      ]
     },
     "metadata": {},
     "output_type": "display_data"
    }
   ],
   "source": [
    "# plot history\n",
    "plot_history(history_cnn)"
   ]
  },
  {
   "cell_type": "markdown",
   "metadata": {
    "pycharm": {
     "name": "#%% md\n"
    }
   },
   "source": []
  },
  {
   "cell_type": "markdown",
   "metadata": {
    "pycharm": {
     "name": "#%% md\n"
    }
   },
   "source": [
    "#### 4.2.1 CNN-Model Evaluation\n",
    "Wir sehen, dass das Model eine Train-Accuarcy von 99,4% erreicht. Was bedeutet, dass das Model die Daten sehr gut wiedergeben kann. Ein anderer Punkt jedoch ist die Test Accuracy, welche sich zwar auf 95% befindet, jedoch nicht besser wird. Das Model ist overfitted. Das sehen wir auch sehr gut am Loss Plot. Der Trainloss hat eine schöne Kurve, der Testloss jedoch bleib konstant schlecht. Für Overfitting haben wir zwei Dropouts mit p=0.4 engebaut. Dies ist sogar ein recht grosser Dropout, dennoch overfitted das Model stark. Dennoch ist die Testaccuracy von 95% nicht zu verachten."
   ]
  },
  {
   "cell_type": "markdown",
   "metadata": {
    "pycharm": {
     "name": "#%% md\n"
    }
   },
   "source": [
    "### 4.3 Gridsearch\n",
    "Bei der Methodenwahl zur Hyperparameter Optimierung stehen verschiedene Strategien zur Verfügung. Eine wäre, alle möglichen Kombinationen der Hyperparameter zu testen (Gridsearch). Die Variante  ist  mehrheitlich dann sinnvoll, wenn unter den Hyperparametern eine gegenseitige Abhängigkeit vermutet wird.  Mit Itertools kann sehr einfach alle möglichen Kombinationen der Hyperparameter generiert werden. Doch bei 8 Hyperparameter und 4 Möglichkeiten ergibt das insgesamt 4^8 (65536) Kombinationen. Bei einer Trainingszeit von 10 Minuten pro Kombination ergibt das eine gesamte Trainingsdauer von 241 Jahren. Dies ist definitiv zu lange.  Wir vermuten zudem keine Abhängigkeit zwischen den meisten Hyperparameter. Aus diesem Grund werden die Hyperparameter getrennt optimiert. "
   ]
  },
  {
   "cell_type": "code",
   "execution_count": 40,
   "metadata": {
    "pycharm": {
     "name": "#%%\n"
    }
   },
   "outputs": [],
   "source": [
    "params = {\"vocab_size\":[hyper[\"vocab_size\"],10000,5000,1000],\n",
    "                \"emb_dim\" : [100,200,300,400],\n",
    "                \"max_length\": [20,30,40,hyper[\"max_length\"]],\n",
    "                \"filter_conv1\":[16,32,64,128],\n",
    "                \"kernelsize_conv1\":[2,4,8,16],\n",
    "                \"kernelsize_maxP1\":[2,4,8,16],\n",
    "                \"dropout1\": [0.4,0.5,0.6,0.7],\n",
    "                \"dropout2\": [0.4,0.5,0.6,0.7],\n",
    "                \"dnn1_output\": [50,100,200,500],\n",
    "                \"dnn2_output\":[6,10,20,30],\n",
    "                }"
   ]
  },
  {
   "cell_type": "code",
   "execution_count": 41,
   "metadata": {
    "pycharm": {
     "name": "#%%\n"
    }
   },
   "outputs": [],
   "source": [
    "from itertools import product\n",
    "# unused code: all combinations of unique dicionaries ; 65536\n",
    "dicta = {}\n",
    "perm = product('ABCD', repeat=8)\n",
    "for i in list(perm):\n",
    "    if i in dicta:\n",
    "        dicta[i] += 1\n",
    "    else:\n",
    "        dicta[i] = 1"
   ]
  },
  {
   "cell_type": "markdown",
   "metadata": {
    "pycharm": {
     "name": "#%% md\n"
    }
   },
   "source": [
    "### 4.3.1 Preprocessing Hyperparameters"
   ]
  },
  {
   "cell_type": "code",
   "execution_count": 42,
   "metadata": {
    "pycharm": {
     "name": "#%%\n"
    }
   },
   "outputs": [],
   "source": [
    "def train_model(model,hyper,X_train_p,y_train,X_test_p,y_test):\n",
    "    model.compile(loss = hyper[\"loss\"],\n",
    "                  optimizer = hyper[\"opt\"],\n",
    "                  metrics = [\"accuracy\",\n",
    "                             tf.keras.metrics.Precision(),\n",
    "                             tf.keras.metrics.Recall(),\n",
    "                             get_f1])\n",
    "\n",
    "\n",
    "    history = model.fit(X_train_p, y_train,\n",
    "                            epochs=hyper[\"num_epochs\"],\n",
    "                            verbose=True,\n",
    "                            validation_data=(X_test_p, y_test),\n",
    "                            batch_size=hyper[\"batch_size\"],\n",
    "                            )\n",
    "    return history"
   ]
  },
  {
   "cell_type": "code",
   "execution_count": 43,
   "metadata": {
    "pycharm": {
     "name": "#%%\n"
    }
   },
   "outputs": [],
   "source": [
    "# hyperloop XD\n",
    "if run_gridsearch:\n",
    "    besties = {}\n",
    "    for key in params.keys():\n",
    "        print(\"---------------------\")\n",
    "        print(f\"| checkout {key} |\")\n",
    "        print(\"---------------------\\n\")\n",
    "        templist = []\n",
    "        for i in params[key]:\n",
    "            print(\"---------------------\")\n",
    "            print(f\"| with {key}={i} |\")\n",
    "            print(\"---------------------\")\n",
    "            hyper_c = hyper.copy()\n",
    "            hyper_c[key]= i\n",
    "            con = convnet()\n",
    "            model = con.create_convnet(hyper_c)\n",
    "            #padding has to be done different\n",
    "            if key == \"max_length\":\n",
    "                X_train_pr = pad_sequences(encoded_docs, maxlen=i)\n",
    "                X_test_pr = pad_sequences(encoded_docs_test, maxlen=i)\n",
    "                h = train_model(model,hyper_c,X_train_pr,y_train,X_test_pr,y_test)\n",
    "            else :\n",
    "                h = train_model(model,hyper_c,X_train_p,y_train,X_test_p,y_test)\n",
    "            max_index, max_value = max(enumerate(h.history[\"val_accuracy\"]), key=operator.itemgetter(1))\n",
    "            templist.append(round(max_value,4)*100)\n",
    "        besties[key]= params[key][templist.index(max(templist))]"
   ]
  },
  {
   "cell_type": "code",
   "execution_count": 44,
   "metadata": {
    "pycharm": {
     "name": "#%%\n"
    }
   },
   "outputs": [],
   "source": [
    "# das überabeitete Hyperparameter Dictionary kann nun im nächsten Schritt verwendet werden.\n",
    "if run_gridsearch:\n",
    "    hyper_new = {\"vocab_size\":besties[\"vocab_size\"],\n",
    "                 \"emb_dim\" : besties[\"emb_dim\"],\n",
    "                 \"max_length\": besties[\"max_length\"],\n",
    "                 \"filter_conv1\":besties[\"filter_conv1\"],\n",
    "                 \"kernelsize_conv1\":besties[\"kernelsize_conv1\"],\n",
    "                 \"aktiv_conv1\":\"relu\",\n",
    "                 \"kernelsize_maxP1\":besties[\"kernelsize_maxP1\"],\n",
    "                 \"dropout1\": besties[\"dropout1\"],\n",
    "                 \"dropout2\": besties[\"dropout2\"],\n",
    "                 \"dnn1_output\": besties[\"dnn1_output\"],\n",
    "                 \"dnn1_aktiv\":\"relu\",\n",
    "                 \"dnn2_output\":besties[\"dnn2_output\"],\n",
    "                 \"dnn2_aktiv\":\"relu\",\n",
    "                 \"output\":1,\n",
    "                 \"output_aktiv\":\"sigmoid\"\n",
    "                 }\n",
    "else:\n",
    "    hyper_new = {'vocab_size': 21000,\n",
    "                 'emb_dim': 200,\n",
    "                 'max_length': 47,\n",
    "                 'filter_conv1': 128,\n",
    "                 'kernelsize_conv1': 4,\n",
    "                 'aktiv_conv1': 'relu',\n",
    "                 'kernelsize_maxP1': 2,\n",
    "                 'dropout1': 0.4,\n",
    "                 'dropout2': 0.5,\n",
    "                 'dnn1_output': 500,\n",
    "                 'dnn1_aktiv': 'relu',\n",
    "                 'dnn2_output': 20,\n",
    "                 'dnn2_aktiv': 'relu',\n",
    "                 'output': 1,\n",
    "                 'output_aktiv': 'sigmoid'}"
   ]
  },
  {
   "cell_type": "markdown",
   "metadata": {
    "pycharm": {
     "name": "#%% md\n"
    }
   },
   "source": [
    "Dem Hyperparametertuning nach ist die optimale embedding grösse 200 Features. Der Rest ist grösstenteils gleich geblieben, die vocabsize, die maxlengt und auch die dropouts. Mit dem Maximalwert von 128 Filter für den CNN Layer ist die Performance scheinbar am besten, was erst logisch erscheint, da mehr Filter auch mehr Features extrahieren können. Es ist allerdings die Frage, wie viel besser das Model tatsächlich ist. Ein Blick in den Log des Gridsearches zeigt, bei einer 32 Filtern ist die Test-Accuracy bereits bei 0.9396, bei 128 0.9467. Das ist zwar eine Verbesserung, jedoch ist es auch ressourcenaufwendig mehr Filter zu benutzen. Dies trifft auch auf die Maxpooling Proportion zu, welche sehr klein gehalten wurde."
   ]
  },
  {
   "cell_type": "code",
   "execution_count": 45,
   "metadata": {
    "pycharm": {
     "name": "#%%\n"
    }
   },
   "outputs": [],
   "source": [
    "con_new = convnet()\n",
    "model_new = con_new.create_convnet(hyper_new)"
   ]
  },
  {
   "cell_type": "code",
   "execution_count": 46,
   "metadata": {
    "pycharm": {
     "name": "#%%\n"
    }
   },
   "outputs": [
    {
     "data": {
      "text/plain": [
       "(37810, 47)"
      ]
     },
     "execution_count": 46,
     "metadata": {},
     "output_type": "execute_result"
    }
   ],
   "source": [
    "X_test_p.shape"
   ]
  },
  {
   "cell_type": "code",
   "execution_count": 47,
   "metadata": {
    "pycharm": {
     "name": "#%%\n"
    }
   },
   "outputs": [
    {
     "name": "stdout",
     "output_type": "stream",
     "text": [
      "Epoch 1/10\n",
      "887/887 [==============================] - 16s 16ms/step - loss: 0.1626 - accuracy: 0.9418 - precision_1: 0.9481 - recall_1: 0.9915 - get_f1: 0.9693 - val_loss: 0.1336 - val_accuracy: 0.9516 - val_precision_1: 0.9554 - val_recall_1: 0.9942 - val_get_f1: 0.9743\n",
      "Epoch 2/10\n",
      "887/887 [==============================] - 15s 16ms/step - loss: 0.1014 - accuracy: 0.9621 - precision_1: 0.9714 - recall_1: 0.9882 - get_f1: 0.9797 - val_loss: 0.1354 - val_accuracy: 0.9517 - val_precision_1: 0.9638 - val_recall_1: 0.9850 - val_get_f1: 0.9741\n",
      "Epoch 3/10\n",
      "887/887 [==============================] - 13s 15ms/step - loss: 0.0568 - accuracy: 0.9793 - precision_1: 0.9859 - recall_1: 0.9919 - get_f1: 0.9888 - val_loss: 0.1744 - val_accuracy: 0.9482 - val_precision_1: 0.9637 - val_recall_1: 0.9811 - val_get_f1: 0.9722\n",
      "Epoch 4/10\n",
      "887/887 [==============================] - 60s 67ms/step - loss: 0.0276 - accuracy: 0.9901 - precision_1: 0.9937 - recall_1: 0.9957 - get_f1: 0.9947 - val_loss: 0.2230 - val_accuracy: 0.9444 - val_precision_1: 0.9652 - val_recall_1: 0.9751 - val_get_f1: 0.9700\n",
      "Epoch 5/10\n",
      "887/887 [==============================] - 67s 76ms/step - loss: 0.0176 - accuracy: 0.9938 - precision_1: 0.9961 - recall_1: 0.9972 - get_f1: 0.9967 - val_loss: 0.2973 - val_accuracy: 0.9479 - val_precision_1: 0.9561 - val_recall_1: 0.9892 - val_get_f1: 0.9723\n",
      "Epoch 6/10\n",
      "887/887 [==============================] - 68s 76ms/step - loss: 0.0135 - accuracy: 0.9952 - precision_1: 0.9970 - recall_1: 0.9978 - get_f1: 0.9974 - val_loss: 0.2944 - val_accuracy: 0.9464 - val_precision_1: 0.9597 - val_recall_1: 0.9835 - val_get_f1: 0.9713\n",
      "Epoch 7/10\n",
      "887/887 [==============================] - 69s 78ms/step - loss: 0.0109 - accuracy: 0.9960 - precision_1: 0.9974 - recall_1: 0.9983 - get_f1: 0.9978 - val_loss: 0.4185 - val_accuracy: 0.9452 - val_precision_1: 0.9598 - val_recall_1: 0.9821 - val_get_f1: 0.9707\n",
      "Epoch 8/10\n",
      "887/887 [==============================] - 20s 22ms/step - loss: 0.0096 - accuracy: 0.9969 - precision_1: 0.9981 - recall_1: 0.9985 - get_f1: 0.9983 - val_loss: 0.3742 - val_accuracy: 0.9468 - val_precision_1: 0.9597 - val_recall_1: 0.9840 - val_get_f1: 0.9716\n",
      "Epoch 9/10\n",
      "887/887 [==============================] - 14s 15ms/step - loss: 0.0089 - accuracy: 0.9971 - precision_1: 0.9983 - recall_1: 0.9986 - get_f1: 0.9984 - val_loss: 0.3470 - val_accuracy: 0.9442 - val_precision_1: 0.9624 - val_recall_1: 0.9781 - val_get_f1: 0.9701\n",
      "Epoch 10/10\n",
      "887/887 [==============================] - 15s 17ms/step - loss: 0.0079 - accuracy: 0.9973 - precision_1: 0.9984 - recall_1: 0.9988 - get_f1: 0.9986 - val_loss: 0.4095 - val_accuracy: 0.9455 - val_precision_1: 0.9595 - val_recall_1: 0.9826 - val_get_f1: 0.9708\n"
     ]
    }
   ],
   "source": [
    "model_new.compile(loss = hyper[\"loss\"],\n",
    "                  optimizer = hyper[\"opt\"],\n",
    "                  metrics = [\"accuracy\",\n",
    "                             tf.keras.metrics.Precision(),\n",
    "                             tf.keras.metrics.Recall(),\n",
    "                             get_f1])\n",
    "\n",
    "\n",
    "history_new = model_new.fit(X_train_p, y_train,\n",
    "                                epochs=hyper[\"num_epochs\"],\n",
    "                                verbose=True,\n",
    "                                validation_data=(X_test_p, y_test),\n",
    "                                batch_size=hyper[\"batch_size\"],\n",
    "                                )"
   ]
  },
  {
   "cell_type": "code",
   "execution_count": 48,
   "metadata": {
    "pycharm": {
     "name": "#%%\n"
    }
   },
   "outputs": [
    {
     "name": "stdout",
     "output_type": "stream",
     "text": [
      "Test Accuracy: 95.17 % \n",
      "In Epoch Nr.2\n"
     ]
    },
    {
     "data": {
      "image/png": "[encoded data removed]",
      "text/plain": [
       "<Figure size 864x360 with 2 Axes>"
      ]
     },
     "metadata": {},
     "output_type": "display_data"
    }
   ],
   "source": [
    "max_index, max_value = max(enumerate(history_new.history[\"val_accuracy\"]), key=operator.itemgetter(1))\n",
    "print(f'Test Accuracy: {round(max_value, 4) * 100} % \\nIn Epoch Nr.{max_index + 1}')\n",
    "# plot history\n",
    "plot_history(history_new)"
   ]
  },
  {
   "cell_type": "markdown",
   "metadata": {
    "pycharm": {
     "name": "#%% md\n"
    }
   },
   "source": [
    "Wir sehen, dass das Modell sich gleich verhält, als vor dem Gridsearch. Die performance hat sich um c.a 0.03 gesteigert. Wir kommen so auch 95,27 % Test Accuracy."
   ]
  },
  {
   "cell_type": "markdown",
   "metadata": {
    "pycharm": {
     "name": "#%% md\n"
    }
   },
   "source": [
    "### 4.4 CNN Tower System\n",
    "CNN können je nach initialisierungswert andere Accuracies erreichen. Um dem entgegenzuwirken, kann man sogenannte CNN Tower erstellen. Diese sind sozusagen parallele CNN, die auch unterschiedlich initialisiert werden."
   ]
  },
  {
   "cell_type": "code",
   "execution_count": 49,
   "metadata": {
    "pycharm": {
     "name": "#%%\n"
    }
   },
   "outputs": [],
   "source": [
    "class tower_cnn:\n",
    "    @staticmethod\n",
    "    def create_convnet(hyper):\n",
    "        tf.random.set_seed(mc1seed)\n",
    "\n",
    "        input_shape = layers.Input(shape=(hyper[\"max_length\"],))\n",
    "\n",
    "        emb = layers.Embedding(hyper[\"vocab_size\"], hyper[\"emb_dim\"],)(input_shape)\n",
    "\n",
    "        tower_1 = layers.Conv1D(filters=hyper[\"filter_conv1\"], kernel_size=hyper[\"kernelsize_conv1\"], activation=hyper[\"aktiv_conv1\"])(emb)\n",
    "        tower_1 = layers.MaxPooling1D(pool_size=hyper[\"kernelsize_maxP1\"])(tower_1)\n",
    "        tower_1 = layers.Dropout(hyper[\"dropout1\"])(tower_1)\n",
    "\n",
    "        tower_2 = layers.Conv1D(filters=hyper[\"filter_conv1\"], kernel_size=hyper[\"kernelsize_conv1\"], activation=hyper[\"aktiv_conv1\"])(emb)\n",
    "        tower_2 = layers.MaxPooling1D(pool_size=hyper[\"kernelsize_maxP1\"])(tower_2)\n",
    "        tower_2 = layers.Dropout(hyper[\"dropout1\"])(tower_2)\n",
    "\n",
    "        tower_3 = layers.Conv1D(filters=hyper[\"filter_conv1\"], kernel_size=hyper[\"kernelsize_conv1\"], activation=hyper[\"aktiv_conv1\"])(emb)\n",
    "        tower_3 = layers.MaxPooling1D(pool_size=hyper[\"kernelsize_maxP1\"])(tower_3)\n",
    "        tower_3 = layers.Dropout(hyper[\"dropout1\"])(tower_3)\n",
    "\n",
    "        merged = layers.concatenate([tower_1, tower_2, tower_3], axis=1)\n",
    "        merged = layers.Flatten()(merged)\n",
    "\n",
    "        out1 = layers.Dense(100, activation='relu')(merged)\n",
    "        out2 = layers.Dropout(hyper[\"dropout2\"])(out1)\n",
    "        out3 = layers.Dense(10, activation='relu')(out2)\n",
    "        out4= layers.Dense(1, activation='sigmoid')(out3)\n",
    "\n",
    "        return keras.Model(input_shape, out4)"
   ]
  },
  {
   "cell_type": "code",
   "execution_count": 50,
   "metadata": {
    "pycharm": {
     "name": "#%%\n"
    }
   },
   "outputs": [],
   "source": [
    "con_tower = tower_cnn()\n",
    "model_tower = con_tower.create_convnet(hyper)"
   ]
  },
  {
   "cell_type": "code",
   "execution_count": 51,
   "metadata": {
    "pycharm": {
     "name": "#%%\n"
    }
   },
   "outputs": [
    {
     "name": "stdout",
     "output_type": "stream",
     "text": [
      "Epoch 1/10\n",
      "887/887 [==============================] - 24s 21ms/step - loss: 0.1770 - accuracy: 0.9380 - precision_2: 0.9444 - recall_2: 0.9915 - get_f1: 0.9671 - val_loss: 0.1448 - val_accuracy: 0.9485 - val_precision_2: 0.9516 - val_recall_2: 0.9951 - val_get_f1: 0.9728\n",
      "Epoch 2/10\n",
      "887/887 [==============================] - 18s 20ms/step - loss: 0.1130 - accuracy: 0.9583 - precision_2: 0.9675 - recall_2: 0.9882 - get_f1: 0.9777 - val_loss: 0.1355 - val_accuracy: 0.9528 - val_precision_2: 0.9632 - val_recall_2: 0.9868 - val_get_f1: 0.9747\n",
      "Epoch 3/10\n",
      "887/887 [==============================] - 15s 17ms/step - loss: 0.0788 - accuracy: 0.9706 - precision_2: 0.9787 - recall_2: 0.9899 - get_f1: 0.9842 - val_loss: 0.1545 - val_accuracy: 0.9500 - val_precision_2: 0.9619 - val_recall_2: 0.9851 - val_get_f1: 0.9732\n",
      "Epoch 4/10\n",
      "887/887 [==============================] - 15s 17ms/step - loss: 0.0470 - accuracy: 0.9830 - precision_2: 0.9885 - recall_2: 0.9932 - get_f1: 0.9908 - val_loss: 0.1896 - val_accuracy: 0.9464 - val_precision_2: 0.9645 - val_recall_2: 0.9782 - val_get_f1: 0.9712\n",
      "Epoch 5/10\n",
      "887/887 [==============================] - 17s 19ms/step - loss: 0.0280 - accuracy: 0.9903 - precision_2: 0.9935 - recall_2: 0.9961 - get_f1: 0.9948 - val_loss: 0.2540 - val_accuracy: 0.9460 - val_precision_2: 0.9604 - val_recall_2: 0.9823 - val_get_f1: 0.9711TA: 2s - loss: 0.0265 - accuracy: 0.9910 - precision_2: 0.9940 - recall_2: 0.9963  - ETA: 2s - loss: 0.0268 - accura - ETA: 0s - loss: 0.0280 - accuracy: 0.9904 - precision_2: 0.9935 - recall_2: 0.9961 - get_f1: 0.99 - ETA: 0s - loss: 0.0280 - accuracy: 0.9903 - precision_2: 0.9935 - recall_2: 0.9961 - get_f1: 0.\n",
      "Epoch 6/10\n",
      "887/887 [==============================] - 16s 18ms/step - loss: 0.0198 - accuracy: 0.9930 - precision_2: 0.9953 - recall_2: 0.9972 - get_f1: 0.9962 - val_loss: 0.3072 - val_accuracy: 0.9462 - val_precision_2: 0.9595 - val_recall_2: 0.9835 - val_get_f1: 0.9712\n",
      "Epoch 7/10\n",
      "887/887 [==============================] - 16s 18ms/step - loss: 0.0150 - accuracy: 0.9947 - precision_2: 0.9965 - recall_2: 0.9977 - get_f1: 0.9971 - val_loss: 0.3587 - val_accuracy: 0.9459 - val_precision_2: 0.9569 - val_recall_2: 0.9860 - val_get_f1: 0.9711_2: 0.9978 - get_f1: 0.99 - ETA: 2s - loss: 0.0145 - accuracy: 0.9949 - precision_2: 0.9967 - recall_2: 0.9978 - get_f1:  - ETA: 2s - loss: 0.0145 \n",
      "Epoch 8/10\n",
      "887/887 [==============================] - 16s 19ms/step - loss: 0.0128 - accuracy: 0.9957 - precision_2: 0.9972 - recall_2: 0.9981 - get_f1: 0.9976 - val_loss: 0.3541 - val_accuracy: 0.9436 - val_precision_2: 0.9636 - val_recall_2: 0.9760 - val_get_f1: 0.9696\n",
      "Epoch 9/10\n",
      "887/887 [==============================] - 16s 18ms/step - loss: 0.0104 - accuracy: 0.9965 - precision_2: 0.9978 - recall_2: 0.9985 - get_f1: 0.9981 - val_loss: 0.3940 - val_accuracy: 0.9444 - val_precision_2: 0.9590 - val_recall_2: 0.9819 - val_get_f1: 0.9702\n",
      "Epoch 10/10\n",
      "887/887 [==============================] - 17s 19ms/step - loss: 0.0093 - accuracy: 0.9970 - precision_2: 0.9981 - recall_2: 0.9987 - get_f1: 0.9983 - val_loss: 0.4413 - val_accuracy: 0.9462 - val_precision_2: 0.9561 - val_recall_2: 0.9874 - val_get_f1: 0.9714\n"
     ]
    }
   ],
   "source": [
    "model_tower.compile(loss = hyper[\"loss\"],\n",
    "                    optimizer = hyper[\"opt\"],\n",
    "                    metrics = [\"accuracy\",\n",
    "                               tf.keras.metrics.Precision(),\n",
    "                               tf.keras.metrics.Recall(),\n",
    "                               get_f1])\n",
    "\n",
    "history_tower = model_tower.fit(X_train_p, y_train,\n",
    "                    epochs=hyper[\"num_epochs\"],\n",
    "                    verbose=True,\n",
    "                    validation_data=(X_test_p, y_test),\n",
    "                    batch_size=hyper[\"batch_size\"],\n",
    "                    )"
   ]
  },
  {
   "cell_type": "code",
   "execution_count": 52,
   "metadata": {
    "pycharm": {
     "name": "#%%\n"
    }
   },
   "outputs": [
    {
     "name": "stdout",
     "output_type": "stream",
     "text": [
      "Test Accuracy: 95.28 % \n",
      "In Epoch Nr.2\n"
     ]
    },
    {
     "data": {
      "image/png": "[encoded data removed]",
      "text/plain": [
       "<Figure size 864x360 with 2 Axes>"
      ]
     },
     "metadata": {},
     "output_type": "display_data"
    }
   ],
   "source": [
    "max_index, max_value = max(enumerate(history_tower.history[\"val_accuracy\"]), key=operator.itemgetter(1))\n",
    "print(f'Test Accuracy: {round(max_value, 4) * 100} % \\nIn Epoch Nr.{max_index + 1}')\n",
    "# plot history\n",
    "plot_history(history_tower)"
   ]
  },
  {
   "cell_type": "markdown",
   "metadata": {
    "pycharm": {
     "name": "#%% md\n"
    }
   },
   "source": [
    "#### 4.4.1 CNN-Tower System Evaluierung\n",
    "Das Model verhält sich gleich. Die Test Accuracy ist sogar gesunken. Vermutlich hatten wir ohne den Tower ein wenig Glück. Das Model ist nicht wirklich schlechter geworden und es ist definitiv stabiler."
   ]
  },
  {
   "cell_type": "markdown",
   "metadata": {
    "pycharm": {
     "name": "#%% md\n"
    }
   },
   "source": [
    "### 4.5 Genaue Analyse der Verteilung der Metriken\n",
    "Wir haben in unserem Training des Models bisher nur die Accuracy als Metrik betrachtet. Zu genaueren betrachtung der Metriken des Endresultates wollen wir uns die Metriken Recall, Precision und F1 anschauen."
   ]
  },
  {
   "cell_type": "code",
   "execution_count": 53,
   "metadata": {
    "pycharm": {
     "name": "#%%\n"
    }
   },
   "outputs": [
    {
     "data": {
      "image/png": "[encoded data removed]",
      "text/plain": [
       "<Figure size 432x288 with 1 Axes>"
      ]
     },
     "metadata": {},
     "output_type": "display_data"
    }
   ],
   "source": [
    "def plot_history_all(hi):\n",
    "    acc = hi.history['accuracy']\n",
    "    val_acc = hi.history['val_accuracy']\n",
    "    val_rec = hi.history['val_recall_2']\n",
    "    val_pre = hi.history['val_precision_2']\n",
    "    val_f1 = hi.history['val_get_f1']\n",
    "    x = range(1, len(acc) + 1)\n",
    "\n",
    "    plt.plot(x, acc, 'b', label='Training acc')\n",
    "    plt.plot(x, val_acc, 'r', label='Validation acc')\n",
    "    plt.plot(x, val_rec, 'g', label='Validation recall')\n",
    "    plt.plot(x, val_pre, 'y', label='Validation precision')\n",
    "    plt.plot(x, val_f1, 'c', label='Validation f1')\n",
    "    plt.title('All Metrics of Training')\n",
    "    plt.legend()\n",
    "    plt.show()\n",
    "\n",
    "plot_history_all(history_tower)"
   ]
  },
  {
   "cell_type": "markdown",
   "metadata": {
    "pycharm": {
     "name": "#%% md\n"
    }
   },
   "source": [
    "**Beschreibung:** Wir sehen, dass der F1 Score sich nicht sehr stark verändert. Anders jedoch der Recall und Precision. Es ist sehr interessant, wie man sieht, dass Recall und Precision sich spiegeln und das Mittel dieser Keven bildet dann der F1. Der F1 erreicht einen Wert über 97 % was sehr gut ist. Die Test Accuracy ist zwar mit 95 % schlechter, was aber auch auf das unbalanced Datenset zurückzuführen ist. Zusätzlich lernt das Modell schon nach 2 Epochen, das beste Ergebnis. Allerdings wurde das Model auch mit dem Adam Optimizer trainiert."
   ]
  },
  {
   "cell_type": "markdown",
   "metadata": {
    "pycharm": {
     "name": "#%% md\n"
    }
   },
   "source": [
    "### 4.6 Fehleranalyse "
   ]
  },
  {
   "cell_type": "markdown",
   "metadata": {
    "pycharm": {
     "name": "#%% md\n"
    }
   },
   "source": [
    "Da auch unser bestes CNN Modell nicht fehlerlos ist, wollen wir nun Stichprobenhaft untersuchen, wie die falsch klassifizierten Labels aussehen und überprüfen, ob systematische Fehler vorliegen."
   ]
  },
  {
   "cell_type": "code",
   "execution_count": 54,
   "metadata": {
    "pycharm": {
     "name": "#%%\n"
    }
   },
   "outputs": [],
   "source": [
    "\n",
    "def is_fp(y, y_hat):\n",
    "    '''\n",
    "    calculates false positives.\n",
    "    Args: \n",
    "        y: true values\n",
    "        y_hat: predicted values\n",
    "    Returns:\n",
    "        fp: false positives\n",
    "    '''\n",
    "    fp = ((y_hat == 1) & (y == 0))\n",
    "    return fp\n",
    "\n",
    "def is_fn(y, y_hat):\n",
    "    '''\n",
    "    calculates false negatives.\n",
    "    Args: \n",
    "        y: true values\n",
    "        y_hat: predicted values\n",
    "    Returns:\n",
    "        fn: false negatives\n",
    "    '''\n",
    "    fn = ((y_hat == 0) & (y == 1))\n",
    "    return fn\n",
    "\n",
    "# get predictions\n",
    "y_pred_p = model_tower.predict(X_test_p)\n",
    "fn_id = X_test[is_fn(y_test.to_numpy(), np.around(y_pred_p, 0).reshape(1,-1)[0])].index.values\n",
    "fp_id = X_test[is_fp(y_test.to_numpy(), np.around(y_pred_p, 0).reshape(1,-1)[0])].index.values"
   ]
  },
  {
   "cell_type": "markdown",
   "metadata": {
    "pycharm": {
     "name": "#%% md\n"
    }
   },
   "source": [
    "Zuerst schauen wir uns negative Bewertungen an, welche fälschlicherweise als Positiv eingestuft wurden."
   ]
  },
  {
   "cell_type": "code",
   "execution_count": 55,
   "metadata": {
    "pycharm": {
     "name": "#%%\n"
    }
   },
   "outputs": [
    {
     "name": "stdout",
     "output_type": "stream",
     "text": [
      "-------------------------------------------------------------------------------------------\n",
      "Text: My kids see a commercial for some great new tablet and start the begging and pleading for it even though they already have a VReader and already have an Inotab and already have whatever else was popular last week, but these became available and I figured, why not.  I might as well dip in and see if they are worth snagging.I have some issues.I&#8217;m tired of these tablets pretending to be these great learning tools when their games are pretty standard generic and cheap and don&#8217;t really compel the mind to dig deeper.  I mean, they can&#8217;t hold the interest of a child because they don&#8217;t challenge the mind and they only repeat a series of tasks that are essentially pretty boring.  So, as a learning tool, I don&#8217;t see the appeal here.  What is provided on the actual tablet is minuscule (like, two games) but the games available for purchase (none of the aps are free, sadly) are extremely dull looking.  The cartridges, which have a little more going for them, are pretty pricey.The camera is terrible.  They all are.  The camera on the Inotab was worse, I think, but this isn&#8217;t much better.  I&#8217;m glad that it has a front and back camera, but I wish that the pictures taken and the videos recorded weren&#8217;t so cheap looking.  The &#8216;fun stuff&#8217; you can do with the pictures are pretty lame too.The same old same.The draw here are the sticky skins you can put on your tablet to customize it, but they are cheap and don&#8217;t stick very well.  The fact that this doesn&#8217;t have a rechargeable battery or A/C adaptor and pretty much eats through your batteries in a single day (my kids are notorious for leaving these things on for the whole day) is a nuisance to say the least.It may be cheaper than buying an actual tablet (like a Kindle Fire or iPad) but is it really worth it?\n",
      "Original rating: 2\n",
      "-------------------------------------------------------------------------------------------\n",
      "Text: Pieces are very small and do not fit well together, in spite of some carving and sanding by us.  Several times during attempted construction, the model \"exploded\" into pieces.  Not well engineered at all.  Very frustrating for my granddaughter, aged 10, and me, aged 64.  I am an experienced modeler, with a bench of modeler's tools.  Could only get the motor to turn by placing the solar panel directly against a very strong light.The four and five star reviews here are nonsense.  I do not believe these people actually bought and (attempted) to make this model.  Very disappointing.\n",
      "Original rating: 1\n",
      "-------------------------------------------------------------------------------------------\n",
      "Text: Oh where to start. First issue when taking out the pieces, it's a weird mix of plastic and wood. Some pieces make since, other ones like the plane do not. It's mostly plastic except the top with the windows is a wood block - why bother.  Then I noticed that the tracks seems to be make 3 different ways. Some are all wood with flat connectors. Some are wood with plastic knob connectors. Some are all work with rounded knobs. Not like it really matters, just inconsistent. The plastic signs are REALLY cheap looking and very disappointing.I could probably overlook all of the above and give it 3 stars and say I would even buy it again. We did get this on because we liked all the options it had, making a whole town and what not.  What I can't believe is even when you set up the track in the default setup, the turns are too sharp for the size train it comes with!  That means when you go around a corner the back train cars jump the track -- REALLY.  We have a smaller train set from the ikea set and that one from on the curves just fine.  The train that comes with this set runs better on the wider curves with the ikea set.I will add pictures of all this.\n",
      "Original rating: 2\n",
      "-------------------------------------------------------------------------------------------\n",
      "Text: I have never been wild about board games or party games designed on an electronic game, and although this one is cute, I have to say it falls well short of the online \"Draw Something\". For one thing, it needs a stand - some sort of base to stand the thing upright. It is awkward to draw on it so someone can see the reverse side. But I am getting ahead of myself. Designed to look like a large flat pencil with a window in its middle, the game lights up when turned on and has a timer alarm that is charming. It comes with a deck of cards as well, although they do not fit easily into the holder on the game device nor withdraw easily from that holder. You draw on the window with a stylus a picture of one of the objects named on a card you drew and others guess what you are drawing from the artwork and the random letters displayed on the back of the card. It is sort of like, dare I say, \"Pictionary\"? Except you do it on this neat green screen with a stylus. You achieve points dependent on the difficulty of the word selected and whether or not it is guessed successfully. The texture of the drawing surface is nice to draw on and that would be enough without adding the game dimension, because the game aspect doesn't seem well thought out.The words on the cards are just a little obscure, and, although the game is touted to be for ages 8 and above, some of the words will be way past an eight-year-old. For instance, how many kids of that age know what a Rolls Royce looks like? Or who in the heck is Psy, Radiohead, Judge Judy, Jay Leno, or Little Wayne? How many eight-year-olds watch Downton Abbey? As a family, it is no fun to play something that Mom and Dad have to explain to the kids, and for the kids, trying to draw something when you have no idea what it is can only be a source of frustration.  We tested the game on lunch hour at the office and found even adults had a hard time figuring out what to draw for many of the clues.The game is cute, the drawing surface really cool, but a bit of a disappointment otherwise. To me, the true worth of the online game is that you try to draw something your opponent can guess and win points if you are successful in drawing something your opponent recognizes and your opponent gets points for guessing correctly. Its charm to me is that it is a win-win scenario with cooperation between artist and guesser. This game doesn't achieve that interesting format\n",
      "Original rating: 2\n",
      "-------------------------------------------------------------------------------------------\n",
      "Text: Awesome colors but the scents make me feel like puking.  I far prefer the UNscented but so hard to find!\n",
      "Original rating: 2\n"
     ]
    }
   ],
   "source": [
    "for i in fp_id[0:5]:\n",
    "    print(\"-------------------------------------------------------------------------------------------\")\n",
    "    print(\"Text:\", df[\"reviewText\"][i])\n",
    "    print(\"Original rating:\", df[\"overall\"][i])"
   ]
  },
  {
   "cell_type": "markdown",
   "metadata": {
    "pycharm": {
     "name": "#%% md\n"
    }
   },
   "source": [
    "Und nun noch positive Bewertungen an, welche con unserem Modell fälschlicherweise als Negativ eingestuft wurden."
   ]
  },
  {
   "cell_type": "code",
   "execution_count": 56,
   "metadata": {
    "pycharm": {
     "name": "#%%\n"
    }
   },
   "outputs": [
    {
     "name": "stdout",
     "output_type": "stream",
     "text": [
      "-------------------------------------------------------------------------------------------\n",
      "Text: My 9-year-old grandson saw this and wanted it.  I questioned how much he would use it because he spends all his free time playing computer games, but I got it thinking that assembling this would help him improve his small muscle coordination, which is a problem for him.The problem is that once the game was assembled and played with for a short time, he was back to his computer games, which are a lot more exciting.  I doubt it will be played with again, and many of the small pieces will be lost.There is nothing wrong  with the game, but it does not compete with the computer games that he plays.I don't think he is unusual in this respect, and for that reason I don't recommend it for children that are avid computer game players.When I was a child, a game like this would have been a big deal.  But that was long before we had computers.\n",
      "Original rating: 4\n",
      "-------------------------------------------------------------------------------------------\n",
      "Text: Bought this at the time I got my sons truck. To charge and have on hand when the battery that came with it would die, but I have never needed it he is done by the time it gets that low.\n",
      "Original rating: 5\n",
      "-------------------------------------------------------------------------------------------\n",
      "Text: I have no complaints about this cute little register. I love the different language options too. I'd say the only issue has been the little skew number stickers that you can stick on things don't match the amount that it say's they are suppose to be on the page you peel them from. For example one 'skew' has $4.99 next to it. You then would assume you'd scan that 'skew' and it the product you stuck it on would say it was $4.99, but with ours, it says a completely different amount. For us, that isn't a big deal since my daughter doesn't know the difference, yet. For a child slightly older (my daughter just turned 5) then it may be more of annoying. It's cute though. Wasn't expecting more or less.\n",
      "Original rating: 5\n",
      "-------------------------------------------------------------------------------------------\n",
      "Text: Its pretty small about 6 inches in total length. Well worth the 11 dollars to buy it. This is great for travel in any vehicle, its no too loud and has fun games for a child a toddlers age, I wouldn't recommend this toy for a older child since they would get bored with it. Love how it slides into a car hiding the keyboard so it becomes a totally different toy instead of a learning toy.\n",
      "Original rating: 5\n",
      "-------------------------------------------------------------------------------------------\n",
      "Text: My 1 year old liked this toy and than stopped playing with it pretty quickly and he loves all his toys...maybe because I had it turned off because of the sound ...it was annoying I can't give it less stars than that because many toys can be annoying but the function of the toy it does what it's supposed to do...bounces the balls like a bass speaker and they fall into a hole and roll out the mouth...my son like to put the tv remote and his tooth brush and anything else he could find...\n",
      "Original rating: 5\n"
     ]
    }
   ],
   "source": [
    "for i in fn_id[0:5]:\n",
    "    print(\"-------------------------------------------------------------------------------------------\")\n",
    "    print(\"Text:\", df[\"reviewText\"][i])\n",
    "    print(\"Original rating:\", df[\"overall\"][i])"
   ]
  },
  {
   "cell_type": "markdown",
   "metadata": {
    "pycharm": {
     "name": "#%% md\n"
    }
   },
   "source": [
    "**Beschreibung:** \n",
    "\n",
    "Bei den fehlerhaften Klassifikationen sehen wir, dass diese oft Wörter beinhalten, welche für uns isoliert betrachtet, eine starke Positive oder Negative Assoziation haben. \n",
    "\n",
    "- Text: *My 9-year-old grandson saw this and wanted it.  I questioned how much he would use it because he spends all his free time playing computer games, but I got it thinking that assembling this would help him improve his small muscle coordination, which is a problem for him.The problem is that once the game was assembled and played with for a short time, he was back to his computer games, which are a lot more exciting.  I doubt it will be played with again, and many of the small pieces will be lost.There is nothing wrong  with the game, but it does not compete with the computer games that he plays.I don't think he is unusual in this respect, and for that reason I don't recommend it for children that are avid computer game players. When I was a child, a game like this would have been a big deal.  But that was long before we had computers.*\n",
    "<br>Original rating: *4*\n",
    "\n",
    "    Bei dieser Bewertung wurden viele negativ assoziierte Wörter verwendet wie problem, short, doubt, lost, wrong, don't, was vermutlich den Ausschlag gegeben hat für die negative Klassifikation. Die eigentliche Bewertung ist jedoch positiv.\n",
    "\n",
    "<br>\n",
    "Eine andere Fehlerquelle ist bei Text, welcher sich nicht auf das zu bewertende Produkt bezieht. \n",
    "\n",
    "- Text: *Great game. Please don't make us write all these words.  It keeps you from getting reviews.  I cannot spend this much time.* \n",
    "<br> Original rating: *5*\n",
    "\n",
    "    Hier liegt zum Beispiel eine Beschwerde zum Bewertungssystem vor und nicht zum Produkt, welches mit 5 Sternen sehr gut bewertet wurde. Unser Modell hat die Bewertung aufgrund des Textes entsprechend als negativ eingestuft.\n",
    "\n",
    "<br>\n",
    "Es gibt jedoch auch Bewertungen, bei denen wir nicht genau erkennen können, weshalb hier unser Modell eine falsche Klassifikation vorgenommen hat. Allenfalls könnte die Struktur des CNN's noch optimiert werden.\n",
    "\n",
    "- Text: *Pieces are very small and do not fit well together, in spite of some carving and sanding by us.  Several times during attempted construction, the model \"exploded\" into pieces.  Not well engineered at all.  Very frustrating for my granddaughter, aged 10, and me, aged 64.  I am an experienced modeler, with a bench of modeler's tools.  Could only get the motor to turn by placing the solar panel directly against a very strong light.The four and five star reviews here are nonsense.  I do not believe these people actually bought and (attempted) to make this model.  Very disappointing.*\n",
    "<br>Original rating: *1*\n",
    "\n",
    "    Hier ist für uns zum Beispiel nicht genau erkennbar, weshalb unser CNN die Bewertung positiv klassifiziert hat. Generell sehen die falsch klassifizierten Bewertungen jedoch überdurchschnittlich lange aus. Wir wollen dies nun überprüfen und vergleichen die Quantile der falsch klassifizierten Samples und dem kompletten Datensatz. "
   ]
  },
  {
   "cell_type": "code",
   "execution_count": 57,
   "metadata": {
    "pycharm": {
     "name": "#%%\n"
    }
   },
   "outputs": [
    {
     "data": {
      "text/html": [
       "<div>\n",
       "<style scoped>\n",
       "    .dataframe tbody tr th:only-of-type {\n",
       "        vertical-align: middle;\n",
       "    }\n",
       "\n",
       "    .dataframe tbody tr th {\n",
       "        vertical-align: top;\n",
       "    }\n",
       "\n",
       "    .dataframe thead th {\n",
       "        text-align: right;\n",
       "    }\n",
       "</style>\n",
       "<table border=\"1\" class=\"dataframe\">\n",
       "  <thead>\n",
       "    <tr style=\"text-align: right;\">\n",
       "      <th></th>\n",
       "      <th>complete dataset</th>\n",
       "      <th>false positives</th>\n",
       "      <th>false negatives</th>\n",
       "    </tr>\n",
       "  </thead>\n",
       "  <tbody>\n",
       "    <tr>\n",
       "      <th>0.00</th>\n",
       "      <td>0.0</td>\n",
       "      <td>0.0</td>\n",
       "      <td>7.0</td>\n",
       "    </tr>\n",
       "    <tr>\n",
       "      <th>0.25</th>\n",
       "      <td>16.0</td>\n",
       "      <td>22.0</td>\n",
       "      <td>22.0</td>\n",
       "    </tr>\n",
       "    <tr>\n",
       "      <th>0.50</th>\n",
       "      <td>29.0</td>\n",
       "      <td>43.0</td>\n",
       "      <td>45.0</td>\n",
       "    </tr>\n",
       "    <tr>\n",
       "      <th>0.75</th>\n",
       "      <td>58.0</td>\n",
       "      <td>86.0</td>\n",
       "      <td>87.0</td>\n",
       "    </tr>\n",
       "    <tr>\n",
       "      <th>1.00</th>\n",
       "      <td>1778.0</td>\n",
       "      <td>1115.0</td>\n",
       "      <td>1727.0</td>\n",
       "    </tr>\n",
       "  </tbody>\n",
       "</table>\n",
       "</div>"
      ],
      "text/plain": [
       "      complete dataset  false positives  false negatives\n",
       "0.00               0.0              0.0              7.0\n",
       "0.25              16.0             22.0             22.0\n",
       "0.50              29.0             43.0             45.0\n",
       "0.75              58.0             86.0             87.0\n",
       "1.00            1778.0           1115.0           1727.0"
      ]
     },
     "execution_count": 57,
     "metadata": {},
     "output_type": "execute_result"
    }
   ],
   "source": [
    "q = X_test.apply(str.split).apply(len).quantile([0, .25, .5, .75, 1])\n",
    "fn_q = X_test[fn_id].apply(str.split).apply(len).quantile([0, .25, .5, .75, 1])\n",
    "fp_q = X_test[fp_id].apply(str.split).apply(len).quantile([0, .25, .5, .75, 1])\n",
    "\n",
    "pd.DataFrame({\"complete dataset\":q, \"false positives\":fp_q, \"false negatives\":fn_q})"
   ]
  },
  {
   "cell_type": "markdown",
   "metadata": {
    "pycharm": {
     "name": "#%% md\n"
    }
   },
   "source": [
    "**Beschreibung:** Das Dataframe zeigt die Quantile der Anzahl an Wörtern in unseren Bewertungen nach dem Bereinigen. Nun bestätigt sich unsere Vermutung, dass die Quantile der falsch klassifizierten Samples tatsächlich deutlich höhere Werte aufweisen, als das beim kompletten Datensatz der Fall ist. So haben die Hälfte der fälschlicherweise als negativ klassifizierten Bewertungen 42 oder mehr Wörter, bei den  fälschlicherweise als positiv klassifizierten Bewertungen sind es sogar 43. Im kompletten Datensatz ist der Median bei der Anzahl Wörtern pro Bewertung jedoch nur bei 29. "
   ]
  },
  {
   "cell_type": "markdown",
   "metadata": {
    "pycharm": {
     "name": "#%% md\n"
    }
   },
   "source": [
    "### 5.0 Zusammenfassung"
   ]
  },
  {
   "cell_type": "markdown",
   "metadata": {
    "collapsed": false,
    "pycharm": {
     "name": "#%% md\n"
    }
   },
   "source": [
    "Das beste Support-Vector Machine Modell, mit einem F1-Score von 0.847, ist jenes welches auf dem nicht lematisierten Datensatz und er Bildung von Trigrammen trainiert wurde. Die relative Verbesserung zwischen der Inklusion von Trigrammen gegenüber der Varianten, welche nur bis Bigrammen geht, ist jedoch sehr minimal. Das könnte daran liegen, dass mit Bigrammen häufige Wortkombinationen wie Negationen (not) oder Gradpartikel wie (very, little) welche die Grundbedeutung einer Bewertung beeinflussen können. Dagegen gibt es jedoch verhältnismässig wenige 3-Wortkombinationen mit demselben Effekt.\n",
    " Unser bestes CNN Modell war sogar in der Lage einen F1-Score von 0.975 zu erreichen. Es kann also ein deutlicher Unterschied in der Performance zwischen CNN und SVM festgestellt werden. Wir vermuten, dass diese Steigerung teilweise auf den Embedding-Layer zurückzuführen ist, da dieser durch die Dimensionsreduktion bereits ein Mapping zwischen den Wörtern trainiert.\"m"
   ]
  }
 ],
 "metadata": {
  "kernelspec": {
   "display_name": "Python 3 (ipykernel)",
   "language": "python",
   "name": "python3"
  },
  "language_info": {
   "codemirror_mode": {
    "name": "ipython",
    "version": 3
   },
   "file_extension": ".py",
   "mimetype": "text/x-python",
   "name": "python",
   "nbconvert_exporter": "python",
   "pygments_lexer": "ipython3",
   "version": "3.9.12"
  }
 },
 "nbformat": 4,
 "nbformat_minor": 1
}
