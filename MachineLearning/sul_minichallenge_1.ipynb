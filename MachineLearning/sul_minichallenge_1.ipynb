{
 "cells": [
  {
   "cell_type": "markdown",
   "metadata": {
    "deletable": false,
    "editable": false,
    "nbgrader": {
     "cell_type": "markdown",
     "checksum": "c5b723e8c54294a6f67c5463b9cdc1e8",
     "grade": false,
     "grade_id": "cell-ffbfcf4d2abdf287",
     "locked": true,
     "schema_version": 3,
     "solution": false,
     "task": false
    }
   },
   "source": [
    "# Supervised Learning (sul) - Mini-Challenge 1"
   ]
  },
  {
   "cell_type": "markdown",
   "metadata": {
    "deletable": false,
    "editable": false,
    "nbgrader": {
     "cell_type": "markdown",
     "checksum": "901701e4f704c5cd2d6940d5b218379a",
     "grade": false,
     "grade_id": "cell-8ac9e999faa30b19",
     "locked": true,
     "schema_version": 3,
     "solution": false,
     "task": false
    }
   },
   "source": [
    "**Ausgabe:** Montag, 5. Oktober 2020  \n",
    "**Abgabe:** Montag, 26. Oktober 2020, bis 24 Uhr "
   ]
  },
  {
   "cell_type": "markdown",
   "metadata": {
    "deletable": false,
    "editable": false,
    "nbgrader": {
     "cell_type": "markdown",
     "checksum": "72510fab26bb074b3c9d14bddb912d84",
     "grade": false,
     "grade_id": "cell-af9f0f4c8274fe19",
     "locked": true,
     "schema_version": 3,
     "solution": false,
     "task": false
    }
   },
   "source": [
    "In diesem Mini-Challenge implementieren und verwenden wir verschiedene Methoden der Regression und machen Gebrauch von Model Selection-Prinzipien und -Algorithmen."
   ]
  },
  {
   "cell_type": "markdown",
   "metadata": {
    "deletable": false,
    "editable": false,
    "nbgrader": {
     "cell_type": "markdown",
     "checksum": "60a24619e2d2edfeb02573e23fb84103",
     "grade": false,
     "grade_id": "cell-480e74ea7baa5b81",
     "locked": true,
     "schema_version": 3,
     "solution": false,
     "task": false
    }
   },
   "source": [
    "#### Vorgaben zu Umsetzung und Abgabe\n",
    "\n",
    "- Code muss in python geschrieben werden.\n",
    "- Wir entwickeln die meisten Algorithmen selber. Wenn nicht explizit anders verlangt, dürfen bloss die folgenden Bibliotheken verwendet werden: numpy, matplotlib, seaborn, pandas\n",
    "- Der Code muss lauffähig sein bei Ausführung im Docker-Container des Trainingcenters. \n",
    "- Es darf kein Code ausgelagert werden.\n",
    "- Sämtliche Plots sind komplett beschriftet (Achsen, Labels, Colorbar, ..) um den Plot verstehen zu können.\n",
    "- Zu jedem Plot gibt es eine kurze Diskussion, welche den Plot erklärt und die wichtigsten Einsichten die damit sichtbar werden festhält.  \n",
    "- Als Abgabe zählt der letzte Commit in deinem Fork des Trainingcenter Repos vor Abgabetermin."
   ]
  },
  {
   "cell_type": "markdown",
   "metadata": {
    "deletable": false,
    "editable": false,
    "nbgrader": {
     "cell_type": "markdown",
     "checksum": "5a95c8474c4ba521fe12d92ded96a9af",
     "grade": false,
     "grade_id": "cell-f9f8c880ad833b47",
     "locked": true,
     "schema_version": 3,
     "solution": false,
     "task": false
    }
   },
   "source": [
    "Für die Erarbeitung der Inhalte darf zusammengearbeitet werden. Die Zusammenarbeit ist dabei aber auf algorithmische Fragen und Verständnisaspekte beschränkt.  \n",
    "\n",
    "**Es darf kein zusammenhängender Code oder Text von anderen oder vom Internet kopiert werden.**"
   ]
  },
  {
   "cell_type": "markdown",
   "metadata": {
    "deletable": false,
    "editable": false,
    "nbgrader": {
     "cell_type": "markdown",
     "checksum": "b43d99def24c36e5bcfbae406393cd4b",
     "grade": false,
     "grade_id": "cell-8606c17ffb305205",
     "locked": true,
     "schema_version": 3,
     "solution": false,
     "task": false
    }
   },
   "source": [
    "---"
   ]
  },
  {
   "cell_type": "markdown",
   "metadata": {
    "deletable": false,
    "editable": false,
    "nbgrader": {
     "cell_type": "markdown",
     "checksum": "c6b0bb1b185116f61e05296bc1f38432",
     "grade": false,
     "grade_id": "cell-b5f432cb2dfc411b",
     "locked": true,
     "schema_version": 3,
     "solution": false,
     "task": false
    }
   },
   "source": [
    "### Aufgabe 1 (3 Punkte)\n",
    "\n",
    "Lade den Datensatz zu den Schalentieren (`data/schalentiere_training.csv`) und verschaffe dir einen Überblick mittels Visualisierungen und deskriptiver Statistik.  \n",
    "\n",
    "Unser Ziel in diesem Mini-Challenge wird es sein, die Variable `alter` vorherzusagen unter Verwendung der anderen Variablen.  \n",
    "\n",
    "Was lässt sich über dieses Vorhaben sagen? Diskutiere deine Einsichten."
   ]
  },
  {
   "cell_type": "code",
   "execution_count": null,
   "metadata": {
    "deletable": false,
    "nbgrader": {
     "cell_type": "code",
     "checksum": "15eca2013e5fdb22ab3e3f4a7e09a4c5",
     "grade": true,
     "grade_id": "cell-67bd40527cfaf82a",
     "locked": false,
     "points": 2,
     "schema_version": 3,
     "solution": true,
     "task": false
    }
   },
   "outputs": [],
   "source": [
    "# YOUR CODE HERE\n",
    "raise NotImplementedError()"
   ]
  },
  {
   "cell_type": "markdown",
   "metadata": {
    "deletable": false,
    "nbgrader": {
     "cell_type": "markdown",
     "checksum": "75bc32349e9a92bd90b61f78125eba52",
     "grade": true,
     "grade_id": "cell-a6acf46e324d2c27",
     "locked": false,
     "points": 1,
     "schema_version": 3,
     "solution": true,
     "task": false
    }
   },
   "source": [
    "YOUR ANSWER HERE"
   ]
  },
  {
   "cell_type": "markdown",
   "metadata": {
    "deletable": false,
    "editable": false,
    "nbgrader": {
     "cell_type": "markdown",
     "checksum": "68a4f91e16aae8ec31c2442083691c39",
     "grade": false,
     "grade_id": "cell-b06a952ba46c8a55",
     "locked": true,
     "schema_version": 3,
     "solution": false,
     "task": false
    }
   },
   "source": [
    "### Aufgabe 2 (2 Punkte)\n",
    "\n",
    "Ridge Regression ist eine regularisierte Form ($l_2$-Regularisierung) der Ordinary Least Squares (OLS) Kostenfunktion für die lineare Regression.  \n",
    "\n",
    "Die Ridge Regression-Kostenfunktion für einen Datensatz $(x^{(i)}, y^{(i)})$ mit $x^{(i)} = (x_1^{(i)}, \\dots , x_p^{(i)})$ von $N$ Datenpunkten ist: \n",
    "\n",
    "\\begin{equation}\n",
    "J(\\beta) = \\sum_{i=1}^{N} (y^{(i)}-\\beta_0 - \\sum_{j=1}^{p} x^{(i)}_j\\beta_j)^2 + \\alpha\\sum_{j=1}^{p} \\beta_j^2 \n",
    "\\end{equation}\n",
    "\n",
    "$(\\beta_0, \\beta_1, \\dots, \\beta_p)$ sind dabei die Modellkoeffizienten.\n",
    "\n",
    "Leite für diese Kostenfunktion den Gradienten her. (Schreibe die Herleitung in LaTex-Notation in die folgende Zelle)."
   ]
  },
  {
   "cell_type": "markdown",
   "metadata": {
    "deletable": false,
    "nbgrader": {
     "cell_type": "markdown",
     "checksum": "c98890261e22cf4d665ba7c10d5dd892",
     "grade": true,
     "grade_id": "cell-abbf6d4f73d41144",
     "locked": false,
     "points": 2,
     "schema_version": 3,
     "solution": true,
     "task": false
    }
   },
   "source": [
    "YOUR ANSWER HERE"
   ]
  },
  {
   "cell_type": "markdown",
   "metadata": {
    "deletable": false,
    "editable": false,
    "nbgrader": {
     "cell_type": "markdown",
     "checksum": "e8ef000387c6074867d856f1c95b4e72",
     "grade": false,
     "grade_id": "cell-f3a26994cf5db5b1",
     "locked": true,
     "schema_version": 3,
     "solution": false,
     "task": false
    }
   },
   "source": [
    "### Aufgabe 3 (6 Punkte)\n",
    "\n",
    "Komplettiere die folgende Klasse so, dass sie bei Wahl der entsprechenden Initialisierungsoption, das Ausführen der `fit`-Methode die Kostenfunktion der Ridge Regression-Kostenfunktion mit Gradient Descent (`gd`) oder der regularisierten Normalengleichung (`neq`) optimiert.\n",
    "\n",
    "Erstelle dann ein Modell für den gegebenen Datensatz unter Verwendung sämtlicher Input-Variablen.\n",
    "\n",
    "Zeige mit Hilfe des Datensatzes, dass\n",
    "\n",
    "- Gradient Deescent für `alpha=0` und `alpha=10` konvergiert. Wie kannst du dies graphisch untersuchen?\n",
    "- die Normalengleichung für `alpha=0` und `alpha=10` die gleiche Lösung findet wie Gradient Descent."
   ]
  },
  {
   "cell_type": "code",
   "execution_count": null,
   "metadata": {
    "deletable": false,
    "nbgrader": {
     "cell_type": "code",
     "checksum": "8e1b7da239b21fb93a3ac09f1fd9d980",
     "grade": true,
     "grade_id": "cell-3e590ea4425c29a2",
     "locked": false,
     "points": 6,
     "schema_version": 3,
     "solution": true,
     "task": false
    }
   },
   "outputs": [],
   "source": [
    "from sklearn.base import BaseEstimator\n",
    "\n",
    "class RidgeRegression(BaseEstimator):\n",
    "    \n",
    "    def __init__(self, opt_method='gd', alpha=1., eta=0.01, maxsteps=100, eps=0.00000001):\n",
    "        '''Implements a Ridge Regression estimator.\n",
    "        \n",
    "        Arguments\n",
    "        ---------\n",
    "        alpha:      Regularization proportionality factor. Larger values\n",
    "                    correspond with stronger regularization.\n",
    "        opt_method: Optimization method to choose for the cost function.\n",
    "                    Can be either 'gd' (Gradient Descent) or 'neq'.\n",
    "        maxsteps:   Maximum number of Gradient Descent steps to take.\n",
    "        eps:        Epsilon, length of gradient to be reached with Gradient\n",
    "                    Descent.\n",
    "        eta:        Fixed step lenght to take at each gradient descent\n",
    "                    iteration.\n",
    "        '''\n",
    "        # parameters\n",
    "        self.alpha = alpha\n",
    "        self.opt_method = opt_method\n",
    "        self.maxsteps = maxsteps\n",
    "        self.eps = eps\n",
    "        self.eta = eta\n",
    "        # attributes\n",
    "        # model coefficients\n",
    "        self.beta_ = None\n",
    "        # values of cost function along gradient descent iterations\n",
    "        self.costs_ = []       \n",
    "        \n",
    "    def fit(self,X,y):\n",
    "        '''\n",
    "        '''\n",
    "        # YOUR CODE HERE\n",
    "        raise NotImplementedError()\n",
    "        return self\n",
    "        \n",
    "    def gradient_descent(self,X,y):\n",
    "        '''Computes the coefficients of the ridge regression cost function\n",
    "        using gradient descent.\n",
    "        '''\n",
    "        # YOUR CODE HERE\n",
    "        raise NotImplementedError()\n",
    "        \n",
    "    def normalequation(self,X,y):\n",
    "        '''Computes the coefficients of the ridge regression cost function\n",
    "        using the normalequation.\n",
    "        '''\n",
    "        # YOUR CODE HERE\n",
    "        raise NotImplementedError()\n",
    "    \n",
    "    @staticmethod\n",
    "    def gradient(beta,X,y,alpha):\n",
    "        '''Computes and returns the gradient of the ridge regression cost function.\n",
    "        '''\n",
    "        # YOUR CODE HERE\n",
    "        raise NotImplementedError()\n",
    "    \n",
    "    @staticmethod \n",
    "    def costfunction(beta,X,y,alpha):\n",
    "        '''Computes and returns the value of the ridge regression cost function.\n",
    "        '''\n",
    "        # YOUR CODE HERE\n",
    "        raise NotImplementedError()\n",
    "\n",
    "    \n",
    "    def predict(self,X):\n",
    "        '''Computes the predictions of the current model.\n",
    "        '''\n",
    "        # YOUR CODE HERE\n",
    "        raise NotImplementedError()\n",
    "\n",
    "    \n",
    "    def score(self,X,y):\n",
    "        '''Returns R^2 for given input/output data given the model\n",
    "        coefficients.\n",
    "        '''\n",
    "        # YOUR CODE HERE\n",
    "        raise NotImplementedError()\n",
    "    \n",
    "    # YOUR CODE HERE\n",
    "    raise NotImplementedError()"
   ]
  },
  {
   "cell_type": "markdown",
   "metadata": {
    "deletable": false,
    "editable": false,
    "nbgrader": {
     "cell_type": "markdown",
     "checksum": "2580f5b5d902ccf0297acf8f4664afd5",
     "grade": false,
     "grade_id": "cell-339b8fdd1603e5b1",
     "locked": true,
     "schema_version": 3,
     "solution": false,
     "task": false
    }
   },
   "source": [
    "### Aufgabe 4 (3 Punkte)\n",
    "\n",
    "Untersuche für die unregularisierte OLS-Lösung die Modell-Annahmen eines linearen Modells.  \n",
    "\n",
    "Nimm, falls sinnvoll, korrektive Massnahmen vor, um dein Modell zu verbessern."
   ]
  },
  {
   "cell_type": "code",
   "execution_count": null,
   "metadata": {
    "deletable": false,
    "nbgrader": {
     "cell_type": "code",
     "checksum": "958659501adeabe3a57d77097229552d",
     "grade": true,
     "grade_id": "cell-9f6b8908152c3233",
     "locked": false,
     "points": 3,
     "schema_version": 3,
     "solution": true,
     "task": false
    }
   },
   "outputs": [],
   "source": [
    "# YOUR CODE HERE\n",
    "raise NotImplementedError()"
   ]
  },
  {
   "cell_type": "markdown",
   "metadata": {
    "deletable": false,
    "editable": false,
    "nbgrader": {
     "cell_type": "markdown",
     "checksum": "cb9cfce68067b43bd2a93810891179df",
     "grade": false,
     "grade_id": "cell-375b8789e185f05b",
     "locked": true,
     "schema_version": 3,
     "solution": false,
     "task": false
    }
   },
   "source": [
    "### Aufgabe 5 (5 Punkte)\n",
    "\n",
    "Berechne auf den obigen Resultaten jeweils die Metriken $R^2$ und Mean Absolute Error (MAE) auf den Trainingsdaten und auf den Testdaten (`data/schalentiere_test.csv`).  \n",
    "Diskutiere die Ergebnisse.\n",
    "\n",
    "Beschreibe die Bedeutung der Metriken in deinen eigenen Worten."
   ]
  },
  {
   "cell_type": "code",
   "execution_count": null,
   "metadata": {
    "deletable": false,
    "nbgrader": {
     "cell_type": "code",
     "checksum": "b1b13e7ddd1a8c6c926b536f2af55f2f",
     "grade": true,
     "grade_id": "cell-e4eff7b7b611a112",
     "locked": false,
     "points": 2,
     "schema_version": 3,
     "solution": true,
     "task": false
    }
   },
   "outputs": [],
   "source": [
    "# YOUR CODE HERE\n",
    "raise NotImplementedError()"
   ]
  },
  {
   "cell_type": "markdown",
   "metadata": {
    "deletable": false,
    "nbgrader": {
     "cell_type": "markdown",
     "checksum": "452c2e8a793ed9cfa1764450a9545f34",
     "grade": true,
     "grade_id": "cell-8a9f689fd3cf9f3d",
     "locked": false,
     "points": 3,
     "schema_version": 3,
     "solution": true,
     "task": false
    }
   },
   "source": [
    "YOUR ANSWER HERE"
   ]
  },
  {
   "cell_type": "markdown",
   "metadata": {
    "deletable": false,
    "editable": false,
    "nbgrader": {
     "cell_type": "markdown",
     "checksum": "7ac82897715138d9f038800431787d0b",
     "grade": false,
     "grade_id": "cell-c8d791609143082c",
     "locked": true,
     "schema_version": 3,
     "solution": false,
     "task": false
    }
   },
   "source": [
    "### Aufgabe 6 (3 Punkte)\n",
    "\n",
    "Führe nun zusätzlich quadrierte Input-Variablen in dein Modell ein.  \n",
    "\n",
    "Identifiziere den bestmöglichen Wert für $\\alpha$ im Sinne von $R^2$ auf den Trainingsdaten und miss das Leistungsvermögen dieses Modells auf den Testdaten.  \n",
    "Verwende hierbei deine regularisierte Normalengleichung zur Optimierung der Koeffizienten.  \n",
    "\n",
    "Zur Parameteroptimierung kannst du scikit-learn-Funktionalität verwenden."
   ]
  },
  {
   "cell_type": "code",
   "execution_count": null,
   "metadata": {
    "deletable": false,
    "nbgrader": {
     "cell_type": "code",
     "checksum": "a2660287ffc7029dc07aa919d534e916",
     "grade": true,
     "grade_id": "cell-d12067139da7e3b0",
     "locked": false,
     "points": 3,
     "schema_version": 3,
     "solution": true,
     "task": false
    }
   },
   "outputs": [],
   "source": [
    "# YOUR CODE HERE\n",
    "raise NotImplementedError()"
   ]
  },
  {
   "cell_type": "markdown",
   "metadata": {
    "deletable": false,
    "editable": false,
    "nbgrader": {
     "cell_type": "markdown",
     "checksum": "0775be6a2f392413c9044f3e8bf04ec2",
     "grade": false,
     "grade_id": "cell-4d383c7554142fc3",
     "locked": true,
     "schema_version": 3,
     "solution": false,
     "task": false
    }
   },
   "source": [
    "### Aufgabe 7 (3 Punkte)\n",
    "\n",
    "Lasso ist eine weitere Form einer regularisierten ($l_1$-Regulariesierung) OLS-Kostenfunktion.  \n",
    "\n",
    "- Schreibe die Kostenfunktion in LaTex-Notation auf.\n",
    "- Was ist der Effekt der $l_1$-Regularisierung im Vergleich zur $l_2$-Regularisierung?\n",
    "- Kann Gradient Descent zur Optimierung verwendet werden? Begründe."
   ]
  },
  {
   "cell_type": "markdown",
   "metadata": {
    "deletable": false,
    "nbgrader": {
     "cell_type": "markdown",
     "checksum": "2a0895cc0f97372ed2300afca4d11984",
     "grade": true,
     "grade_id": "cell-555a6012a4a4d66e",
     "locked": false,
     "points": 3,
     "schema_version": 3,
     "solution": true,
     "task": false
    }
   },
   "source": [
    "YOUR ANSWER HERE"
   ]
  },
  {
   "cell_type": "markdown",
   "metadata": {
    "deletable": false,
    "editable": false,
    "nbgrader": {
     "cell_type": "markdown",
     "checksum": "0d045ba34d812a7a029c6aace3f8b08f",
     "grade": false,
     "grade_id": "cell-8b134e3bd754f370",
     "locked": true,
     "schema_version": 3,
     "solution": false,
     "task": false
    }
   },
   "source": [
    "### Aufgabe 8 (3 Punkte)\n",
    "\n",
    "Identifiziere den bestmöglichen Wert für den Regularisierungsparameter des Lasso-Modells auf den quadratisch erweiterten Trainingsdaten, erneut im Sinne von $R^2$, und miss das Leistungsvermögen dieses Modells auf den Testdaten.  \n",
    "\n",
    "Gib die Modell-Koeffizienten aus. Was stellst du fest?\n",
    "\n",
    "Hierzu kannst du scikit-learn Funktionalität verwenden."
   ]
  },
  {
   "cell_type": "code",
   "execution_count": null,
   "metadata": {
    "deletable": false,
    "nbgrader": {
     "cell_type": "code",
     "checksum": "64d52c5d6c96dcd65d79144ced4f0083",
     "grade": true,
     "grade_id": "cell-6abae6768e44fef5",
     "locked": false,
     "points": 2,
     "schema_version": 3,
     "solution": true,
     "task": false
    }
   },
   "outputs": [],
   "source": [
    "# YOUR CODE HERE\n",
    "raise NotImplementedError()"
   ]
  },
  {
   "cell_type": "markdown",
   "metadata": {
    "deletable": false,
    "nbgrader": {
     "cell_type": "markdown",
     "checksum": "a12598bb2120268eb3212a563964373c",
     "grade": true,
     "grade_id": "cell-a74a54bc7bbf81ef",
     "locked": false,
     "points": 1,
     "schema_version": 3,
     "solution": true,
     "task": false
    }
   },
   "source": [
    "YOUR ANSWER HERE"
   ]
  },
  {
   "cell_type": "markdown",
   "metadata": {
    "deletable": false,
    "editable": false,
    "nbgrader": {
     "cell_type": "markdown",
     "checksum": "c7dbfdb3c279cd27869cc2ade8f0c62f",
     "grade": false,
     "grade_id": "cell-c007f0ac9ecf9897",
     "locked": true,
     "schema_version": 3,
     "solution": false,
     "task": false
    }
   },
   "source": [
    "### Aufgabe 9 (3 Punkte)\n",
    "\n",
    "Erkläre anhand von Kernel Ridge Regression (siehe beispielsweise Murphy K, *Machine Learning - A probabilistic perspective*, 2012. p. 492) den 'Kernel-Trick'.  \n",
    "Welche Parameter müssen dadurch zusätzlich optimiert werden? Schau dir dazu auch die entsprechende Estimator-Klasse von scikit-learn an."
   ]
  },
  {
   "cell_type": "markdown",
   "metadata": {
    "deletable": false,
    "nbgrader": {
     "cell_type": "markdown",
     "checksum": "cca4ff20b68c004ab28e320ae227edf4",
     "grade": true,
     "grade_id": "cell-2c034da95857e62e",
     "locked": false,
     "points": 3,
     "schema_version": 3,
     "solution": true,
     "task": false
    }
   },
   "source": [
    "YOUR ANSWER HERE"
   ]
  },
  {
   "cell_type": "markdown",
   "metadata": {
    "deletable": false,
    "editable": false,
    "nbgrader": {
     "cell_type": "markdown",
     "checksum": "ca7c2329ddb1f6b21f15273fbdda7728",
     "grade": false,
     "grade_id": "cell-838689c6402e042d",
     "locked": true,
     "schema_version": 3,
     "solution": false,
     "task": false
    }
   },
   "source": [
    "### Aufgabe 10 (Bonus - 4 Punkte)\n",
    "\n",
    "Finde das bestmögliche Modell mit Kernel Ridge Regression auf den quadratisch erweiterten Daten.  \n",
    "\n",
    "Was ist das bestmögliche Modell, das du finden kannst, ohne Einschränkungen.\n",
    "\n",
    "Hierzu kannst du scikit-learn Funktionalität verwenden."
   ]
  },
  {
   "cell_type": "code",
   "execution_count": null,
   "metadata": {
    "deletable": false,
    "nbgrader": {
     "cell_type": "code",
     "checksum": "92b4fda0404a16fb5b6944a887360de5",
     "grade": true,
     "grade_id": "cell-b72b504e4fb5deb9",
     "locked": false,
     "points": 4,
     "schema_version": 3,
     "solution": true,
     "task": false
    }
   },
   "outputs": [],
   "source": [
    "# YOUR CODE HERE\n",
    "raise NotImplementedError()"
   ]
  }
 ],
 "metadata": {
  "kernelspec": {
   "display_name": "Python 3.10.7 64-bit (microsoft store)",
   "language": "python",
   "name": "python3"
  },
  "language_info": {
   "codemirror_mode": {
    "name": "ipython",
    "version": 3
   },
   "file_extension": ".py",
   "mimetype": "text/x-python",
   "name": "python",
   "nbconvert_exporter": "python",
   "pygments_lexer": "ipython3",
   "version": "3.10.7"
  },
  "vscode": {
   "interpreter": {
    "hash": "ed7d039e4747f7c03d5e567f52a581e865963742d742f9fa96406b6c278ee47d"
   }
  }
 },
 "nbformat": 4,
 "nbformat_minor": 4
}
